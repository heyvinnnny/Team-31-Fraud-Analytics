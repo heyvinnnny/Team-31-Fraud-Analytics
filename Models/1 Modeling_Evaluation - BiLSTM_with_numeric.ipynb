{
 "cells": [
  {
   "cell_type": "markdown",
   "metadata": {},
   "source": [
    "## 1. Import Libraries"
   ]
  },
  {
   "cell_type": "code",
   "execution_count": 26,
   "metadata": {},
   "outputs": [],
   "source": [
    "import numpy as np\n",
    "import pandas as pd\n",
    "import seaborn as sns\n",
    "\n",
    "import sklearn\n",
    "from category_encoders import CountEncoder\n",
    "from sklearn.base import BaseEstimator,TransformerMixin\n",
    "from sklearn.preprocessing import OneHotEncoder\n",
    "from sklearn.preprocessing import StandardScaler\n",
    "from sklearn.compose import ColumnTransformer\n",
    "from sklearn.pipeline import Pipeline\n",
    "from sklearn.model_selection import train_test_split, GridSearchCV, RandomizedSearchCV\n",
    "from sklearn.metrics import accuracy_score, precision_score, recall_score, f1_score,  roc_auc_score\n",
    "from sklearn.metrics import confusion_matrix, ConfusionMatrixDisplay\n",
    "\n",
    "import os\n",
    "import joblib\n",
    "\n",
    "import warnings\n",
    "warnings.filterwarnings('ignore')\n",
    "pd.set_option('display.max_columns', 500)\n",
    "\n",
    "random_state = 4012"
   ]
  },
  {
   "cell_type": "code",
   "execution_count": 27,
   "metadata": {},
   "outputs": [],
   "source": [
    "import tensorflow as tf\n",
    "import keras\n",
    "from keras import backend as K\n",
    "from keras import models\n",
    "from keras import utils\n",
    "from keras.layers import Input,Dense,LSTM,Dropout,Embedding,Bidirectional,concatenate\n",
    "from keras.models import Model,Sequential\n",
    "from keras.optimizers import SGD,Adam,RMSprop\n",
    "from keras.preprocessing.sequence import pad_sequences\n",
    "from keras.preprocessing.text import one_hot"
   ]
  },
  {
   "cell_type": "code",
   "execution_count": 28,
   "metadata": {},
   "outputs": [],
   "source": [
    "from scikeras.wrappers import KerasClassifier"
   ]
  },
  {
   "cell_type": "markdown",
   "metadata": {},
   "source": [
    "## 2. Train Test Split"
   ]
  },
  {
   "cell_type": "code",
   "execution_count": 29,
   "metadata": {},
   "outputs": [],
   "source": [
    "path = \"../Raw Data Files/final_job_posting.csv\"\n",
    "df = pd.read_csv(path)\n",
    "df.head()\n",
    "# train test split\n",
    "X = df.drop('fraudulent',axis=1)\n",
    "y = df['fraudulent']\n",
    "X_train, X_test, y_train, y_test = train_test_split(X, y, test_size=0.2, random_state=random_state,stratify=y)"
   ]
  },
  {
   "cell_type": "markdown",
   "metadata": {},
   "source": [
    "## 3. Model"
   ]
  },
  {
   "cell_type": "code",
   "execution_count": 30,
   "metadata": {},
   "outputs": [],
   "source": [
    "# Combine them\n",
    "\n",
    "scaler = StandardScaler()\n",
    "\n",
    "onehot = OneHotEncoder(\n",
    "    categories = [\n",
    "            ['full time', 'contract', 'part time','flexi','other','unspecified'], # employment_type\n",
    "            ['entry level', 'middle level', 'senior level', 'unspecified'], # required_experience\n",
    "            ['high school or vocational degree', 'undergraduate', 'graduate', 'unspecified'], # required_education\n",
    "    ],\n",
    "    handle_unknown = 'ignore',  # <- Ignore unknown values (i.e. don't create a column for them)\n",
    ")\n",
    "\n",
    "freq_encoder = CountEncoder()\n",
    "\n",
    "binary_columns = ['telecommuting', 'has_company_logo','has_questions', 'have_company_profile', 'have_requirements', 'have_benefits', 'have_category', 'high_salary']\n",
    "numerical_columns = ['flesch_score_bin_ft','fk_grade_level_bin_ft', 'text_len']\n",
    "onehot_columns = ['employment_type', 'required_experience','required_education']\n",
    "freq_columns = ['location_country']\n",
    "text_column = ['full_text']\n",
    "\n",
    "preprocessor = ColumnTransformer([\n",
    "    # (nickname, transformer to apply, columns to apply to)\n",
    "    ('binary', 'passthrough', binary_columns),  # <- 'passthrough' says to keep them but don't apply anything\n",
    "    ('numerical', scaler, numerical_columns),   \n",
    "    ('onehot', onehot, onehot_columns),\n",
    "    ('frequency',freq_encoder, freq_columns),\n",
    "],  remainder='passthrough')\n"
   ]
  },
  {
   "cell_type": "code",
   "execution_count": 31,
   "metadata": {},
   "outputs": [],
   "source": [
    "vocab_size=5000\n",
    "sent_length=128\n",
    "def text_process(df):\n",
    "    onehot_repr=[one_hot(words,vocab_size)for words in df] \n",
    "    embedded_docs=pad_sequences(onehot_repr,padding='pre',maxlen=sent_length)\n",
    "    return embedded_docs\n",
    "\n",
    "def process_columns(df):\n",
    "    if df is X_train:\n",
    "        df_1 = df.drop('full_text',axis=1)\n",
    "        df_1_prod = preprocessor.fit_transform(df_1)\n",
    "        df_2 = df['full_text']\n",
    "    else:\n",
    "        df_1 = df.drop('full_text',axis=1)\n",
    "        df_1_prod = preprocessor.transform(df_1)\n",
    "        df_2 = df['full_text']\n",
    "    \n",
    "    text_index = text_process(df_2)\n",
    "    return ([text_index, df_1_prod],df_1_prod.shape[1])\n"
   ]
  },
  {
   "cell_type": "code",
   "execution_count": 32,
   "metadata": {},
   "outputs": [],
   "source": [
    "X_train_new,numeric_shape = process_columns(X_train)\n",
    "X_test_new,numeric_shape = process_columns(X_test)"
   ]
  },
  {
   "cell_type": "code",
   "execution_count": 33,
   "metadata": {},
   "outputs": [],
   "source": [
    "# define metrics\n",
    "def recall_m(y_true,y_pred):\n",
    "  true_positives = K.sum(K.round(K.clip(y_true*y_pred,0,1)))\n",
    "  possible_positives = K.sum(K.round(K.clip(y_true,0,1)))\n",
    "  recall = true_positives / (possible_positives + K.epsilon())\n",
    "  return recall\n",
    "\n",
    "def precision_m(y_true,y_pred):\n",
    "  true_positives = K.sum(K.round(K.clip(y_true*y_pred,0,1)))\n",
    "  predicted_positives = K.sum(K.round(K.clip(y_pred,0,1)))\n",
    "  precision = true_positives / (predicted_positives + K.epsilon())\n",
    "  return precision\n",
    "\n",
    "def f1_m(y_true,y_pred):\n",
    "  precision = precision_m(y_true,y_pred)\n",
    "  recall = recall_m(y_true,y_pred)\n",
    "  return 2*((precision*recall)/(precision+recall+K.epsilon()))"
   ]
  },
  {
   "cell_type": "code",
   "execution_count": 49,
   "metadata": {},
   "outputs": [
    {
     "name": "stdout",
     "output_type": "stream",
     "text": [
      "Model: \"model_15\"\n",
      "__________________________________________________________________________________________________\n",
      " Layer (type)                Output Shape                 Param #   Connected to                  \n",
      "==================================================================================================\n",
      " text_input (InputLayer)     [(None, 128)]                0         []                            \n",
      "                                                                                                  \n",
      " embedding_15 (Embedding)    (None, 128, 50)              250000    ['text_input[0][0]']          \n",
      "                                                                                                  \n",
      " bidirectional_15 (Bidirect  (None, 200)                  120800    ['embedding_15[0][0]']        \n",
      " ional)                                                                                           \n",
      "                                                                                                  \n",
      " numeric_input (InputLayer)  [(None, 26)]                 0         []                            \n",
      "                                                                                                  \n",
      " concatenate_15 (Concatenat  (None, 226)                  0         ['bidirectional_15[0][0]',    \n",
      " e)                                                                  'numeric_input[0][0]']       \n",
      "                                                                                                  \n",
      " dropout_15 (Dropout)        (None, 226)                  0         ['concatenate_15[0][0]']      \n",
      "                                                                                                  \n",
      " dense_15 (Dense)            (None, 1)                    227       ['dropout_15[0][0]']          \n",
      "                                                                                                  \n",
      "==================================================================================================\n",
      "Total params: 371027 (1.42 MB)\n",
      "Trainable params: 371027 (1.42 MB)\n",
      "Non-trainable params: 0 (0.00 Byte)\n",
      "__________________________________________________________________________________________________\n"
     ]
    }
   ],
   "source": [
    "embedding_dim = 50\n",
    "# text\n",
    "text_input = Input(shape=(sent_length,), name='text_input')\n",
    "embedding_layer = Embedding(input_dim=vocab_size, output_dim=embedding_dim)(text_input)\n",
    "bidirectional_lstm = Bidirectional(LSTM(100))(embedding_layer)\n",
    "\n",
    "# numeric\n",
    "numeric_input = Input(shape=(numeric_shape,), name='numeric_input')\n",
    "\n",
    "# merge the two inputs\n",
    "merged = concatenate([bidirectional_lstm, numeric_input])\n",
    "\n",
    "# \n",
    "#dense_layer = Dense(8, activation='relu')(merged)\n",
    "dropout_layer = Dropout(0.3)(merged)\n",
    "output_layer = Dense(1, activation='sigmoid')(dropout_layer)\n",
    "\n",
    "BiLSTM_model = Model(inputs=[text_input, numeric_input], outputs=output_layer)\n",
    "\n",
    "# 编译模型\n",
    "BiLSTM_model.compile(optimizer='adam', loss='binary_crossentropy', metrics=[f1_m])\n",
    "\n",
    "# 打印模型结构\n",
    "BiLSTM_model.summary()"
   ]
  },
  {
   "cell_type": "code",
   "execution_count": 50,
   "metadata": {},
   "outputs": [
    {
     "name": "stdout",
     "output_type": "stream",
     "text": [
      "Epoch 1/5\n",
      "150/150 [==============================] - 209s 1s/step - loss: 6.6580 - f1_m: 0.3400 - val_loss: 0.0931 - val_f1_m: 0.7319\n",
      "Epoch 2/5\n",
      "150/150 [==============================] - 190s 1s/step - loss: 0.0787 - f1_m: 0.7813 - val_loss: 0.0711 - val_f1_m: 0.7734\n",
      "Epoch 3/5\n",
      "150/150 [==============================] - 191s 1s/step - loss: 0.0493 - f1_m: 0.8587 - val_loss: 0.0685 - val_f1_m: 0.8078\n",
      "Epoch 4/5\n",
      "150/150 [==============================] - 189s 1s/step - loss: 0.0296 - f1_m: 0.9207 - val_loss: 0.0681 - val_f1_m: 0.8085\n",
      "Epoch 5/5\n",
      "150/150 [==============================] - 187s 1s/step - loss: 0.0173 - f1_m: 0.9480 - val_loss: 0.0844 - val_f1_m: 0.7929\n"
     ]
    },
    {
     "data": {
      "text/plain": [
       "<keras.src.callbacks.History at 0x1f724a47dc0>"
      ]
     },
     "execution_count": 50,
     "metadata": {},
     "output_type": "execute_result"
    }
   ],
   "source": [
    "BiLSTM_model.fit(X_train_new,y_train,validation_data=(X_test_new,y_test),epochs=5,batch_size=128)"
   ]
  },
  {
   "cell_type": "markdown",
   "metadata": {},
   "source": [
    "## 4. Evaluation"
   ]
  },
  {
   "cell_type": "code",
   "execution_count": 16,
   "metadata": {},
   "outputs": [],
   "source": [
    "def evaluate(x_test,y_test,name,model):\n",
    "\n",
    "    print(model,\"\\n\")\n",
    "    \n",
    "    y_pred = model.predict(x_test)\n",
    "    y_pred = (y_pred > 0.5).astype(int)\n",
    "\n",
    "    scores = {}\n",
    "    scores[\"Accuracy\"]  = accuracy_score(y_test,y_pred).round(3)\n",
    "    scores[\"Precision\"] = precision_score(y_test,y_pred,average=\"weighted\").round(3)\n",
    "    scores[\"Recall\"]    = recall_score(y_test,y_pred,average=\"weighted\").round(3)\n",
    "    scores[\"F1\"]        = f1_score(y_test,y_pred,average=\"weighted\").round(3)\n",
    "    scores[\"ROC AUC\"]   = roc_auc_score(y_test,y_pred,average=\"weighted\").round(3)\n",
    "    scores = {name:scores}\n",
    "    print(pd.DataFrame(scores))\n",
    "\n",
    "    cm = confusion_matrix(y_test,y_pred)\n",
    "    cm_plot = sns.heatmap(cm, annot=True, fmt='g', cmap='Blues_r')\n",
    "    cm_plot.set_xlabel('Predicted Values')\n",
    "    cm_plot.set_ylabel('Actual Values')"
   ]
  },
  {
   "cell_type": "code",
   "execution_count": 51,
   "metadata": {},
   "outputs": [
    {
     "name": "stdout",
     "output_type": "stream",
     "text": [
      "<keras.src.engine.functional.Functional object at 0x000001F72BA58970> \n",
      "\n",
      "150/150 [==============================] - 10s 61ms/step\n",
      "           BiLSTM_model(with numeric features)\n",
      "Accuracy                                 0.980\n",
      "F1                                       0.978\n",
      "Precision                                0.979\n",
      "ROC AUC                                  0.853\n",
      "Recall                                   0.980\n"
     ]
    },
    {
     "data": {
      "image/png": "[encoded data removed]",
      "text/plain": [
       "<Figure size 432x288 with 2 Axes>"
      ]
     },
     "metadata": {
      "needs_background": "light"
     },
     "output_type": "display_data"
    }
   ],
   "source": [
    "evaluate(X_test_new,y_test,'BiLSTM_model(with numeric features)',BiLSTM_model)"
   ]
  }
 ],
 "metadata": {
  "kernelspec": {
   "display_name": "base",
   "language": "python",
   "name": "python3"
  },
  "language_info": {
   "codemirror_mode": {
    "name": "ipython",
    "version": 3
   },
   "file_extension": ".py",
   "mimetype": "text/x-python",
   "name": "python",
   "nbconvert_exporter": "python",
   "pygments_lexer": "ipython3",
   "version": "3.8.8"
  }
 },
 "nbformat": 4,
 "nbformat_minor": 2
}
