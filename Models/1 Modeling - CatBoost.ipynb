{
 "cells": [
  {
   "cell_type": "markdown",
   "metadata": {},
   "source": [
    "## 1. Import Libraries"
   ]
  },
  {
   "cell_type": "code",
   "execution_count": 2,
   "metadata": {},
   "outputs": [
    {
     "name": "stdout",
     "output_type": "stream",
     "text": [
      "^C\n",
      "Note: you may need to restart the kernel to use updated packages.\n"
     ]
    },
    {
     "ename": "ModuleNotFoundError",
     "evalue": "No module named 'catboost'",
     "output_type": "error",
     "traceback": [
      "\u001b[1;31m---------------------------------------------------------------------------\u001b[0m",
      "\u001b[1;31mModuleNotFoundError\u001b[0m                       Traceback (most recent call last)",
      "\u001b[1;32mc:\\Users\\kevin\\OneDrive\\Desktop\\BT4301\\Team-31-Fraud-Analytics\\Models\\1 Modeling - CatBoost.ipynb Cell 2\u001b[0m line \u001b[0;36m1\n\u001b[0;32m     <a href='vscode-notebook-cell:/c%3A/Users/kevin/OneDrive/Desktop/BT4301/Team-31-Fraud-Analytics/Models/1%20Modeling%20-%20CatBoost.ipynb#W1sZmlsZQ%3D%3D?line=11'>12</a>\u001b[0m \u001b[39mfrom\u001b[39;00m \u001b[39msklearn\u001b[39;00m\u001b[39m.\u001b[39;00m\u001b[39mmodel_selection\u001b[39;00m \u001b[39mimport\u001b[39;00m train_test_split, GridSearchCV, RandomizedSearchCV\n\u001b[0;32m     <a href='vscode-notebook-cell:/c%3A/Users/kevin/OneDrive/Desktop/BT4301/Team-31-Fraud-Analytics/Models/1%20Modeling%20-%20CatBoost.ipynb#W1sZmlsZQ%3D%3D?line=12'>13</a>\u001b[0m get_ipython()\u001b[39m.\u001b[39mrun_line_magic(\u001b[39m'\u001b[39m\u001b[39mpip\u001b[39m\u001b[39m'\u001b[39m, \u001b[39m'\u001b[39m\u001b[39minstall catboost\u001b[39m\u001b[39m'\u001b[39m)\n\u001b[1;32m---> <a href='vscode-notebook-cell:/c%3A/Users/kevin/OneDrive/Desktop/BT4301/Team-31-Fraud-Analytics/Models/1%20Modeling%20-%20CatBoost.ipynb#W1sZmlsZQ%3D%3D?line=13'>14</a>\u001b[0m \u001b[39mfrom\u001b[39;00m \u001b[39mcatboost\u001b[39;00m \u001b[39mimport\u001b[39;00m CatBoostClassifier\n\u001b[0;32m     <a href='vscode-notebook-cell:/c%3A/Users/kevin/OneDrive/Desktop/BT4301/Team-31-Fraud-Analytics/Models/1%20Modeling%20-%20CatBoost.ipynb#W1sZmlsZQ%3D%3D?line=14'>15</a>\u001b[0m \u001b[39mfrom\u001b[39;00m \u001b[39msklearn\u001b[39;00m\u001b[39m.\u001b[39;00m\u001b[39mmetrics\u001b[39;00m \u001b[39mimport\u001b[39;00m accuracy_score, precision_score, recall_score, f1_score,  roc_auc_score\n\u001b[0;32m     <a href='vscode-notebook-cell:/c%3A/Users/kevin/OneDrive/Desktop/BT4301/Team-31-Fraud-Analytics/Models/1%20Modeling%20-%20CatBoost.ipynb#W1sZmlsZQ%3D%3D?line=16'>17</a>\u001b[0m \u001b[39mimport\u001b[39;00m \u001b[39mos\u001b[39;00m\n",
      "\u001b[1;31mModuleNotFoundError\u001b[0m: No module named 'catboost'"
     ]
    },
    {
     "name": "stdout",
     "output_type": "stream",
     "text": [
      "Collecting catboost\n",
      "  Downloading catboost-1.2.2-cp311-cp311-win_amd64.whl (101.0 MB)\n",
      "     ---------------------------------------- 0.0/101.0 MB ? eta -:--:--\n",
      "     ---------------------------------------- 0.4/101.0 MB 7.6 MB/s eta 0:00:14\n",
      "      -------------------------------------- 1.3/101.0 MB 13.8 MB/s eta 0:00:08\n",
      "     - ------------------------------------- 2.8/101.0 MB 22.0 MB/s eta 0:00:05\n",
      "     -- ------------------------------------ 5.8/101.0 MB 28.7 MB/s eta 0:00:04\n",
      "     -- ------------------------------------ 7.6/101.0 MB 30.4 MB/s eta 0:00:04\n",
      "     --- ---------------------------------- 10.6/101.0 MB 40.9 MB/s eta 0:00:03\n",
      "     ----- -------------------------------- 14.8/101.0 MB 54.7 MB/s eta 0:00:02\n",
      "     ------ ------------------------------- 16.4/101.0 MB 50.4 MB/s eta 0:00:02\n",
      "     ------- ------------------------------ 20.1/101.0 MB 59.5 MB/s eta 0:00:02\n",
      "     -------- ----------------------------- 22.6/101.0 MB 59.5 MB/s eta 0:00:02\n",
      "     -------- ----------------------------- 22.9/101.0 MB 54.7 MB/s eta 0:00:02\n",
      "     --------- ---------------------------- 24.6/101.0 MB 43.5 MB/s eta 0:00:02\n",
      "     ---------- --------------------------- 27.9/101.0 MB 46.9 MB/s eta 0:00:02\n",
      "     ----------- -------------------------- 31.0/101.0 MB 46.9 MB/s eta 0:00:02\n",
      "     ------------ ------------------------- 33.6/101.0 MB 59.5 MB/s eta 0:00:02\n",
      "     -------------- ----------------------- 38.3/101.0 MB 65.2 MB/s eta 0:00:01\n",
      "     --------------- ---------------------- 41.0/101.0 MB 65.2 MB/s eta 0:00:01\n",
      "     ---------------- --------------------- 44.3/101.0 MB 65.6 MB/s eta 0:00:01\n",
      "     ----------------- -------------------- 46.9/101.0 MB 65.2 MB/s eta 0:00:01\n",
      "     ------------------- ------------------ 51.2/101.0 MB 73.1 MB/s eta 0:00:01\n",
      "     -------------------- ----------------- 54.5/101.0 MB 65.2 MB/s eta 0:00:01\n",
      "     ---------------------- --------------- 58.8/101.0 MB 72.6 MB/s eta 0:00:01\n",
      "     ----------------------- -------------- 62.1/101.0 MB 65.6 MB/s eta 0:00:01\n",
      "     ------------------------ ------------- 66.4/101.0 MB 81.8 MB/s eta 0:00:01\n",
      "     -------------------------- ----------- 69.2/101.0 MB 65.6 MB/s eta 0:00:01\n",
      "     -------------------------- ----------- 70.8/101.0 MB 59.5 MB/s eta 0:00:01\n",
      "     --------------------------- ---------- 73.1/101.0 MB 59.5 MB/s eta 0:00:01\n",
      "     ---------------------------- --------- 75.6/101.0 MB 54.7 MB/s eta 0:00:01\n",
      "     ----------------------------- -------- 79.7/101.0 MB 54.4 MB/s eta 0:00:01\n",
      "     ------------------------------- ------ 83.3/101.0 MB 65.6 MB/s eta 0:00:01\n",
      "     --------------------------------- ---- 87.7/101.0 MB 73.1 MB/s eta 0:00:01\n",
      "     ---------------------------------- --- 91.0/101.0 MB 81.8 MB/s eta 0:00:01\n",
      "     ----------------------------------- -- 95.5/101.0 MB 81.8 MB/s eta 0:00:01\n",
      "     ------------------------------------ - 98.3/101.0 MB 65.2 MB/s eta 0:00:01\n",
      "     ------------------------------------  101.0/101.0 MB 65.6 MB/s eta 0:00:01\n",
      "     ------------------------------------  101.0/101.0 MB 59.8 MB/s eta 0:00:01\n",
      "     ------------------------------------  101.0/101.0 MB 59.8 MB/s eta 0:00:01\n",
      "     ------------------------------------  101.0/101.0 MB 59.8 MB/s eta 0:00:01\n",
      "     ------------------------------------  101.0/101.0 MB 59.8 MB/s eta 0:00:01\n",
      "     ------------------------------------- 101.0/101.0 MB 13.1 MB/s eta 0:00:00\n",
      "Collecting graphviz\n",
      "  Using cached graphviz-0.20.1-py3-none-any.whl (47 kB)\n",
      "Requirement already satisfied: matplotlib in c:\\users\\kevin\\appdata\\local\\programs\\python\\python311\\lib\\site-packages (from catboost) (3.7.1)\n",
      "Requirement already satisfied: numpy>=1.16.0 in c:\\users\\kevin\\appdata\\local\\programs\\python\\python311\\lib\\site-packages (from catboost) (1.24.2)\n",
      "Requirement already satisfied: pandas>=0.24 in c:\\users\\kevin\\appdata\\local\\programs\\python\\python311\\lib\\site-packages (from catboost) (2.1.0)\n",
      "Requirement already satisfied: scipy in c:\\users\\kevin\\appdata\\local\\programs\\python\\python311\\lib\\site-packages (from catboost) (1.11.2)\n",
      "Collecting plotly\n",
      "  Downloading plotly-5.18.0-py3-none-any.whl (15.6 MB)\n",
      "     ---------------------------------------- 0.0/15.6 MB ? eta -:--:--\n",
      "     ------------------------ --------------- 9.6/15.6 MB 55.6 MB/s eta 0:00:01\n",
      "     --------------------------------------  15.6/15.6 MB 54.4 MB/s eta 0:00:01\n",
      "     --------------------------------------- 15.6/15.6 MB 29.7 MB/s eta 0:00:00\n",
      "Requirement already satisfied: six in c:\\users\\kevin\\appdata\\local\\programs\\python\\python311\\lib\\site-packages (from catboost) (1.16.0)\n",
      "Requirement already satisfied: python-dateutil>=2.8.2 in c:\\users\\kevin\\appdata\\local\\programs\\python\\python311\\lib\\site-packages (from pandas>=0.24->catboost) (2.8.2)\n",
      "Requirement already satisfied: pytz>=2020.1 in c:\\users\\kevin\\appdata\\local\\programs\\python\\python311\\lib\\site-packages (from pandas>=0.24->catboost) (2023.3.post1)\n",
      "Requirement already satisfied: tzdata>=2022.1 in c:\\users\\kevin\\appdata\\local\\programs\\python\\python311\\lib\\site-packages (from pandas>=0.24->catboost) (2023.3)\n",
      "Requirement already satisfied: contourpy>=1.0.1 in c:\\users\\kevin\\appdata\\local\\programs\\python\\python311\\lib\\site-packages (from matplotlib->catboost) (1.0.7)\n",
      "Requirement already satisfied: cycler>=0.10 in c:\\users\\kevin\\appdata\\local\\programs\\python\\python311\\lib\\site-packages (from matplotlib->catboost) (0.11.0)\n",
      "Requirement already satisfied: fonttools>=4.22.0 in c:\\users\\kevin\\appdata\\local\\programs\\python\\python311\\lib\\site-packages (from matplotlib->catboost) (4.39.2)\n",
      "Requirement already satisfied: kiwisolver>=1.0.1 in c:\\users\\kevin\\appdata\\local\\programs\\python\\python311\\lib\\site-packages (from matplotlib->catboost) (1.4.4)\n",
      "Requirement already satisfied: packaging>=20.0 in c:\\users\\kevin\\appdata\\local\\programs\\python\\python311\\lib\\site-packages (from matplotlib->catboost) (23.0)\n",
      "Requirement already satisfied: pillow>=6.2.0 in c:\\users\\kevin\\appdata\\local\\programs\\python\\python311\\lib\\site-packages (from matplotlib->catboost) (9.4.0)\n",
      "Requirement already satisfied: pyparsing>=2.3.1 in c:\\users\\kevin\\appdata\\local\\programs\\python\\python311\\lib\\site-packages (from matplotlib->catboost) (3.0.9)\n",
      "Collecting tenacity>=6.2.0\n",
      "  Downloading tenacity-8.2.3-py3-none-any.whl (24 kB)\n",
      "Installing collected packages: tenacity, graphviz, plotly, catboost\n",
      "Successfully installed catboost-1.2.2 graphviz-0.20.1 plotly-5.18.0 tenacity-8.2.3\n"
     ]
    },
    {
     "name": "stderr",
     "output_type": "stream",
     "text": [
      "\n",
      "[notice] A new release of pip is available: 23.0.1 -> 23.3.1\n",
      "[notice] To update, run: python.exe -m pip install --upgrade pip\n"
     ]
    }
   ],
   "source": [
    "import numpy as np\n",
    "import pandas as pd\n",
    "import seaborn as sns\n",
    "\n",
    "import sklearn\n",
    "from category_encoders import CountEncoder\n",
    "from sklearn.base import BaseEstimator,TransformerMixin\n",
    "from sklearn.preprocessing import OneHotEncoder\n",
    "from sklearn.preprocessing import StandardScaler\n",
    "from sklearn.compose import ColumnTransformer\n",
    "from sklearn.pipeline import Pipeline\n",
    "from sklearn.model_selection import train_test_split, GridSearchCV, RandomizedSearchCV\n",
    "%pip install catboost\n",
    "from catboost import CatBoostClassifier\n",
    "from sklearn.metrics import accuracy_score, precision_score, recall_score, f1_score,  roc_auc_score\n",
    "\n",
    "import os\n",
    "import joblib\n",
    "\n",
    "import warnings\n",
    "warnings.filterwarnings('ignore')\n",
    "pd.set_option('display.max_columns', 500)\n",
    "\n",
    "random_state = 4012"
   ]
  },
  {
   "cell_type": "markdown",
   "metadata": {},
   "source": [
    "## 2. Load Data"
   ]
  },
  {
   "cell_type": "code",
   "execution_count": null,
   "metadata": {},
   "outputs": [],
   "source": [
    "X_train = pd.read_csv(\"../Processed Data Files/X_train.csv\")\n",
    "y_train = pd.read_csv(\"../Processed Data Files/y_train.csv\")"
   ]
  },
  {
   "cell_type": "markdown",
   "metadata": {},
   "source": [
    "## 3. Model"
   ]
  },
  {
   "cell_type": "code",
   "execution_count": 1,
   "metadata": {},
   "outputs": [
    {
     "ename": "NameError",
     "evalue": "name 'StandardScaler' is not defined",
     "output_type": "error",
     "traceback": [
      "\u001b[1;31m---------------------------------------------------------------------------\u001b[0m",
      "\u001b[1;31mNameError\u001b[0m                                 Traceback (most recent call last)",
      "\u001b[1;32mc:\\Users\\kevin\\OneDrive\\Desktop\\BT4301\\Team-31-Fraud-Analytics\\Models\\1 Modeling - CatBoost.ipynb Cell 6\u001b[0m line \u001b[0;36m3\n\u001b[0;32m      <a href='vscode-notebook-cell:/c%3A/Users/kevin/OneDrive/Desktop/BT4301/Team-31-Fraud-Analytics/Models/1%20Modeling%20-%20CatBoost.ipynb#W5sZmlsZQ%3D%3D?line=0'>1</a>\u001b[0m \u001b[39m# Combine them!\u001b[39;00m\n\u001b[1;32m----> <a href='vscode-notebook-cell:/c%3A/Users/kevin/OneDrive/Desktop/BT4301/Team-31-Fraud-Analytics/Models/1%20Modeling%20-%20CatBoost.ipynb#W5sZmlsZQ%3D%3D?line=2'>3</a>\u001b[0m scaler \u001b[39m=\u001b[39m StandardScaler()\n\u001b[0;32m      <a href='vscode-notebook-cell:/c%3A/Users/kevin/OneDrive/Desktop/BT4301/Team-31-Fraud-Analytics/Models/1%20Modeling%20-%20CatBoost.ipynb#W5sZmlsZQ%3D%3D?line=4'>5</a>\u001b[0m onehot \u001b[39m=\u001b[39m OneHotEncoder(\n\u001b[0;32m      <a href='vscode-notebook-cell:/c%3A/Users/kevin/OneDrive/Desktop/BT4301/Team-31-Fraud-Analytics/Models/1%20Modeling%20-%20CatBoost.ipynb#W5sZmlsZQ%3D%3D?line=5'>6</a>\u001b[0m     categories \u001b[39m=\u001b[39m [\n\u001b[0;32m      <a href='vscode-notebook-cell:/c%3A/Users/kevin/OneDrive/Desktop/BT4301/Team-31-Fraud-Analytics/Models/1%20Modeling%20-%20CatBoost.ipynb#W5sZmlsZQ%3D%3D?line=6'>7</a>\u001b[0m             [\u001b[39m'\u001b[39m\u001b[39mfull time\u001b[39m\u001b[39m'\u001b[39m, \u001b[39m'\u001b[39m\u001b[39mcontract\u001b[39m\u001b[39m'\u001b[39m, \u001b[39m'\u001b[39m\u001b[39mpart time\u001b[39m\u001b[39m'\u001b[39m,\u001b[39m'\u001b[39m\u001b[39mflexi\u001b[39m\u001b[39m'\u001b[39m,\u001b[39m'\u001b[39m\u001b[39mother\u001b[39m\u001b[39m'\u001b[39m,\u001b[39m'\u001b[39m\u001b[39munspecified\u001b[39m\u001b[39m'\u001b[39m], \u001b[39m# employment_type\u001b[39;00m\n\u001b[1;32m   (...)\u001b[0m\n\u001b[0;32m     <a href='vscode-notebook-cell:/c%3A/Users/kevin/OneDrive/Desktop/BT4301/Team-31-Fraud-Analytics/Models/1%20Modeling%20-%20CatBoost.ipynb#W5sZmlsZQ%3D%3D?line=10'>11</a>\u001b[0m     handle_unknown \u001b[39m=\u001b[39m \u001b[39m'\u001b[39m\u001b[39mignore\u001b[39m\u001b[39m'\u001b[39m,  \u001b[39m# <- Ignore unknown values (i.e. don't create a column for them)\u001b[39;00m\n\u001b[0;32m     <a href='vscode-notebook-cell:/c%3A/Users/kevin/OneDrive/Desktop/BT4301/Team-31-Fraud-Analytics/Models/1%20Modeling%20-%20CatBoost.ipynb#W5sZmlsZQ%3D%3D?line=11'>12</a>\u001b[0m )\n\u001b[0;32m     <a href='vscode-notebook-cell:/c%3A/Users/kevin/OneDrive/Desktop/BT4301/Team-31-Fraud-Analytics/Models/1%20Modeling%20-%20CatBoost.ipynb#W5sZmlsZQ%3D%3D?line=13'>14</a>\u001b[0m freq_encoder \u001b[39m=\u001b[39m CountEncoder()\n",
      "\u001b[1;31mNameError\u001b[0m: name 'StandardScaler' is not defined"
     ]
    }
   ],
   "source": [
    "# Combine them!\n",
    "\n",
    "scaler = StandardScaler()\n",
    "\n",
    "onehot = OneHotEncoder(\n",
    "    categories = [\n",
    "            ['full time', 'contract', 'part time','flexi','other','unspecified'], # employment_type\n",
    "            ['entry level', 'middle level', 'senior level', 'unspecified'], # required_experience\n",
    "            ['high school or vocational degree', 'undergraduate', 'graduate', 'unspecified'], # required_education\n",
    "    ],\n",
    "    handle_unknown = 'ignore',  # <- Ignore unknown values (i.e. don't create a column for them)\n",
    ")\n",
    "\n",
    "freq_encoder = CountEncoder()\n",
    "\n",
    "binary_columns = ['telecommuting', 'has_company_logo','has_questions', 'have_company_profile', 'have_requirements', 'have_benefits', 'have_category', 'high_salary']\n",
    "numerical_columns = ['flesch_score_bin_ft','fk_grade_level_bin_ft', 'text_len']\n",
    "onehot_columns = ['employment_type', 'required_experience','required_education']\n",
    "freq_columns = ['location_country']\n",
    "\n",
    "preprocessor = ColumnTransformer([\n",
    "    # (nickname, transformer to apply, columns to apply to)\n",
    "    ('binary', 'passthrough', binary_columns),  # <- 'passthrough' says to keep them but don't apply anything\n",
    "    ('numerical', scaler, numerical_columns),   \n",
    "    ('onehot', onehot, onehot_columns),\n",
    "    ('frequency',freq_encoder, freq_columns),\n",
    "],  remainder='passthrough')\n",
    "\n",
    "model = Pipeline(steps=[\n",
    "    ('preprocess', preprocessor),\n",
    "    # ('resampling', SMOTEENN(random_state=random_state,enn=EditedNearestNeighbours(sampling_strategy='majority'))),\n",
    "    ('train', CatBoostClassifier(random_state=random_state)),\n",
    "])\n",
    "\n",
    "params = dict(\n",
    "    train__n_estimators = [100, 200, 300],\n",
    "    train__learning_rate = [0.1, 0.3, 0.5],\n",
    "    train__max_depth = [4, 6, 8],\n",
    "    train__l2_leaf_reg = [1, 5, 10],\n",
    "    train__border_count = [0.1, 0.3, 0.5],\n",
    "    train__loss_function = ['Logloss', 'CrossEntropy'],\n",
    "    train__auto_class_weights = ['Balanced']\n",
    ")\n",
    "\n",
    "\n",
    "def train(x_train,y_train,model,params):\n",
    "    \n",
    "    gridsearchcv = GridSearchCV(model, params, cv=5, scoring='f1_weighted', verbose=3, n_jobs=-1)\n",
    "    gridsearchcv.fit(x_train, y_train.values)\n",
    "    best_model = model.set_params(**gridsearchcv.best_params_).fit(x_train, y_train.values)\n",
    "    \n",
    "    return best_model\n",
    "\n",
    "\n",
    "best_model = train(X_train, y_train, model, params)\n"
   ]
  },
  {
   "cell_type": "code",
   "execution_count": 19,
   "metadata": {},
   "outputs": [
    {
     "data": {
      "text/plain": [
       "['../Models/decision_tree.joblib']"
      ]
     },
     "execution_count": 19,
     "metadata": {},
     "output_type": "execute_result"
    }
   ],
   "source": [
    "base_path = \"../Models/\" # path where the file is going to be saved in \n",
    "\n",
    "model_name = 'catboost'\n",
    "\n",
    "model_path = os.path.join(base_path, f'{model_name}.joblib')\n",
    "\n",
    "joblib.dump(best_model, model_path)"
   ]
  }
 ],
 "metadata": {
  "kernelspec": {
   "display_name": "base",
   "language": "python",
   "name": "python3"
  },
  "language_info": {
   "codemirror_mode": {
    "name": "ipython",
    "version": 3
   },
   "file_extension": ".py",
   "mimetype": "text/x-python",
   "name": "python",
   "nbconvert_exporter": "python",
   "pygments_lexer": "ipython3",
   "version": "3.11.2"
  },
  "orig_nbformat": 4
 },
 "nbformat": 4,
 "nbformat_minor": 2
}
