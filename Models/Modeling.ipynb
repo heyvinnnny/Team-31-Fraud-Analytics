{
 "cells": [
  {
   "cell_type": "markdown",
   "metadata": {},
   "source": [
    "## 4. Modelling "
   ]
  },
  {
   "cell_type": "code",
   "execution_count": null,
   "metadata": {},
   "outputs": [],
   "source": []
  },
  {
   "cell_type": "markdown",
   "metadata": {},
   "source": [
    "- new features: location country/county/city, company_profile_isna, full_text_len\n",
    "- missing values: fill with 'Unknown'\n",
    "- re-bins: salary_range\n",
    "- encoding: frequency encoding & one-hot\n",
    "- embeddings: pre trained, tokenize then embedding layer"
   ]
  },
  {
   "cell_type": "code",
   "execution_count": null,
   "metadata": {},
   "outputs": [],
   "source": []
  }
 ],
 "metadata": {
  "language_info": {
   "name": "python"
  },
  "orig_nbformat": 4
 },
 "nbformat": 4,
 "nbformat_minor": 2
}
