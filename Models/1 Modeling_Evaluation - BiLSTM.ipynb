{
 "cells": [
  {
   "cell_type": "markdown",
   "metadata": {},
   "source": [
    "## 1. Import Libraries"
   ]
  },
  {
   "cell_type": "code",
   "execution_count": 1,
   "metadata": {},
   "outputs": [],
   "source": [
    "import numpy as np\n",
    "import pandas as pd\n",
    "import seaborn as sns\n",
    "\n",
    "import sklearn\n",
    "from category_encoders import CountEncoder\n",
    "from sklearn.base import BaseEstimator,TransformerMixin\n",
    "from sklearn.preprocessing import OneHotEncoder\n",
    "from sklearn.preprocessing import StandardScaler\n",
    "from sklearn.compose import ColumnTransformer\n",
    "from sklearn.pipeline import Pipeline\n",
    "from sklearn.model_selection import train_test_split, GridSearchCV, RandomizedSearchCV\n",
    "from sklearn.metrics import accuracy_score, precision_score, recall_score, f1_score,  roc_auc_score\n",
    "from sklearn.metrics import confusion_matrix, ConfusionMatrixDisplay\n",
    "\n",
    "import os\n",
    "import joblib\n",
    "\n",
    "import warnings\n",
    "warnings.filterwarnings('ignore')\n",
    "pd.set_option('display.max_columns', 500)\n",
    "\n",
    "random_state = 4012"
   ]
  },
  {
   "cell_type": "code",
   "execution_count": 2,
   "metadata": {},
   "outputs": [],
   "source": [
    "import tensorflow as tf\n",
    "import keras\n",
    "from keras import backend as K\n",
    "from keras import models\n",
    "from keras import utils\n",
    "from keras.layers import Input,Dense,LSTM,Dropout,Embedding,Bidirectional,concatenate\n",
    "from keras.models import Model,Sequential\n",
    "from keras.optimizers import SGD,Adam,RMSprop\n",
    "from keras.preprocessing.sequence import pad_sequences\n",
    "from keras.preprocessing.text import one_hot"
   ]
  },
  {
   "cell_type": "code",
   "execution_count": 3,
   "metadata": {},
   "outputs": [],
   "source": [
    "from scikeras.wrappers import KerasClassifier"
   ]
  },
  {
   "cell_type": "markdown",
   "metadata": {},
   "source": [
    "## 2. Train Test Split"
   ]
  },
  {
   "cell_type": "code",
   "execution_count": 113,
   "metadata": {},
   "outputs": [],
   "source": [
    "path = \"../Raw Data Files/final_job_posting.csv\"\n",
    "df = pd.read_csv(path)\n",
    "df.head()\n",
    "# train test split\n",
    "X = df['full_text']\n",
    "y = df['fraudulent']\n",
    "X_train, X_test, y_train, y_test = train_test_split(X, y, test_size=0.2, random_state=random_state,stratify=y)"
   ]
  },
  {
   "cell_type": "markdown",
   "metadata": {},
   "source": [
    "## 3. Model"
   ]
  },
  {
   "cell_type": "code",
   "execution_count": 114,
   "metadata": {},
   "outputs": [],
   "source": [
    "# Combine them\n",
    "\n",
    "scaler = StandardScaler()\n",
    "\n",
    "onehot = OneHotEncoder(\n",
    "    categories = [\n",
    "            ['full time', 'contract', 'part time','flexi','other','unspecified'], # employment_type\n",
    "            ['entry level', 'middle level', 'senior level', 'unspecified'], # required_experience\n",
    "            ['high school or vocational degree', 'undergraduate', 'graduate', 'unspecified'], # required_education\n",
    "    ],\n",
    "    handle_unknown = 'ignore',  # <- Ignore unknown values (i.e. don't create a column for them)\n",
    ")\n",
    "\n",
    "freq_encoder = CountEncoder()\n",
    "\n",
    "binary_columns = ['telecommuting', 'has_company_logo','has_questions', 'have_company_profile', 'have_requirements', 'have_benefits', 'have_category', 'high_salary']\n",
    "numerical_columns = ['flesch_score_bin_ft','fk_grade_level_bin_ft', 'text_len']\n",
    "onehot_columns = ['employment_type', 'required_experience','required_education']\n",
    "freq_columns = ['location_country']\n",
    "text_column = ['full_text']\n",
    "\n",
    "preprocessor = ColumnTransformer([\n",
    "    # (nickname, transformer to apply, columns to apply to)\n",
    "    ('binary', 'passthrough', binary_columns),  # <- 'passthrough' says to keep them but don't apply anything\n",
    "    ('numerical', scaler, numerical_columns),   \n",
    "    ('onehot', onehot, onehot_columns),\n",
    "    ('frequency',freq_encoder, freq_columns),\n",
    "],  remainder='passthrough')\n"
   ]
  },
  {
   "cell_type": "code",
   "execution_count": 115,
   "metadata": {},
   "outputs": [],
   "source": [
    "vocab_size=5000\n",
    "sent_length=128\n",
    "def text_process(df):\n",
    "    onehot_repr=[one_hot(words,vocab_size)for words in df] \n",
    "    embedded_docs=pad_sequences(onehot_repr,padding='pre',maxlen=sent_length)\n",
    "    return embedded_docs"
   ]
  },
  {
   "cell_type": "code",
   "execution_count": 116,
   "metadata": {},
   "outputs": [],
   "source": [
    "X_train_new = text_process(X_train)\n",
    "X_test_new = text_process(X_test)"
   ]
  },
  {
   "cell_type": "code",
   "execution_count": 117,
   "metadata": {},
   "outputs": [],
   "source": [
    "# define metrics\n",
    "def recall_m(y_true,y_pred):\n",
    "  true_positives = K.sum(K.round(K.clip(y_true*y_pred,0,1)))\n",
    "  possible_positives = K.sum(K.round(K.clip(y_true,0,1)))\n",
    "  recall = true_positives / (possible_positives + K.epsilon())\n",
    "  return recall\n",
    "\n",
    "def precision_m(y_true,y_pred):\n",
    "  true_positives = K.sum(K.round(K.clip(y_true*y_pred,0,1)))\n",
    "  predicted_positives = K.sum(K.round(K.clip(y_pred,0,1)))\n",
    "  precision = true_positives / (predicted_positives + K.epsilon())\n",
    "  return precision\n",
    "\n",
    "def f1_m(y_true,y_pred):\n",
    "  precision = precision_m(y_true,y_pred)\n",
    "  recall = recall_m(y_true,y_pred)\n",
    "  return 2*((precision*recall)/(precision+recall+K.epsilon()))"
   ]
  },
  {
   "cell_type": "code",
   "execution_count": 118,
   "metadata": {},
   "outputs": [],
   "source": [
    "#batch_size = [64, 128]\n",
    "#dropoutrates = [0.2, 0.3]\n",
    "epochs = 5\n",
    "batch_size = 128\n",
    "dropoutrates = 0.3"
   ]
  },
  {
   "cell_type": "code",
   "execution_count": 119,
   "metadata": {},
   "outputs": [
    {
     "name": "stdout",
     "output_type": "stream",
     "text": [
      "Epoch 1/5\n",
      "150/150 [==============================] - 115s 721ms/step - loss: 0.1816 - f1_m: 0.3952 - val_loss: 0.0835 - val_f1_m: 0.7395\n",
      "Epoch 2/5\n",
      "150/150 [==============================] - 113s 756ms/step - loss: 0.0674 - f1_m: 0.8028 - val_loss: 0.0727 - val_f1_m: 0.7922\n",
      "Epoch 3/5\n",
      "150/150 [==============================] - 109s 726ms/step - loss: 0.0396 - f1_m: 0.8902 - val_loss: 0.0710 - val_f1_m: 0.8077\n",
      "Epoch 4/5\n",
      "150/150 [==============================] - 102s 677ms/step - loss: 0.0238 - f1_m: 0.9359 - val_loss: 0.0709 - val_f1_m: 0.8021\n",
      "Epoch 5/5\n",
      "150/150 [==============================] - 100s 668ms/step - loss: 0.0127 - f1_m: 0.9672 - val_loss: 0.0893 - val_f1_m: 0.8103\n"
     ]
    },
    {
     "data": {
      "text/plain": [
       "<keras.src.callbacks.History at 0x201c6369e80>"
      ]
     },
     "execution_count": 119,
     "metadata": {},
     "output_type": "execute_result"
    }
   ],
   "source": [
    "embedding_vector_features=50\n",
    "Bilstm_model=Sequential()\n",
    "Bilstm_model.add(Embedding(vocab_size,embedding_vector_features,input_length=sent_length))\n",
    "Bilstm_model.add(Bidirectional(LSTM(100))) \n",
    "Bilstm_model.add(Dropout(dropoutrates))\n",
    "Bilstm_model.add(Dense(1,activation='sigmoid'))\n",
    "Bilstm_model.compile(loss='binary_crossentropy',optimizer='adam',metrics=[f1_m])\n",
    "\n",
    "Bilstm_model.fit(X_train_new,y_train,validation_data=(X_test_new,y_test),epochs=epochs,batch_size=batch_size)"
   ]
  },
  {
   "cell_type": "code",
   "execution_count": 96,
   "metadata": {},
   "outputs": [],
   "source": [
    "## too slow!!\n",
    "#def create_model(dropoutrates=0.2):\n",
    "    ## Creating model\n",
    "    #embedding_vector_features=50\n",
    "    #Bilstm_model=Sequential()\n",
    "    #Bilstm_model.add(Embedding(vocab_size,embedding_vector_features,input_length=sent_length))\n",
    "    #Bilstm_model.add(Bidirectional(LSTM(100))) \n",
    "    ##Bilstm_model.add(Dropout(0.3))\n",
    "    #Bilstm_model.add(Dense(1,activation='sigmoid'))\n",
    "    #Bilstm_model.compile(loss='binary_crossentropy',optimizer='adam',metrics=[f1_m])\n",
    "    #return Bilstm_model\n",
    "#### params\n",
    "#batch_size = [64, 128]\n",
    "#dropoutrates = [0.2, 0.3]\n",
    "#model_CV = KerasClassifier(build_fn=create_model,verbose=0,epochs=10, batch_size=32, dropoutrates=0.2)\n",
    "# define the grid search parameters\n",
    "#param_grid = dict(batch_size=batch_size,dropoutrates=dropoutrates)\n",
    "#grid = GridSearchCV(estimator=model_CV, param_grid=param_grid, cv=3)\n",
    "\n",
    "#RETURN the grid_result\n",
    "#grid_result = grid.fit(X_train_new, y_train)\n",
    "\n",
    "# summarize results\n",
    "#print(\"Best: %f using %s\" % (grid_result.best_score_, grid_result.best_params_))\n",
    "#means = grid_result.cv_results_['mean_test_score']\n",
    "#stds = grid_result.cv_results_['std_test_score']\n",
    "#params = grid_result.cv_results_['params']\n",
    "#for mean, stdev, param in zip(means, stds, params):\n",
    "    #print(\"%f (%f) with: %r\" % (mean, stdev, param))\n",
    "\n",
    "#best_params = grid_result.best_params_\n",
    "#best_model = grid_result.best_estimator_\n",
    "#best_params"
   ]
  },
  {
   "cell_type": "markdown",
   "metadata": {},
   "source": [
    "## 4. Evaluation"
   ]
  },
  {
   "cell_type": "code",
   "execution_count": 120,
   "metadata": {},
   "outputs": [],
   "source": [
    "def evaluate(x_test,y_test,name,model):\n",
    "\n",
    "    print(model,\"\\n\")\n",
    "    \n",
    "    y_pred = model.predict(X_test_new)\n",
    "    y_pred = (y_pred > 0.5).astype(int)\n",
    "\n",
    "    scores = {}\n",
    "    scores[\"Accuracy\"]  = accuracy_score(y_test,y_pred).round(3)\n",
    "    scores[\"Precision\"] = precision_score(y_test,y_pred,average=\"weighted\").round(3)\n",
    "    scores[\"Recall\"]    = recall_score(y_test,y_pred,average=\"weighted\").round(3)\n",
    "    scores[\"F1\"]        = f1_score(y_test,y_pred,average=\"weighted\").round(3)\n",
    "    scores[\"ROC AUC\"]   = roc_auc_score(y_test,y_pred,average=\"weighted\").round(3)\n",
    "    scores = {name:scores}\n",
    "    print(pd.DataFrame(scores))\n",
    "\n",
    "    cm = confusion_matrix(y_test,y_pred)\n",
    "    cm_plot = sns.heatmap(cm, annot=True, fmt='g', cmap='Blues_r')\n",
    "    cm_plot.set_xlabel('Predicted Values')\n",
    "    cm_plot.set_ylabel('Actual Values')"
   ]
  },
  {
   "cell_type": "code",
   "execution_count": 121,
   "metadata": {},
   "outputs": [
    {
     "name": "stdout",
     "output_type": "stream",
     "text": [
      "<keras.src.engine.sequential.Sequential object at 0x00000201BF933910> \n",
      "\n",
      "150/150 [==============================] - 7s 38ms/step\n",
      "           BiLSTM(no numeric features)\n",
      "Accuracy                         0.981\n",
      "F1                               0.980\n",
      "Precision                        0.980\n",
      "ROC AUC                          0.872\n",
      "Recall                           0.981\n"
     ]
    },
    {
     "data": {
      "image/png": "[encoded data removed]",
      "text/plain": [
       "<Figure size 432x288 with 2 Axes>"
      ]
     },
     "metadata": {
      "needs_background": "light"
     },
     "output_type": "display_data"
    }
   ],
   "source": [
    "evaluate(X_test_new,y_test,'BiLSTM(no numeric features)',Bilstm_model)"
   ]
  }
 ],
 "metadata": {
  "kernelspec": {
   "display_name": "base",
   "language": "python",
   "name": "python3"
  },
  "language_info": {
   "codemirror_mode": {
    "name": "ipython",
    "version": 3
   },
   "file_extension": ".py",
   "mimetype": "text/x-python",
   "name": "python",
   "nbconvert_exporter": "python",
   "pygments_lexer": "ipython3",
   "version": "3.8.8"
  }
 },
 "nbformat": 4,
 "nbformat_minor": 2
}
