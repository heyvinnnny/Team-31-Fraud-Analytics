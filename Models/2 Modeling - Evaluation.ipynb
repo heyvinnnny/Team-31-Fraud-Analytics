{
 "cells": [
  {
   "cell_type": "markdown",
   "metadata": {},
   "source": [
    "## 1. Import Libraries"
   ]
  },
  {
   "cell_type": "code",
   "execution_count": 1,
   "metadata": {},
   "outputs": [],
   "source": [
    "import numpy as np\n",
    "import pandas as pd\n",
    "import seaborn as sns\n",
    "\n",
    "import sklearn\n",
    "from sklearn.metrics import accuracy_score\n",
    "from sklearn.metrics import precision_score\n",
    "from sklearn.metrics import recall_score\n",
    "from sklearn.metrics import f1_score\n",
    "from sklearn.metrics import roc_auc_score\n",
    "from sklearn.metrics import confusion_matrix\n",
    "\n",
    "import os\n",
    "import joblib\n",
    "\n",
    "import warnings\n",
    "warnings.filterwarnings('ignore')\n",
    "pd.set_option('display.max_columns', 500)\n",
    "\n",
    "random_state = 4012"
   ]
  },
  {
   "cell_type": "code",
   "execution_count": 2,
   "metadata": {},
   "outputs": [],
   "source": [
    "X_test = pd.read_csv('../Processed Data Files/X_test.csv')\n",
    "y_test = pd.read_csv('../Processed Data Files/y_test.csv')\n",
    "\n",
    "def evaluate(x_test,y_test,name,model,preprocessor):\n",
    "\n",
    "    print(model,\"\\n\")\n",
    "    \n",
    "    y_pred = model.predict(preprocessor.transform(x_test))\n",
    "\n",
    "    scores = {}\n",
    "    scores[\"Accuracy\"]  = accuracy_score(y_test,y_pred).round(3)\n",
    "    scores[\"Precision\"] = precision_score(y_test,y_pred,average=\"weighted\").round(3)\n",
    "    scores[\"Recall\"]    = recall_score(y_test,y_pred,average=\"weighted\").round(3)\n",
    "    scores[\"F1\"]        = f1_score(y_test,y_pred,average=\"weighted\").round(3)\n",
    "    scores[\"ROC AUC\"]   = roc_auc_score(y_test,y_pred,average=\"weighted\").round(3)\n",
    "    scores = {name:scores}\n",
    "    print(pd.DataFrame(scores))\n",
    "\n",
    "    cm = confusion_matrix(y_test,y_pred)\n",
    "    cm_plot = sns.heatmap(cm, annot=True, fmt='g', cmap='Blues_r')\n",
    "    cm_plot.set_xlabel('Predicted Values')\n",
    "    cm_plot.set_ylabel('Actual Values')"
   ]
  },
  {
   "cell_type": "markdown",
   "metadata": {},
   "source": [
    "### Decision Tree"
   ]
  },
  {
   "cell_type": "code",
   "execution_count": 4,
   "metadata": {},
   "outputs": [
    {
     "name": "stdout",
     "output_type": "stream",
     "text": [
      "DecisionTreeClassifier(ccp_alpha=0.001, class_weight='balanced', max_depth=9,\n",
      "                       max_features='auto', random_state=4012) \n",
      "\n",
      "           decision_tree\n",
      "Accuracy           0.891\n",
      "F1                 0.911\n",
      "Precision          0.944\n",
      "ROC AUC            0.826\n",
      "Recall             0.891\n"
     ]
    },
    {
     "data": {
      "image/png": "[encoded data removed]",
      "text/plain": [
       "<Figure size 432x288 with 2 Axes>"
      ]
     },
     "metadata": {
      "needs_background": "light"
     },
     "output_type": "display_data"
    }
   ],
   "source": [
    "name = \"decision_tree\"\n",
    "best_model = joblib.load(f\"../Models/{name}.joblib\")\n",
    "evaluate(X_test,y_test,name,best_model['train'],best_model[\"preprocess\"])"
   ]
  },
  {
   "cell_type": "markdown",
   "metadata": {},
   "source": [
    "### Random Forest"
   ]
  },
  {
   "cell_type": "code",
   "execution_count": null,
   "metadata": {},
   "outputs": [],
   "source": [
    "\n",
    "name = \"random_forest\"\n",
    "best_model = joblib.load(f\"../Models/{name}.joblib\")\n",
    "evaluate(X_test,y_test,name,best_model['train'],best_model[\"preprocess\"])"
   ]
  }
 ],
 "metadata": {
  "kernelspec": {
   "display_name": "base",
   "language": "python",
   "name": "python3"
  },
  "language_info": {
   "codemirror_mode": {
    "name": "ipython",
    "version": 3
   },
   "file_extension": ".py",
   "mimetype": "text/x-python",
   "name": "python",
   "nbconvert_exporter": "python",
   "pygments_lexer": "ipython3",
   "version": "3.9.0"
  },
  "orig_nbformat": 4
 },
 "nbformat": 4,
 "nbformat_minor": 2
}
