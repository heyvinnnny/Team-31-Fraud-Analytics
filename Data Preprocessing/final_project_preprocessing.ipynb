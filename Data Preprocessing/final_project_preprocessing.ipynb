{
  "nbformat": 4,
  "nbformat_minor": 0,
  "metadata": {
    "colab": {
      "provenance": [],
      "toc_visible": true
    },
    "kernelspec": {
      "name": "python3",
      "display_name": "Python 3"
    },
    "language_info": {
      "name": "python"
    }
  },
  "cells": [
    {
      "cell_type": "markdown",
      "source": [
        "## 1. Import Libraries"
      ],
      "metadata": {
        "id": "gc1hdfOleGZD"
      }
    },
    {
      "cell_type": "code",
      "execution_count": 1,
      "metadata": {
        "id": "kx-NhyNUcvOa"
      },
      "outputs": [],
      "source": [
        "import numpy as np\n",
        "import pandas as pd\n",
        "import matplotlib.pyplot as plt\n",
        "import seaborn as sns\n",
        "import sklearn\n",
        "import warnings\n",
        "warnings.filterwarnings('ignore')\n",
        "pd.set_option('display.max_columns', 500)"
      ]
    },
    {
      "cell_type": "code",
      "source": [
        "## use this part, if you are using google colab\n",
        "from google.colab import drive\n",
        "drive.mount('/content/drive')"
      ],
      "metadata": {
        "colab": {
          "base_uri": "https://localhost:8080/"
        },
        "id": "IMOsoMX8c2L8",
        "outputId": "dbaf8f27-da69-4d7e-aaad-7ef17e666121"
      },
      "execution_count": 2,
      "outputs": [
        {
          "output_type": "stream",
          "name": "stdout",
          "text": [
            "Mounted at /content/drive\n"
          ]
        }
      ]
    },
    {
      "cell_type": "code",
      "source": [
        "# Load the data and check the first few lines\n",
        "dataset_path = \"/content/drive/MyDrive/Fraud_Detection/fake_job_postings.csv\"\n",
        "dataset = pd.read_csv(dataset_path)\n",
        "dataset.head()"
      ],
      "metadata": {
        "colab": {
          "base_uri": "https://localhost:8080/",
          "height": 573
        },
        "id": "ISgsXt_wcxel",
        "outputId": "e7100065-7a38-4117-fe5d-fc6f640a3b95"
      },
      "execution_count": 3,
      "outputs": [
        {
          "output_type": "execute_result",
          "data": {
            "text/plain": [
              "   job_id                                      title            location  \\\n",
              "0       1                           Marketing Intern    US, NY, New York   \n",
              "1       2  Customer Service - Cloud Video Production      NZ, , Auckland   \n",
              "2       3    Commissioning Machinery Assistant (CMA)       US, IA, Wever   \n",
              "3       4          Account Executive - Washington DC  US, DC, Washington   \n",
              "4       5                        Bill Review Manager  US, FL, Fort Worth   \n",
              "\n",
              "  department salary_range                                    company_profile  \\\n",
              "0  Marketing          NaN  We're Food52, and we've created a groundbreaki...   \n",
              "1    Success          NaN  90 Seconds, the worlds Cloud Video Production ...   \n",
              "2        NaN          NaN  Valor Services provides Workforce Solutions th...   \n",
              "3      Sales          NaN  Our passion for improving quality of life thro...   \n",
              "4        NaN          NaN  SpotSource Solutions LLC is a Global Human Cap...   \n",
              "\n",
              "                                         description  \\\n",
              "0  Food52, a fast-growing, James Beard Award-winn...   \n",
              "1  Organised - Focused - Vibrant - Awesome!Do you...   \n",
              "2  Our client, located in Houston, is actively se...   \n",
              "3  THE COMPANY: ESRI – Environmental Systems Rese...   \n",
              "4  JOB TITLE: Itemization Review ManagerLOCATION:...   \n",
              "\n",
              "                                        requirements  \\\n",
              "0  Experience with content management systems a m...   \n",
              "1  What we expect from you:Your key responsibilit...   \n",
              "2  Implement pre-commissioning and commissioning ...   \n",
              "3  EDUCATION: Bachelor’s or Master’s in GIS, busi...   \n",
              "4  QUALIFICATIONS:RN license in the State of Texa...   \n",
              "\n",
              "                                            benefits  telecommuting  \\\n",
              "0                                                NaN              0   \n",
              "1  What you will get from usThrough being part of...              0   \n",
              "2                                                NaN              0   \n",
              "3  Our culture is anything but corporate—we have ...              0   \n",
              "4                              Full Benefits Offered              0   \n",
              "\n",
              "   has_company_logo  has_questions employment_type required_experience  \\\n",
              "0                 1              0           Other          Internship   \n",
              "1                 1              0       Full-time      Not Applicable   \n",
              "2                 1              0             NaN                 NaN   \n",
              "3                 1              0       Full-time    Mid-Senior level   \n",
              "4                 1              1       Full-time    Mid-Senior level   \n",
              "\n",
              "  required_education                   industry              function  \\\n",
              "0                NaN                        NaN             Marketing   \n",
              "1                NaN  Marketing and Advertising      Customer Service   \n",
              "2                NaN                        NaN                   NaN   \n",
              "3  Bachelor's Degree          Computer Software                 Sales   \n",
              "4  Bachelor's Degree     Hospital & Health Care  Health Care Provider   \n",
              "\n",
              "   fraudulent  \n",
              "0           0  \n",
              "1           0  \n",
              "2           0  \n",
              "3           0  \n",
              "4           0  "
            ],
            "text/html": [
              "\n",
              "  <div id=\"df-c9c78d69-29b8-49b4-9cac-23afc95b82d3\" class=\"colab-df-container\">\n",
              "    <div>\n",
              "<style scoped>\n",
              "    .dataframe tbody tr th:only-of-type {\n",
              "        vertical-align: middle;\n",
              "    }\n",
              "\n",
              "    .dataframe tbody tr th {\n",
              "        vertical-align: top;\n",
              "    }\n",
              "\n",
              "    .dataframe thead th {\n",
              "        text-align: right;\n",
              "    }\n",
              "</style>\n",
              "<table border=\"1\" class=\"dataframe\">\n",
              "  <thead>\n",
              "    <tr style=\"text-align: right;\">\n",
              "      <th></th>\n",
              "      <th>job_id</th>\n",
              "      <th>title</th>\n",
              "      <th>location</th>\n",
              "      <th>department</th>\n",
              "      <th>salary_range</th>\n",
              "      <th>company_profile</th>\n",
              "      <th>description</th>\n",
              "      <th>requirements</th>\n",
              "      <th>benefits</th>\n",
              "      <th>telecommuting</th>\n",
              "      <th>has_company_logo</th>\n",
              "      <th>has_questions</th>\n",
              "      <th>employment_type</th>\n",
              "      <th>required_experience</th>\n",
              "      <th>required_education</th>\n",
              "      <th>industry</th>\n",
              "      <th>function</th>\n",
              "      <th>fraudulent</th>\n",
              "    </tr>\n",
              "  </thead>\n",
              "  <tbody>\n",
              "    <tr>\n",
              "      <th>0</th>\n",
              "      <td>1</td>\n",
              "      <td>Marketing Intern</td>\n",
              "      <td>US, NY, New York</td>\n",
              "      <td>Marketing</td>\n",
              "      <td>NaN</td>\n",
              "      <td>We're Food52, and we've created a groundbreaki...</td>\n",
              "      <td>Food52, a fast-growing, James Beard Award-winn...</td>\n",
              "      <td>Experience with content management systems a m...</td>\n",
              "      <td>NaN</td>\n",
              "      <td>0</td>\n",
              "      <td>1</td>\n",
              "      <td>0</td>\n",
              "      <td>Other</td>\n",
              "      <td>Internship</td>\n",
              "      <td>NaN</td>\n",
              "      <td>NaN</td>\n",
              "      <td>Marketing</td>\n",
              "      <td>0</td>\n",
              "    </tr>\n",
              "    <tr>\n",
              "      <th>1</th>\n",
              "      <td>2</td>\n",
              "      <td>Customer Service - Cloud Video Production</td>\n",
              "      <td>NZ, , Auckland</td>\n",
              "      <td>Success</td>\n",
              "      <td>NaN</td>\n",
              "      <td>90 Seconds, the worlds Cloud Video Production ...</td>\n",
              "      <td>Organised - Focused - Vibrant - Awesome!Do you...</td>\n",
              "      <td>What we expect from you:Your key responsibilit...</td>\n",
              "      <td>What you will get from usThrough being part of...</td>\n",
              "      <td>0</td>\n",
              "      <td>1</td>\n",
              "      <td>0</td>\n",
              "      <td>Full-time</td>\n",
              "      <td>Not Applicable</td>\n",
              "      <td>NaN</td>\n",
              "      <td>Marketing and Advertising</td>\n",
              "      <td>Customer Service</td>\n",
              "      <td>0</td>\n",
              "    </tr>\n",
              "    <tr>\n",
              "      <th>2</th>\n",
              "      <td>3</td>\n",
              "      <td>Commissioning Machinery Assistant (CMA)</td>\n",
              "      <td>US, IA, Wever</td>\n",
              "      <td>NaN</td>\n",
              "      <td>NaN</td>\n",
              "      <td>Valor Services provides Workforce Solutions th...</td>\n",
              "      <td>Our client, located in Houston, is actively se...</td>\n",
              "      <td>Implement pre-commissioning and commissioning ...</td>\n",
              "      <td>NaN</td>\n",
              "      <td>0</td>\n",
              "      <td>1</td>\n",
              "      <td>0</td>\n",
              "      <td>NaN</td>\n",
              "      <td>NaN</td>\n",
              "      <td>NaN</td>\n",
              "      <td>NaN</td>\n",
              "      <td>NaN</td>\n",
              "      <td>0</td>\n",
              "    </tr>\n",
              "    <tr>\n",
              "      <th>3</th>\n",
              "      <td>4</td>\n",
              "      <td>Account Executive - Washington DC</td>\n",
              "      <td>US, DC, Washington</td>\n",
              "      <td>Sales</td>\n",
              "      <td>NaN</td>\n",
              "      <td>Our passion for improving quality of life thro...</td>\n",
              "      <td>THE COMPANY: ESRI – Environmental Systems Rese...</td>\n",
              "      <td>EDUCATION: Bachelor’s or Master’s in GIS, busi...</td>\n",
              "      <td>Our culture is anything but corporate—we have ...</td>\n",
              "      <td>0</td>\n",
              "      <td>1</td>\n",
              "      <td>0</td>\n",
              "      <td>Full-time</td>\n",
              "      <td>Mid-Senior level</td>\n",
              "      <td>Bachelor's Degree</td>\n",
              "      <td>Computer Software</td>\n",
              "      <td>Sales</td>\n",
              "      <td>0</td>\n",
              "    </tr>\n",
              "    <tr>\n",
              "      <th>4</th>\n",
              "      <td>5</td>\n",
              "      <td>Bill Review Manager</td>\n",
              "      <td>US, FL, Fort Worth</td>\n",
              "      <td>NaN</td>\n",
              "      <td>NaN</td>\n",
              "      <td>SpotSource Solutions LLC is a Global Human Cap...</td>\n",
              "      <td>JOB TITLE: Itemization Review ManagerLOCATION:...</td>\n",
              "      <td>QUALIFICATIONS:RN license in the State of Texa...</td>\n",
              "      <td>Full Benefits Offered</td>\n",
              "      <td>0</td>\n",
              "      <td>1</td>\n",
              "      <td>1</td>\n",
              "      <td>Full-time</td>\n",
              "      <td>Mid-Senior level</td>\n",
              "      <td>Bachelor's Degree</td>\n",
              "      <td>Hospital &amp; Health Care</td>\n",
              "      <td>Health Care Provider</td>\n",
              "      <td>0</td>\n",
              "    </tr>\n",
              "  </tbody>\n",
              "</table>\n",
              "</div>\n",
              "    <div class=\"colab-df-buttons\">\n",
              "\n",
              "  <div class=\"colab-df-container\">\n",
              "    <button class=\"colab-df-convert\" onclick=\"convertToInteractive('df-c9c78d69-29b8-49b4-9cac-23afc95b82d3')\"\n",
              "            title=\"Convert this dataframe to an interactive table.\"\n",
              "            style=\"display:none;\">\n",
              "\n",
              "  <svg xmlns=\"http://www.w3.org/2000/svg\" height=\"24px\" viewBox=\"0 -960 960 960\">\n",
              "    <path d=\"M120-120v-720h720v720H120Zm60-500h600v-160H180v160Zm220 220h160v-160H400v160Zm0 220h160v-160H400v160ZM180-400h160v-160H180v160Zm440 0h160v-160H620v160ZM180-180h160v-160H180v160Zm440 0h160v-160H620v160Z\"/>\n",
              "  </svg>\n",
              "    </button>\n",
              "\n",
              "  <style>\n",
              "    .colab-df-container {\n",
              "      display:flex;\n",
              "      gap: 12px;\n",
              "    }\n",
              "\n",
              "    .colab-df-convert {\n",
              "      background-color: #E8F0FE;\n",
              "      border: none;\n",
              "      border-radius: 50%;\n",
              "      cursor: pointer;\n",
              "      display: none;\n",
              "      fill: #1967D2;\n",
              "      height: 32px;\n",
              "      padding: 0 0 0 0;\n",
              "      width: 32px;\n",
              "    }\n",
              "\n",
              "    .colab-df-convert:hover {\n",
              "      background-color: #E2EBFA;\n",
              "      box-shadow: 0px 1px 2px rgba(60, 64, 67, 0.3), 0px 1px 3px 1px rgba(60, 64, 67, 0.15);\n",
              "      fill: #174EA6;\n",
              "    }\n",
              "\n",
              "    .colab-df-buttons div {\n",
              "      margin-bottom: 4px;\n",
              "    }\n",
              "\n",
              "    [theme=dark] .colab-df-convert {\n",
              "      background-color: #3B4455;\n",
              "      fill: #D2E3FC;\n",
              "    }\n",
              "\n",
              "    [theme=dark] .colab-df-convert:hover {\n",
              "      background-color: #434B5C;\n",
              "      box-shadow: 0px 1px 3px 1px rgba(0, 0, 0, 0.15);\n",
              "      filter: drop-shadow(0px 1px 2px rgba(0, 0, 0, 0.3));\n",
              "      fill: #FFFFFF;\n",
              "    }\n",
              "  </style>\n",
              "\n",
              "    <script>\n",
              "      const buttonEl =\n",
              "        document.querySelector('#df-c9c78d69-29b8-49b4-9cac-23afc95b82d3 button.colab-df-convert');\n",
              "      buttonEl.style.display =\n",
              "        google.colab.kernel.accessAllowed ? 'block' : 'none';\n",
              "\n",
              "      async function convertToInteractive(key) {\n",
              "        const element = document.querySelector('#df-c9c78d69-29b8-49b4-9cac-23afc95b82d3');\n",
              "        const dataTable =\n",
              "          await google.colab.kernel.invokeFunction('convertToInteractive',\n",
              "                                                    [key], {});\n",
              "        if (!dataTable) return;\n",
              "\n",
              "        const docLinkHtml = 'Like what you see? Visit the ' +\n",
              "          '<a target=\"_blank\" href=https://colab.research.google.com/notebooks/data_table.ipynb>data table notebook</a>'\n",
              "          + ' to learn more about interactive tables.';\n",
              "        element.innerHTML = '';\n",
              "        dataTable['output_type'] = 'display_data';\n",
              "        await google.colab.output.renderOutput(dataTable, element);\n",
              "        const docLink = document.createElement('div');\n",
              "        docLink.innerHTML = docLinkHtml;\n",
              "        element.appendChild(docLink);\n",
              "      }\n",
              "    </script>\n",
              "  </div>\n",
              "\n",
              "\n",
              "<div id=\"df-c65a6d7e-8205-41cd-a6ec-e52549e914ae\">\n",
              "  <button class=\"colab-df-quickchart\" onclick=\"quickchart('df-c65a6d7e-8205-41cd-a6ec-e52549e914ae')\"\n",
              "            title=\"Suggest charts.\"\n",
              "            style=\"display:none;\">\n",
              "\n",
              "<svg xmlns=\"http://www.w3.org/2000/svg\" height=\"24px\"viewBox=\"0 0 24 24\"\n",
              "     width=\"24px\">\n",
              "    <g>\n",
              "        <path d=\"M19 3H5c-1.1 0-2 .9-2 2v14c0 1.1.9 2 2 2h14c1.1 0 2-.9 2-2V5c0-1.1-.9-2-2-2zM9 17H7v-7h2v7zm4 0h-2V7h2v10zm4 0h-2v-4h2v4z\"/>\n",
              "    </g>\n",
              "</svg>\n",
              "  </button>\n",
              "\n",
              "<style>\n",
              "  .colab-df-quickchart {\n",
              "      --bg-color: #E8F0FE;\n",
              "      --fill-color: #1967D2;\n",
              "      --hover-bg-color: #E2EBFA;\n",
              "      --hover-fill-color: #174EA6;\n",
              "      --disabled-fill-color: #AAA;\n",
              "      --disabled-bg-color: #DDD;\n",
              "  }\n",
              "\n",
              "  [theme=dark] .colab-df-quickchart {\n",
              "      --bg-color: #3B4455;\n",
              "      --fill-color: #D2E3FC;\n",
              "      --hover-bg-color: #434B5C;\n",
              "      --hover-fill-color: #FFFFFF;\n",
              "      --disabled-bg-color: #3B4455;\n",
              "      --disabled-fill-color: #666;\n",
              "  }\n",
              "\n",
              "  .colab-df-quickchart {\n",
              "    background-color: var(--bg-color);\n",
              "    border: none;\n",
              "    border-radius: 50%;\n",
              "    cursor: pointer;\n",
              "    display: none;\n",
              "    fill: var(--fill-color);\n",
              "    height: 32px;\n",
              "    padding: 0;\n",
              "    width: 32px;\n",
              "  }\n",
              "\n",
              "  .colab-df-quickchart:hover {\n",
              "    background-color: var(--hover-bg-color);\n",
              "    box-shadow: 0 1px 2px rgba(60, 64, 67, 0.3), 0 1px 3px 1px rgba(60, 64, 67, 0.15);\n",
              "    fill: var(--button-hover-fill-color);\n",
              "  }\n",
              "\n",
              "  .colab-df-quickchart-complete:disabled,\n",
              "  .colab-df-quickchart-complete:disabled:hover {\n",
              "    background-color: var(--disabled-bg-color);\n",
              "    fill: var(--disabled-fill-color);\n",
              "    box-shadow: none;\n",
              "  }\n",
              "\n",
              "  .colab-df-spinner {\n",
              "    border: 2px solid var(--fill-color);\n",
              "    border-color: transparent;\n",
              "    border-bottom-color: var(--fill-color);\n",
              "    animation:\n",
              "      spin 1s steps(1) infinite;\n",
              "  }\n",
              "\n",
              "  @keyframes spin {\n",
              "    0% {\n",
              "      border-color: transparent;\n",
              "      border-bottom-color: var(--fill-color);\n",
              "      border-left-color: var(--fill-color);\n",
              "    }\n",
              "    20% {\n",
              "      border-color: transparent;\n",
              "      border-left-color: var(--fill-color);\n",
              "      border-top-color: var(--fill-color);\n",
              "    }\n",
              "    30% {\n",
              "      border-color: transparent;\n",
              "      border-left-color: var(--fill-color);\n",
              "      border-top-color: var(--fill-color);\n",
              "      border-right-color: var(--fill-color);\n",
              "    }\n",
              "    40% {\n",
              "      border-color: transparent;\n",
              "      border-right-color: var(--fill-color);\n",
              "      border-top-color: var(--fill-color);\n",
              "    }\n",
              "    60% {\n",
              "      border-color: transparent;\n",
              "      border-right-color: var(--fill-color);\n",
              "    }\n",
              "    80% {\n",
              "      border-color: transparent;\n",
              "      border-right-color: var(--fill-color);\n",
              "      border-bottom-color: var(--fill-color);\n",
              "    }\n",
              "    90% {\n",
              "      border-color: transparent;\n",
              "      border-bottom-color: var(--fill-color);\n",
              "    }\n",
              "  }\n",
              "</style>\n",
              "\n",
              "  <script>\n",
              "    async function quickchart(key) {\n",
              "      const quickchartButtonEl =\n",
              "        document.querySelector('#' + key + ' button');\n",
              "      quickchartButtonEl.disabled = true;  // To prevent multiple clicks.\n",
              "      quickchartButtonEl.classList.add('colab-df-spinner');\n",
              "      try {\n",
              "        const charts = await google.colab.kernel.invokeFunction(\n",
              "            'suggestCharts', [key], {});\n",
              "      } catch (error) {\n",
              "        console.error('Error during call to suggestCharts:', error);\n",
              "      }\n",
              "      quickchartButtonEl.classList.remove('colab-df-spinner');\n",
              "      quickchartButtonEl.classList.add('colab-df-quickchart-complete');\n",
              "    }\n",
              "    (() => {\n",
              "      let quickchartButtonEl =\n",
              "        document.querySelector('#df-c65a6d7e-8205-41cd-a6ec-e52549e914ae button');\n",
              "      quickchartButtonEl.style.display =\n",
              "        google.colab.kernel.accessAllowed ? 'block' : 'none';\n",
              "    })();\n",
              "  </script>\n",
              "</div>\n",
              "    </div>\n",
              "  </div>\n"
            ]
          },
          "metadata": {},
          "execution_count": 3
        }
      ]
    },
    {
      "cell_type": "code",
      "source": [
        "dataset.shape"
      ],
      "metadata": {
        "colab": {
          "base_uri": "https://localhost:8080/"
        },
        "id": "DHEcegUuwdRg",
        "outputId": "274b203d-1bf3-401b-d187-887cc19a9aea"
      },
      "execution_count": 4,
      "outputs": [
        {
          "output_type": "execute_result",
          "data": {
            "text/plain": [
              "(17880, 18)"
            ]
          },
          "metadata": {},
          "execution_count": 4
        }
      ]
    },
    {
      "cell_type": "code",
      "source": [
        "dataset.info()"
      ],
      "metadata": {
        "colab": {
          "base_uri": "https://localhost:8080/"
        },
        "id": "5bgg72oBcxg6",
        "outputId": "5888bbce-c0ab-4a10-d4fe-20b72fc3bc81"
      },
      "execution_count": 5,
      "outputs": [
        {
          "output_type": "stream",
          "name": "stdout",
          "text": [
            "<class 'pandas.core.frame.DataFrame'>\n",
            "RangeIndex: 17880 entries, 0 to 17879\n",
            "Data columns (total 18 columns):\n",
            " #   Column               Non-Null Count  Dtype \n",
            "---  ------               --------------  ----- \n",
            " 0   job_id               17880 non-null  int64 \n",
            " 1   title                17880 non-null  object\n",
            " 2   location             17534 non-null  object\n",
            " 3   department           6333 non-null   object\n",
            " 4   salary_range         2868 non-null   object\n",
            " 5   company_profile      14572 non-null  object\n",
            " 6   description          17879 non-null  object\n",
            " 7   requirements         15185 non-null  object\n",
            " 8   benefits             10670 non-null  object\n",
            " 9   telecommuting        17880 non-null  int64 \n",
            " 10  has_company_logo     17880 non-null  int64 \n",
            " 11  has_questions        17880 non-null  int64 \n",
            " 12  employment_type      14409 non-null  object\n",
            " 13  required_experience  10830 non-null  object\n",
            " 14  required_education   9775 non-null   object\n",
            " 15  industry             12977 non-null  object\n",
            " 16  function             11425 non-null  object\n",
            " 17  fraudulent           17880 non-null  int64 \n",
            "dtypes: int64(5), object(13)\n",
            "memory usage: 2.5+ MB\n"
          ]
        }
      ]
    },
    {
      "cell_type": "code",
      "source": [
        "dataset.isna().sum()"
      ],
      "metadata": {
        "colab": {
          "base_uri": "https://localhost:8080/"
        },
        "id": "5MNu7Z9Vcxi-",
        "outputId": "88f3e4d0-c549-49c9-ae81-24ca7783f110"
      },
      "execution_count": 6,
      "outputs": [
        {
          "output_type": "execute_result",
          "data": {
            "text/plain": [
              "job_id                     0\n",
              "title                      0\n",
              "location                 346\n",
              "department             11547\n",
              "salary_range           15012\n",
              "company_profile         3308\n",
              "description                1\n",
              "requirements            2695\n",
              "benefits                7210\n",
              "telecommuting              0\n",
              "has_company_logo           0\n",
              "has_questions              0\n",
              "employment_type         3471\n",
              "required_experience     7050\n",
              "required_education      8105\n",
              "industry                4903\n",
              "function                6455\n",
              "fraudulent                 0\n",
              "dtype: int64"
            ]
          },
          "metadata": {},
          "execution_count": 6
        }
      ]
    },
    {
      "cell_type": "code",
      "source": [
        "dataset.isna().sum() / dataset.shape[0]"
      ],
      "metadata": {
        "colab": {
          "base_uri": "https://localhost:8080/"
        },
        "id": "Kk_ab5rReX6U",
        "outputId": "ecbcb264-bda7-45c0-cce6-12762a699a1b"
      },
      "execution_count": 7,
      "outputs": [
        {
          "output_type": "execute_result",
          "data": {
            "text/plain": [
              "job_id                 0.000000\n",
              "title                  0.000000\n",
              "location               0.019351\n",
              "department             0.645805\n",
              "salary_range           0.839597\n",
              "company_profile        0.185011\n",
              "description            0.000056\n",
              "requirements           0.150727\n",
              "benefits               0.403244\n",
              "telecommuting          0.000000\n",
              "has_company_logo       0.000000\n",
              "has_questions          0.000000\n",
              "employment_type        0.194128\n",
              "required_experience    0.394295\n",
              "required_education     0.453300\n",
              "industry               0.274217\n",
              "function               0.361018\n",
              "fraudulent             0.000000\n",
              "dtype: float64"
            ]
          },
          "metadata": {},
          "execution_count": 7
        }
      ]
    },
    {
      "cell_type": "code",
      "source": [
        "dataset.duplicated().sum()"
      ],
      "metadata": {
        "colab": {
          "base_uri": "https://localhost:8080/"
        },
        "id": "C2G7wEzjeOYE",
        "outputId": "68eb12bd-d69f-4c0c-f162-8a7787d2d621"
      },
      "execution_count": 8,
      "outputs": [
        {
          "output_type": "execute_result",
          "data": {
            "text/plain": [
              "0"
            ]
          },
          "metadata": {},
          "execution_count": 8
        }
      ]
    },
    {
      "cell_type": "markdown",
      "source": [
        "#### new feature1: missing_value_rate"
      ],
      "metadata": {
        "id": "LXgikF_sfxpf"
      }
    },
    {
      "cell_type": "code",
      "source": [
        "# new feature: calculate missing value rate\n",
        "dataset['missing_value_rate'] = (dataset.isnull().sum(axis=1) / (len(dataset.columns)-1)).round(2)"
      ],
      "metadata": {
        "id": "DI-c1ntocxlV"
      },
      "execution_count": 9,
      "outputs": []
    },
    {
      "cell_type": "code",
      "source": [
        "dataset.groupby('fraudulent')['missing_value_rate'].mean()"
      ],
      "metadata": {
        "colab": {
          "base_uri": "https://localhost:8080/"
        },
        "id": "Hm2q1SDAc7lz",
        "outputId": "f26695cd-7ade-41e1-d4e3-1e47e08f3252"
      },
      "execution_count": 10,
      "outputs": [
        {
          "output_type": "execute_result",
          "data": {
            "text/plain": [
              "fraudulent\n",
              "0    0.229606\n",
              "1    0.274584\n",
              "Name: missing_value_rate, dtype: float64"
            ]
          },
          "metadata": {},
          "execution_count": 10
        }
      ]
    },
    {
      "cell_type": "markdown",
      "source": [
        "## 2. EDA"
      ],
      "metadata": {
        "id": "Da70UdjAeFBW"
      }
    },
    {
      "cell_type": "markdown",
      "source": [
        "- wordcut: title,department,salary_range,industry,function,company_profile,description,requirements,benefits,location"
      ],
      "metadata": {
        "id": "jsvXSK0y1_NT"
      }
    },
    {
      "cell_type": "markdown",
      "source": [
        "### 2.1 Distribution of variables"
      ],
      "metadata": {
        "id": "qLWuj7z2wn14"
      }
    },
    {
      "cell_type": "code",
      "source": [
        "#fraudulent\n",
        "dataset.fraudulent.value_counts().plot(kind=\"bar\")"
      ],
      "metadata": {
        "colab": {
          "base_uri": "https://localhost:8080/",
          "height": 443
        },
        "id": "m9ynqRAVxQ9o",
        "outputId": "9092a3e8-f2df-4d95-87a5-e879c637a318"
      },
      "execution_count": null,
      "outputs": [
        {
          "output_type": "execute_result",
          "data": {
            "text/plain": [
              "<Axes: >"
            ]
          },
          "metadata": {},
          "execution_count": 19
        },
        {
          "output_type": "display_data",
          "data": {
            "text/plain": [
              "<Figure size 640x480 with 1 Axes>"
            ],
            "image/png": "[encoded data removed]"
          },
          "metadata": {}
        }
      ]
    },
    {
      "cell_type": "code",
      "source": [
        "dataset.fraudulent.value_counts(1)"
      ],
      "metadata": {
        "colab": {
          "base_uri": "https://localhost:8080/"
        },
        "id": "lLxcBHd2xbfP",
        "outputId": "844e1a65-9520-415a-8719-ec858feffe6d"
      },
      "execution_count": null,
      "outputs": [
        {
          "output_type": "execute_result",
          "data": {
            "text/plain": [
              "0    0.951566\n",
              "1    0.048434\n",
              "Name: fraudulent, dtype: float64"
            ]
          },
          "metadata": {},
          "execution_count": 20
        }
      ]
    },
    {
      "cell_type": "code",
      "source": [
        "dataset.title.str.strip().value_counts()"
      ],
      "metadata": {
        "colab": {
          "base_uri": "https://localhost:8080/"
        },
        "id": "7pG3yre8xfyi",
        "outputId": "f769445d-6999-4050-8819-1987b5fe2aee"
      },
      "execution_count": null,
      "outputs": [
        {
          "output_type": "execute_result",
          "data": {
            "text/plain": [
              "English Teacher Abroad                                         406\n",
              "Customer Service Associate                                     198\n",
              "Graduates: English Teacher Abroad (Conversational)             144\n",
              "Customer Service Associate - Part Time                          91\n",
              "Software Engineer                                               90\n",
              "                                                              ... \n",
              "Sales Executive - Office Equipment                               1\n",
              "QA/QC Leader - Cured Meats Co - Chicagoland                      1\n",
              "Application Developer/SQL Server                                 1\n",
              "Training Assistant                                               1\n",
              "Project Cost Control Staff Engineer - Cost Control Exp - TX      1\n",
              "Name: title, Length: 10915, dtype: int64"
            ]
          },
          "metadata": {},
          "execution_count": 86
        }
      ]
    },
    {
      "cell_type": "code",
      "source": [
        "dataset['title'] = dataset['title'].str.strip()"
      ],
      "metadata": {
        "id": "XTMKn5gy_W5b"
      },
      "execution_count": null,
      "outputs": []
    },
    {
      "cell_type": "code",
      "source": [
        "#location\n",
        "dataset.location.value_counts()"
      ],
      "metadata": {
        "colab": {
          "base_uri": "https://localhost:8080/"
        },
        "id": "nSn07g0l0XXS",
        "outputId": "bd76f451-ea24-45dc-f6a7-ee735f3a4f13"
      },
      "execution_count": null,
      "outputs": [
        {
          "output_type": "execute_result",
          "data": {
            "text/plain": [
              "GB, LND, London          718\n",
              "US, NY, New York         658\n",
              "US, CA, San Francisco    472\n",
              "GR, I, Athens            464\n",
              "US, ,                    339\n",
              "                        ... \n",
              "GB, SFK, Leiston           1\n",
              "GB, LND, Hammersmith       1\n",
              "US, WA, Seattle            1\n",
              "BE                         1\n",
              "GB, WSX, Chichester        1\n",
              "Name: location, Length: 3105, dtype: int64"
            ]
          },
          "metadata": {},
          "execution_count": 87
        }
      ]
    },
    {
      "cell_type": "markdown",
      "source": [
        "#### new feature2: location_country/_state"
      ],
      "metadata": {
        "id": "TnqhiVJufr7Q"
      }
    },
    {
      "cell_type": "code",
      "source": [
        "# transform to lowercase\n",
        "dataset['location'] = dataset['location'].str.lower()\n",
        "# strip whitespace in the end\n",
        "dataset['location'] = dataset['location'].str.strip(', ')"
      ],
      "metadata": {
        "id": "kFPVIrAWPTaT"
      },
      "execution_count": 11,
      "outputs": []
    },
    {
      "cell_type": "code",
      "source": [
        "# clean the format of locations\n",
        "dataset['location'] = dataset['location'].str.replace('tel-aviv', 'tel aviv')\n",
        "dataset['location'] = dataset['location'].str.replace('california','ca')\n",
        "dataset['location'] = dataset['location'].str.replace('uk','gb')\n",
        "dataset['location'] = dataset['location'].str.replace('israel','il')\n",
        "dataset['location'] = dataset['location'].str.replace('greece','gr')\n",
        "dataset['location'] = dataset['location'].str.replace('washington, dc','dc')\n",
        "dataset['location'] = dataset['location'].str.replace('washington','dc')\n",
        "dataset['location'] = dataset['location'].str.replace('washington, d.c.','dc')\n",
        "dataset['location'] = dataset['location'].str.replace('d.c.','dc')\n",
        "dataset['location'] = dataset['location'].str.replace('london','lnd')\n",
        "dataset['location'] = dataset['location'].str.replace('lon','lnd')\n",
        "dataset['location'] = dataset['location'].str.replace('liverpool','liv')\n",
        "dataset['location'] = dataset['location'].str.replace('aberdeen','abe')\n",
        "dataset['location'] = dataset['location'].str.replace('wakefield','wkf')\n",
        "dataset['location'] = dataset['location'].str.replace('san francisco','sfo')\n",
        "dataset['location'] = dataset['location'].str.replace('hertzelia','herzliya')\n",
        "dataset['location'] = dataset['location'].str.replace('tel aviv','ta')\n",
        "dataset['location'] = dataset['location'].str.replace('tel','ta')\n",
        "# remove extra words\n",
        "dataset['location'] = dataset['location'].str.replace(r'(?<=us,)(.*?)(us)', r'\\1').str.strip(', ')\n",
        "dataset['location'] = dataset['location'].str.replace(r'(?<=ca,)(.*?)(ca)', r'\\1').str.strip(', ')\n",
        "dataset['location'] = dataset['location'].str.replace(r'(?<=ga,)(.*?)(ga)', r'\\1').str.strip(', ')\n",
        "dataset['location'] = dataset['location'].str.replace(r'(?<=gb,)(.*?)(gb)', r'\\1').str.strip(', ')\n",
        "dataset['location'] = dataset['location'].str.replace(r'(?<=gr,)(.*?)(gr)', r'\\1').str.strip(', ')\n",
        "dataset['location'] = dataset['location'].str.replace(r'(?<=nc,)(.*?)(nc)', r'\\1').str.strip(', ')\n",
        "dataset['location'] = dataset['location'].str.replace(r'(?<=ny,)(.*?)(ny)', r'\\1').str.strip(', ')\n",
        "dataset['location'] = dataset['location'].str.replace(r'(?<=co,)(.*?)(co)', r'\\1').str.strip(', ')\n",
        "dataset['location'] = dataset['location'].str.replace(r'(?<=dc,)(.*?)(dc)', r'\\1').str.strip(', ')\n",
        "dataset['location'] = dataset['location'].str.replace(r'(?<=fl,)(.*?)(fl)', r'\\1').str.strip(', ')\n",
        "dataset['location'] = dataset['location'].str.replace(r'(?<=il,)(.*?)(il)', r'\\1').str.strip(', ')\n",
        "dataset['location'] = dataset['location'].str.replace(r'(?<=nj,)(.*?)(nj)', r'\\1').str.strip(', ')\n",
        "dataset['location'] = dataset['location'].str.replace(r'(?<=wkf,)(.*?)(wkf)', r'\\1').str.strip(', ')\n",
        "dataset['location'] = dataset['location'].str.replace(r'(?<=lnd,)(.*?)(lnd)', r'\\1').str.strip(', ')\n",
        "dataset['location'] = dataset['location'].str.replace(r'(?<=liv,)(.*?)(liv)', r'\\1').str.strip(', ')\n",
        "dataset['location'] = dataset['location'].str.replace(r'(?<=abe,)(.*?)(abe)', r'\\1').str.strip(', ')\n",
        "dataset['location'] = dataset['location'].str.replace(r'(?<=sfo,)(.*?)(sfo)', r'\\1').str.strip(', ')"
      ],
      "metadata": {
        "id": "DgAZs7q7o2E_"
      },
      "execution_count": 12,
      "outputs": []
    },
    {
      "cell_type": "code",
      "source": [
        "# clean the state/county info of locations\n",
        "dataset.loc[dataset['location'] == 'us, , stocton, ca', 'location'] = 'us, ca, stocton'\n",
        "dataset.loc[dataset['location'] == 'us, , irvine, ca', 'location'] = 'us, ca, irvine'\n",
        "dataset.loc[dataset['location'] == 'ca, , rio rancho, nm', 'location'] = 'us, nm, rio rancho'\n",
        "dataset.loc[dataset['location'] == 'gb, , grange moore, wkf', 'location'] = 'gb, wkf, grange moore'\n",
        "dataset.loc[dataset['location'] == 'us, , portsmouth, nh', 'location'] = 'us, nh, portsmouth'\n",
        "dataset.loc[dataset['location'] == 'us, , brooklyn, ny', 'location'] = 'us, ny, brooklyn'\n",
        "dataset.loc[dataset['location'] == 'gb, , see the requirements section for areas and locations available', 'location'] = 'gb'\n",
        "dataset.loc[dataset['location'] == 'il, , ta', 'location'] = 'il, ta, ta'\n",
        "dataset.loc[dataset['location'] == 'il, m, ta', 'location'] = 'il, ta, ta'\n",
        "dataset.loc[dataset['location'] == 'il, , herzliya', 'location'] = 'il, ta, herzliya'\n",
        "dataset.loc[dataset['location'] == 'il, m, herzliya', 'location'] = 'il, ta, herzliya'"
      ],
      "metadata": {
        "id": "d221uiYC5vP1"
      },
      "execution_count": 13,
      "outputs": []
    },
    {
      "cell_type": "code",
      "source": [
        "# extract country and state\n",
        "dataset['location_country'] = dataset['location'].str.split(',').str[0]\n",
        "dataset['location_state'] = dataset['location'].str.split(',').str[1].str.strip()\n",
        "dataset['location_state'] = dataset['location_state'].str.replace(r'[^0-9a-zA-Z]+', ' ', regex=True).str.strip()\n",
        "dataset['location_state'] = dataset['location_state'].str.replace(r'\\s+', ' ', regex=True)"
      ],
      "metadata": {
        "id": "RJ-P1JGC5v6q"
      },
      "execution_count": 14,
      "outputs": []
    },
    {
      "cell_type": "code",
      "source": [
        "dataset['location_country'].value_counts()"
      ],
      "metadata": {
        "colab": {
          "base_uri": "https://localhost:8080/"
        },
        "id": "UCYAcgZ-AZk6",
        "outputId": "165b5f28-79ca-4958-8bc7-e49c96ec6985"
      },
      "execution_count": 15,
      "outputs": [
        {
          "output_type": "execute_result",
          "data": {
            "text/plain": [
              "us    10657\n",
              "gb     2384\n",
              "gr      940\n",
              "ca      456\n",
              "de      383\n",
              "      ...  \n",
              "si        1\n",
              "pe        1\n",
              "sd        1\n",
              "ug        1\n",
              "kh        1\n",
              "Name: location_country, Length: 90, dtype: int64"
            ]
          },
          "metadata": {},
          "execution_count": 15
        }
      ]
    },
    {
      "cell_type": "code",
      "source": [
        "dataset['location_state'].value_counts()"
      ],
      "metadata": {
        "colab": {
          "base_uri": "https://localhost:8080/"
        },
        "id": "cT2EyPBuAiJx",
        "outputId": "5865a18e-4781-40d6-bed1-c83d181a2592"
      },
      "execution_count": 16,
      "outputs": [
        {
          "output_type": "execute_result",
          "data": {
            "text/plain": [
              "ca     2054\n",
              "ny     1260\n",
              "       1166\n",
              "lnd     992\n",
              "tx      975\n",
              "       ... \n",
              "enf       1\n",
              "d         1\n",
              "061       1\n",
              "82        1\n",
              "nle       1\n",
              "Name: location_state, Length: 322, dtype: int64"
            ]
          },
          "metadata": {},
          "execution_count": 16
        }
      ]
    },
    {
      "cell_type": "code",
      "source": [
        "# location may contain multiple cities\n",
        "# dataset['location_len'] = dataset['location'].fillna('').str.split(',').apply(len)"
      ],
      "metadata": {
        "id": "YIcu2FJkmF4m"
      },
      "execution_count": null,
      "outputs": []
    },
    {
      "cell_type": "code",
      "source": [
        "dataset.isna().sum() / dataset.shape[0]"
      ],
      "metadata": {
        "colab": {
          "base_uri": "https://localhost:8080/"
        },
        "id": "KV2PQznfA_gJ",
        "outputId": "11957d8a-5c0a-4312-8a29-b6e0b2d58582"
      },
      "execution_count": 17,
      "outputs": [
        {
          "output_type": "execute_result",
          "data": {
            "text/plain": [
              "job_id                 0.000000\n",
              "title                  0.000000\n",
              "location               0.019351\n",
              "department             0.645805\n",
              "salary_range           0.839597\n",
              "company_profile        0.185011\n",
              "description            0.000056\n",
              "requirements           0.150727\n",
              "benefits               0.403244\n",
              "telecommuting          0.000000\n",
              "has_company_logo       0.000000\n",
              "has_questions          0.000000\n",
              "employment_type        0.194128\n",
              "required_experience    0.394295\n",
              "required_education     0.453300\n",
              "industry               0.274217\n",
              "function               0.361018\n",
              "fraudulent             0.000000\n",
              "missing_value_rate     0.000000\n",
              "location_country       0.019351\n",
              "location_state         0.077405\n",
              "dtype: float64"
            ]
          },
          "metadata": {},
          "execution_count": 17
        }
      ]
    },
    {
      "cell_type": "code",
      "source": [
        "#len(dataset[dataset['location_state']==''])\n",
        "#1166"
      ],
      "metadata": {
        "id": "OqFLutvIA6iQ"
      },
      "execution_count": null,
      "outputs": []
    },
    {
      "cell_type": "code",
      "source": [
        "#department\n",
        "dataset.department.value_counts()"
      ],
      "metadata": {
        "colab": {
          "base_uri": "https://localhost:8080/"
        },
        "id": "w7WePVx6w3Ve",
        "outputId": "0a7d41ac-e793-44af-8efb-1b0552dc74d4"
      },
      "execution_count": null,
      "outputs": [
        {
          "output_type": "execute_result",
          "data": {
            "text/plain": [
              "Sales                                          551\n",
              "Engineering                                    487\n",
              "Marketing                                      401\n",
              "Operations                                     270\n",
              "IT                                             225\n",
              "                                              ... \n",
              "Commercial Management / Contract Management      1\n",
              "Exec                                             1\n",
              "Marcomm                                          1\n",
              "CRM                                              1\n",
              "Hospitality                                      1\n",
              "Name: department, Length: 1337, dtype: int64"
            ]
          },
          "metadata": {},
          "execution_count": 104
        }
      ]
    },
    {
      "cell_type": "code",
      "source": [
        "#salary_range, 0-0 is the most common one\n",
        "dataset.salary_range.value_counts()"
      ],
      "metadata": {
        "colab": {
          "base_uri": "https://localhost:8080/"
        },
        "id": "UPtuiCLMw3YU",
        "outputId": "2f025b7b-ed12-4ccc-b38a-4b19d6072956"
      },
      "execution_count": 18,
      "outputs": [
        {
          "output_type": "execute_result",
          "data": {
            "text/plain": [
              "0-0            142\n",
              "40000-50000     66\n",
              "30000-40000     55\n",
              "25000-30000     37\n",
              "45000-67000     37\n",
              "              ... \n",
              "15-25            1\n",
              "60-75            1\n",
              "27500-36000      1\n",
              "20-22            1\n",
              "3700-3800        1\n",
              "Name: salary_range, Length: 874, dtype: int64"
            ]
          },
          "metadata": {},
          "execution_count": 18
        }
      ]
    },
    {
      "cell_type": "code",
      "source": [
        "#company_profile\n",
        "dataset.company_profile.head(10)"
      ],
      "metadata": {
        "colab": {
          "base_uri": "https://localhost:8080/"
        },
        "id": "ZyHqYWOX1zGp",
        "outputId": "7bf55780-94ec-4cbb-aa4e-264616887094"
      },
      "execution_count": null,
      "outputs": [
        {
          "output_type": "execute_result",
          "data": {
            "text/plain": [
              "0    We're Food52, and we've created a groundbreaki...\n",
              "1    90 Seconds, the worlds Cloud Video Production ...\n",
              "2    Valor Services provides Workforce Solutions th...\n",
              "3    Our passion for improving quality of life thro...\n",
              "4    SpotSource Solutions LLC is a Global Human Cap...\n",
              "5                                                  NaN\n",
              "6    Founded in 2009, the Fonpit AG rose with its i...\n",
              "7    Airenvy’s mission is to provide lucrative yet ...\n",
              "8    Solutions3 is a woman-owned small business who...\n",
              "9    Novitex Enterprise Solutions, formerly Pitney ...\n",
              "Name: company_profile, dtype: object"
            ]
          },
          "metadata": {},
          "execution_count": 32
        }
      ]
    },
    {
      "cell_type": "code",
      "source": [
        "#description\n",
        "dataset.description.head(10)"
      ],
      "metadata": {
        "colab": {
          "base_uri": "https://localhost:8080/"
        },
        "id": "nc5ZNhmgw3du",
        "outputId": "cad60cd7-15de-4f1a-a2ae-6e016b35f624"
      },
      "execution_count": null,
      "outputs": [
        {
          "output_type": "execute_result",
          "data": {
            "text/plain": [
              "0    Food52, a fast-growing, James Beard Award-winn...\n",
              "1    Organised - Focused - Vibrant - Awesome!Do you...\n",
              "2    Our client, located in Houston, is actively se...\n",
              "3    THE COMPANY: ESRI – Environmental Systems Rese...\n",
              "4    JOB TITLE: Itemization Review ManagerLOCATION:...\n",
              "5    Job OverviewApex is an environmental consultin...\n",
              "6    Your Responsibilities: Manage the English-spea...\n",
              "7    Who is Airenvy?Hey there! We are seasoned entr...\n",
              "8    Implementation/Configuration/Testing/Training ...\n",
              "9    The Customer Service Associate will be based i...\n",
              "Name: description, dtype: object"
            ]
          },
          "metadata": {},
          "execution_count": 30
        }
      ]
    },
    {
      "cell_type": "code",
      "source": [
        "#requirements\n",
        "dataset.requirements.head(10)"
      ],
      "metadata": {
        "colab": {
          "base_uri": "https://localhost:8080/"
        },
        "id": "_zuhY122w3gE",
        "outputId": "4e2f1a8c-1dca-43ca-824c-bd7a759aa519"
      },
      "execution_count": null,
      "outputs": [
        {
          "output_type": "execute_result",
          "data": {
            "text/plain": [
              "0    Experience with content management systems a m...\n",
              "1    What we expect from you:Your key responsibilit...\n",
              "2    Implement pre-commissioning and commissioning ...\n",
              "3    EDUCATION: Bachelor’s or Master’s in GIS, busi...\n",
              "4    QUALIFICATIONS:RN license in the State of Texa...\n",
              "5                                                  NaN\n",
              "6    Your Know-How:                                ...\n",
              "7    Experience with CRM software, live chat, and p...\n",
              "8    MUST BE A US CITIZEN.An active TS/SCI clearanc...\n",
              "9    Minimum Requirements:Minimum of 6 months custo...\n",
              "Name: requirements, dtype: object"
            ]
          },
          "metadata": {},
          "execution_count": 33
        }
      ]
    },
    {
      "cell_type": "code",
      "source": [
        "#benefits\n",
        "dataset.benefits.head(10)"
      ],
      "metadata": {
        "colab": {
          "base_uri": "https://localhost:8080/"
        },
        "id": "nt5ofEKIw3iO",
        "outputId": "35735cb3-542e-4d0e-e910-3362b8bb5fb5"
      },
      "execution_count": null,
      "outputs": [
        {
          "output_type": "execute_result",
          "data": {
            "text/plain": [
              "0                                                  NaN\n",
              "1    What you will get from usThrough being part of...\n",
              "2                                                  NaN\n",
              "3    Our culture is anything but corporate—we have ...\n",
              "4                                Full Benefits Offered\n",
              "5                                                  NaN\n",
              "6    Your Benefits: Being part of a fast-growing co...\n",
              "7    Competitive Pay. You'll be able to eat steak e...\n",
              "8                                                  NaN\n",
              "9                                                  NaN\n",
              "Name: benefits, dtype: object"
            ]
          },
          "metadata": {},
          "execution_count": 34
        }
      ]
    },
    {
      "cell_type": "code",
      "source": [
        "#telecommuting, 0 for remote working\n",
        "dataset.telecommuting.value_counts()"
      ],
      "metadata": {
        "colab": {
          "base_uri": "https://localhost:8080/"
        },
        "id": "6BOiM3Gjw3sP",
        "outputId": "83c4bc4f-cabc-45bd-d46a-985a6420adfa"
      },
      "execution_count": null,
      "outputs": [
        {
          "output_type": "execute_result",
          "data": {
            "text/plain": [
              "0    17113\n",
              "1      767\n",
              "Name: telecommuting, dtype: int64"
            ]
          },
          "metadata": {},
          "execution_count": 117
        }
      ]
    },
    {
      "cell_type": "code",
      "source": [
        "#has_company_logo\n",
        "dataset.has_company_logo.value_counts()"
      ],
      "metadata": {
        "colab": {
          "base_uri": "https://localhost:8080/"
        },
        "id": "fgTu1s9qw3ut",
        "outputId": "f62d5272-5cfd-46b6-8914-3f198a5f8075"
      },
      "execution_count": null,
      "outputs": [
        {
          "output_type": "execute_result",
          "data": {
            "text/plain": [
              "1    14220\n",
              "0     3660\n",
              "Name: has_company_logo, dtype: int64"
            ]
          },
          "metadata": {},
          "execution_count": 118
        }
      ]
    },
    {
      "cell_type": "code",
      "source": [
        "#has_questions\n",
        "dataset.has_questions.value_counts()"
      ],
      "metadata": {
        "colab": {
          "base_uri": "https://localhost:8080/"
        },
        "id": "0h_mD4W4w3wl",
        "outputId": "f7a81772-b167-4b33-81a2-decadf7c49c4"
      },
      "execution_count": null,
      "outputs": [
        {
          "output_type": "execute_result",
          "data": {
            "text/plain": [
              "0    9088\n",
              "1    8792\n",
              "Name: has_questions, dtype: int64"
            ]
          },
          "metadata": {},
          "execution_count": 119
        }
      ]
    },
    {
      "cell_type": "code",
      "source": [
        "#employment_type\n",
        "dataset.employment_type.value_counts()"
      ],
      "metadata": {
        "colab": {
          "base_uri": "https://localhost:8080/"
        },
        "id": "TNHj57c5xGg8",
        "outputId": "fe73fdd2-0e2f-4e21-b0a1-d96d4a098ac7"
      },
      "execution_count": null,
      "outputs": [
        {
          "output_type": "execute_result",
          "data": {
            "text/plain": [
              "Full-time    11620\n",
              "Contract      1524\n",
              "Part-time      797\n",
              "Temporary      241\n",
              "Other          227\n",
              "Name: employment_type, dtype: int64"
            ]
          },
          "metadata": {},
          "execution_count": 120
        }
      ]
    },
    {
      "cell_type": "code",
      "source": [
        "#required_experience\n",
        "dataset.required_experience.value_counts()"
      ],
      "metadata": {
        "colab": {
          "base_uri": "https://localhost:8080/"
        },
        "id": "7Vd03jUwxGjS",
        "outputId": "08a3dac0-9dc8-47e4-9a4a-7b8120b5b447"
      },
      "execution_count": null,
      "outputs": [
        {
          "output_type": "execute_result",
          "data": {
            "text/plain": [
              "Mid-Senior level    3809\n",
              "Entry level         2697\n",
              "Associate           2297\n",
              "Not Applicable      1116\n",
              "Director             389\n",
              "Internship           381\n",
              "Executive            141\n",
              "Name: required_experience, dtype: int64"
            ]
          },
          "metadata": {},
          "execution_count": 121
        }
      ]
    },
    {
      "cell_type": "code",
      "source": [
        "#required_education\n",
        "dataset.required_education.value_counts()"
      ],
      "metadata": {
        "colab": {
          "base_uri": "https://localhost:8080/"
        },
        "id": "4g2TsQFZxGlk",
        "outputId": "8f9baaea-e9aa-4a84-a106-4a1184f3e391"
      },
      "execution_count": null,
      "outputs": [
        {
          "output_type": "execute_result",
          "data": {
            "text/plain": [
              "Bachelor's Degree                    5145\n",
              "High School or equivalent            2080\n",
              "Unspecified                          1397\n",
              "Master's Degree                       416\n",
              "Associate Degree                      274\n",
              "Certification                         170\n",
              "Some College Coursework Completed     102\n",
              "Professional                           74\n",
              "Vocational                             49\n",
              "Some High School Coursework            27\n",
              "Doctorate                              26\n",
              "Vocational - HS Diploma                 9\n",
              "Vocational - Degree                     6\n",
              "Name: required_education, dtype: int64"
            ]
          },
          "metadata": {},
          "execution_count": 122
        }
      ]
    },
    {
      "cell_type": "code",
      "source": [
        "#industry\n",
        "dataset.industry.value_counts()"
      ],
      "metadata": {
        "colab": {
          "base_uri": "https://localhost:8080/"
        },
        "id": "bBexNkRRxGn4",
        "outputId": "b2b93b92-8468-4555-bdac-7dfd644b3051"
      },
      "execution_count": null,
      "outputs": [
        {
          "output_type": "execute_result",
          "data": {
            "text/plain": [
              "Information Technology and Services    1734\n",
              "Computer Software                      1376\n",
              "Internet                               1062\n",
              "Marketing and Advertising               828\n",
              "Education Management                    822\n",
              "                                       ... \n",
              "Shipbuilding                              1\n",
              "Sporting Goods                            1\n",
              "Museums and Institutions                  1\n",
              "Wine and Spirits                          1\n",
              "Ranching                                  1\n",
              "Name: industry, Length: 131, dtype: int64"
            ]
          },
          "metadata": {},
          "execution_count": 123
        }
      ]
    },
    {
      "cell_type": "code",
      "source": [
        "#function\n",
        "dataset.function.value_counts()"
      ],
      "metadata": {
        "colab": {
          "base_uri": "https://localhost:8080/"
        },
        "id": "QzEgk_8VxOVL",
        "outputId": "e9cf2368-185f-4e66-c25d-427e8ec2806c"
      },
      "execution_count": null,
      "outputs": [
        {
          "output_type": "execute_result",
          "data": {
            "text/plain": [
              "Information Technology    1749\n",
              "Sales                     1468\n",
              "Engineering               1348\n",
              "Customer Service          1229\n",
              "Marketing                  830\n",
              "Administrative             630\n",
              "Design                     340\n",
              "Health Care Provider       338\n",
              "Other                      325\n",
              "Education                  325\n",
              "Management                 317\n",
              "Business Development       228\n",
              "Accounting/Auditing        212\n",
              "Human Resources            205\n",
              "Project Management         183\n",
              "Finance                    172\n",
              "Consulting                 144\n",
              "Writing/Editing            132\n",
              "Art/Creative               132\n",
              "Production                 116\n",
              "Product Management         114\n",
              "Quality Assurance          111\n",
              "Advertising                 90\n",
              "Business Analyst            84\n",
              "Data Analyst                82\n",
              "Public Relations            76\n",
              "Manufacturing               74\n",
              "General Business            68\n",
              "Research                    50\n",
              "Legal                       47\n",
              "Strategy/Planning           46\n",
              "Training                    38\n",
              "Supply Chain                36\n",
              "Financial Analyst           33\n",
              "Distribution                24\n",
              "Purchasing                  15\n",
              "Science                     14\n",
              "Name: function, dtype: int64"
            ]
          },
          "metadata": {},
          "execution_count": 124
        }
      ]
    },
    {
      "cell_type": "markdown",
      "source": [
        "### 2.2 Relationship between features and classification target"
      ],
      "metadata": {
        "id": "Z1nC3rJKyw1x"
      }
    },
    {
      "cell_type": "code",
      "source": [
        "dataset[dataset['fraudulent']==1]['title'].value_counts()"
      ],
      "metadata": {
        "colab": {
          "base_uri": "https://localhost:8080/"
        },
        "id": "BcVcWwe-4X1L",
        "outputId": "c42fb892-3982-4584-ba5b-6b978742293c"
      },
      "execution_count": null,
      "outputs": [
        {
          "output_type": "execute_result",
          "data": {
            "text/plain": [
              "Data Entry Admin/Clerical Positions - Work From Home               21\n",
              "Home Based Payroll Typist/Data Entry Clerks Positions Available    21\n",
              "Cruise Staff Wanted *URGENT*                                       21\n",
              "Customer Service Representative                                    17\n",
              "Administrative Assistant                                           16\n",
              "                                                                   ..\n",
              "RN, SURGERY UNIT DIRECTOR                                           1\n",
              "Registered Nurse                                                    1\n",
              "Licensed Practical Nurse                                            1\n",
              "Professional Development Coordinator (Perioperative)                1\n",
              "Furniture mover                                                     1\n",
              "Name: title, Length: 560, dtype: int64"
            ]
          },
          "metadata": {},
          "execution_count": 125
        }
      ]
    },
    {
      "cell_type": "code",
      "source": [
        "len(dataset[dataset['title'].str.contains('URGENT', case=False, na=False)])"
      ],
      "metadata": {
        "colab": {
          "base_uri": "https://localhost:8080/"
        },
        "id": "kQFCWG0qeedS",
        "outputId": "ace72804-4914-48af-e26c-c038c34db628"
      },
      "execution_count": null,
      "outputs": [
        {
          "output_type": "execute_result",
          "data": {
            "text/plain": [
              "55"
            ]
          },
          "metadata": {},
          "execution_count": 128
        }
      ]
    },
    {
      "cell_type": "code",
      "source": [
        "len(dataset[dataset['title'].str.contains('URGENT', case=False, na=False) & (dataset['fraudulent'] == 1)])"
      ],
      "metadata": {
        "colab": {
          "base_uri": "https://localhost:8080/"
        },
        "id": "yb9MOnnxfIDv",
        "outputId": "7094fc1d-72f4-4f11-9bcf-990324265d1c"
      },
      "execution_count": null,
      "outputs": [
        {
          "output_type": "execute_result",
          "data": {
            "text/plain": [
              "37"
            ]
          },
          "metadata": {},
          "execution_count": 133
        }
      ]
    },
    {
      "cell_type": "code",
      "source": [
        "dataset['title'].str"
      ],
      "metadata": {
        "colab": {
          "base_uri": "https://localhost:8080/"
        },
        "id": "WvPpuvSDfl5M",
        "outputId": "3fa7aa06-2286-494e-ff6b-4c42ccb2a467"
      },
      "execution_count": null,
      "outputs": [
        {
          "output_type": "execute_result",
          "data": {
            "text/plain": [
              "<pandas.core.strings.accessor.StringMethods at 0x7b855e754220>"
            ]
          },
          "metadata": {},
          "execution_count": 139
        }
      ]
    },
    {
      "cell_type": "markdown",
      "source": [
        "#### new feature3: title_contain_urgent"
      ],
      "metadata": {
        "id": "6dL5obCwgAPj"
      }
    },
    {
      "cell_type": "code",
      "source": [
        "dataset['title_contain_urgent'] = dataset['title'].apply(lambda x: 1 if 'urgent' in x.lower() else 0)"
      ],
      "metadata": {
        "id": "5m8G3XoXgFwg"
      },
      "execution_count": 19,
      "outputs": []
    },
    {
      "cell_type": "code",
      "source": [
        "dataset[dataset['fraudulent']==0]['title'].value_counts()"
      ],
      "metadata": {
        "colab": {
          "base_uri": "https://localhost:8080/"
        },
        "id": "O5bZPaMr4c7u",
        "outputId": "2c108afb-124f-467d-a952-b776c4424678"
      },
      "execution_count": null,
      "outputs": [
        {
          "output_type": "execute_result",
          "data": {
            "text/plain": [
              "English Teacher Abroad                                         311\n",
              "Customer Service Associate                                     146\n",
              "Graduates: English Teacher Abroad (Conversational)             144\n",
              "English Teacher Abroad                                          95\n",
              "Software Engineer                                               86\n",
              "                                                              ... \n",
              "Developer Evangelist                                             1\n",
              "Siebel Integration Developer                                     1\n",
              "Front-end designer                                               1\n",
              "Teradata DBA                                                     1\n",
              "Project Cost Control Staff Engineer - Cost Control Exp - TX      1\n",
              "Name: title, Length: 10730, dtype: int64"
            ]
          },
          "metadata": {},
          "execution_count": 142
        }
      ]
    },
    {
      "cell_type": "code",
      "source": [],
      "metadata": {
        "id": "jGZxUFsl31zO"
      },
      "execution_count": null,
      "outputs": []
    },
    {
      "cell_type": "code",
      "source": [
        "#department\n",
        "dataset[dataset['fraudulent']==1]['department'].value_counts()"
      ],
      "metadata": {
        "colab": {
          "base_uri": "https://localhost:8080/"
        },
        "id": "oH95q0e5y54r",
        "outputId": "a709e8a3-0840-4c79-e73e-f30166fb9af3"
      },
      "execution_count": null,
      "outputs": [
        {
          "output_type": "execute_result",
          "data": {
            "text/plain": [
              "Engineering                                    46\n",
              "Clerical                                       27\n",
              "Oil & Energy                                   24\n",
              "Information Technology                         15\n",
              "Administrative                                 14\n",
              "                                               ..\n",
              "Administration                                  1\n",
              "Commercial Management / Contract Management     1\n",
              "Engineering - Construction                      1\n",
              "Recruiting                                      1\n",
              "Sales and Marketing                             1\n",
              "Name: department, Length: 103, dtype: int64"
            ]
          },
          "metadata": {},
          "execution_count": 143
        }
      ]
    },
    {
      "cell_type": "code",
      "source": [
        "dataset[dataset['fraudulent']==0]['department'].value_counts()"
      ],
      "metadata": {
        "colab": {
          "base_uri": "https://localhost:8080/"
        },
        "id": "5zanQvRx69Il",
        "outputId": "9fc7bbee-d21e-4701-c72a-c60e1f634b8d"
      },
      "execution_count": null,
      "outputs": [
        {
          "output_type": "execute_result",
          "data": {
            "text/plain": [
              "Sales                    539\n",
              "Engineering              441\n",
              "Marketing                399\n",
              "Operations               270\n",
              "IT                       224\n",
              "                        ... \n",
              "OTC                        1\n",
              "Administrator              1\n",
              "Disruptive Innovation      1\n",
              "Greetsnap Development      1\n",
              "Styling                    1\n",
              "Name: department, Length: 1269, dtype: int64"
            ]
          },
          "metadata": {},
          "execution_count": 144
        }
      ]
    },
    {
      "cell_type": "code",
      "source": [
        "#salary_range\n",
        "dataset[dataset['fraudulent']==1]['salary_range'].value_counts()"
      ],
      "metadata": {
        "colab": {
          "base_uri": "https://localhost:8080/"
        },
        "id": "rVDuayZ2y57C",
        "outputId": "30835f86-3bf0-4e70-a88d-f21511849c16"
      },
      "execution_count": null,
      "outputs": [
        {
          "output_type": "execute_result",
          "data": {
            "text/plain": [
              "7200-1380000       10\n",
              "30000-50000         8\n",
              "250000-500000       7\n",
              "28000-32000         6\n",
              "35000-40000         6\n",
              "                   ..\n",
              "0-2000              1\n",
              "34000-50000         1\n",
              "2000-2000           1\n",
              "6266624-8582080     1\n",
              "0-30000             1\n",
              "Name: salary_range, Length: 117, dtype: int64"
            ]
          },
          "metadata": {},
          "execution_count": 145
        }
      ]
    },
    {
      "cell_type": "code",
      "source": [
        "dataset[dataset['fraudulent']==0]['salary_range'].value_counts()"
      ],
      "metadata": {
        "colab": {
          "base_uri": "https://localhost:8080/"
        },
        "id": "yXyaItP89FvU",
        "outputId": "8dd9d50f-b125-41cb-9dde-2342dec78c04"
      },
      "execution_count": null,
      "outputs": [
        {
          "output_type": "execute_result",
          "data": {
            "text/plain": [
              "0-0              138\n",
              "40000-50000       65\n",
              "30000-40000       51\n",
              "45000-67000       37\n",
              "25000-30000       32\n",
              "                ... \n",
              "60-75              1\n",
              "300000-325000      1\n",
              "27500-36000        1\n",
              "20-22              1\n",
              "15500-16500        1\n",
              "Name: salary_range, Length: 828, dtype: int64"
            ]
          },
          "metadata": {},
          "execution_count": 146
        }
      ]
    },
    {
      "cell_type": "code",
      "source": [
        "#location\n",
        "dataset[dataset['fraudulent']==1]['location_country'].value_counts()"
      ],
      "metadata": {
        "colab": {
          "base_uri": "https://localhost:8080/"
        },
        "id": "g5YcnO2qC-SI",
        "outputId": "5779f92c-8bdd-4e8f-f5ff-86b5d6de670e"
      },
      "execution_count": null,
      "outputs": [
        {
          "output_type": "execute_result",
          "data": {
            "text/plain": [
              "US    730\n",
              "AU     40\n",
              "GB     23\n",
              "MY     12\n",
              "CA     12\n",
              "QA      6\n",
              "BH      5\n",
              "IN      4\n",
              "PL      3\n",
              "TW      2\n",
              "PK      1\n",
              "EG      1\n",
              "ID      1\n",
              "ZA      1\n",
              "EE      1\n",
              "AE      1\n",
              "PH      1\n",
              "SA      1\n",
              "BR      1\n",
              "ES      1\n",
              "Name: location_country, dtype: int64"
            ]
          },
          "metadata": {},
          "execution_count": 147
        }
      ]
    },
    {
      "cell_type": "code",
      "source": [
        "dataset[dataset['fraudulent']==0]['location_country'].value_counts()"
      ],
      "metadata": {
        "colab": {
          "base_uri": "https://localhost:8080/"
        },
        "id": "jYGEaJBcDEw8",
        "outputId": "527384af-5dc6-4d5c-d425-d05ba71fad37"
      },
      "execution_count": null,
      "outputs": [
        {
          "output_type": "execute_result",
          "data": {
            "text/plain": [
              "US    9926\n",
              "GB    2361\n",
              "GR     940\n",
              "CA     445\n",
              "DE     383\n",
              "      ... \n",
              "AL       1\n",
              "GH       1\n",
              "UG       1\n",
              "PE       1\n",
              "MA       1\n",
              "Name: location_country, Length: 90, dtype: int64"
            ]
          },
          "metadata": {},
          "execution_count": 148
        }
      ]
    },
    {
      "cell_type": "code",
      "source": [
        "dataset[dataset['fraudulent']==1]['location_state'].value_counts()"
      ],
      "metadata": {
        "colab": {
          "base_uri": "https://localhost:8080/"
        },
        "id": "XMUnY-sRDMeQ",
        "outputId": "c9c7a343-b569-4c0a-875a-9f7fc26fce9b"
      },
      "execution_count": null,
      "outputs": [
        {
          "output_type": "execute_result",
          "data": {
            "text/plain": [
              "tx     152\n",
              "ca     143\n",
              "ny      68\n",
              "        57\n",
              "md      35\n",
              "      ... \n",
              "vic      1\n",
              "ans      1\n",
              "wc       1\n",
              "arm      1\n",
              "lin      1\n",
              "Name: location_state, Length: 76, dtype: int64"
            ]
          },
          "metadata": {},
          "execution_count": 149
        }
      ]
    },
    {
      "cell_type": "code",
      "source": [
        "dataset[dataset['fraudulent']==0]['location_state'].value_counts()"
      ],
      "metadata": {
        "colab": {
          "base_uri": "https://localhost:8080/"
        },
        "id": "Ljk4WJ7-DMiB",
        "outputId": "ce46e462-6b8a-4f9c-cc84-399c23650b69"
      },
      "execution_count": null,
      "outputs": [
        {
          "output_type": "execute_result",
          "data": {
            "text/plain": [
              "       2083\n",
              "ca     1908\n",
              "ny     1191\n",
              "lnd     986\n",
              "tx      823\n",
              "       ... \n",
              "trf       1\n",
              "enf       1\n",
              "d         1\n",
              "061       1\n",
              "nle       1\n",
              "Name: location_state, Length: 322, dtype: int64"
            ]
          },
          "metadata": {},
          "execution_count": 150
        }
      ]
    },
    {
      "cell_type": "code",
      "source": [
        "dataset[dataset['fraudulent']==1]['location_city'].value_counts()"
      ],
      "metadata": {
        "colab": {
          "base_uri": "https://localhost:8080/"
        },
        "id": "ugSJokVHDMmM",
        "outputId": "b8f14d37-6a46-4a5c-bfe0-d4e2d9d0549c"
      },
      "execution_count": null,
      "outputs": [
        {
          "output_type": "execute_result",
          "data": {
            "text/plain": [
              "               129\n",
              "houston         94\n",
              "sydney          31\n",
              "bakersfield     30\n",
              "los angeles     30\n",
              "              ... \n",
              "ridgewood        1\n",
              "gaffney          1\n",
              "shawnee          1\n",
              "plano            1\n",
              "immingham        1\n",
              "Name: location_city, Length: 244, dtype: int64"
            ]
          },
          "metadata": {},
          "execution_count": 151
        }
      ]
    },
    {
      "cell_type": "code",
      "source": [
        "dataset[dataset['fraudulent']==0]['location_city'].value_counts()"
      ],
      "metadata": {
        "colab": {
          "base_uri": "https://localhost:8080/"
        },
        "id": "oIj2V-AODMou",
        "outputId": "a53e5e87-7481-4f39-b5c6-e231c47f0c46"
      },
      "execution_count": null,
      "outputs": [
        {
          "output_type": "execute_result",
          "data": {
            "text/plain": [
              "                    1505\n",
              "london              1102\n",
              "new york             681\n",
              "athens               560\n",
              "san francisco        483\n",
              "                    ... \n",
              "westport               1\n",
              "dhule                  1\n",
              "hunt valley            1\n",
              "germany                1\n",
              "berkeley heights       1\n",
              "Name: location_city, Length: 1913, dtype: int64"
            ]
          },
          "metadata": {},
          "execution_count": 152
        }
      ]
    },
    {
      "cell_type": "code",
      "source": [
        "#company_profile\n",
        "# if company_profile is null, more likely to be fraudulent\n",
        "dataset[dataset['company_profile'].isna()]['fraudulent'].mean()"
      ],
      "metadata": {
        "colab": {
          "base_uri": "https://localhost:8080/"
        },
        "id": "GDnLChM4MMfM",
        "outputId": "8773f73d-f205-47d3-96f9-a773f8eb18cd"
      },
      "execution_count": null,
      "outputs": [
        {
          "output_type": "execute_result",
          "data": {
            "text/plain": [
              "0.17744860943168078"
            ]
          },
          "metadata": {},
          "execution_count": 160
        }
      ]
    },
    {
      "cell_type": "code",
      "source": [
        "dataset[~dataset['company_profile'].isna()]['fraudulent'].mean()"
      ],
      "metadata": {
        "colab": {
          "base_uri": "https://localhost:8080/"
        },
        "id": "AASHoGPcR1PD",
        "outputId": "bbd0ac8c-b890-4ce6-9b96-447c1d5d1f8d"
      },
      "execution_count": null,
      "outputs": [
        {
          "output_type": "execute_result",
          "data": {
            "text/plain": [
              "0.01914630798792204"
            ]
          },
          "metadata": {},
          "execution_count": 161
        }
      ]
    },
    {
      "cell_type": "markdown",
      "source": [
        "#### new feature4: company_profile_isna"
      ],
      "metadata": {
        "id": "WA4r9Tu9l-qS"
      }
    },
    {
      "cell_type": "code",
      "source": [
        "dataset['company_profile_isna'] = dataset['company_profile'].isna().replace({True: 1, False: 0})"
      ],
      "metadata": {
        "id": "Jh3PQ-VCSKkq"
      },
      "execution_count": 20,
      "outputs": []
    },
    {
      "cell_type": "code",
      "source": [
        "#description"
      ],
      "metadata": {
        "id": "NueTKHfvy5_i"
      },
      "execution_count": null,
      "outputs": []
    },
    {
      "cell_type": "code",
      "source": [
        "#requirements"
      ],
      "metadata": {
        "id": "ZUcbMnILy6Bp"
      },
      "execution_count": null,
      "outputs": []
    },
    {
      "cell_type": "code",
      "source": [
        "#benefits"
      ],
      "metadata": {
        "id": "aXfzzyxDy6Dx"
      },
      "execution_count": null,
      "outputs": []
    },
    {
      "cell_type": "code",
      "source": [
        "#telecommuting\n",
        "telecommuting_fraud = dataset.groupby('telecommuting')['fraudulent'].mean()\n",
        "fig, ax = plt.subplots(1, 1, figsize=(6,4))\n",
        "sns.barplot(x=telecommuting_fraud.index, y=telecommuting_fraud.values, ax=ax)"
      ],
      "metadata": {
        "colab": {
          "base_uri": "https://localhost:8080/",
          "height": 406
        },
        "id": "ZJRSCdspy6GE",
        "outputId": "eb1c45d6-18e4-4466-9ce2-78a9d50b4d6c"
      },
      "execution_count": null,
      "outputs": [
        {
          "output_type": "execute_result",
          "data": {
            "text/plain": [
              "<Axes: xlabel='telecommuting'>"
            ]
          },
          "metadata": {},
          "execution_count": 153
        },
        {
          "output_type": "display_data",
          "data": {
            "text/plain": [
              "<Figure size 600x400 with 1 Axes>"
            ],
            "image/png": "[encoded data removed]"
          },
          "metadata": {}
        }
      ]
    },
    {
      "cell_type": "code",
      "source": [
        "sns.countplot(x='telecommuting',data=dataset,hue='fraudulent')"
      ],
      "metadata": {
        "colab": {
          "base_uri": "https://localhost:8080/",
          "height": 467
        },
        "id": "BuELFYwP50I-",
        "outputId": "521e29ab-ef1c-49bd-eabd-7e624df9fbc2"
      },
      "execution_count": null,
      "outputs": [
        {
          "output_type": "execute_result",
          "data": {
            "text/plain": [
              "<Axes: xlabel='telecommuting', ylabel='count'>"
            ]
          },
          "metadata": {},
          "execution_count": 154
        },
        {
          "output_type": "display_data",
          "data": {
            "text/plain": [
              "<Figure size 640x480 with 1 Axes>"
            ],
            "image/png": "[encoded data removed]"
          },
          "metadata": {}
        }
      ]
    },
    {
      "cell_type": "code",
      "source": [
        "#has_company_logo\n",
        "has_company_logo_fraud = dataset.groupby('has_company_logo')['fraudulent'].mean()\n",
        "fig, ax = plt.subplots(1, 1, figsize=(6,4))\n",
        "sns.barplot(x=has_company_logo_fraud.index, y=has_company_logo_fraud.values, ax=ax)"
      ],
      "metadata": {
        "colab": {
          "base_uri": "https://localhost:8080/",
          "height": 406
        },
        "id": "9d9JJS4ey6IR",
        "outputId": "8de3adc3-1f30-44f4-b816-5d131db50f37"
      },
      "execution_count": null,
      "outputs": [
        {
          "output_type": "execute_result",
          "data": {
            "text/plain": [
              "<Axes: xlabel='has_company_logo'>"
            ]
          },
          "metadata": {},
          "execution_count": 155
        },
        {
          "output_type": "display_data",
          "data": {
            "text/plain": [
              "<Figure size 600x400 with 1 Axes>"
            ],
            "image/png": "[encoded data removed]"
          },
          "metadata": {}
        }
      ]
    },
    {
      "cell_type": "code",
      "source": [
        "sns.countplot(x='has_company_logo',data=dataset,hue='fraudulent')"
      ],
      "metadata": {
        "colab": {
          "base_uri": "https://localhost:8080/",
          "height": 468
        },
        "id": "4ehBKj4bDph7",
        "outputId": "ed40e5c6-1140-4a4e-eeb7-4c910cd72684"
      },
      "execution_count": null,
      "outputs": [
        {
          "output_type": "execute_result",
          "data": {
            "text/plain": [
              "<Axes: xlabel='has_company_logo', ylabel='count'>"
            ]
          },
          "metadata": {},
          "execution_count": 156
        },
        {
          "output_type": "display_data",
          "data": {
            "text/plain": [
              "<Figure size 640x480 with 1 Axes>"
            ],
            "image/png": "[encoded data removed]"
          },
          "metadata": {}
        }
      ]
    },
    {
      "cell_type": "code",
      "source": [
        "#has_questions\n",
        "has_questions_fraud = dataset.groupby('has_questions')['fraudulent'].mean()\n",
        "fig, ax = plt.subplots(1, 1, figsize=(6,4))\n",
        "sns.barplot(x=has_questions_fraud.index, y=has_questions_fraud.values, ax=ax)"
      ],
      "metadata": {
        "colab": {
          "base_uri": "https://localhost:8080/",
          "height": 406
        },
        "id": "l6fF_MYezG-b",
        "outputId": "63035b84-d67b-4c38-aed2-bbc3c520ae1b"
      },
      "execution_count": null,
      "outputs": [
        {
          "output_type": "execute_result",
          "data": {
            "text/plain": [
              "<Axes: xlabel='has_questions'>"
            ]
          },
          "metadata": {},
          "execution_count": 157
        },
        {
          "output_type": "display_data",
          "data": {
            "text/plain": [
              "<Figure size 600x400 with 1 Axes>"
            ],
            "image/png": "[encoded data removed]"
          },
          "metadata": {}
        }
      ]
    },
    {
      "cell_type": "code",
      "source": [
        "sns.countplot(x='has_questions',data=dataset,hue='fraudulent')"
      ],
      "metadata": {
        "colab": {
          "base_uri": "https://localhost:8080/",
          "height": 468
        },
        "id": "FbMaQskaD2Tk",
        "outputId": "cea6e233-3987-49f2-be1c-d064470f3b03"
      },
      "execution_count": null,
      "outputs": [
        {
          "output_type": "execute_result",
          "data": {
            "text/plain": [
              "<Axes: xlabel='has_questions', ylabel='count'>"
            ]
          },
          "metadata": {},
          "execution_count": 158
        },
        {
          "output_type": "display_data",
          "data": {
            "text/plain": [
              "<Figure size 640x480 with 1 Axes>"
            ],
            "image/png": "[encoded data removed]"
          },
          "metadata": {}
        }
      ]
    },
    {
      "cell_type": "code",
      "source": [
        "#employment_type\n",
        "employment_type_fraud = dataset.groupby('employment_type')['fraudulent'].mean()\n",
        "fig, ax = plt.subplots(1, 1, figsize=(8,4))\n",
        "sns.barplot(x=employment_type_fraud.index, y=employment_type_fraud.values, ax=ax)"
      ],
      "metadata": {
        "colab": {
          "base_uri": "https://localhost:8080/",
          "height": 406
        },
        "id": "GMMxYh7gzHBD",
        "outputId": "aecea640-5481-4bf3-8d22-f2a7fa61150e"
      },
      "execution_count": null,
      "outputs": [
        {
          "output_type": "execute_result",
          "data": {
            "text/plain": [
              "<Axes: xlabel='employment_type'>"
            ]
          },
          "metadata": {},
          "execution_count": 159
        },
        {
          "output_type": "display_data",
          "data": {
            "text/plain": [
              "<Figure size 800x400 with 1 Axes>"
            ],
            "image/png": "[encoded data removed]"
          },
          "metadata": {}
        }
      ]
    },
    {
      "cell_type": "code",
      "source": [
        "sns.countplot(x='employment_type',data=dataset,hue='fraudulent')"
      ],
      "metadata": {
        "colab": {
          "base_uri": "https://localhost:8080/",
          "height": 468
        },
        "id": "N1zmTPBvEIc1",
        "outputId": "49e35420-e935-4553-e4c4-403fb5ac2924"
      },
      "execution_count": null,
      "outputs": [
        {
          "output_type": "execute_result",
          "data": {
            "text/plain": [
              "<Axes: xlabel='employment_type', ylabel='count'>"
            ]
          },
          "metadata": {},
          "execution_count": 160
        },
        {
          "output_type": "display_data",
          "data": {
            "text/plain": [
              "<Figure size 640x480 with 1 Axes>"
            ],
            "image/png": "[encoded data removed]"
          },
          "metadata": {}
        }
      ]
    },
    {
      "cell_type": "code",
      "source": [
        "#required_experience\n",
        "required_experience_fraud = dataset.groupby('required_experience')['fraudulent'].mean()\n",
        "fig, ax = plt.subplots(1, 1, figsize=(10,4))\n",
        "sns.barplot(x=required_experience_fraud.index, y=required_experience_fraud.values, ax=ax)"
      ],
      "metadata": {
        "colab": {
          "base_uri": "https://localhost:8080/",
          "height": 406
        },
        "id": "NLtMBxY5zHDK",
        "outputId": "1db2d77e-8042-4fa5-9df0-36a2441ec204"
      },
      "execution_count": null,
      "outputs": [
        {
          "output_type": "execute_result",
          "data": {
            "text/plain": [
              "<Axes: xlabel='required_experience'>"
            ]
          },
          "metadata": {},
          "execution_count": 161
        },
        {
          "output_type": "display_data",
          "data": {
            "text/plain": [
              "<Figure size 1000x400 with 1 Axes>"
            ],
            "image/png": "[encoded data removed]"
          },
          "metadata": {}
        }
      ]
    },
    {
      "cell_type": "code",
      "source": [
        "fig, ax = plt.subplots(1, 1, figsize=(10,4))\n",
        "sns.countplot(x='required_experience',data=dataset,hue='fraudulent',ax=ax)"
      ],
      "metadata": {
        "colab": {
          "base_uri": "https://localhost:8080/",
          "height": 406
        },
        "id": "txzpaAuKEpuH",
        "outputId": "a3a4b9dd-0f1e-455a-b126-d9d3e6879560"
      },
      "execution_count": null,
      "outputs": [
        {
          "output_type": "execute_result",
          "data": {
            "text/plain": [
              "<Axes: xlabel='required_experience', ylabel='count'>"
            ]
          },
          "metadata": {},
          "execution_count": 162
        },
        {
          "output_type": "display_data",
          "data": {
            "text/plain": [
              "<Figure size 1000x400 with 1 Axes>"
            ],
            "image/png": "[encoded data removed]"
          },
          "metadata": {}
        }
      ]
    },
    {
      "cell_type": "code",
      "source": [
        "#required_education\n",
        "dataset[dataset['fraudulent']==1]['required_education'].value_counts()"
      ],
      "metadata": {
        "colab": {
          "base_uri": "https://localhost:8080/"
        },
        "id": "U-n4o-o1zHFa",
        "outputId": "3c079e50-ec9f-4638-f976-8e772e929ad7"
      },
      "execution_count": null,
      "outputs": [
        {
          "output_type": "execute_result",
          "data": {
            "text/plain": [
              "High School or equivalent            170\n",
              "Bachelor's Degree                    100\n",
              "Unspecified                           61\n",
              "Master's Degree                       31\n",
              "Some High School Coursework           20\n",
              "Certification                         19\n",
              "Associate Degree                       6\n",
              "Professional                           4\n",
              "Some College Coursework Completed      3\n",
              "Doctorate                              1\n",
              "Name: required_education, dtype: int64"
            ]
          },
          "metadata": {},
          "execution_count": 163
        }
      ]
    },
    {
      "cell_type": "code",
      "source": [
        "dataset[dataset['fraudulent']==0]['required_education'].value_counts()"
      ],
      "metadata": {
        "colab": {
          "base_uri": "https://localhost:8080/"
        },
        "id": "E-NzwOLPFCuC",
        "outputId": "d5619fbc-1419-46a9-831d-ca040990734b"
      },
      "execution_count": null,
      "outputs": [
        {
          "output_type": "execute_result",
          "data": {
            "text/plain": [
              "Bachelor's Degree                    5045\n",
              "High School or equivalent            1910\n",
              "Unspecified                          1336\n",
              "Master's Degree                       385\n",
              "Associate Degree                      268\n",
              "Certification                         151\n",
              "Some College Coursework Completed      99\n",
              "Professional                           70\n",
              "Vocational                             49\n",
              "Doctorate                              25\n",
              "Vocational - HS Diploma                 9\n",
              "Some High School Coursework             7\n",
              "Vocational - Degree                     6\n",
              "Name: required_education, dtype: int64"
            ]
          },
          "metadata": {},
          "execution_count": 164
        }
      ]
    },
    {
      "cell_type": "code",
      "source": [
        "#industry\n",
        "dataset[dataset['fraudulent']==1]['industry'].value_counts()"
      ],
      "metadata": {
        "colab": {
          "base_uri": "https://localhost:8080/"
        },
        "id": "iRz5EH1ZzHHa",
        "outputId": "75dff982-232a-4009-cdd9-633bb75b8c7f"
      },
      "execution_count": null,
      "outputs": [
        {
          "output_type": "execute_result",
          "data": {
            "text/plain": [
              "Oil & Energy                   109\n",
              "Accounting                      57\n",
              "Hospital & Health Care          51\n",
              "Marketing and Advertising       45\n",
              "Financial Services              35\n",
              "                              ... \n",
              "Civic & Social Organization      1\n",
              "Public Safety                    1\n",
              "Wholesale                        1\n",
              "Consumer Goods                   1\n",
              "Online Media                     1\n",
              "Name: industry, Length: 62, dtype: int64"
            ]
          },
          "metadata": {},
          "execution_count": 165
        }
      ]
    },
    {
      "cell_type": "code",
      "source": [
        "dataset[dataset['fraudulent']==0]['industry'].value_counts()"
      ],
      "metadata": {
        "colab": {
          "base_uri": "https://localhost:8080/"
        },
        "id": "5_Kt6ikXFMFZ",
        "outputId": "d436e5f7-e648-4ae9-a686-ffa2c0c190f9"
      },
      "execution_count": null,
      "outputs": [
        {
          "output_type": "execute_result",
          "data": {
            "text/plain": [
              "Information Technology and Services    1702\n",
              "Computer Software                      1371\n",
              "Internet                               1062\n",
              "Education Management                    822\n",
              "Marketing and Advertising               783\n",
              "                                       ... \n",
              "Museums and Institutions                  1\n",
              "Sporting Goods                            1\n",
              "Shipbuilding                              1\n",
              "Alternative Dispute Resolution            1\n",
              "Military                                  1\n",
              "Name: industry, Length: 130, dtype: int64"
            ]
          },
          "metadata": {},
          "execution_count": 166
        }
      ]
    },
    {
      "cell_type": "code",
      "source": [
        "#department\n",
        "dataset[dataset['fraudulent']==1]['department'].value_counts()"
      ],
      "metadata": {
        "colab": {
          "base_uri": "https://localhost:8080/"
        },
        "id": "YlNWLFt5i86Z",
        "outputId": "84480afe-7fc9-4507-d5e0-560bde595cf1"
      },
      "execution_count": null,
      "outputs": [
        {
          "output_type": "execute_result",
          "data": {
            "text/plain": [
              "Engineering                                    46\n",
              "Clerical                                       27\n",
              "Oil & Energy                                   24\n",
              "Information Technology                         15\n",
              "Administrative                                 14\n",
              "                                               ..\n",
              "Administration                                  1\n",
              "Commercial Management / Contract Management     1\n",
              "Engineering - Construction                      1\n",
              "Recruiting                                      1\n",
              "Sales and Marketing                             1\n",
              "Name: department, Length: 103, dtype: int64"
            ]
          },
          "metadata": {},
          "execution_count": 169
        }
      ]
    },
    {
      "cell_type": "code",
      "source": [
        "dataset[dataset['fraudulent']==0]['department'].value_counts()"
      ],
      "metadata": {
        "colab": {
          "base_uri": "https://localhost:8080/"
        },
        "id": "2h4topXLjBtd",
        "outputId": "8f3b5e94-dd6e-4b35-b11b-17290b176d65"
      },
      "execution_count": null,
      "outputs": [
        {
          "output_type": "execute_result",
          "data": {
            "text/plain": [
              "Sales                    539\n",
              "Engineering              441\n",
              "Marketing                399\n",
              "Operations               270\n",
              "IT                       224\n",
              "                        ... \n",
              "OTC                        1\n",
              "Administrator              1\n",
              "Disruptive Innovation      1\n",
              "Greetsnap Development      1\n",
              "Styling                    1\n",
              "Name: department, Length: 1269, dtype: int64"
            ]
          },
          "metadata": {},
          "execution_count": 170
        }
      ]
    },
    {
      "cell_type": "code",
      "source": [
        "#function\n",
        "dataset[dataset['fraudulent']==1]['function'].value_counts()"
      ],
      "metadata": {
        "colab": {
          "base_uri": "https://localhost:8080/"
        },
        "id": "twVNgijkzMli",
        "outputId": "c93b0d6c-46da-4d8d-ac54-768c236b77f9"
      },
      "execution_count": null,
      "outputs": [
        {
          "output_type": "execute_result",
          "data": {
            "text/plain": [
              "Administrative            119\n",
              "Engineering               113\n",
              "Customer Service           67\n",
              "Sales                      41\n",
              "Other                      32\n",
              "Information Technology     32\n",
              "Accounting/Auditing        29\n",
              "Finance                    15\n",
              "Business Development       13\n",
              "Marketing                  10\n",
              "Project Management         10\n",
              "Human Resources             9\n",
              "Management                  6\n",
              "Financial Analyst           5\n",
              "Advertising                 5\n",
              "Consulting                  4\n",
              "Data Analyst                4\n",
              "Distribution                3\n",
              "Design                      3\n",
              "Manufacturing               2\n",
              "Public Relations            1\n",
              "Education                   1\n",
              "Business Analyst            1\n",
              "Strategy/Planning           1\n",
              "General Business            1\n",
              "Art/Creative                1\n",
              "Health Care Provider        1\n",
              "Name: function, dtype: int64"
            ]
          },
          "metadata": {},
          "execution_count": 167
        }
      ]
    },
    {
      "cell_type": "code",
      "source": [
        "dataset[dataset['fraudulent']==0]['function'].value_counts()"
      ],
      "metadata": {
        "colab": {
          "base_uri": "https://localhost:8080/"
        },
        "id": "SVQaey0eF9_q",
        "outputId": "e4a093ca-86d4-4052-c208-99637f75c856"
      },
      "execution_count": null,
      "outputs": [
        {
          "output_type": "execute_result",
          "data": {
            "text/plain": [
              "Information Technology    1717\n",
              "Sales                     1427\n",
              "Engineering               1235\n",
              "Customer Service          1162\n",
              "Marketing                  820\n",
              "Administrative             511\n",
              "Health Care Provider       337\n",
              "Design                     337\n",
              "Education                  324\n",
              "Management                 311\n",
              "Other                      293\n",
              "Business Development       215\n",
              "Human Resources            196\n",
              "Accounting/Auditing        183\n",
              "Project Management         173\n",
              "Finance                    157\n",
              "Consulting                 140\n",
              "Writing/Editing            132\n",
              "Art/Creative               131\n",
              "Production                 116\n",
              "Product Management         114\n",
              "Quality Assurance          111\n",
              "Advertising                 85\n",
              "Business Analyst            83\n",
              "Data Analyst                78\n",
              "Public Relations            75\n",
              "Manufacturing               72\n",
              "General Business            67\n",
              "Research                    50\n",
              "Legal                       47\n",
              "Strategy/Planning           45\n",
              "Training                    38\n",
              "Supply Chain                36\n",
              "Financial Analyst           28\n",
              "Distribution                21\n",
              "Purchasing                  15\n",
              "Science                     14\n",
              "Name: function, dtype: int64"
            ]
          },
          "metadata": {},
          "execution_count": 168
        }
      ]
    },
    {
      "cell_type": "markdown",
      "source": [
        "## 3. Preprocessing"
      ],
      "metadata": {
        "id": "CEBUivRozOYC"
      }
    },
    {
      "cell_type": "markdown",
      "source": [
        "- frequency encoding: department,industry,function\n",
        "- embeddings: all text data\n",
        "- standardScaler: salary_start, salary_range\n",
        "- one-hot encoding: others\n",
        "- location: split(',') then frequency encoding"
      ],
      "metadata": {
        "id": "GSSEqrPZ1GI3"
      }
    },
    {
      "cell_type": "markdown",
      "source": [
        "- need to strip() text\n",
        "- for text dataset: combine all text together and get embeddings"
      ],
      "metadata": {
        "id": "LsWOvOqo6wg4"
      }
    },
    {
      "cell_type": "code",
      "source": [
        "df = dataset.copy()"
      ],
      "metadata": {
        "id": "sT9_bz7cQpUW"
      },
      "execution_count": 21,
      "outputs": []
    },
    {
      "cell_type": "markdown",
      "source": [
        "### 3.1 Deal with missing values"
      ],
      "metadata": {
        "id": "CQY6AptjzVYg"
      }
    },
    {
      "cell_type": "code",
      "source": [
        "df.isna().sum()"
      ],
      "metadata": {
        "colab": {
          "base_uri": "https://localhost:8080/"
        },
        "id": "BG8SKn4RPECE",
        "outputId": "01eb16b7-05fc-4097-c2cd-6f5a0d43d447"
      },
      "execution_count": 22,
      "outputs": [
        {
          "output_type": "execute_result",
          "data": {
            "text/plain": [
              "job_id                      0\n",
              "title                       0\n",
              "location                  346\n",
              "department              11547\n",
              "salary_range            15012\n",
              "company_profile          3308\n",
              "description                 1\n",
              "requirements             2695\n",
              "benefits                 7210\n",
              "telecommuting               0\n",
              "has_company_logo            0\n",
              "has_questions               0\n",
              "employment_type          3471\n",
              "required_experience      7050\n",
              "required_education       8105\n",
              "industry                 4903\n",
              "function                 6455\n",
              "fraudulent                  0\n",
              "missing_value_rate          0\n",
              "location_country          346\n",
              "location_state           1384\n",
              "title_contain_urgent        0\n",
              "company_profile_isna        0\n",
              "dtype: int64"
            ]
          },
          "metadata": {},
          "execution_count": 22
        }
      ]
    },
    {
      "cell_type": "code",
      "source": [
        "# drop when description is null, only 1 record\n",
        "df = df.dropna(subset=['description'])"
      ],
      "metadata": {
        "id": "2n-zVgKTRAYN"
      },
      "execution_count": 23,
      "outputs": []
    },
    {
      "cell_type": "markdown",
      "source": [
        "#### 3.1.1 Location"
      ],
      "metadata": {
        "id": "0BOWXpxdmSGX"
      }
    },
    {
      "cell_type": "code",
      "source": [
        "df[['location_country','location_state']] = df[['location_country','location_state']].replace(' ',np.NaN)\n",
        "df[['location','location_country','location_state']] = df[['location','location_country','location_state']].fillna('NAD')\n",
        "## No Available Data"
      ],
      "metadata": {
        "id": "uaTBWawxmWMR"
      },
      "execution_count": 24,
      "outputs": []
    },
    {
      "cell_type": "markdown",
      "source": [
        "#### 3.1.2 Salary_range"
      ],
      "metadata": {
        "id": "pE1SAtC3EitT"
      }
    },
    {
      "cell_type": "code",
      "source": [
        "# split into start and interval\n",
        "#df[['salary_start', 'salary_end']] = df['salary_range'].str.split('-', n=1, expand=True)"
      ],
      "metadata": {
        "id": "xa2Hw7PsGWkm"
      },
      "execution_count": null,
      "outputs": []
    },
    {
      "cell_type": "code",
      "source": [
        "# Function to process salary_range\n",
        "def process_salary_range(salary_range):\n",
        "    if '-' in str(salary_range):\n",
        "        start, end = salary_range.split('-')\n",
        "    else:\n",
        "        start = salary_range\n",
        "        end = salary_range\n",
        "    return start, end\n",
        "\n",
        "df[['salary_start', 'salary_end']] = df['salary_range'].apply(process_salary_range).apply(pd.Series)"
      ],
      "metadata": {
        "id": "B6dvZP7qJlMx"
      },
      "execution_count": 25,
      "outputs": []
    },
    {
      "cell_type": "code",
      "source": [
        "# clean salary_range with wrong format\n",
        "mon_list = ['Jan','Feb','Mar','Apr','May','Jun','Jul','Aug','Sep','Oct','Nov','Dec']\n",
        "df.loc[df['salary_start'].isin(mon_list),'salary_start'] = 0\n",
        "df.loc[df['salary_start'].isin(mon_list),'salary_end'] = 0\n",
        "df.loc[df['salary_end'].isin(mon_list),'salary_start'] = 0\n",
        "df.loc[df['salary_end'].isin(mon_list),'salary_end'] = 0"
      ],
      "metadata": {
        "id": "lLblunIbFoW4"
      },
      "execution_count": 26,
      "outputs": []
    },
    {
      "cell_type": "code",
      "source": [
        "# fill in with 0\n",
        "df[['salary_start', 'salary_end']] = df[['salary_start', 'salary_end']].fillna(0)\n",
        "df[['salary_start', 'salary_end']] = df[['salary_start', 'salary_end']].astype(int)\n",
        "df['salary_interval'] = df['salary_end'] - df['salary_start']"
      ],
      "metadata": {
        "id": "EGn4CDB6G5vl"
      },
      "execution_count": 27,
      "outputs": []
    },
    {
      "cell_type": "code",
      "source": [
        "df['salary_interval'].value_counts()"
      ],
      "metadata": {
        "colab": {
          "base_uri": "https://localhost:8080/"
        },
        "id": "0rwQMQkZFSKd",
        "outputId": "650847f6-7138-4cb4-8280-33ab941620af"
      },
      "execution_count": 28,
      "outputs": [
        {
          "output_type": "execute_result",
          "data": {
            "text/plain": [
              "0         15298\n",
              "10000       354\n",
              "20000       313\n",
              "5000        229\n",
              "15000       177\n",
              "          ...  \n",
              "51000         1\n",
              "65            1\n",
              "8320          1\n",
              "480000        1\n",
              "60978         1\n",
              "Name: salary_interval, Length: 197, dtype: int64"
            ]
          },
          "metadata": {},
          "execution_count": 28
        }
      ]
    },
    {
      "cell_type": "markdown",
      "source": [
        "#### 3.1.3 Department & Industry & Function"
      ],
      "metadata": {
        "id": "-FBTluLTLVgf"
      }
    },
    {
      "cell_type": "code",
      "source": [
        "# fill in with the help of key words from 'title', if no proper key words, fill in with 'NAD'"
      ],
      "metadata": {
        "id": "g_G64EBqLn3R"
      },
      "execution_count": null,
      "outputs": []
    },
    {
      "cell_type": "code",
      "source": [
        "#df['department'].isna().sum()\n",
        "#df['industry'].isna().sum()\n",
        "#df['function'].isna().sum()"
      ],
      "metadata": {
        "id": "BMI6fuLu41Qh"
      },
      "execution_count": null,
      "outputs": []
    },
    {
      "cell_type": "code",
      "source": [
        "str_list = ['Engineer','Account','Accountant','Accounting','Developer','Sales','Marketing','Beauty','Service','Customer','Consumer',\n",
        "'Customer','Writer','Pet','Architect', 'Dog', 'Game', 'Mobile', 'Design', 'Financial','Programmer']"
      ],
      "metadata": {
        "id": "dLMQJUwh6z4R"
      },
      "execution_count": 79,
      "outputs": []
    },
    {
      "cell_type": "code",
      "source": [
        "for strs in str_list:\n",
        "  df.loc[(df['title'].str.contains(strs, case=False, na=False)) & (df['department'].isna()),'department'] = \\\n",
        "  df[df['title'].str.contains(strs, case=False, na=False)]['department'].mode()[0]\n",
        "  df.loc[(df['title'].str.contains(strs, case=False, na=False)) & (df['industry'].isna()),'industry'] = \\\n",
        "  df[df['title'].str.contains(strs, case=False, na=False)]['industry'].mode()[0]\n",
        "  df.loc[(df['title'].str.contains(strs, case=False, na=False)) & (df['function'].isna()),'function'] = \\\n",
        "  df[df['title'].str.contains(strs, case=False, na=False)]['function'].mode()[0]\n",
        "\n",
        "df[['department','industry','function']] = df[['department','industry','function']].fillna('NAD')"
      ],
      "metadata": {
        "id": "PWxQlqGA7Nr_"
      },
      "execution_count": 80,
      "outputs": []
    },
    {
      "cell_type": "markdown",
      "source": [
        "#### 3.1.4 Employment_type, Required_experience, Required_education"
      ],
      "metadata": {
        "id": "ccGwWzDXLfDH"
      }
    },
    {
      "cell_type": "code",
      "source": [
        "# fill in employment_type with 'NAD',\n",
        "# for the other two, fill in with the mode in each sub-group of employment_type"
      ],
      "metadata": {
        "id": "CrSb6pfmLyTW"
      },
      "execution_count": null,
      "outputs": []
    },
    {
      "cell_type": "code",
      "source": [
        "df['employment_type'] = df['employment_type'].fillna('NAD')"
      ],
      "metadata": {
        "id": "fSra8Q1wL-Oa"
      },
      "execution_count": 29,
      "outputs": []
    },
    {
      "cell_type": "code",
      "source": [
        "# Other, Full-time, NAD, Part-time, Contract, Temporary\n",
        "df.loc[(df['employment_type']=='NAD') & (df['required_experience'].isna()),'required_experience'] = 'NAD'\n",
        "df.loc[(df['employment_type']=='Full-time') & (df['required_experience'].isna()),'required_experience'] = df[df['employment_type']=='Full-time']['required_experience'].mode()[0]\n",
        "df.loc[(df['employment_type']=='Other') & (df['required_experience'].isna()),'required_experience'] = df[df['employment_type']=='Other']['required_experience'].mode()[0]\n",
        "df.loc[(df['employment_type']=='Part-time') & (df['required_experience'].isna()),'required_experience'] = df[df['employment_type']=='Part-time']['required_experience'].mode()[0]\n",
        "df.loc[(df['employment_type']=='Contract') & (df['required_experience'].isna()),'required_experience'] = df[df['employment_type']=='Contract']['required_experience'].mode()[0]\n",
        "df.loc[(df['employment_type']=='Temporary') & (df['required_experience'].isna()),'required_experience'] = df[df['employment_type']=='Temporary']['required_experience'].mode()[0]"
      ],
      "metadata": {
        "id": "HItdX_UWL-SL"
      },
      "execution_count": 30,
      "outputs": []
    },
    {
      "cell_type": "code",
      "source": [
        "# Other, Full-time, NAD, Part-time, Contract, Temporary\n",
        "df.loc[(df['employment_type']=='NAD') & (df['required_education'].isna()),'required_education'] = 'NAD'\n",
        "df.loc[(df['employment_type']=='Full-time') & (df['required_education'].isna()),'required_education'] = df[df['employment_type']=='Full-time']['required_education'].mode()[0]\n",
        "df.loc[(df['employment_type']=='Other') & (df['required_education'].isna()),'required_education'] = df[df['employment_type']=='Other']['required_education'].mode()[0]\n",
        "df.loc[(df['employment_type']=='Part-time') & (df['required_education'].isna()),'required_education'] = df[df['employment_type']=='Part-time']['required_education'].mode()[0]\n",
        "df.loc[(df['employment_type']=='Contract') & (df['required_education'].isna()),'required_education'] = df[df['employment_type']=='Contract']['required_education'].mode()[0]\n",
        "df.loc[(df['employment_type']=='Temporary') & (df['required_education'].isna()),'required_education'] = df[df['employment_type']=='Temporary']['required_education'].mode()[0]"
      ],
      "metadata": {
        "id": "qXNQZ9MKUqas"
      },
      "execution_count": 31,
      "outputs": []
    },
    {
      "cell_type": "markdown",
      "source": [
        "#### 3.1.5 Combine all text data together"
      ],
      "metadata": {
        "id": "-z8HZHE6L_yW"
      }
    },
    {
      "cell_type": "code",
      "source": [
        "# combine texts\n",
        "df[['company_profile']] = df[['company_profile']].fillna('NAD')\n",
        "df[['requirements']] = df[['requirements']].fillna('NAD')\n",
        "df[['benefits']] = df[['benefits']].fillna('NAD')\n",
        "\n",
        "df['full_text'] = df['title'] + ' ' + df['location'] + ' ' + df['company_profile'] + ' ' + \\\n",
        "df['description'] + ' ' + df['requirements'] + ' ' + df['benefits'] + ' ' + df['department'] + ' ' + \\\n",
        "df['industry'] + ' ' + df['function'] + ' ' + df['employment_type'] + ' ' + df['required_experience'] + \\\n",
        "' ' + df['required_education']"
      ],
      "metadata": {
        "id": "GbYkQyLxRB_g"
      },
      "execution_count": 82,
      "outputs": []
    },
    {
      "cell_type": "code",
      "source": [
        "# drop redundant columns\n",
        "df = df.drop(['title','location','salary_range','company_profile','description','requirements','benefits','salary_end'],axis=1)"
      ],
      "metadata": {
        "id": "qke_SxjwWCt_"
      },
      "execution_count": 85,
      "outputs": []
    },
    {
      "cell_type": "code",
      "source": [
        "df.isna().sum()"
      ],
      "metadata": {
        "colab": {
          "base_uri": "https://localhost:8080/"
        },
        "id": "w1U-uRSszYbI",
        "outputId": "82e14844-da9f-434e-9797-82cdcb2cbddc"
      },
      "execution_count": 86,
      "outputs": [
        {
          "output_type": "execute_result",
          "data": {
            "text/plain": [
              "job_id                  0\n",
              "department              0\n",
              "telecommuting           0\n",
              "has_company_logo        0\n",
              "has_questions           0\n",
              "employment_type         0\n",
              "required_experience     0\n",
              "required_education      0\n",
              "industry                0\n",
              "function                0\n",
              "fraudulent              0\n",
              "missing_value_rate      0\n",
              "location_country        0\n",
              "location_state          0\n",
              "title_contain_urgent    0\n",
              "company_profile_isna    0\n",
              "salary_start            0\n",
              "salary_interval         0\n",
              "full_text               0\n",
              "dtype: int64"
            ]
          },
          "metadata": {},
          "execution_count": 86
        }
      ]
    },
    {
      "cell_type": "markdown",
      "source": [
        "### 3.2 Clean text data"
      ],
      "metadata": {
        "id": "AZV7T5wmzY3G"
      }
    },
    {
      "cell_type": "code",
      "source": [
        "df['full_text'].iloc[1]"
      ],
      "metadata": {
        "colab": {
          "base_uri": "https://localhost:8080/",
          "height": 935
        },
        "id": "JPAysPOh2ETY",
        "outputId": "6ceb4f40-6b49-49b2-9ea2-0ff274f7a79c"
      },
      "execution_count": 87,
      "outputs": [
        {
          "output_type": "execute_result",
          "data": {
            "text/plain": [
              "\"Customer Service - Cloud Video Production nz, , auckland 90 Seconds, the worlds Cloud Video Production Service.90 Seconds is the worlds Cloud Video Production Service enabling brands and agencies to get high quality online video content shot and produced anywhere in the world. 90 Seconds makes video production fast, affordable, and all managed seamlessly in the cloud from purchase to publish. http://90#URL_fbe6559afac620a3cd2c22281f7b8d0eef56a73e3d9a311e2f1ca13d081dd630#90 Seconds removes the hassle, cost, risk and speed issues of working with regular video production companies by managing every aspect of video projects in a beautiful online experience. With a growing global network of over 2,000 rated video professionals in over 50 countries managed by dedicated production success teams in 5 countries, 90 Seconds provides a 100% success guarantee.90 Seconds has produced almost 4,000 videos in over 30 Countries for over 500 Global brands including some of the worlds largest including Paypal, L’Oreal, Sony and Barclays and has offices in Auckland, London, Sydney, Tokyo and Singapore.http://90#URL_fbe6559afac620a3cd2c22281f7b8d0eef56a73e3d9a311e2f1ca13d081dd630#\\xa0|\\xa0http://90#URL_e2ad0bde3f09a0913a486abdbb1e6ac373bb3310f64b1fbcf550049bcba4a17b#\\xa0| http://90#URL_8c5dd1806f97ab90876d9daebeb430f682dbc87e2f01549b47e96c7bff2ea17e#\\xa0 Organised - Focused - Vibrant - Awesome!Do you have a passion for customer service? Slick typing skills? Maybe Account Management? ...And think administration is cooler than a polar bear on a jetski? Then we need to hear you!\\xa0We are the Cloud Video Production Service and opperating on a glodal level. Yeah, it's pretty cool. Serious about\\xa0delivering a world class product and excellent customer service.Our rapidly expanding business is looking for a talented Project Manager to manage the successful delivery of video projects, manage client communications and drive the production process. Work with some of the coolest brands on the planet and learn from a global team that are representing NZ is a huge way!We are entering the next growth stage of our business and growing quickly internationally. \\xa0Therefore, the position is bursting with opportunity for the right person entering the business at the right time.\\xa090 Seconds, the worlds Cloud Video Production Service -\\xa0http://90#URL_fbe6559afac620a3cd2c22281f7b8d0eef56a73e3d9a311e2f1ca13d081dd630#90 Seconds is the worlds Cloud Video Production Service enabling brands and agencies to get high quality online video content shot and produced anywhere in the world. Fast, affordable, and all managed seamlessly in the cloud from purchase to publish.\\xa090 Seconds removes the hassle, cost, risk and speed issues of working with regular video production companies by managing every aspect of video projects in a beautiful online experience. \\xa0With a growing network of over 2,000 rated video professionals in over 50 countries and dedicated production success teams in 5 countries guaranteeing video project success 100%. It's as easy as commissioning a quick google adwords campaign.90 Seconds has produced almost 4,000 videos in over 30 Countries for over 500 Global brands including some of the worlds largest including Paypal, L'oreal, Sony and Barclays and has offices in Auckland, London, Sydney, Tokyo &amp; Singapore.Our Auckland office is based\\xa0right in the heart of the Wynyard Quarter Innovation Precinct - GridAKL!\\xa0 What we expect from you:Your key responsibility will be to communicate with the client, 90 Seconds team and freelance community throughout the video production process including, shoot planning, securing freelance talent, managing workflow and the online production management system. \\xa0The aim is to manage each video project effectively so that we produce great videos that our clients love.Key\\xa0attributesClient focused\\xa0- excellent customer service and communication skillsOnline -\\xa0oustanding computer knowledge and experience using online software and project management toolsOrganised\\xa0- manage workload and able to multi-task100% attention to detailMotivated -\\xa0self-starter with a passion for doing excellent work and achieving great resultsAdaptable\\xa0- show initiative and think on your feet as this is a constantly evolving atmosphereFlexible\\xa0- fast turnaround work and after hours availabilityEasy going\\xa0&amp; upbeat\\xa0- dosen't get bogged down and loves the challengeSense of Humour\\xa0- have a laugh and know that working in a startup takes guts!Ability to deliver\\xa0- including meeting project deadlines and budgetAttitude is more important than experience at 90 Seconds, however previous experience in customer service and/or project management is beneficialPlease view our platform / website at\\xa0#URL_395a8683a907ce95f49a12fb240e6e47ad8d5a4f96d07ebbd869c4dd4dea1826#\\xa0and get a clear understand about what we do before reaching out. What you will get from usThrough being part of the 90 Seconds team you will gain:experience working on projects located around the world with an international brandexperience working with a variety of clients and on a large range of projectsopportunity to drive and grow production function and teama positive working environment with a great teamPay$40,000-$55,000Applying for this role with a VIDEOBeing a video business, we understand that one of the quickest ways that we can assess your suitability for this role, and one of the quickest ways that you can apply for it, is for you to submit a 60-90 second long video telling us about yourself, your experience and why you think you would be perfect for the role. \\xa0It’s not about being a filmmaker or making a really creative video. \\xa0A simple video filmed with a smart phone or web cam will be fine. Please also include where you are based and when you can start.You can upload the video onto YouTube or Vimeo (or similar) as a Draft or Live link.APPLICATIONS DUE by 5pm on Wednesday 18th July 2014 -\\xa0Once you have a video ready, apply for this role via the following link together with a cover letter and your CV.\\xa0After we have watched your video and get an idea of your suitability for the role, we will email the shortlisted candidates Success Marketing and Advertising Customer Service Full-time Not Applicable Bachelor's Degree\""
            ],
            "application/vnd.google.colaboratory.intrinsic+json": {
              "type": "string"
            }
          },
          "metadata": {},
          "execution_count": 87
        }
      ]
    },
    {
      "cell_type": "code",
      "source": [
        "!pip install num2words\n",
        "!pip install ftfy"
      ],
      "metadata": {
        "colab": {
          "base_uri": "https://localhost:8080/"
        },
        "id": "wSOXbYfV1Xov",
        "outputId": "c20a3574-647b-4cad-dac3-ddcd0503eba4"
      },
      "execution_count": 88,
      "outputs": [
        {
          "output_type": "stream",
          "name": "stdout",
          "text": [
            "Collecting num2words\n",
            "  Downloading num2words-0.5.12-py3-none-any.whl (125 kB)\n",
            "\u001b[2K     \u001b[90m━━━━━━━━━━━━━━━━━━━━━━━━━━━━━━━━━━━━━\u001b[0m \u001b[32m125.2/125.2 kB\u001b[0m \u001b[31m686.2 kB/s\u001b[0m eta \u001b[36m0:00:00\u001b[0m\n",
            "\u001b[?25hCollecting docopt>=0.6.2 (from num2words)\n",
            "  Downloading docopt-0.6.2.tar.gz (25 kB)\n",
            "  Preparing metadata (setup.py) ... \u001b[?25l\u001b[?25hdone\n",
            "Building wheels for collected packages: docopt\n",
            "  Building wheel for docopt (setup.py) ... \u001b[?25l\u001b[?25hdone\n",
            "  Created wheel for docopt: filename=docopt-0.6.2-py2.py3-none-any.whl size=13705 sha256=8bae57709c4a841304bea9a28160cac3267569ed9ba629679046024745b20fe9\n",
            "  Stored in directory: /root/.cache/pip/wheels/fc/ab/d4/5da2067ac95b36618c629a5f93f809425700506f72c9732fac\n",
            "Successfully built docopt\n",
            "Installing collected packages: docopt, num2words\n",
            "Successfully installed docopt-0.6.2 num2words-0.5.12\n",
            "Collecting ftfy\n",
            "  Downloading ftfy-6.1.1-py3-none-any.whl (53 kB)\n",
            "\u001b[2K     \u001b[90m━━━━━━━━━━━━━━━━━━━━━━━━━━━━━━━━━━━━━━━━\u001b[0m \u001b[32m53.1/53.1 kB\u001b[0m \u001b[31m1.5 MB/s\u001b[0m eta \u001b[36m0:00:00\u001b[0m\n",
            "\u001b[?25hRequirement already satisfied: wcwidth>=0.2.5 in /usr/local/lib/python3.10/dist-packages (from ftfy) (0.2.8)\n",
            "Installing collected packages: ftfy\n",
            "Successfully installed ftfy-6.1.1\n"
          ]
        }
      ]
    },
    {
      "cell_type": "code",
      "source": [
        "# all text data, convert numbers to words, only letter, lower case\n",
        "from num2words import num2words\n",
        "from ftfy import fix_text\n",
        "import re"
      ],
      "metadata": {
        "id": "e0n9I5YnzbJc"
      },
      "execution_count": 89,
      "outputs": []
    },
    {
      "cell_type": "code",
      "source": [
        "import nltk\n",
        "from nltk.tokenize import word_tokenize\n",
        "from nltk.stem.porter import PorterStemmer\n",
        "nltk.download('stopwords')\n",
        "nltk.download('wordnet')\n"
      ],
      "metadata": {
        "colab": {
          "base_uri": "https://localhost:8080/"
        },
        "id": "wZAMCEdc8fTX",
        "outputId": "a4951c12-9dd3-46ad-9f6e-172b188e9e83"
      },
      "execution_count": 90,
      "outputs": [
        {
          "output_type": "stream",
          "name": "stderr",
          "text": [
            "[nltk_data] Downloading package stopwords to /root/nltk_data...\n",
            "[nltk_data]   Unzipping corpora/stopwords.zip.\n",
            "[nltk_data] Downloading package wordnet to /root/nltk_data...\n"
          ]
        },
        {
          "output_type": "execute_result",
          "data": {
            "text/plain": [
              "True"
            ]
          },
          "metadata": {},
          "execution_count": 90
        }
      ]
    },
    {
      "cell_type": "code",
      "source": [
        "# might not use\n",
        "def remove_stop_words(doc):\n",
        "  stop_words = set(nltk.corpus.stopwords.words('english'))\n",
        "  docs = list(set(doc.split(' ')) - stop_words)\n",
        "  return docs  # stem\n",
        "def simple_stemmer(doc):\n",
        "  stemmer= PorterStemmer()\n",
        "  doc = ' '.join([stemmer.stem(word) for word in doc])\n",
        "  return doc"
      ],
      "metadata": {
        "id": "2galXEtG8kdg"
      },
      "execution_count": null,
      "outputs": []
    },
    {
      "cell_type": "code",
      "source": [
        "# to clean data\n",
        "def normalise_text(text):\n",
        "    text = fix_text(text)\n",
        "    text = text.lower()  # lowercase\n",
        "    text = re.sub(r'\\#', \"\", text)        # replaces hashtags\n",
        "    text = re.sub(r'\\xa0', ' ', text) # remove \\xa0\n",
        "    # remove URL addresses\n",
        "    text = re.sub(r\"http\\S+\",\"URL\", text)\n",
        "    text = re.sub(r'www\\S+', '', text)\n",
        "    text = re.sub(r'\\d+', lambda x: num2words(x.group(), to='cardinal'), text)\n",
        "    text = re.sub(\"[^a-zA-Z]\", \" \", text) # letters only\n",
        "    # replace more than or equal to two white spaces into one white space.\n",
        "    text = re.sub(r'\\s{2,}', ' ', text)\n",
        "    stop_words = set(nltk.corpus.stopwords.words('english'))\n",
        "    text = ' '.join([word for word in text.split(' ') if word not in stop_words])\n",
        "    #stemmer= PorterStemmer()\n",
        "    #text = ' '.join([stemmer.stem(word) for word in text])\n",
        "    return text"
      ],
      "metadata": {
        "id": "EYEiza_R14Hd"
      },
      "execution_count": 91,
      "outputs": []
    },
    {
      "cell_type": "code",
      "source": [
        "normalise_text(df['full_text'].iloc[1])"
      ],
      "metadata": {
        "colab": {
          "base_uri": "https://localhost:8080/",
          "height": 715
        },
        "id": "95RjqEKM3FUY",
        "outputId": "06430827-c027-47ad-9303-0b53c13dd3ef"
      },
      "execution_count": 92,
      "outputs": [
        {
          "output_type": "execute_result",
          "data": {
            "text/plain": [
              "'customer service cloud video production nz auckland ninety seconds worlds cloud video production service ninety seconds worlds cloud video production service enabling brands agencies get high quality online video content shot produced anywhere world ninety seconds makes video production fast affordable managed seamlessly cloud purchase publish URL seconds removes hassle cost risk speed issues working regular video production companies managing every aspect video projects beautiful online experience growing global network two zero rated video professionals fifty countries managed dedicated production success teams five countries ninety seconds provides one hundred success guarantee ninety seconds produced almost four zero videos thirty countries five hundred global brands including worlds largest including paypal l oreal sony barclays offices auckland london sydney tokyo singapore URL URL URL organised focused vibrant awesome passion customer service slick typing skills maybe account management think administration cooler polar bear jetski need hear cloud video production service opperating glodal level yeah pretty cool serious delivering world class product excellent customer service rapidly expanding business looking talented project manager manage successful delivery video projects manage client communications drive production process work coolest brands planet learn global team representing nz huge way entering next growth stage business growing quickly internationally therefore position bursting opportunity right person entering business right time ninety seconds worlds cloud video production service URL seconds worlds cloud video production service enabling brands agencies get high quality online video content shot produced anywhere world fast affordable managed seamlessly cloud purchase publish ninety seconds removes hassle cost risk speed issues working regular video production companies managing every aspect video projects beautiful online experience growing network two zero rated video professionals fifty countries dedicated production success teams five countries guaranteeing video project success one hundred easy commissioning quick google adwords campaign ninety seconds produced almost four zero videos thirty countries five hundred global brands including worlds largest including paypal l oreal sony barclays offices auckland london sydney tokyo singapore auckland office based right heart wynyard quarter innovation precinct gridakl expect key responsibility communicate client ninety seconds team freelance community throughout video production process including shoot planning securing freelance talent managing workflow online production management system aim manage video project effectively produce great videos clients love key attributesclient focused excellent customer service communication skillsonline oustanding computer knowledge experience using online software project management toolsorganised manage workload able multi taskone hundred attention detailmotivated self starter passion excellent work achieving great resultsadaptable show initiative think feet constantly evolving atmosphereflexible fast turnaround work hours availabilityeasy going upbeat dosen get bogged loves challengesense humour laugh know working startup takes guts ability deliver including meeting project deadlines budgetattitude important experience ninety seconds however previous experience customer service project management beneficialplease view platform website url three hundred ninety fiveaeight thousand six hundred eighty threeanine hundred sevenceninety fivefforty nineatwelvefbtwo hundred fortyesixeforty sevenadeightdfiveafourfninety sixdsevenebbdeight hundred sixty ninecfourddfourdeaone thousand eight hundred twenty six get clear understand reaching get usthrough part ninety seconds team gain experience working projects located around world international brandexperience working variety clients large range projectsopportunity drive grow production function teama positive working environment great teampay forty zero fifty five zeroapplying role videobeing video business understand one quickest ways assess suitability role one quickest ways apply submit sixty ninety second long video telling us experience think would perfect role filmmaker making really creative video simple video filmed smart phone web cam fine please also include based start upload video onto youtube vimeo similar draft live link applications due fivepm wednesday eighteenth july two thousand fourteen video ready apply role via following link together cover letter cv watched video get idea suitability role email shortlisted candidates success marketing advertising customer service full time applicable bachelor degree'"
            ],
            "application/vnd.google.colaboratory.intrinsic+json": {
              "type": "string"
            }
          },
          "metadata": {},
          "execution_count": 92
        }
      ]
    },
    {
      "cell_type": "code",
      "source": [
        "df['full_text'] = df['full_text'].apply(lambda x: normalise_text(x))"
      ],
      "metadata": {
        "id": "dZC6wvhg73LR"
      },
      "execution_count": 93,
      "outputs": []
    },
    {
      "cell_type": "code",
      "source": [
        "df['text_len'] = df['full_text'].apply(lambda x: len(x.split(' ')))"
      ],
      "metadata": {
        "id": "XazqVG4o_X0L"
      },
      "execution_count": 94,
      "outputs": []
    },
    {
      "cell_type": "code",
      "source": [
        "df.head()"
      ],
      "metadata": {
        "colab": {
          "base_uri": "https://localhost:8080/",
          "height": 539
        },
        "id": "sCB2s_QKBpqF",
        "outputId": "54fedd0b-fc3e-42e1-e801-3e138c9fba2c"
      },
      "execution_count": 95,
      "outputs": [
        {
          "output_type": "execute_result",
          "data": {
            "text/plain": [
              "   job_id department  telecommuting  has_company_logo  has_questions  \\\n",
              "0       1  Marketing              0                 1              0   \n",
              "1       2    Success              0                 1              0   \n",
              "2       3        NAD              0                 1              0   \n",
              "3       4      Sales              0                 1              0   \n",
              "4       5        NAD              0                 1              1   \n",
              "\n",
              "  employment_type required_experience required_education  \\\n",
              "0           Other          Internship  Bachelor's Degree   \n",
              "1       Full-time      Not Applicable  Bachelor's Degree   \n",
              "2             NAD                 NAD                NAD   \n",
              "3       Full-time    Mid-Senior level  Bachelor's Degree   \n",
              "4       Full-time    Mid-Senior level  Bachelor's Degree   \n",
              "\n",
              "                    industry              function  fraudulent  \\\n",
              "0  Marketing and Advertising             Marketing           0   \n",
              "1  Marketing and Advertising      Customer Service           0   \n",
              "2                        NAD                   NAD           0   \n",
              "3          Computer Software                 Sales           0   \n",
              "4     Hospital & Health Care  Health Care Provider           0   \n",
              "\n",
              "   missing_value_rate location_country location_state  title_contain_urgent  \\\n",
              "0                0.24               us             ny                     0   \n",
              "1                0.12               nz                                    0   \n",
              "2                0.47               us             ia                     0   \n",
              "3                0.06               us             dc                     0   \n",
              "4                0.12               us             fl                     0   \n",
              "\n",
              "   company_profile_isna  salary_start  salary_interval  \\\n",
              "0                     0             0                0   \n",
              "1                     0             0                0   \n",
              "2                     0             0                0   \n",
              "3                     0             0                0   \n",
              "4                     0             0                0   \n",
              "\n",
              "                                           full_text  text_len  \n",
              "0  marketing intern us ny new york foodfifty two ...       271  \n",
              "1  customer service cloud video production nz auc...       606  \n",
              "2  commissioning machinery assistant cma us ia we...       245  \n",
              "3  account executive washington dc us dc passion ...       509  \n",
              "4  bill review manager us fl fort worth spotsourc...       420  "
            ],
            "text/html": [
              "\n",
              "  <div id=\"df-86a068ab-e8f2-499c-8ff5-f65c1b0bc07e\" class=\"colab-df-container\">\n",
              "    <div>\n",
              "<style scoped>\n",
              "    .dataframe tbody tr th:only-of-type {\n",
              "        vertical-align: middle;\n",
              "    }\n",
              "\n",
              "    .dataframe tbody tr th {\n",
              "        vertical-align: top;\n",
              "    }\n",
              "\n",
              "    .dataframe thead th {\n",
              "        text-align: right;\n",
              "    }\n",
              "</style>\n",
              "<table border=\"1\" class=\"dataframe\">\n",
              "  <thead>\n",
              "    <tr style=\"text-align: right;\">\n",
              "      <th></th>\n",
              "      <th>job_id</th>\n",
              "      <th>department</th>\n",
              "      <th>telecommuting</th>\n",
              "      <th>has_company_logo</th>\n",
              "      <th>has_questions</th>\n",
              "      <th>employment_type</th>\n",
              "      <th>required_experience</th>\n",
              "      <th>required_education</th>\n",
              "      <th>industry</th>\n",
              "      <th>function</th>\n",
              "      <th>fraudulent</th>\n",
              "      <th>missing_value_rate</th>\n",
              "      <th>location_country</th>\n",
              "      <th>location_state</th>\n",
              "      <th>title_contain_urgent</th>\n",
              "      <th>company_profile_isna</th>\n",
              "      <th>salary_start</th>\n",
              "      <th>salary_interval</th>\n",
              "      <th>full_text</th>\n",
              "      <th>text_len</th>\n",
              "    </tr>\n",
              "  </thead>\n",
              "  <tbody>\n",
              "    <tr>\n",
              "      <th>0</th>\n",
              "      <td>1</td>\n",
              "      <td>Marketing</td>\n",
              "      <td>0</td>\n",
              "      <td>1</td>\n",
              "      <td>0</td>\n",
              "      <td>Other</td>\n",
              "      <td>Internship</td>\n",
              "      <td>Bachelor's Degree</td>\n",
              "      <td>Marketing and Advertising</td>\n",
              "      <td>Marketing</td>\n",
              "      <td>0</td>\n",
              "      <td>0.24</td>\n",
              "      <td>us</td>\n",
              "      <td>ny</td>\n",
              "      <td>0</td>\n",
              "      <td>0</td>\n",
              "      <td>0</td>\n",
              "      <td>0</td>\n",
              "      <td>marketing intern us ny new york foodfifty two ...</td>\n",
              "      <td>271</td>\n",
              "    </tr>\n",
              "    <tr>\n",
              "      <th>1</th>\n",
              "      <td>2</td>\n",
              "      <td>Success</td>\n",
              "      <td>0</td>\n",
              "      <td>1</td>\n",
              "      <td>0</td>\n",
              "      <td>Full-time</td>\n",
              "      <td>Not Applicable</td>\n",
              "      <td>Bachelor's Degree</td>\n",
              "      <td>Marketing and Advertising</td>\n",
              "      <td>Customer Service</td>\n",
              "      <td>0</td>\n",
              "      <td>0.12</td>\n",
              "      <td>nz</td>\n",
              "      <td></td>\n",
              "      <td>0</td>\n",
              "      <td>0</td>\n",
              "      <td>0</td>\n",
              "      <td>0</td>\n",
              "      <td>customer service cloud video production nz auc...</td>\n",
              "      <td>606</td>\n",
              "    </tr>\n",
              "    <tr>\n",
              "      <th>2</th>\n",
              "      <td>3</td>\n",
              "      <td>NAD</td>\n",
              "      <td>0</td>\n",
              "      <td>1</td>\n",
              "      <td>0</td>\n",
              "      <td>NAD</td>\n",
              "      <td>NAD</td>\n",
              "      <td>NAD</td>\n",
              "      <td>NAD</td>\n",
              "      <td>NAD</td>\n",
              "      <td>0</td>\n",
              "      <td>0.47</td>\n",
              "      <td>us</td>\n",
              "      <td>ia</td>\n",
              "      <td>0</td>\n",
              "      <td>0</td>\n",
              "      <td>0</td>\n",
              "      <td>0</td>\n",
              "      <td>commissioning machinery assistant cma us ia we...</td>\n",
              "      <td>245</td>\n",
              "    </tr>\n",
              "    <tr>\n",
              "      <th>3</th>\n",
              "      <td>4</td>\n",
              "      <td>Sales</td>\n",
              "      <td>0</td>\n",
              "      <td>1</td>\n",
              "      <td>0</td>\n",
              "      <td>Full-time</td>\n",
              "      <td>Mid-Senior level</td>\n",
              "      <td>Bachelor's Degree</td>\n",
              "      <td>Computer Software</td>\n",
              "      <td>Sales</td>\n",
              "      <td>0</td>\n",
              "      <td>0.06</td>\n",
              "      <td>us</td>\n",
              "      <td>dc</td>\n",
              "      <td>0</td>\n",
              "      <td>0</td>\n",
              "      <td>0</td>\n",
              "      <td>0</td>\n",
              "      <td>account executive washington dc us dc passion ...</td>\n",
              "      <td>509</td>\n",
              "    </tr>\n",
              "    <tr>\n",
              "      <th>4</th>\n",
              "      <td>5</td>\n",
              "      <td>NAD</td>\n",
              "      <td>0</td>\n",
              "      <td>1</td>\n",
              "      <td>1</td>\n",
              "      <td>Full-time</td>\n",
              "      <td>Mid-Senior level</td>\n",
              "      <td>Bachelor's Degree</td>\n",
              "      <td>Hospital &amp; Health Care</td>\n",
              "      <td>Health Care Provider</td>\n",
              "      <td>0</td>\n",
              "      <td>0.12</td>\n",
              "      <td>us</td>\n",
              "      <td>fl</td>\n",
              "      <td>0</td>\n",
              "      <td>0</td>\n",
              "      <td>0</td>\n",
              "      <td>0</td>\n",
              "      <td>bill review manager us fl fort worth spotsourc...</td>\n",
              "      <td>420</td>\n",
              "    </tr>\n",
              "  </tbody>\n",
              "</table>\n",
              "</div>\n",
              "    <div class=\"colab-df-buttons\">\n",
              "\n",
              "  <div class=\"colab-df-container\">\n",
              "    <button class=\"colab-df-convert\" onclick=\"convertToInteractive('df-86a068ab-e8f2-499c-8ff5-f65c1b0bc07e')\"\n",
              "            title=\"Convert this dataframe to an interactive table.\"\n",
              "            style=\"display:none;\">\n",
              "\n",
              "  <svg xmlns=\"http://www.w3.org/2000/svg\" height=\"24px\" viewBox=\"0 -960 960 960\">\n",
              "    <path d=\"M120-120v-720h720v720H120Zm60-500h600v-160H180v160Zm220 220h160v-160H400v160Zm0 220h160v-160H400v160ZM180-400h160v-160H180v160Zm440 0h160v-160H620v160ZM180-180h160v-160H180v160Zm440 0h160v-160H620v160Z\"/>\n",
              "  </svg>\n",
              "    </button>\n",
              "\n",
              "  <style>\n",
              "    .colab-df-container {\n",
              "      display:flex;\n",
              "      gap: 12px;\n",
              "    }\n",
              "\n",
              "    .colab-df-convert {\n",
              "      background-color: #E8F0FE;\n",
              "      border: none;\n",
              "      border-radius: 50%;\n",
              "      cursor: pointer;\n",
              "      display: none;\n",
              "      fill: #1967D2;\n",
              "      height: 32px;\n",
              "      padding: 0 0 0 0;\n",
              "      width: 32px;\n",
              "    }\n",
              "\n",
              "    .colab-df-convert:hover {\n",
              "      background-color: #E2EBFA;\n",
              "      box-shadow: 0px 1px 2px rgba(60, 64, 67, 0.3), 0px 1px 3px 1px rgba(60, 64, 67, 0.15);\n",
              "      fill: #174EA6;\n",
              "    }\n",
              "\n",
              "    .colab-df-buttons div {\n",
              "      margin-bottom: 4px;\n",
              "    }\n",
              "\n",
              "    [theme=dark] .colab-df-convert {\n",
              "      background-color: #3B4455;\n",
              "      fill: #D2E3FC;\n",
              "    }\n",
              "\n",
              "    [theme=dark] .colab-df-convert:hover {\n",
              "      background-color: #434B5C;\n",
              "      box-shadow: 0px 1px 3px 1px rgba(0, 0, 0, 0.15);\n",
              "      filter: drop-shadow(0px 1px 2px rgba(0, 0, 0, 0.3));\n",
              "      fill: #FFFFFF;\n",
              "    }\n",
              "  </style>\n",
              "\n",
              "    <script>\n",
              "      const buttonEl =\n",
              "        document.querySelector('#df-86a068ab-e8f2-499c-8ff5-f65c1b0bc07e button.colab-df-convert');\n",
              "      buttonEl.style.display =\n",
              "        google.colab.kernel.accessAllowed ? 'block' : 'none';\n",
              "\n",
              "      async function convertToInteractive(key) {\n",
              "        const element = document.querySelector('#df-86a068ab-e8f2-499c-8ff5-f65c1b0bc07e');\n",
              "        const dataTable =\n",
              "          await google.colab.kernel.invokeFunction('convertToInteractive',\n",
              "                                                    [key], {});\n",
              "        if (!dataTable) return;\n",
              "\n",
              "        const docLinkHtml = 'Like what you see? Visit the ' +\n",
              "          '<a target=\"_blank\" href=https://colab.research.google.com/notebooks/data_table.ipynb>data table notebook</a>'\n",
              "          + ' to learn more about interactive tables.';\n",
              "        element.innerHTML = '';\n",
              "        dataTable['output_type'] = 'display_data';\n",
              "        await google.colab.output.renderOutput(dataTable, element);\n",
              "        const docLink = document.createElement('div');\n",
              "        docLink.innerHTML = docLinkHtml;\n",
              "        element.appendChild(docLink);\n",
              "      }\n",
              "    </script>\n",
              "  </div>\n",
              "\n",
              "\n",
              "<div id=\"df-f435dae8-f591-4cf1-bc2a-6f8b6084292e\">\n",
              "  <button class=\"colab-df-quickchart\" onclick=\"quickchart('df-f435dae8-f591-4cf1-bc2a-6f8b6084292e')\"\n",
              "            title=\"Suggest charts.\"\n",
              "            style=\"display:none;\">\n",
              "\n",
              "<svg xmlns=\"http://www.w3.org/2000/svg\" height=\"24px\"viewBox=\"0 0 24 24\"\n",
              "     width=\"24px\">\n",
              "    <g>\n",
              "        <path d=\"M19 3H5c-1.1 0-2 .9-2 2v14c0 1.1.9 2 2 2h14c1.1 0 2-.9 2-2V5c0-1.1-.9-2-2-2zM9 17H7v-7h2v7zm4 0h-2V7h2v10zm4 0h-2v-4h2v4z\"/>\n",
              "    </g>\n",
              "</svg>\n",
              "  </button>\n",
              "\n",
              "<style>\n",
              "  .colab-df-quickchart {\n",
              "      --bg-color: #E8F0FE;\n",
              "      --fill-color: #1967D2;\n",
              "      --hover-bg-color: #E2EBFA;\n",
              "      --hover-fill-color: #174EA6;\n",
              "      --disabled-fill-color: #AAA;\n",
              "      --disabled-bg-color: #DDD;\n",
              "  }\n",
              "\n",
              "  [theme=dark] .colab-df-quickchart {\n",
              "      --bg-color: #3B4455;\n",
              "      --fill-color: #D2E3FC;\n",
              "      --hover-bg-color: #434B5C;\n",
              "      --hover-fill-color: #FFFFFF;\n",
              "      --disabled-bg-color: #3B4455;\n",
              "      --disabled-fill-color: #666;\n",
              "  }\n",
              "\n",
              "  .colab-df-quickchart {\n",
              "    background-color: var(--bg-color);\n",
              "    border: none;\n",
              "    border-radius: 50%;\n",
              "    cursor: pointer;\n",
              "    display: none;\n",
              "    fill: var(--fill-color);\n",
              "    height: 32px;\n",
              "    padding: 0;\n",
              "    width: 32px;\n",
              "  }\n",
              "\n",
              "  .colab-df-quickchart:hover {\n",
              "    background-color: var(--hover-bg-color);\n",
              "    box-shadow: 0 1px 2px rgba(60, 64, 67, 0.3), 0 1px 3px 1px rgba(60, 64, 67, 0.15);\n",
              "    fill: var(--button-hover-fill-color);\n",
              "  }\n",
              "\n",
              "  .colab-df-quickchart-complete:disabled,\n",
              "  .colab-df-quickchart-complete:disabled:hover {\n",
              "    background-color: var(--disabled-bg-color);\n",
              "    fill: var(--disabled-fill-color);\n",
              "    box-shadow: none;\n",
              "  }\n",
              "\n",
              "  .colab-df-spinner {\n",
              "    border: 2px solid var(--fill-color);\n",
              "    border-color: transparent;\n",
              "    border-bottom-color: var(--fill-color);\n",
              "    animation:\n",
              "      spin 1s steps(1) infinite;\n",
              "  }\n",
              "\n",
              "  @keyframes spin {\n",
              "    0% {\n",
              "      border-color: transparent;\n",
              "      border-bottom-color: var(--fill-color);\n",
              "      border-left-color: var(--fill-color);\n",
              "    }\n",
              "    20% {\n",
              "      border-color: transparent;\n",
              "      border-left-color: var(--fill-color);\n",
              "      border-top-color: var(--fill-color);\n",
              "    }\n",
              "    30% {\n",
              "      border-color: transparent;\n",
              "      border-left-color: var(--fill-color);\n",
              "      border-top-color: var(--fill-color);\n",
              "      border-right-color: var(--fill-color);\n",
              "    }\n",
              "    40% {\n",
              "      border-color: transparent;\n",
              "      border-right-color: var(--fill-color);\n",
              "      border-top-color: var(--fill-color);\n",
              "    }\n",
              "    60% {\n",
              "      border-color: transparent;\n",
              "      border-right-color: var(--fill-color);\n",
              "    }\n",
              "    80% {\n",
              "      border-color: transparent;\n",
              "      border-right-color: var(--fill-color);\n",
              "      border-bottom-color: var(--fill-color);\n",
              "    }\n",
              "    90% {\n",
              "      border-color: transparent;\n",
              "      border-bottom-color: var(--fill-color);\n",
              "    }\n",
              "  }\n",
              "</style>\n",
              "\n",
              "  <script>\n",
              "    async function quickchart(key) {\n",
              "      const quickchartButtonEl =\n",
              "        document.querySelector('#' + key + ' button');\n",
              "      quickchartButtonEl.disabled = true;  // To prevent multiple clicks.\n",
              "      quickchartButtonEl.classList.add('colab-df-spinner');\n",
              "      try {\n",
              "        const charts = await google.colab.kernel.invokeFunction(\n",
              "            'suggestCharts', [key], {});\n",
              "      } catch (error) {\n",
              "        console.error('Error during call to suggestCharts:', error);\n",
              "      }\n",
              "      quickchartButtonEl.classList.remove('colab-df-spinner');\n",
              "      quickchartButtonEl.classList.add('colab-df-quickchart-complete');\n",
              "    }\n",
              "    (() => {\n",
              "      let quickchartButtonEl =\n",
              "        document.querySelector('#df-f435dae8-f591-4cf1-bc2a-6f8b6084292e button');\n",
              "      quickchartButtonEl.style.display =\n",
              "        google.colab.kernel.accessAllowed ? 'block' : 'none';\n",
              "    })();\n",
              "  </script>\n",
              "</div>\n",
              "    </div>\n",
              "  </div>\n"
            ]
          },
          "metadata": {},
          "execution_count": 95
        }
      ]
    },
    {
      "cell_type": "code",
      "source": [
        "plt.figure(figsize=(10,6))\n",
        "sns.histplot(data=df, x=\"text_len\", hue=\"fraudulent\", kde=False, bins=50)\n",
        "plt.show()"
      ],
      "metadata": {
        "colab": {
          "base_uri": "https://localhost:8080/",
          "height": 542
        },
        "id": "YLXuyotp_Ztm",
        "outputId": "a3414c10-23f3-4a64-935a-318e94276205"
      },
      "execution_count": 96,
      "outputs": [
        {
          "output_type": "display_data",
          "data": {
            "text/plain": [
              "<Figure size 1000x600 with 1 Axes>"
            ],
            "image/png": "[encoded data removed]"
          },
          "metadata": {}
        }
      ]
    },
    {
      "cell_type": "code",
      "source": [
        "df['text_len'].describe()"
      ],
      "metadata": {
        "colab": {
          "base_uri": "https://localhost:8080/"
        },
        "id": "yCcRknWDBQHI",
        "outputId": "734390ba-04d5-483a-ae4a-796fdfb12b38"
      },
      "execution_count": 97,
      "outputs": [
        {
          "output_type": "execute_result",
          "data": {
            "text/plain": [
              "count    17879.000000\n",
              "mean       288.665977\n",
              "std        147.937320\n",
              "min         14.000000\n",
              "25%        177.000000\n",
              "50%        265.000000\n",
              "75%        368.000000\n",
              "max       1532.000000\n",
              "Name: text_len, dtype: float64"
            ]
          },
          "metadata": {},
          "execution_count": 97
        }
      ]
    },
    {
      "cell_type": "code",
      "source": [
        "df[df['fraudulent']==0]['text_len'].describe()"
      ],
      "metadata": {
        "colab": {
          "base_uri": "https://localhost:8080/"
        },
        "id": "oyXwHtq3BToX",
        "outputId": "ecbb0530-e26f-4781-ab64-c136b4d17bf4"
      },
      "execution_count": 98,
      "outputs": [
        {
          "output_type": "execute_result",
          "data": {
            "text/plain": [
              "count    17014.000000\n",
              "mean       291.202833\n",
              "std        146.711947\n",
              "min         18.000000\n",
              "25%        181.000000\n",
              "50%        268.000000\n",
              "75%        371.000000\n",
              "max       1532.000000\n",
              "Name: text_len, dtype: float64"
            ]
          },
          "metadata": {},
          "execution_count": 98
        }
      ]
    },
    {
      "cell_type": "code",
      "source": [
        "df[df['fraudulent']==1]['text_len'].describe()"
      ],
      "metadata": {
        "colab": {
          "base_uri": "https://localhost:8080/"
        },
        "id": "VAvN-p07Bbnj",
        "outputId": "cdd42c48-4488-44ef-a963-cfeefac461d3"
      },
      "execution_count": 99,
      "outputs": [
        {
          "output_type": "execute_result",
          "data": {
            "text/plain": [
              "count     865.000000\n",
              "mean      238.767630\n",
              "std       162.483383\n",
              "min        14.000000\n",
              "25%       120.000000\n",
              "50%       196.000000\n",
              "75%       308.000000\n",
              "max      1000.000000\n",
              "Name: text_len, dtype: float64"
            ]
          },
          "metadata": {},
          "execution_count": 99
        }
      ]
    },
    {
      "cell_type": "markdown",
      "source": [
        "### 3.3 train-test-split"
      ],
      "metadata": {
        "id": "nae24xv-LUeG"
      }
    },
    {
      "cell_type": "markdown",
      "source": [
        "### 3.4 Encoding"
      ],
      "metadata": {
        "id": "VJ8O1SlqKhyi"
      }
    },
    {
      "cell_type": "code",
      "source": [
        "# frequency encoding"
      ],
      "metadata": {
        "id": "K999gds-LFSM"
      },
      "execution_count": null,
      "outputs": []
    },
    {
      "cell_type": "code",
      "source": [
        "# one-hot encoding"
      ],
      "metadata": {
        "id": "tlweKAKLLFUr"
      },
      "execution_count": null,
      "outputs": []
    },
    {
      "cell_type": "code",
      "source": [],
      "metadata": {
        "id": "EbJThin8LFXV"
      },
      "execution_count": null,
      "outputs": []
    },
    {
      "cell_type": "code",
      "source": [],
      "metadata": {
        "id": "7oh-Sr1PLFZy"
      },
      "execution_count": null,
      "outputs": []
    },
    {
      "cell_type": "markdown",
      "source": [
        "### 3.5 Get embeddings"
      ],
      "metadata": {
        "id": "3b_nk0wbzbo0"
      }
    },
    {
      "cell_type": "code",
      "source": [
        "## pre trained\n",
        "## tokenized, embedding layer"
      ],
      "metadata": {
        "id": "m25zal4DzmDR"
      },
      "execution_count": null,
      "outputs": []
    },
    {
      "cell_type": "markdown",
      "source": [
        "## 4. Modelling"
      ],
      "metadata": {
        "id": "ku-hMPh9zsig"
      }
    },
    {
      "cell_type": "code",
      "source": [],
      "metadata": {
        "id": "PTx3Il-wzt8l"
      },
      "execution_count": null,
      "outputs": []
    },
    {
      "cell_type": "markdown",
      "source": [
        "- new features: location country/state/city, company_profile_isna, full_text_len\n",
        "- missing values: fill with 'Unknown'\n",
        "- re-bins: salary_range\n",
        "- encoding: frequency encoding & one-hot\n",
        "- embeddings: pre trained, tokenize then embedding layer\n"
      ],
      "metadata": {
        "id": "iQCLVIwzXeRT"
      }
    },
    {
      "cell_type": "code",
      "source": [],
      "metadata": {
        "id": "2xjoJ4REX4YP"
      },
      "execution_count": null,
      "outputs": []
    }
  ]
}