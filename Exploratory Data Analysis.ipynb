{
 "cells": [
  {
   "cell_type": "markdown",
   "metadata": {
    "id": "gc1hdfOleGZD"
   },
   "source": [
    "## 1. Import Libraries"
   ]
  },
  {
   "cell_type": "code",
   "execution_count": 1,
   "metadata": {
    "id": "kx-NhyNUcvOa"
   },
   "outputs": [
    {
     "name": "stderr",
     "output_type": "stream",
     "text": [
      "[nltk_data] Downloading package stopwords to /Users/qzx/nltk_data...\n",
      "[nltk_data]   Package stopwords is already up-to-date!\n",
      "[nltk_data] Downloading package wordnet to /Users/qzx/nltk_data...\n",
      "[nltk_data]   Package wordnet is already up-to-date!\n"
     ]
    }
   ],
   "source": [
    "import numpy as np\n",
    "import pandas as pd\n",
    "import matplotlib.pyplot as plt\n",
    "import seaborn as sns\n",
    "import sklearn\n",
    "import warnings\n",
    "import missingno\n",
    "\n",
    "import nltk\n",
    "from nltk.tokenize import word_tokenize\n",
    "from nltk.stem.porter import PorterStemmer\n",
    "nltk.download('stopwords')\n",
    "nltk.download('wordnet')\n",
    "# all text data, convert numbers to words, only letter, lower case\n",
    "from num2words import num2words\n",
    "from ftfy import fix_text\n",
    "import re\n",
    "\n",
    "\n",
    "import spacy\n",
    "from spacy.lang.en.stop_words import STOP_WORDS\n",
    "from spacy.lang.en import English\n",
    "from wordcloud import WordCloud\n",
    "\n",
    "warnings.filterwarnings('ignore')\n",
    "pd.set_option('display.max_columns', 500)"
   ]
  },
  {
   "cell_type": "code",
   "execution_count": 2,
   "metadata": {
    "colab": {
     "base_uri": "https://localhost:8080/",
     "height": 573
    },
    "id": "ISgsXt_wcxel",
    "outputId": "5ff54cfa-8569-4004-b27d-1897b98f42d1"
   },
   "outputs": [
    {
     "data": {
      "text/html": [
       "<div>\n",
       "<style scoped>\n",
       "    .dataframe tbody tr th:only-of-type {\n",
       "        vertical-align: middle;\n",
       "    }\n",
       "\n",
       "    .dataframe tbody tr th {\n",
       "        vertical-align: top;\n",
       "    }\n",
       "\n",
       "    .dataframe thead th {\n",
       "        text-align: right;\n",
       "    }\n",
       "</style>\n",
       "<table border=\"1\" class=\"dataframe\">\n",
       "  <thead>\n",
       "    <tr style=\"text-align: right;\">\n",
       "      <th></th>\n",
       "      <th>job_id</th>\n",
       "      <th>title</th>\n",
       "      <th>location</th>\n",
       "      <th>department</th>\n",
       "      <th>salary_range</th>\n",
       "      <th>company_profile</th>\n",
       "      <th>description</th>\n",
       "      <th>requirements</th>\n",
       "      <th>benefits</th>\n",
       "      <th>telecommuting</th>\n",
       "      <th>has_company_logo</th>\n",
       "      <th>has_questions</th>\n",
       "      <th>employment_type</th>\n",
       "      <th>required_experience</th>\n",
       "      <th>required_education</th>\n",
       "      <th>industry</th>\n",
       "      <th>function</th>\n",
       "      <th>fraudulent</th>\n",
       "    </tr>\n",
       "  </thead>\n",
       "  <tbody>\n",
       "    <tr>\n",
       "      <th>0</th>\n",
       "      <td>1</td>\n",
       "      <td>Marketing Intern</td>\n",
       "      <td>US, NY, New York</td>\n",
       "      <td>Marketing</td>\n",
       "      <td>NaN</td>\n",
       "      <td>We're Food52, and we've created a groundbreaki...</td>\n",
       "      <td>Food52, a fast-growing, James Beard Award-winn...</td>\n",
       "      <td>Experience with content management systems a m...</td>\n",
       "      <td>NaN</td>\n",
       "      <td>0</td>\n",
       "      <td>1</td>\n",
       "      <td>0</td>\n",
       "      <td>Other</td>\n",
       "      <td>Internship</td>\n",
       "      <td>NaN</td>\n",
       "      <td>NaN</td>\n",
       "      <td>Marketing</td>\n",
       "      <td>0</td>\n",
       "    </tr>\n",
       "    <tr>\n",
       "      <th>1</th>\n",
       "      <td>2</td>\n",
       "      <td>Customer Service - Cloud Video Production</td>\n",
       "      <td>NZ, , Auckland</td>\n",
       "      <td>Success</td>\n",
       "      <td>NaN</td>\n",
       "      <td>90 Seconds, the worlds Cloud Video Production ...</td>\n",
       "      <td>Organised - Focused - Vibrant - Awesome!Do you...</td>\n",
       "      <td>What we expect from you:Your key responsibilit...</td>\n",
       "      <td>What you will get from usThrough being part of...</td>\n",
       "      <td>0</td>\n",
       "      <td>1</td>\n",
       "      <td>0</td>\n",
       "      <td>Full-time</td>\n",
       "      <td>Not Applicable</td>\n",
       "      <td>NaN</td>\n",
       "      <td>Marketing and Advertising</td>\n",
       "      <td>Customer Service</td>\n",
       "      <td>0</td>\n",
       "    </tr>\n",
       "    <tr>\n",
       "      <th>2</th>\n",
       "      <td>3</td>\n",
       "      <td>Commissioning Machinery Assistant (CMA)</td>\n",
       "      <td>US, IA, Wever</td>\n",
       "      <td>NaN</td>\n",
       "      <td>NaN</td>\n",
       "      <td>Valor Services provides Workforce Solutions th...</td>\n",
       "      <td>Our client, located in Houston, is actively se...</td>\n",
       "      <td>Implement pre-commissioning and commissioning ...</td>\n",
       "      <td>NaN</td>\n",
       "      <td>0</td>\n",
       "      <td>1</td>\n",
       "      <td>0</td>\n",
       "      <td>NaN</td>\n",
       "      <td>NaN</td>\n",
       "      <td>NaN</td>\n",
       "      <td>NaN</td>\n",
       "      <td>NaN</td>\n",
       "      <td>0</td>\n",
       "    </tr>\n",
       "    <tr>\n",
       "      <th>3</th>\n",
       "      <td>4</td>\n",
       "      <td>Account Executive - Washington DC</td>\n",
       "      <td>US, DC, Washington</td>\n",
       "      <td>Sales</td>\n",
       "      <td>NaN</td>\n",
       "      <td>Our passion for improving quality of life thro...</td>\n",
       "      <td>THE COMPANY: ESRI – Environmental Systems Rese...</td>\n",
       "      <td>EDUCATION: Bachelor’s or Master’s in GIS, busi...</td>\n",
       "      <td>Our culture is anything but corporate—we have ...</td>\n",
       "      <td>0</td>\n",
       "      <td>1</td>\n",
       "      <td>0</td>\n",
       "      <td>Full-time</td>\n",
       "      <td>Mid-Senior level</td>\n",
       "      <td>Bachelor's Degree</td>\n",
       "      <td>Computer Software</td>\n",
       "      <td>Sales</td>\n",
       "      <td>0</td>\n",
       "    </tr>\n",
       "    <tr>\n",
       "      <th>4</th>\n",
       "      <td>5</td>\n",
       "      <td>Bill Review Manager</td>\n",
       "      <td>US, FL, Fort Worth</td>\n",
       "      <td>NaN</td>\n",
       "      <td>NaN</td>\n",
       "      <td>SpotSource Solutions LLC is a Global Human Cap...</td>\n",
       "      <td>JOB TITLE: Itemization Review ManagerLOCATION:...</td>\n",
       "      <td>QUALIFICATIONS:RN license in the State of Texa...</td>\n",
       "      <td>Full Benefits Offered</td>\n",
       "      <td>0</td>\n",
       "      <td>1</td>\n",
       "      <td>1</td>\n",
       "      <td>Full-time</td>\n",
       "      <td>Mid-Senior level</td>\n",
       "      <td>Bachelor's Degree</td>\n",
       "      <td>Hospital &amp; Health Care</td>\n",
       "      <td>Health Care Provider</td>\n",
       "      <td>0</td>\n",
       "    </tr>\n",
       "  </tbody>\n",
       "</table>\n",
       "</div>"
      ],
      "text/plain": [
       "   job_id                                      title            location  \\\n",
       "0       1                           Marketing Intern    US, NY, New York   \n",
       "1       2  Customer Service - Cloud Video Production      NZ, , Auckland   \n",
       "2       3    Commissioning Machinery Assistant (CMA)       US, IA, Wever   \n",
       "3       4          Account Executive - Washington DC  US, DC, Washington   \n",
       "4       5                        Bill Review Manager  US, FL, Fort Worth   \n",
       "\n",
       "  department salary_range                                    company_profile  \\\n",
       "0  Marketing          NaN  We're Food52, and we've created a groundbreaki...   \n",
       "1    Success          NaN  90 Seconds, the worlds Cloud Video Production ...   \n",
       "2        NaN          NaN  Valor Services provides Workforce Solutions th...   \n",
       "3      Sales          NaN  Our passion for improving quality of life thro...   \n",
       "4        NaN          NaN  SpotSource Solutions LLC is a Global Human Cap...   \n",
       "\n",
       "                                         description  \\\n",
       "0  Food52, a fast-growing, James Beard Award-winn...   \n",
       "1  Organised - Focused - Vibrant - Awesome!Do you...   \n",
       "2  Our client, located in Houston, is actively se...   \n",
       "3  THE COMPANY: ESRI – Environmental Systems Rese...   \n",
       "4  JOB TITLE: Itemization Review ManagerLOCATION:...   \n",
       "\n",
       "                                        requirements  \\\n",
       "0  Experience with content management systems a m...   \n",
       "1  What we expect from you:Your key responsibilit...   \n",
       "2  Implement pre-commissioning and commissioning ...   \n",
       "3  EDUCATION: Bachelor’s or Master’s in GIS, busi...   \n",
       "4  QUALIFICATIONS:RN license in the State of Texa...   \n",
       "\n",
       "                                            benefits  telecommuting  \\\n",
       "0                                                NaN              0   \n",
       "1  What you will get from usThrough being part of...              0   \n",
       "2                                                NaN              0   \n",
       "3  Our culture is anything but corporate—we have ...              0   \n",
       "4                              Full Benefits Offered              0   \n",
       "\n",
       "   has_company_logo  has_questions employment_type required_experience  \\\n",
       "0                 1              0           Other          Internship   \n",
       "1                 1              0       Full-time      Not Applicable   \n",
       "2                 1              0             NaN                 NaN   \n",
       "3                 1              0       Full-time    Mid-Senior level   \n",
       "4                 1              1       Full-time    Mid-Senior level   \n",
       "\n",
       "  required_education                   industry              function  \\\n",
       "0                NaN                        NaN             Marketing   \n",
       "1                NaN  Marketing and Advertising      Customer Service   \n",
       "2                NaN                        NaN                   NaN   \n",
       "3  Bachelor's Degree          Computer Software                 Sales   \n",
       "4  Bachelor's Degree     Hospital & Health Care  Health Care Provider   \n",
       "\n",
       "   fraudulent  \n",
       "0           0  \n",
       "1           0  \n",
       "2           0  \n",
       "3           0  \n",
       "4           0  "
      ]
     },
     "execution_count": 2,
     "metadata": {},
     "output_type": "execute_result"
    }
   ],
   "source": [
    "# Load the data and check the first few lines\n",
    "dataset_path = \"fake_job_postings.csv\"\n",
    "dataset = pd.read_csv(dataset_path)\n",
    "dataset.head()"
   ]
  },
  {
   "cell_type": "markdown",
   "metadata": {},
   "source": [
    "### Basic Understanding of the Data"
   ]
  },
  {
   "cell_type": "code",
   "execution_count": 3,
   "metadata": {
    "colab": {
     "base_uri": "https://localhost:8080/"
    },
    "id": "5bgg72oBcxg6",
    "outputId": "2b99b338-5777-4805-cc69-4ac69071acfe"
   },
   "outputs": [
    {
     "name": "stdout",
     "output_type": "stream",
     "text": [
      "(17880, 18)\n",
      "<class 'pandas.core.frame.DataFrame'>\n",
      "RangeIndex: 17880 entries, 0 to 17879\n",
      "Data columns (total 18 columns):\n",
      " #   Column               Non-Null Count  Dtype \n",
      "---  ------               --------------  ----- \n",
      " 0   job_id               17880 non-null  int64 \n",
      " 1   title                17880 non-null  object\n",
      " 2   location             17534 non-null  object\n",
      " 3   department           6333 non-null   object\n",
      " 4   salary_range         2868 non-null   object\n",
      " 5   company_profile      14572 non-null  object\n",
      " 6   description          17879 non-null  object\n",
      " 7   requirements         15184 non-null  object\n",
      " 8   benefits             10668 non-null  object\n",
      " 9   telecommuting        17880 non-null  int64 \n",
      " 10  has_company_logo     17880 non-null  int64 \n",
      " 11  has_questions        17880 non-null  int64 \n",
      " 12  employment_type      14409 non-null  object\n",
      " 13  required_experience  10830 non-null  object\n",
      " 14  required_education   9775 non-null   object\n",
      " 15  industry             12977 non-null  object\n",
      " 16  function             11425 non-null  object\n",
      " 17  fraudulent           17880 non-null  int64 \n",
      "dtypes: int64(5), object(13)\n",
      "memory usage: 2.5+ MB\n"
     ]
    }
   ],
   "source": [
    "print(dataset.shape)\n",
    "dataset.info()"
   ]
  },
  {
   "cell_type": "code",
   "execution_count": 4,
   "metadata": {
    "colab": {
     "base_uri": "https://localhost:8080/"
    },
    "id": "5MNu7Z9Vcxi-",
    "outputId": "ce1b8f4d-6d24-41c3-a1ec-d437349640d5"
   },
   "outputs": [
    {
     "data": {
      "text/plain": [
       "job_id                     0\n",
       "title                      0\n",
       "location                 346\n",
       "department             11547\n",
       "salary_range           15012\n",
       "company_profile         3308\n",
       "description                1\n",
       "requirements            2696\n",
       "benefits                7212\n",
       "telecommuting              0\n",
       "has_company_logo           0\n",
       "has_questions              0\n",
       "employment_type         3471\n",
       "required_experience     7050\n",
       "required_education      8105\n",
       "industry                4903\n",
       "function                6455\n",
       "fraudulent                 0\n",
       "dtype: int64"
      ]
     },
     "execution_count": 4,
     "metadata": {},
     "output_type": "execute_result"
    }
   ],
   "source": [
    "dataset.isna().sum()"
   ]
  },
  {
   "cell_type": "code",
   "execution_count": 5,
   "metadata": {},
   "outputs": [
    {
     "data": {
      "text/plain": [
       "<Axes: >"
      ]
     },
     "execution_count": 5,
     "metadata": {},
     "output_type": "execute_result"
    },
    {
     "data": {
      "image/png": "[encoded data removed]",
      "text/plain": [
       "<Figure size 2500x1000 with 2 Axes>"
      ]
     },
     "metadata": {},
     "output_type": "display_data"
    }
   ],
   "source": [
    "#Alternative way to have a quick glance to check missing values\n",
    "missingno.matrix(dataset)"
   ]
  },
  {
   "cell_type": "code",
   "execution_count": 6,
   "metadata": {
    "colab": {
     "base_uri": "https://localhost:8080/"
    },
    "id": "C2G7wEzjeOYE",
    "outputId": "0f5f077e-5133-403a-ed59-ebce9841ba74"
   },
   "outputs": [
    {
     "data": {
      "text/plain": [
       "0"
      ]
     },
     "execution_count": 6,
     "metadata": {},
     "output_type": "execute_result"
    }
   ],
   "source": [
    "dataset.duplicated().sum()"
   ]
  },
  {
   "cell_type": "markdown",
   "metadata": {},
   "source": [
    "From the data, we understand that there are 0 duplicated rows and there are a lot of data columns that has a lot of NA values especially department and salary range. This folows up required_education, benefits and required_experience. We will dive deep to understand each data columns better to make a decision if we want to drop the column or not. "
   ]
  },
  {
   "cell_type": "markdown",
   "metadata": {},
   "source": [
    "## 2. Data Cleaning"
   ]
  },
  {
   "cell_type": "markdown",
   "metadata": {},
   "source": [
    "Columns with missing value: \n",
    "\n",
    "location                 346\n",
    "department             11547\n",
    "salary_range           15012\n",
    "company_profile         3308\n",
    "description                1\n",
    "requirements            2695\n",
    "benefits                7210\n",
    "employment_type         3471\n",
    "required_experience     7050\n",
    "required_education      8105\n",
    "industry                4903\n",
    "function                6455"
   ]
  },
  {
   "cell_type": "code",
   "execution_count": 7,
   "metadata": {},
   "outputs": [],
   "source": [
    "dataset['have_company_profile'] = np.where(dataset['company_profile'].notnull(), 1, 0)\n",
    "dataset['have_description'] = np.where(dataset['description'].notnull(), 1, 0)\n",
    "dataset['have_requirements'] = np.where(dataset['requirements'].notnull(), 1, 0)\n",
    "dataset['have_benefits'] = np.where(dataset['benefits'].notnull(), 1, 0)\n",
    "dataset['have_department'] = np.where(dataset['department'].notnull(), 1, 0)"
   ]
  },
  {
   "cell_type": "code",
   "execution_count": 8,
   "metadata": {},
   "outputs": [
    {
     "data": {
      "text/html": [
       "<div>\n",
       "<style scoped>\n",
       "    .dataframe tbody tr th:only-of-type {\n",
       "        vertical-align: middle;\n",
       "    }\n",
       "\n",
       "    .dataframe tbody tr th {\n",
       "        vertical-align: top;\n",
       "    }\n",
       "\n",
       "    .dataframe thead th {\n",
       "        text-align: right;\n",
       "    }\n",
       "</style>\n",
       "<table border=\"1\" class=\"dataframe\">\n",
       "  <thead>\n",
       "    <tr style=\"text-align: right;\">\n",
       "      <th></th>\n",
       "      <th>job_id</th>\n",
       "      <th>title</th>\n",
       "      <th>location</th>\n",
       "      <th>department</th>\n",
       "      <th>salary_range</th>\n",
       "      <th>company_profile</th>\n",
       "      <th>description</th>\n",
       "      <th>requirements</th>\n",
       "      <th>benefits</th>\n",
       "      <th>telecommuting</th>\n",
       "      <th>has_company_logo</th>\n",
       "      <th>has_questions</th>\n",
       "      <th>employment_type</th>\n",
       "      <th>required_experience</th>\n",
       "      <th>required_education</th>\n",
       "      <th>industry</th>\n",
       "      <th>function</th>\n",
       "      <th>fraudulent</th>\n",
       "      <th>have_company_profile</th>\n",
       "      <th>have_description</th>\n",
       "      <th>have_requirements</th>\n",
       "      <th>have_benefits</th>\n",
       "      <th>have_department</th>\n",
       "      <th>full_text</th>\n",
       "    </tr>\n",
       "  </thead>\n",
       "  <tbody>\n",
       "    <tr>\n",
       "      <th>0</th>\n",
       "      <td>1</td>\n",
       "      <td>Marketing Intern</td>\n",
       "      <td>US, NY, New York</td>\n",
       "      <td>Marketing</td>\n",
       "      <td>NaN</td>\n",
       "      <td>We're Food52, and we've created a groundbreaki...</td>\n",
       "      <td>Food52, a fast-growing, James Beard Award-winn...</td>\n",
       "      <td>Experience with content management systems a m...</td>\n",
       "      <td></td>\n",
       "      <td>0</td>\n",
       "      <td>1</td>\n",
       "      <td>0</td>\n",
       "      <td>Other</td>\n",
       "      <td>Internship</td>\n",
       "      <td>NaN</td>\n",
       "      <td>NaN</td>\n",
       "      <td>Marketing</td>\n",
       "      <td>0</td>\n",
       "      <td>1</td>\n",
       "      <td>1</td>\n",
       "      <td>1</td>\n",
       "      <td>0</td>\n",
       "      <td>1</td>\n",
       "      <td>We're Food52, and we've created a groundbreaki...</td>\n",
       "    </tr>\n",
       "    <tr>\n",
       "      <th>1</th>\n",
       "      <td>2</td>\n",
       "      <td>Customer Service - Cloud Video Production</td>\n",
       "      <td>NZ, , Auckland</td>\n",
       "      <td>Success</td>\n",
       "      <td>NaN</td>\n",
       "      <td>90 Seconds, the worlds Cloud Video Production ...</td>\n",
       "      <td>Organised - Focused - Vibrant - Awesome!Do you...</td>\n",
       "      <td>What we expect from you:Your key responsibilit...</td>\n",
       "      <td>What you will get from usThrough being part of...</td>\n",
       "      <td>0</td>\n",
       "      <td>1</td>\n",
       "      <td>0</td>\n",
       "      <td>Full-time</td>\n",
       "      <td>Not Applicable</td>\n",
       "      <td>NaN</td>\n",
       "      <td>Marketing and Advertising</td>\n",
       "      <td>Customer Service</td>\n",
       "      <td>0</td>\n",
       "      <td>1</td>\n",
       "      <td>1</td>\n",
       "      <td>1</td>\n",
       "      <td>1</td>\n",
       "      <td>1</td>\n",
       "      <td>90 Seconds, the worlds Cloud Video Production ...</td>\n",
       "    </tr>\n",
       "    <tr>\n",
       "      <th>2</th>\n",
       "      <td>3</td>\n",
       "      <td>Commissioning Machinery Assistant (CMA)</td>\n",
       "      <td>US, IA, Wever</td>\n",
       "      <td></td>\n",
       "      <td>NaN</td>\n",
       "      <td>Valor Services provides Workforce Solutions th...</td>\n",
       "      <td>Our client, located in Houston, is actively se...</td>\n",
       "      <td>Implement pre-commissioning and commissioning ...</td>\n",
       "      <td></td>\n",
       "      <td>0</td>\n",
       "      <td>1</td>\n",
       "      <td>0</td>\n",
       "      <td>NaN</td>\n",
       "      <td>NaN</td>\n",
       "      <td>NaN</td>\n",
       "      <td>NaN</td>\n",
       "      <td>NaN</td>\n",
       "      <td>0</td>\n",
       "      <td>1</td>\n",
       "      <td>1</td>\n",
       "      <td>1</td>\n",
       "      <td>0</td>\n",
       "      <td>0</td>\n",
       "      <td>Valor Services provides Workforce Solutions th...</td>\n",
       "    </tr>\n",
       "    <tr>\n",
       "      <th>3</th>\n",
       "      <td>4</td>\n",
       "      <td>Account Executive - Washington DC</td>\n",
       "      <td>US, DC, Washington</td>\n",
       "      <td>Sales</td>\n",
       "      <td>NaN</td>\n",
       "      <td>Our passion for improving quality of life thro...</td>\n",
       "      <td>THE COMPANY: ESRI – Environmental Systems Rese...</td>\n",
       "      <td>EDUCATION: Bachelor’s or Master’s in GIS, busi...</td>\n",
       "      <td>Our culture is anything but corporate—we have ...</td>\n",
       "      <td>0</td>\n",
       "      <td>1</td>\n",
       "      <td>0</td>\n",
       "      <td>Full-time</td>\n",
       "      <td>Mid-Senior level</td>\n",
       "      <td>Bachelor's Degree</td>\n",
       "      <td>Computer Software</td>\n",
       "      <td>Sales</td>\n",
       "      <td>0</td>\n",
       "      <td>1</td>\n",
       "      <td>1</td>\n",
       "      <td>1</td>\n",
       "      <td>1</td>\n",
       "      <td>1</td>\n",
       "      <td>Our passion for improving quality of life thro...</td>\n",
       "    </tr>\n",
       "    <tr>\n",
       "      <th>4</th>\n",
       "      <td>5</td>\n",
       "      <td>Bill Review Manager</td>\n",
       "      <td>US, FL, Fort Worth</td>\n",
       "      <td></td>\n",
       "      <td>NaN</td>\n",
       "      <td>SpotSource Solutions LLC is a Global Human Cap...</td>\n",
       "      <td>JOB TITLE: Itemization Review ManagerLOCATION:...</td>\n",
       "      <td>QUALIFICATIONS:RN license in the State of Texa...</td>\n",
       "      <td>Full Benefits Offered</td>\n",
       "      <td>0</td>\n",
       "      <td>1</td>\n",
       "      <td>1</td>\n",
       "      <td>Full-time</td>\n",
       "      <td>Mid-Senior level</td>\n",
       "      <td>Bachelor's Degree</td>\n",
       "      <td>Hospital &amp; Health Care</td>\n",
       "      <td>Health Care Provider</td>\n",
       "      <td>0</td>\n",
       "      <td>1</td>\n",
       "      <td>1</td>\n",
       "      <td>1</td>\n",
       "      <td>1</td>\n",
       "      <td>0</td>\n",
       "      <td>SpotSource Solutions LLC is a Global Human Cap...</td>\n",
       "    </tr>\n",
       "  </tbody>\n",
       "</table>\n",
       "</div>"
      ],
      "text/plain": [
       "   job_id                                      title            location  \\\n",
       "0       1                           Marketing Intern    US, NY, New York   \n",
       "1       2  Customer Service - Cloud Video Production      NZ, , Auckland   \n",
       "2       3    Commissioning Machinery Assistant (CMA)       US, IA, Wever   \n",
       "3       4          Account Executive - Washington DC  US, DC, Washington   \n",
       "4       5                        Bill Review Manager  US, FL, Fort Worth   \n",
       "\n",
       "  department salary_range                                    company_profile  \\\n",
       "0  Marketing          NaN  We're Food52, and we've created a groundbreaki...   \n",
       "1    Success          NaN  90 Seconds, the worlds Cloud Video Production ...   \n",
       "2                     NaN  Valor Services provides Workforce Solutions th...   \n",
       "3      Sales          NaN  Our passion for improving quality of life thro...   \n",
       "4                     NaN  SpotSource Solutions LLC is a Global Human Cap...   \n",
       "\n",
       "                                         description  \\\n",
       "0  Food52, a fast-growing, James Beard Award-winn...   \n",
       "1  Organised - Focused - Vibrant - Awesome!Do you...   \n",
       "2  Our client, located in Houston, is actively se...   \n",
       "3  THE COMPANY: ESRI – Environmental Systems Rese...   \n",
       "4  JOB TITLE: Itemization Review ManagerLOCATION:...   \n",
       "\n",
       "                                        requirements  \\\n",
       "0  Experience with content management systems a m...   \n",
       "1  What we expect from you:Your key responsibilit...   \n",
       "2  Implement pre-commissioning and commissioning ...   \n",
       "3  EDUCATION: Bachelor’s or Master’s in GIS, busi...   \n",
       "4  QUALIFICATIONS:RN license in the State of Texa...   \n",
       "\n",
       "                                            benefits  telecommuting  \\\n",
       "0                                                                 0   \n",
       "1  What you will get from usThrough being part of...              0   \n",
       "2                                                                 0   \n",
       "3  Our culture is anything but corporate—we have ...              0   \n",
       "4                              Full Benefits Offered              0   \n",
       "\n",
       "   has_company_logo  has_questions employment_type required_experience  \\\n",
       "0                 1              0           Other          Internship   \n",
       "1                 1              0       Full-time      Not Applicable   \n",
       "2                 1              0             NaN                 NaN   \n",
       "3                 1              0       Full-time    Mid-Senior level   \n",
       "4                 1              1       Full-time    Mid-Senior level   \n",
       "\n",
       "  required_education                   industry              function  \\\n",
       "0                NaN                        NaN             Marketing   \n",
       "1                NaN  Marketing and Advertising      Customer Service   \n",
       "2                NaN                        NaN                   NaN   \n",
       "3  Bachelor's Degree          Computer Software                 Sales   \n",
       "4  Bachelor's Degree     Hospital & Health Care  Health Care Provider   \n",
       "\n",
       "   fraudulent  have_company_profile  have_description  have_requirements  \\\n",
       "0           0                     1                 1                  1   \n",
       "1           0                     1                 1                  1   \n",
       "2           0                     1                 1                  1   \n",
       "3           0                     1                 1                  1   \n",
       "4           0                     1                 1                  1   \n",
       "\n",
       "   have_benefits  have_department  \\\n",
       "0              0                1   \n",
       "1              1                1   \n",
       "2              0                0   \n",
       "3              1                1   \n",
       "4              1                0   \n",
       "\n",
       "                                           full_text  \n",
       "0  We're Food52, and we've created a groundbreaki...  \n",
       "1  90 Seconds, the worlds Cloud Video Production ...  \n",
       "2  Valor Services provides Workforce Solutions th...  \n",
       "3  Our passion for improving quality of life thro...  \n",
       "4  SpotSource Solutions LLC is a Global Human Cap...  "
      ]
     },
     "execution_count": 8,
     "metadata": {},
     "output_type": "execute_result"
    }
   ],
   "source": [
    "# combine texts\n",
    "dataset[['company_profile']] = dataset[['company_profile']].fillna('')\n",
    "dataset[['description']] = dataset[['description']].fillna('')\n",
    "dataset[['requirements']] = dataset[['requirements']].fillna('')\n",
    "dataset[['benefits']] = dataset[['benefits']].fillna('')\n",
    "dataset[['department']] = dataset[['department']].fillna('')\n",
    "dataset['full_text'] = dataset['company_profile'] + ' ' + dataset['description'] + ' ' + dataset['requirements'] + ' ' + dataset['benefits']+ ' ' + dataset['department']\n",
    "\n",
    "#del dataset['company_profile']\n",
    "#del dataset['description']\n",
    "#del dataset['requirements']\n",
    "#del dataset['benefits']\n",
    "#del dataset['department']\n",
    "dataset.head()"
   ]
  },
  {
   "cell_type": "code",
   "execution_count": 9,
   "metadata": {},
   "outputs": [],
   "source": [
    "#split location\n",
    "dataset['location_country'] = dataset['location'].str.split(',').str[0]\n",
    "dataset['location_county'] = dataset['location'].str.split(',').str[1]\n",
    "dataset['location_city'] = dataset['location'].str.split(',').str[2]\n",
    "#del dataset['location']"
   ]
  },
  {
   "cell_type": "code",
   "execution_count": 10,
   "metadata": {},
   "outputs": [],
   "source": [
    "# fill in with 'unknown': location_country,county,city,employment_type,required_experience,required_education,industry,function\n",
    "dataset[['employment_type','required_experience','required_education','industry','function','location_country','location_county','location_city']] \\\n",
    "= dataset[['employment_type','required_experience','required_education','industry','function','location_country','location_county','location_city']].fillna('unavailable')"
   ]
  },
  {
   "cell_type": "code",
   "execution_count": 11,
   "metadata": {},
   "outputs": [],
   "source": [
    "# bin then fill in with most common: salary_group, but still keep salary_range, fill in with 'unknown' and use frequency encoding\n",
    "dataset['salary_group'] = dataset['salary_range']"
   ]
  },
  {
   "cell_type": "code",
   "execution_count": 12,
   "metadata": {},
   "outputs": [],
   "source": [
    "for idx in (dataset['salary_group'].dropna()).index:\n",
    "    Range = dataset.at[idx , 'salary_group'].split('-')\n",
    "    try :\n",
    "        starts = int(Range[0])\n",
    "        if len(Range)==2:\n",
    "          ends = int(Range[1])\n",
    "        else:\n",
    "          ends = starts\n",
    "        salary = (starts + ends)/2\n",
    "        if salary <= 1000:\n",
    "          dataset.at[idx ,'salary_group'] = 'Extremely Low'\n",
    "        elif salary > 1000 and salary <= 30000:\n",
    "          dataset.at[idx ,'salary_group'] = 'Low'\n",
    "        elif salary > 30000 and salary <= 100000:\n",
    "          dataset.at[idx ,'salary_group'] = 'Slightly Low'\n",
    "        elif salary > 100000 and salary <= 500000:\n",
    "          dataset.at[idx ,'salary_group'] = 'Slightly High'\n",
    "        elif salary > 500000 and salary <= 1000000:\n",
    "          dataset.at[idx ,'salary_group'] = 'High'\n",
    "        elif salary > 1000000:\n",
    "          dataset.at[idx ,'salary_group'] = 'Extremely High'\n",
    "\n",
    "    except ValueError:\n",
    "        dataset.at[idx ,'salary_group'] = 'Unavailable'\n",
    "\n",
    "dataset['salary_group'] = dataset['salary_group'].fillna('Unavailable')\n",
    "dataset['salary_range'] = dataset['salary_range'].fillna('Unavailable')\n",
    "\n"
   ]
  },
  {
   "cell_type": "code",
   "execution_count": 13,
   "metadata": {},
   "outputs": [],
   "source": [
    "def remove_stop_words(doc):\n",
    "  stop_words = set(nltk.corpus.stopwords.words('english'))\n",
    "  docs = list(set(doc.split(' ')) - stop_words)\n",
    "  return docs  # stem\n",
    "def simple_stemmer(doc):\n",
    "  stemmer= PorterStemmer()\n",
    "  doc = ' '.join([stemmer.stem(word) for word in doc])\n",
    "  return doc\n",
    "\n",
    "# to clean data\n",
    "def normalise_text(text):\n",
    "    text = fix_text(text)\n",
    "    text = text.lower()  # lowercase\n",
    "    text = re.sub(r'\\#', \"\", text)        # replaces hashtags\n",
    "    text = re.sub(r'\\xa0', ' ', text) # remove \\xa0\n",
    "    # remove URL addresses\n",
    "    text = re.sub(r\"http\\S+\",\"URL\", text)\n",
    "    text = re.sub(r'www\\S+', '', text)\n",
    "    text = re.sub(r'\\d+', lambda x: num2words(x.group(), to='cardinal'), text)\n",
    "    text = re.sub(\"[^a-zA-Z]\", \" \", text) # letters only\n",
    "    # replace more than or equal to two white spaces into one white space.\n",
    "    text = re.sub(r'\\s{2,}', ' ', text)\n",
    "    stop_words = set(nltk.corpus.stopwords.words('english'))\n",
    "    text = ' '.join([word for word in text.split(' ') if word not in stop_words])\n",
    "    #stemmer= PorterStemmer()\n",
    "    #text = ' '.join([stemmer.stem(word) for word in text])\n",
    "    return text\n",
    "\n"
   ]
  },
  {
   "cell_type": "code",
   "execution_count": 14,
   "metadata": {},
   "outputs": [],
   "source": [
    "normalise_text(dataset['full_text'].iloc[0])\n",
    "dataset['full_text'] = dataset['full_text'].apply(lambda x: normalise_text(x))\n",
    "dataset['text_len'] = dataset['full_text'].apply(lambda x: len(x.split(' ')))"
   ]
  },
  {
   "cell_type": "code",
   "execution_count": 15,
   "metadata": {},
   "outputs": [
    {
     "data": {
      "text/html": [
       "<div>\n",
       "<style scoped>\n",
       "    .dataframe tbody tr th:only-of-type {\n",
       "        vertical-align: middle;\n",
       "    }\n",
       "\n",
       "    .dataframe tbody tr th {\n",
       "        vertical-align: top;\n",
       "    }\n",
       "\n",
       "    .dataframe thead th {\n",
       "        text-align: right;\n",
       "    }\n",
       "</style>\n",
       "<table border=\"1\" class=\"dataframe\">\n",
       "  <thead>\n",
       "    <tr style=\"text-align: right;\">\n",
       "      <th></th>\n",
       "      <th>job_id</th>\n",
       "      <th>title</th>\n",
       "      <th>location</th>\n",
       "      <th>department</th>\n",
       "      <th>salary_range</th>\n",
       "      <th>company_profile</th>\n",
       "      <th>description</th>\n",
       "      <th>requirements</th>\n",
       "      <th>benefits</th>\n",
       "      <th>telecommuting</th>\n",
       "      <th>has_company_logo</th>\n",
       "      <th>has_questions</th>\n",
       "      <th>employment_type</th>\n",
       "      <th>required_experience</th>\n",
       "      <th>required_education</th>\n",
       "      <th>industry</th>\n",
       "      <th>function</th>\n",
       "      <th>fraudulent</th>\n",
       "      <th>have_company_profile</th>\n",
       "      <th>have_description</th>\n",
       "      <th>have_requirements</th>\n",
       "      <th>have_benefits</th>\n",
       "      <th>have_department</th>\n",
       "      <th>full_text</th>\n",
       "      <th>location_country</th>\n",
       "      <th>location_county</th>\n",
       "      <th>location_city</th>\n",
       "      <th>salary_group</th>\n",
       "      <th>text_len</th>\n",
       "    </tr>\n",
       "  </thead>\n",
       "  <tbody>\n",
       "    <tr>\n",
       "      <th>0</th>\n",
       "      <td>1</td>\n",
       "      <td>Marketing Intern</td>\n",
       "      <td>US, NY, New York</td>\n",
       "      <td>Marketing</td>\n",
       "      <td>Unavailable</td>\n",
       "      <td>We're Food52, and we've created a groundbreaki...</td>\n",
       "      <td>Food52, a fast-growing, James Beard Award-winn...</td>\n",
       "      <td>Experience with content management systems a m...</td>\n",
       "      <td></td>\n",
       "      <td>0</td>\n",
       "      <td>1</td>\n",
       "      <td>0</td>\n",
       "      <td>Other</td>\n",
       "      <td>Internship</td>\n",
       "      <td>unavailable</td>\n",
       "      <td>unavailable</td>\n",
       "      <td>Marketing</td>\n",
       "      <td>0</td>\n",
       "      <td>1</td>\n",
       "      <td>1</td>\n",
       "      <td>1</td>\n",
       "      <td>0</td>\n",
       "      <td>1</td>\n",
       "      <td>foodfifty two created groundbreaking award win...</td>\n",
       "      <td>US</td>\n",
       "      <td>NY</td>\n",
       "      <td>New York</td>\n",
       "      <td>Unavailable</td>\n",
       "      <td>258</td>\n",
       "    </tr>\n",
       "    <tr>\n",
       "      <th>1</th>\n",
       "      <td>2</td>\n",
       "      <td>Customer Service - Cloud Video Production</td>\n",
       "      <td>NZ, , Auckland</td>\n",
       "      <td>Success</td>\n",
       "      <td>Unavailable</td>\n",
       "      <td>90 Seconds, the worlds Cloud Video Production ...</td>\n",
       "      <td>Organised - Focused - Vibrant - Awesome!Do you...</td>\n",
       "      <td>What we expect from you:Your key responsibilit...</td>\n",
       "      <td>What you will get from usThrough being part of...</td>\n",
       "      <td>0</td>\n",
       "      <td>1</td>\n",
       "      <td>0</td>\n",
       "      <td>Full-time</td>\n",
       "      <td>Not Applicable</td>\n",
       "      <td>unavailable</td>\n",
       "      <td>Marketing and Advertising</td>\n",
       "      <td>Customer Service</td>\n",
       "      <td>0</td>\n",
       "      <td>1</td>\n",
       "      <td>1</td>\n",
       "      <td>1</td>\n",
       "      <td>1</td>\n",
       "      <td>1</td>\n",
       "      <td>ninety seconds worlds cloud video production s...</td>\n",
       "      <td>NZ</td>\n",
       "      <td></td>\n",
       "      <td>Auckland</td>\n",
       "      <td>Unavailable</td>\n",
       "      <td>590</td>\n",
       "    </tr>\n",
       "    <tr>\n",
       "      <th>2</th>\n",
       "      <td>3</td>\n",
       "      <td>Commissioning Machinery Assistant (CMA)</td>\n",
       "      <td>US, IA, Wever</td>\n",
       "      <td></td>\n",
       "      <td>Unavailable</td>\n",
       "      <td>Valor Services provides Workforce Solutions th...</td>\n",
       "      <td>Our client, located in Houston, is actively se...</td>\n",
       "      <td>Implement pre-commissioning and commissioning ...</td>\n",
       "      <td></td>\n",
       "      <td>0</td>\n",
       "      <td>1</td>\n",
       "      <td>0</td>\n",
       "      <td>unavailable</td>\n",
       "      <td>unavailable</td>\n",
       "      <td>unavailable</td>\n",
       "      <td>unavailable</td>\n",
       "      <td>unavailable</td>\n",
       "      <td>0</td>\n",
       "      <td>1</td>\n",
       "      <td>1</td>\n",
       "      <td>1</td>\n",
       "      <td>0</td>\n",
       "      <td>0</td>\n",
       "      <td>valor services provides workforce solutions me...</td>\n",
       "      <td>US</td>\n",
       "      <td>IA</td>\n",
       "      <td>Wever</td>\n",
       "      <td>Unavailable</td>\n",
       "      <td>232</td>\n",
       "    </tr>\n",
       "    <tr>\n",
       "      <th>3</th>\n",
       "      <td>4</td>\n",
       "      <td>Account Executive - Washington DC</td>\n",
       "      <td>US, DC, Washington</td>\n",
       "      <td>Sales</td>\n",
       "      <td>Unavailable</td>\n",
       "      <td>Our passion for improving quality of life thro...</td>\n",
       "      <td>THE COMPANY: ESRI – Environmental Systems Rese...</td>\n",
       "      <td>EDUCATION: Bachelor’s or Master’s in GIS, busi...</td>\n",
       "      <td>Our culture is anything but corporate—we have ...</td>\n",
       "      <td>0</td>\n",
       "      <td>1</td>\n",
       "      <td>0</td>\n",
       "      <td>Full-time</td>\n",
       "      <td>Mid-Senior level</td>\n",
       "      <td>Bachelor's Degree</td>\n",
       "      <td>Computer Software</td>\n",
       "      <td>Sales</td>\n",
       "      <td>0</td>\n",
       "      <td>1</td>\n",
       "      <td>1</td>\n",
       "      <td>1</td>\n",
       "      <td>1</td>\n",
       "      <td>1</td>\n",
       "      <td>passion improving quality life geography heart...</td>\n",
       "      <td>US</td>\n",
       "      <td>DC</td>\n",
       "      <td>Washington</td>\n",
       "      <td>Unavailable</td>\n",
       "      <td>493</td>\n",
       "    </tr>\n",
       "    <tr>\n",
       "      <th>4</th>\n",
       "      <td>5</td>\n",
       "      <td>Bill Review Manager</td>\n",
       "      <td>US, FL, Fort Worth</td>\n",
       "      <td></td>\n",
       "      <td>Unavailable</td>\n",
       "      <td>SpotSource Solutions LLC is a Global Human Cap...</td>\n",
       "      <td>JOB TITLE: Itemization Review ManagerLOCATION:...</td>\n",
       "      <td>QUALIFICATIONS:RN license in the State of Texa...</td>\n",
       "      <td>Full Benefits Offered</td>\n",
       "      <td>0</td>\n",
       "      <td>1</td>\n",
       "      <td>1</td>\n",
       "      <td>Full-time</td>\n",
       "      <td>Mid-Senior level</td>\n",
       "      <td>Bachelor's Degree</td>\n",
       "      <td>Hospital &amp; Health Care</td>\n",
       "      <td>Health Care Provider</td>\n",
       "      <td>0</td>\n",
       "      <td>1</td>\n",
       "      <td>1</td>\n",
       "      <td>1</td>\n",
       "      <td>1</td>\n",
       "      <td>0</td>\n",
       "      <td>spotsource solutions llc global human capital ...</td>\n",
       "      <td>US</td>\n",
       "      <td>FL</td>\n",
       "      <td>Fort Worth</td>\n",
       "      <td>Unavailable</td>\n",
       "      <td>400</td>\n",
       "    </tr>\n",
       "  </tbody>\n",
       "</table>\n",
       "</div>"
      ],
      "text/plain": [
       "   job_id                                      title            location  \\\n",
       "0       1                           Marketing Intern    US, NY, New York   \n",
       "1       2  Customer Service - Cloud Video Production      NZ, , Auckland   \n",
       "2       3    Commissioning Machinery Assistant (CMA)       US, IA, Wever   \n",
       "3       4          Account Executive - Washington DC  US, DC, Washington   \n",
       "4       5                        Bill Review Manager  US, FL, Fort Worth   \n",
       "\n",
       "  department salary_range                                    company_profile  \\\n",
       "0  Marketing  Unavailable  We're Food52, and we've created a groundbreaki...   \n",
       "1    Success  Unavailable  90 Seconds, the worlds Cloud Video Production ...   \n",
       "2             Unavailable  Valor Services provides Workforce Solutions th...   \n",
       "3      Sales  Unavailable  Our passion for improving quality of life thro...   \n",
       "4             Unavailable  SpotSource Solutions LLC is a Global Human Cap...   \n",
       "\n",
       "                                         description  \\\n",
       "0  Food52, a fast-growing, James Beard Award-winn...   \n",
       "1  Organised - Focused - Vibrant - Awesome!Do you...   \n",
       "2  Our client, located in Houston, is actively se...   \n",
       "3  THE COMPANY: ESRI – Environmental Systems Rese...   \n",
       "4  JOB TITLE: Itemization Review ManagerLOCATION:...   \n",
       "\n",
       "                                        requirements  \\\n",
       "0  Experience with content management systems a m...   \n",
       "1  What we expect from you:Your key responsibilit...   \n",
       "2  Implement pre-commissioning and commissioning ...   \n",
       "3  EDUCATION: Bachelor’s or Master’s in GIS, busi...   \n",
       "4  QUALIFICATIONS:RN license in the State of Texa...   \n",
       "\n",
       "                                            benefits  telecommuting  \\\n",
       "0                                                                 0   \n",
       "1  What you will get from usThrough being part of...              0   \n",
       "2                                                                 0   \n",
       "3  Our culture is anything but corporate—we have ...              0   \n",
       "4                              Full Benefits Offered              0   \n",
       "\n",
       "   has_company_logo  has_questions employment_type required_experience  \\\n",
       "0                 1              0           Other          Internship   \n",
       "1                 1              0       Full-time      Not Applicable   \n",
       "2                 1              0     unavailable         unavailable   \n",
       "3                 1              0       Full-time    Mid-Senior level   \n",
       "4                 1              1       Full-time    Mid-Senior level   \n",
       "\n",
       "  required_education                   industry              function  \\\n",
       "0        unavailable                unavailable             Marketing   \n",
       "1        unavailable  Marketing and Advertising      Customer Service   \n",
       "2        unavailable                unavailable           unavailable   \n",
       "3  Bachelor's Degree          Computer Software                 Sales   \n",
       "4  Bachelor's Degree     Hospital & Health Care  Health Care Provider   \n",
       "\n",
       "   fraudulent  have_company_profile  have_description  have_requirements  \\\n",
       "0           0                     1                 1                  1   \n",
       "1           0                     1                 1                  1   \n",
       "2           0                     1                 1                  1   \n",
       "3           0                     1                 1                  1   \n",
       "4           0                     1                 1                  1   \n",
       "\n",
       "   have_benefits  have_department  \\\n",
       "0              0                1   \n",
       "1              1                1   \n",
       "2              0                0   \n",
       "3              1                1   \n",
       "4              1                0   \n",
       "\n",
       "                                           full_text location_country  \\\n",
       "0  foodfifty two created groundbreaking award win...               US   \n",
       "1  ninety seconds worlds cloud video production s...               NZ   \n",
       "2  valor services provides workforce solutions me...               US   \n",
       "3  passion improving quality life geography heart...               US   \n",
       "4  spotsource solutions llc global human capital ...               US   \n",
       "\n",
       "  location_county location_city salary_group  text_len  \n",
       "0              NY      New York  Unavailable       258  \n",
       "1                      Auckland  Unavailable       590  \n",
       "2              IA         Wever  Unavailable       232  \n",
       "3              DC    Washington  Unavailable       493  \n",
       "4              FL    Fort Worth  Unavailable       400  "
      ]
     },
     "execution_count": 15,
     "metadata": {},
     "output_type": "execute_result"
    }
   ],
   "source": [
    "dataset.head()"
   ]
  },
  {
   "cell_type": "code",
   "execution_count": 16,
   "metadata": {},
   "outputs": [
    {
     "data": {
      "text/plain": [
       "job_id                    0\n",
       "title                     0\n",
       "location                346\n",
       "department                0\n",
       "salary_range              0\n",
       "company_profile           0\n",
       "description               0\n",
       "requirements              0\n",
       "benefits                  0\n",
       "telecommuting             0\n",
       "has_company_logo          0\n",
       "has_questions             0\n",
       "employment_type           0\n",
       "required_experience       0\n",
       "required_education        0\n",
       "industry                  0\n",
       "function                  0\n",
       "fraudulent                0\n",
       "have_company_profile      0\n",
       "have_description          0\n",
       "have_requirements         0\n",
       "have_benefits             0\n",
       "have_department           0\n",
       "full_text                 0\n",
       "location_country          0\n",
       "location_county           0\n",
       "location_city             0\n",
       "salary_group              0\n",
       "text_len                  0\n",
       "dtype: int64"
      ]
     },
     "execution_count": 16,
     "metadata": {},
     "output_type": "execute_result"
    }
   ],
   "source": [
    "dataset.isna().sum()"
   ]
  },
  {
   "cell_type": "markdown",
   "metadata": {
    "id": "Da70UdjAeFBW"
   },
   "source": [
    "## 3. Exploratory Data Analysis"
   ]
  },
  {
   "cell_type": "markdown",
   "metadata": {
    "id": "jsvXSK0y1_NT"
   },
   "source": [
    "- wordcut: title,department,salary_range,industry,function,company_profile,description,requirements,benefits,location"
   ]
  },
  {
   "cell_type": "code",
   "execution_count": 17,
   "metadata": {},
   "outputs": [],
   "source": [
    "#drop useless column\n",
    "del dataset['job_id']"
   ]
  },
  {
   "cell_type": "code",
   "execution_count": 18,
   "metadata": {},
   "outputs": [
    {
     "data": {
      "text/html": [
       "<div>\n",
       "<style scoped>\n",
       "    .dataframe tbody tr th:only-of-type {\n",
       "        vertical-align: middle;\n",
       "    }\n",
       "\n",
       "    .dataframe tbody tr th {\n",
       "        vertical-align: top;\n",
       "    }\n",
       "\n",
       "    .dataframe thead th {\n",
       "        text-align: right;\n",
       "    }\n",
       "</style>\n",
       "<table border=\"1\" class=\"dataframe\">\n",
       "  <thead>\n",
       "    <tr style=\"text-align: right;\">\n",
       "      <th></th>\n",
       "      <th>telecommuting</th>\n",
       "      <th>has_company_logo</th>\n",
       "      <th>has_questions</th>\n",
       "      <th>fraudulent</th>\n",
       "      <th>have_company_profile</th>\n",
       "      <th>have_description</th>\n",
       "      <th>have_requirements</th>\n",
       "      <th>have_benefits</th>\n",
       "      <th>have_department</th>\n",
       "      <th>text_len</th>\n",
       "    </tr>\n",
       "  </thead>\n",
       "  <tbody>\n",
       "    <tr>\n",
       "      <th>count</th>\n",
       "      <td>17880.000000</td>\n",
       "      <td>17880.000000</td>\n",
       "      <td>17880.000000</td>\n",
       "      <td>17880.000000</td>\n",
       "      <td>17880.000000</td>\n",
       "      <td>17880.000000</td>\n",
       "      <td>17880.000000</td>\n",
       "      <td>17880.000000</td>\n",
       "      <td>17880.000000</td>\n",
       "      <td>17880.000000</td>\n",
       "    </tr>\n",
       "    <tr>\n",
       "      <th>mean</th>\n",
       "      <td>0.042897</td>\n",
       "      <td>0.795302</td>\n",
       "      <td>0.491723</td>\n",
       "      <td>0.048434</td>\n",
       "      <td>0.814989</td>\n",
       "      <td>0.999944</td>\n",
       "      <td>0.849217</td>\n",
       "      <td>0.596644</td>\n",
       "      <td>0.354195</td>\n",
       "      <td>272.953300</td>\n",
       "    </tr>\n",
       "    <tr>\n",
       "      <th>std</th>\n",
       "      <td>0.202631</td>\n",
       "      <td>0.403492</td>\n",
       "      <td>0.499945</td>\n",
       "      <td>0.214688</td>\n",
       "      <td>0.388317</td>\n",
       "      <td>0.007479</td>\n",
       "      <td>0.357847</td>\n",
       "      <td>0.490585</td>\n",
       "      <td>0.478282</td>\n",
       "      <td>147.869521</td>\n",
       "    </tr>\n",
       "    <tr>\n",
       "      <th>min</th>\n",
       "      <td>0.000000</td>\n",
       "      <td>0.000000</td>\n",
       "      <td>0.000000</td>\n",
       "      <td>0.000000</td>\n",
       "      <td>0.000000</td>\n",
       "      <td>0.000000</td>\n",
       "      <td>0.000000</td>\n",
       "      <td>0.000000</td>\n",
       "      <td>0.000000</td>\n",
       "      <td>2.000000</td>\n",
       "    </tr>\n",
       "    <tr>\n",
       "      <th>25%</th>\n",
       "      <td>0.000000</td>\n",
       "      <td>1.000000</td>\n",
       "      <td>0.000000</td>\n",
       "      <td>0.000000</td>\n",
       "      <td>1.000000</td>\n",
       "      <td>1.000000</td>\n",
       "      <td>1.000000</td>\n",
       "      <td>0.000000</td>\n",
       "      <td>0.000000</td>\n",
       "      <td>162.000000</td>\n",
       "    </tr>\n",
       "    <tr>\n",
       "      <th>50%</th>\n",
       "      <td>0.000000</td>\n",
       "      <td>1.000000</td>\n",
       "      <td>0.000000</td>\n",
       "      <td>0.000000</td>\n",
       "      <td>1.000000</td>\n",
       "      <td>1.000000</td>\n",
       "      <td>1.000000</td>\n",
       "      <td>1.000000</td>\n",
       "      <td>0.000000</td>\n",
       "      <td>249.000000</td>\n",
       "    </tr>\n",
       "    <tr>\n",
       "      <th>75%</th>\n",
       "      <td>0.000000</td>\n",
       "      <td>1.000000</td>\n",
       "      <td>1.000000</td>\n",
       "      <td>0.000000</td>\n",
       "      <td>1.000000</td>\n",
       "      <td>1.000000</td>\n",
       "      <td>1.000000</td>\n",
       "      <td>1.000000</td>\n",
       "      <td>1.000000</td>\n",
       "      <td>353.000000</td>\n",
       "    </tr>\n",
       "    <tr>\n",
       "      <th>max</th>\n",
       "      <td>1.000000</td>\n",
       "      <td>1.000000</td>\n",
       "      <td>1.000000</td>\n",
       "      <td>1.000000</td>\n",
       "      <td>1.000000</td>\n",
       "      <td>1.000000</td>\n",
       "      <td>1.000000</td>\n",
       "      <td>1.000000</td>\n",
       "      <td>1.000000</td>\n",
       "      <td>1511.000000</td>\n",
       "    </tr>\n",
       "  </tbody>\n",
       "</table>\n",
       "</div>"
      ],
      "text/plain": [
       "       telecommuting  has_company_logo  has_questions    fraudulent  \\\n",
       "count   17880.000000      17880.000000   17880.000000  17880.000000   \n",
       "mean        0.042897          0.795302       0.491723      0.048434   \n",
       "std         0.202631          0.403492       0.499945      0.214688   \n",
       "min         0.000000          0.000000       0.000000      0.000000   \n",
       "25%         0.000000          1.000000       0.000000      0.000000   \n",
       "50%         0.000000          1.000000       0.000000      0.000000   \n",
       "75%         0.000000          1.000000       1.000000      0.000000   \n",
       "max         1.000000          1.000000       1.000000      1.000000   \n",
       "\n",
       "       have_company_profile  have_description  have_requirements  \\\n",
       "count          17880.000000      17880.000000       17880.000000   \n",
       "mean               0.814989          0.999944           0.849217   \n",
       "std                0.388317          0.007479           0.357847   \n",
       "min                0.000000          0.000000           0.000000   \n",
       "25%                1.000000          1.000000           1.000000   \n",
       "50%                1.000000          1.000000           1.000000   \n",
       "75%                1.000000          1.000000           1.000000   \n",
       "max                1.000000          1.000000           1.000000   \n",
       "\n",
       "       have_benefits  have_department      text_len  \n",
       "count   17880.000000     17880.000000  17880.000000  \n",
       "mean        0.596644         0.354195    272.953300  \n",
       "std         0.490585         0.478282    147.869521  \n",
       "min         0.000000         0.000000      2.000000  \n",
       "25%         0.000000         0.000000    162.000000  \n",
       "50%         1.000000         0.000000    249.000000  \n",
       "75%         1.000000         1.000000    353.000000  \n",
       "max         1.000000         1.000000   1511.000000  "
      ]
     },
     "execution_count": 18,
     "metadata": {},
     "output_type": "execute_result"
    }
   ],
   "source": [
    "dataset.describe()"
   ]
  },
  {
   "cell_type": "markdown",
   "metadata": {},
   "source": [
    "### 3.1 Drop columns with low variance"
   ]
  },
  {
   "cell_type": "code",
   "execution_count": 19,
   "metadata": {},
   "outputs": [
    {
     "name": "stdout",
     "output_type": "stream",
     "text": [
      "telecommuting               0.041059\n",
      "has_company_logo            0.162806\n",
      "has_questions               0.249945\n",
      "fraudulent                  0.046091\n",
      "have_company_profile        0.150790\n",
      "have_description            0.000056\n",
      "have_requirements           0.128055\n",
      "have_benefits               0.240673\n",
      "have_department             0.228754\n",
      "text_len                21865.395268\n",
      "dtype: float64\n"
     ]
    }
   ],
   "source": [
    "# Filter numeric columns only\n",
    "numeric_columns = dataset.select_dtypes(include=\"number\")\n",
    "\n",
    "# Calculate the variance for numeric columns\n",
    "variance_info = numeric_columns.var()\n",
    "\n",
    "# Display the variance for each numeric column\n",
    "print(variance_info)\n"
   ]
  },
  {
   "cell_type": "code",
   "execution_count": 20,
   "metadata": {},
   "outputs": [],
   "source": [
    "del dataset['have_description']"
   ]
  },
  {
   "cell_type": "markdown",
   "metadata": {},
   "source": [
    "### 3.2 Understanding of variables"
   ]
  },
  {
   "cell_type": "code",
   "execution_count": 21,
   "metadata": {
    "colab": {
     "base_uri": "https://localhost:8080/"
    },
    "id": "7GHRFRkycxnj",
    "outputId": "669d9f5e-bdc3-48bc-f015-6c5860fc1b61"
   },
   "outputs": [
    {
     "data": {
      "text/plain": [
       "title\n",
       "English Teacher Abroad                                311\n",
       "Customer Service Associate                            146\n",
       "Graduates: English Teacher Abroad (Conversational)    144\n",
       "English Teacher Abroad                                 95\n",
       "Software Engineer                                      86\n",
       "Name: count, dtype: int64"
      ]
     },
     "execution_count": 21,
     "metadata": {},
     "output_type": "execute_result"
    }
   ],
   "source": [
    "dataset.title.value_counts().head(5)"
   ]
  },
  {
   "cell_type": "code",
   "execution_count": 22,
   "metadata": {
    "colab": {
     "base_uri": "https://localhost:8080/"
    },
    "id": "7pG3yre8xfyi",
    "outputId": "39949d64-45cb-4f65-8c4e-94feed546c30"
   },
   "outputs": [
    {
     "data": {
      "text/plain": [
       "title\n",
       "English Teacher Abroad                                406\n",
       "Customer Service Associate                            198\n",
       "Graduates: English Teacher Abroad (Conversational)    144\n",
       "Customer Service Associate - Part Time                 91\n",
       "Software Engineer                                      90\n",
       "Name: count, dtype: int64"
      ]
     },
     "execution_count": 22,
     "metadata": {},
     "output_type": "execute_result"
    }
   ],
   "source": [
    "dataset.title.str.strip().value_counts().head(5)"
   ]
  },
  {
   "cell_type": "code",
   "execution_count": 23,
   "metadata": {},
   "outputs": [
    {
     "data": {
      "text/plain": [
       "Index(['title', 'location', 'department', 'salary_range', 'company_profile',\n",
       "       'description', 'requirements', 'benefits', 'telecommuting',\n",
       "       'has_company_logo', 'has_questions', 'employment_type',\n",
       "       'required_experience', 'required_education', 'industry', 'function',\n",
       "       'fraudulent', 'have_company_profile', 'have_requirements',\n",
       "       'have_benefits', 'have_department', 'full_text', 'location_country',\n",
       "       'location_county', 'location_city', 'salary_group', 'text_len'],\n",
       "      dtype='object')"
      ]
     },
     "execution_count": 23,
     "metadata": {},
     "output_type": "execute_result"
    }
   ],
   "source": [
    "dataset.columns"
   ]
  },
  {
   "cell_type": "code",
   "execution_count": 24,
   "metadata": {
    "colab": {
     "base_uri": "https://localhost:8080/"
    },
    "id": "nSn07g0l0XXS",
    "outputId": "3988264e-6cec-46ab-cb6c-927a62f6edd5"
   },
   "outputs": [
    {
     "data": {
      "text/plain": [
       "location\n",
       "GB, LND, London          718\n",
       "US, NY, New York         658\n",
       "US, CA, San Francisco    472\n",
       "GR, I, Athens            464\n",
       "US, ,                    339\n",
       "Name: count, dtype: int64"
      ]
     },
     "execution_count": 24,
     "metadata": {},
     "output_type": "execute_result"
    }
   ],
   "source": [
    "#location\n",
    "dataset.location.value_counts().head(5)"
   ]
  },
  {
   "cell_type": "code",
   "execution_count": 25,
   "metadata": {
    "colab": {
     "base_uri": "https://localhost:8080/"
    },
    "id": "v6p97wFzCkBm",
    "outputId": "152d6771-e6aa-4731-b601-90ea56b1cd42"
   },
   "outputs": [
    {
     "data": {
      "image/png": "[encoded data removed]",
      "text/plain": [
       "<Figure size 1000x600 with 1 Axes>"
      ]
     },
     "metadata": {},
     "output_type": "display_data"
    }
   ],
   "source": [
    "all_ctry = dataset['location_country'].value_counts()\n",
    "\n",
    "top_20 = dataset['location_country'].value_counts().head(20)\n",
    "\n",
    "plt.figure(figsize=(10, 6))\n",
    "top_20.plot(kind='bar')\n",
    "plt.title('Counts of Job Postings by Country')\n",
    "plt.xlabel('Country')\n",
    "plt.ylabel('Count')\n",
    "plt.xticks(rotation=90)\n",
    "plt.show()\n"
   ]
  },
  {
   "cell_type": "code",
   "execution_count": 26,
   "metadata": {
    "colab": {
     "base_uri": "https://localhost:8080/"
    },
    "id": "St9O6etGCpuq",
    "outputId": "639974cf-053d-488e-93c7-a7917dd3ba7e"
   },
   "outputs": [
    {
     "data": {
      "text/plain": [
       "location_county\n",
       "        2140\n",
       " CA     2051\n",
       " NY     1259\n",
       " LND     992\n",
       " TX      975\n",
       "Name: count, dtype: int64"
      ]
     },
     "execution_count": 26,
     "metadata": {},
     "output_type": "execute_result"
    }
   ],
   "source": [
    "dataset['location_county'].value_counts().head(5)"
   ]
  },
  {
   "cell_type": "code",
   "execution_count": 27,
   "metadata": {
    "colab": {
     "base_uri": "https://localhost:8080/"
    },
    "id": "P3MZdrMhCujc",
    "outputId": "3773c6f3-8648-4a02-8339-ac7b71947bb1"
   },
   "outputs": [
    {
     "data": {
      "text/plain": [
       "location_city\n",
       "                  1627\n",
       " London           1060\n",
       " New York          669\n",
       " Athens            543\n",
       " San Francisco     478\n",
       "Name: count, dtype: int64"
      ]
     },
     "execution_count": 27,
     "metadata": {},
     "output_type": "execute_result"
    }
   ],
   "source": [
    "dataset['location_city'].value_counts().head(5)"
   ]
  },
  {
   "cell_type": "code",
   "execution_count": 28,
   "metadata": {
    "colab": {
     "base_uri": "https://localhost:8080/"
    },
    "id": "w7WePVx6w3Ve",
    "outputId": "67b596a9-dbd6-4d79-fb23-44c2c723d4fe"
   },
   "outputs": [
    {
     "data": {
      "text/plain": [
       "department\n",
       "               11547\n",
       "Sales            551\n",
       "Engineering      487\n",
       "Marketing        401\n",
       "Operations       270\n",
       "Name: count, dtype: int64"
      ]
     },
     "execution_count": 28,
     "metadata": {},
     "output_type": "execute_result"
    }
   ],
   "source": [
    "dataset.department.value_counts().head(5)"
   ]
  },
  {
   "cell_type": "code",
   "execution_count": 29,
   "metadata": {
    "colab": {
     "base_uri": "https://localhost:8080/"
    },
    "id": "UPtuiCLMw3YU",
    "outputId": "1316bb99-cb5d-4d08-b302-7484e0ce7745"
   },
   "outputs": [
    {
     "data": {
      "text/plain": [
       "salary_range\n",
       "Unavailable    15012\n",
       "0-0              142\n",
       "40000-50000       66\n",
       "30000-40000       55\n",
       "45000-67000       37\n",
       "Name: count, dtype: int64"
      ]
     },
     "execution_count": 29,
     "metadata": {},
     "output_type": "execute_result"
    }
   ],
   "source": [
    "dataset.salary_range.value_counts().head(5)"
   ]
  },
  {
   "cell_type": "code",
   "execution_count": 30,
   "metadata": {
    "colab": {
     "base_uri": "https://localhost:8080/"
    },
    "id": "ZyHqYWOX1zGp",
    "outputId": "7bf55780-94ec-4cbb-aa4e-264616887094"
   },
   "outputs": [
    {
     "data": {
      "text/plain": [
       "0    We're Food52, and we've created a groundbreaki...\n",
       "1    90 Seconds, the worlds Cloud Video Production ...\n",
       "2    Valor Services provides Workforce Solutions th...\n",
       "3    Our passion for improving quality of life thro...\n",
       "4    SpotSource Solutions LLC is a Global Human Cap...\n",
       "5                                                     \n",
       "6    Founded in 2009, the Fonpit AG rose with its i...\n",
       "7    Airenvy’s mission is to provide lucrative yet ...\n",
       "8    Solutions3 is a woman-owned small business who...\n",
       "9    Novitex Enterprise Solutions, formerly Pitney ...\n",
       "Name: company_profile, dtype: object"
      ]
     },
     "execution_count": 30,
     "metadata": {},
     "output_type": "execute_result"
    }
   ],
   "source": [
    "dataset.company_profile.head(10)"
   ]
  },
  {
   "cell_type": "code",
   "execution_count": 31,
   "metadata": {
    "colab": {
     "base_uri": "https://localhost:8080/"
    },
    "id": "nc5ZNhmgw3du",
    "outputId": "cad60cd7-15de-4f1a-a2ae-6e016b35f624"
   },
   "outputs": [
    {
     "data": {
      "text/plain": [
       "0    Food52, a fast-growing, James Beard Award-winn...\n",
       "1    Organised - Focused - Vibrant - Awesome!Do you...\n",
       "2    Our client, located in Houston, is actively se...\n",
       "3    THE COMPANY: ESRI – Environmental Systems Rese...\n",
       "4    JOB TITLE: Itemization Review ManagerLOCATION:...\n",
       "5    Job OverviewApex is an environmental consultin...\n",
       "6    Your Responsibilities: Manage the English-spea...\n",
       "7    Who is Airenvy?Hey there! We are seasoned entr...\n",
       "8    Implementation/Configuration/Testing/Training ...\n",
       "9    The Customer Service Associate will be based i...\n",
       "Name: description, dtype: object"
      ]
     },
     "execution_count": 31,
     "metadata": {},
     "output_type": "execute_result"
    }
   ],
   "source": [
    "dataset.description.head(10)"
   ]
  },
  {
   "cell_type": "code",
   "execution_count": 32,
   "metadata": {
    "colab": {
     "base_uri": "https://localhost:8080/"
    },
    "id": "_zuhY122w3gE",
    "outputId": "4e2f1a8c-1dca-43ca-824c-bd7a759aa519"
   },
   "outputs": [
    {
     "data": {
      "text/plain": [
       "0    Experience with content management systems a m...\n",
       "1    What we expect from you:Your key responsibilit...\n",
       "2    Implement pre-commissioning and commissioning ...\n",
       "3    EDUCATION: Bachelor’s or Master’s in GIS, busi...\n",
       "4    QUALIFICATIONS:RN license in the State of Texa...\n",
       "5                                                     \n",
       "6    Your Know-How:                                ...\n",
       "7    Experience with CRM software, live chat, and p...\n",
       "8    MUST BE A US CITIZEN.An active TS/SCI clearanc...\n",
       "9    Minimum Requirements:Minimum of 6 months custo...\n",
       "Name: requirements, dtype: object"
      ]
     },
     "execution_count": 32,
     "metadata": {},
     "output_type": "execute_result"
    }
   ],
   "source": [
    "dataset.requirements.head(10)"
   ]
  },
  {
   "cell_type": "code",
   "execution_count": 33,
   "metadata": {
    "colab": {
     "base_uri": "https://localhost:8080/"
    },
    "id": "nt5ofEKIw3iO",
    "outputId": "35735cb3-542e-4d0e-e910-3362b8bb5fb5"
   },
   "outputs": [
    {
     "data": {
      "text/plain": [
       "0                                                     \n",
       "1    What you will get from usThrough being part of...\n",
       "2                                                     \n",
       "3    Our culture is anything but corporate—we have ...\n",
       "4                                Full Benefits Offered\n",
       "5                                                     \n",
       "6    Your Benefits: Being part of a fast-growing co...\n",
       "7    Competitive Pay. You'll be able to eat steak e...\n",
       "8                                                     \n",
       "9                                                     \n",
       "Name: benefits, dtype: object"
      ]
     },
     "execution_count": 33,
     "metadata": {},
     "output_type": "execute_result"
    }
   ],
   "source": [
    "dataset.benefits.head(10)"
   ]
  },
  {
   "cell_type": "code",
   "execution_count": 34,
   "metadata": {
    "colab": {
     "base_uri": "https://localhost:8080/"
    },
    "id": "6BOiM3Gjw3sP",
    "outputId": "929de5fa-541a-498d-9043-5212fab4761d"
   },
   "outputs": [
    {
     "data": {
      "text/plain": [
       "telecommuting\n",
       "0    17113\n",
       "1      767\n",
       "Name: count, dtype: int64"
      ]
     },
     "execution_count": 34,
     "metadata": {},
     "output_type": "execute_result"
    }
   ],
   "source": [
    "dataset.telecommuting.value_counts().head(5)"
   ]
  },
  {
   "cell_type": "code",
   "execution_count": 35,
   "metadata": {
    "colab": {
     "base_uri": "https://localhost:8080/"
    },
    "id": "fgTu1s9qw3ut",
    "outputId": "66a722ce-eb75-4f1d-ba3c-ccecea979dd3"
   },
   "outputs": [
    {
     "data": {
      "text/plain": [
       "has_company_logo\n",
       "1    14220\n",
       "0     3660\n",
       "Name: count, dtype: int64"
      ]
     },
     "execution_count": 35,
     "metadata": {},
     "output_type": "execute_result"
    }
   ],
   "source": [
    "dataset.has_company_logo.value_counts().head(5)"
   ]
  },
  {
   "cell_type": "code",
   "execution_count": 36,
   "metadata": {
    "colab": {
     "base_uri": "https://localhost:8080/"
    },
    "id": "0h_mD4W4w3wl",
    "outputId": "d2586c54-8f5a-4611-fe40-dbe5562c568e"
   },
   "outputs": [
    {
     "data": {
      "text/plain": [
       "has_questions\n",
       "0    9088\n",
       "1    8792\n",
       "Name: count, dtype: int64"
      ]
     },
     "execution_count": 36,
     "metadata": {},
     "output_type": "execute_result"
    }
   ],
   "source": [
    "dataset.has_questions.value_counts().head(5)"
   ]
  },
  {
   "cell_type": "code",
   "execution_count": 37,
   "metadata": {
    "colab": {
     "base_uri": "https://localhost:8080/"
    },
    "id": "TNHj57c5xGg8",
    "outputId": "f0de11ae-2470-4233-dd71-d27e49fdf161"
   },
   "outputs": [
    {
     "data": {
      "text/plain": [
       "employment_type\n",
       "Full-time      11620\n",
       "unavailable     3471\n",
       "Contract        1524\n",
       "Part-time        797\n",
       "Temporary        241\n",
       "Name: count, dtype: int64"
      ]
     },
     "execution_count": 37,
     "metadata": {},
     "output_type": "execute_result"
    }
   ],
   "source": [
    "dataset.employment_type.value_counts().head(5)"
   ]
  },
  {
   "cell_type": "code",
   "execution_count": 38,
   "metadata": {
    "colab": {
     "base_uri": "https://localhost:8080/"
    },
    "id": "7Vd03jUwxGjS",
    "outputId": "179bee6f-ec1d-4c0b-be25-fa719890fd95"
   },
   "outputs": [
    {
     "data": {
      "text/plain": [
       "required_experience\n",
       "unavailable         7050\n",
       "Mid-Senior level    3809\n",
       "Entry level         2697\n",
       "Associate           2297\n",
       "Not Applicable      1116\n",
       "Name: count, dtype: int64"
      ]
     },
     "execution_count": 38,
     "metadata": {},
     "output_type": "execute_result"
    }
   ],
   "source": [
    "dataset.required_experience.value_counts().head(5)"
   ]
  },
  {
   "cell_type": "code",
   "execution_count": 39,
   "metadata": {
    "colab": {
     "base_uri": "https://localhost:8080/"
    },
    "id": "4g2TsQFZxGlk",
    "outputId": "390dd111-b117-4292-8ca9-58443f603ee9"
   },
   "outputs": [
    {
     "data": {
      "text/plain": [
       "required_education\n",
       "unavailable                  8105\n",
       "Bachelor's Degree            5145\n",
       "High School or equivalent    2080\n",
       "Unspecified                  1397\n",
       "Master's Degree               416\n",
       "Name: count, dtype: int64"
      ]
     },
     "execution_count": 39,
     "metadata": {},
     "output_type": "execute_result"
    }
   ],
   "source": [
    "dataset.required_education.value_counts().head(5)"
   ]
  },
  {
   "cell_type": "code",
   "execution_count": 40,
   "metadata": {
    "colab": {
     "base_uri": "https://localhost:8080/"
    },
    "id": "bBexNkRRxGn4",
    "outputId": "52af72cd-c746-472c-a8bb-8981b254a805"
   },
   "outputs": [
    {
     "data": {
      "text/plain": [
       "industry\n",
       "unavailable                            4903\n",
       "Information Technology and Services    1734\n",
       "Computer Software                      1376\n",
       "Internet                               1062\n",
       "Marketing and Advertising               828\n",
       "Name: count, dtype: int64"
      ]
     },
     "execution_count": 40,
     "metadata": {},
     "output_type": "execute_result"
    }
   ],
   "source": [
    "dataset.industry.value_counts().head(5)"
   ]
  },
  {
   "cell_type": "code",
   "execution_count": 41,
   "metadata": {
    "colab": {
     "base_uri": "https://localhost:8080/"
    },
    "id": "QzEgk_8VxOVL",
    "outputId": "cca33457-a198-489d-afdd-0a176b0f67e4"
   },
   "outputs": [
    {
     "data": {
      "text/plain": [
       "function\n",
       "unavailable               6455\n",
       "Information Technology    1749\n",
       "Sales                     1468\n",
       "Engineering               1348\n",
       "Customer Service          1229\n",
       "Name: count, dtype: int64"
      ]
     },
     "execution_count": 41,
     "metadata": {},
     "output_type": "execute_result"
    }
   ],
   "source": [
    "dataset.function.value_counts().head(5)"
   ]
  },
  {
   "cell_type": "markdown",
   "metadata": {
    "id": "Z1nC3rJKyw1x"
   },
   "source": [
    "### 2.2 Relationship between features and classification target"
   ]
  },
  {
   "cell_type": "code",
   "execution_count": 42,
   "metadata": {
    "colab": {
     "base_uri": "https://localhost:8080/"
    },
    "id": "BcVcWwe-4X1L",
    "outputId": "ea7f0288-6194-43ca-d248-af103dea67bb"
   },
   "outputs": [
    {
     "data": {
      "text/plain": [
       "title\n",
       "Data Entry Admin/Clerical Positions - Work From Home               21\n",
       "Home Based Payroll Typist/Data Entry Clerks Positions Available    21\n",
       "Cruise Staff Wanted *URGENT*                                       21\n",
       "Customer Service Representative                                    17\n",
       "Administrative Assistant                                           16\n",
       "Name: count, dtype: int64"
      ]
     },
     "execution_count": 42,
     "metadata": {},
     "output_type": "execute_result"
    }
   ],
   "source": [
    "dataset[dataset['fraudulent']==1]['title'].value_counts().head(5)"
   ]
  },
  {
   "cell_type": "code",
   "execution_count": 43,
   "metadata": {
    "colab": {
     "base_uri": "https://localhost:8080/"
    },
    "id": "O5bZPaMr4c7u",
    "outputId": "45f687b8-8d2c-420a-8189-9c9931e14c15"
   },
   "outputs": [
    {
     "data": {
      "text/plain": [
       "title\n",
       "English Teacher Abroad                                311\n",
       "Customer Service Associate                            146\n",
       "Graduates: English Teacher Abroad (Conversational)    144\n",
       "English Teacher Abroad                                 95\n",
       "Software Engineer                                      86\n",
       "Name: count, dtype: int64"
      ]
     },
     "execution_count": 43,
     "metadata": {},
     "output_type": "execute_result"
    }
   ],
   "source": [
    "dataset[dataset['fraudulent']==0]['title'].value_counts().head(5)"
   ]
  },
  {
   "cell_type": "code",
   "execution_count": 44,
   "metadata": {
    "colab": {
     "base_uri": "https://localhost:8080/"
    },
    "id": "oH95q0e5y54r",
    "outputId": "2ef7178c-e50e-4fc8-df8e-d498b25c72ba"
   },
   "outputs": [
    {
     "data": {
      "text/plain": [
       "department\n",
       "                          531\n",
       "Engineering                46\n",
       "Clerical                   27\n",
       "Oil & Energy               24\n",
       "Information Technology     15\n",
       "Name: count, dtype: int64"
      ]
     },
     "execution_count": 44,
     "metadata": {},
     "output_type": "execute_result"
    }
   ],
   "source": [
    "#department\n",
    "dataset[dataset['fraudulent']==1]['department'].value_counts().head(5)"
   ]
  },
  {
   "cell_type": "code",
   "execution_count": 45,
   "metadata": {
    "colab": {
     "base_uri": "https://localhost:8080/"
    },
    "id": "5zanQvRx69Il",
    "outputId": "8c7a23de-b281-4db4-8e86-94d0c948d4cb"
   },
   "outputs": [
    {
     "data": {
      "text/plain": [
       "department\n",
       "               11016\n",
       "Sales            539\n",
       "Engineering      441\n",
       "Marketing        399\n",
       "Operations       270\n",
       "Name: count, dtype: int64"
      ]
     },
     "execution_count": 45,
     "metadata": {},
     "output_type": "execute_result"
    }
   ],
   "source": [
    "dataset[dataset['fraudulent']==0]['department'].value_counts().head(5)"
   ]
  },
  {
   "cell_type": "code",
   "execution_count": 46,
   "metadata": {
    "colab": {
     "base_uri": "https://localhost:8080/"
    },
    "id": "rVDuayZ2y57C",
    "outputId": "1ac6beca-6d8a-41c3-c598-52e27fce806a"
   },
   "outputs": [
    {
     "data": {
      "text/plain": [
       "salary_range\n",
       "Unavailable      643\n",
       "7200-1380000      10\n",
       "30000-50000        8\n",
       "250000-500000      7\n",
       "28000-32000        6\n",
       "Name: count, dtype: int64"
      ]
     },
     "execution_count": 46,
     "metadata": {},
     "output_type": "execute_result"
    }
   ],
   "source": [
    "#salary_range\n",
    "dataset[dataset['fraudulent']==1]['salary_range'].value_counts().head(5)\n"
   ]
  },
  {
   "cell_type": "code",
   "execution_count": 47,
   "metadata": {
    "colab": {
     "base_uri": "https://localhost:8080/"
    },
    "id": "yXyaItP89FvU",
    "outputId": "37240456-f2fe-4218-e70b-f1ffe8cd64d6"
   },
   "outputs": [
    {
     "data": {
      "text/plain": [
       "salary_range\n",
       "Unavailable    14369\n",
       "0-0              138\n",
       "40000-50000       65\n",
       "30000-40000       51\n",
       "45000-67000       37\n",
       "Name: count, dtype: int64"
      ]
     },
     "execution_count": 47,
     "metadata": {},
     "output_type": "execute_result"
    }
   ],
   "source": [
    "dataset[dataset['fraudulent']==0]['salary_range'].value_counts().head(5)"
   ]
  },
  {
   "cell_type": "code",
   "execution_count": 48,
   "metadata": {
    "colab": {
     "base_uri": "https://localhost:8080/"
    },
    "id": "g5YcnO2qC-SI",
    "outputId": "f9a9a9f4-659a-4c78-b772-566705dbf942"
   },
   "outputs": [
    {
     "data": {
      "image/png": "[encoded data removed]",
      "text/plain": [
       "<Figure size 1000x600 with 1 Axes>"
      ]
     },
     "metadata": {},
     "output_type": "display_data"
    }
   ],
   "source": [
    "#location\n",
    "fraudulent_ctry = dataset[dataset['fraudulent'] == 1]['location_country'].value_counts()\n",
    "\n",
    "fraudulent_ctry_10 = fraudulent_ctry.head(10)\n",
    "\n",
    "plt.figure(figsize=(10, 6))\n",
    "fraudulent_ctry_10.plot(kind='bar')\n",
    "plt.title('Counts of Fraudulent Cases by Country')\n",
    "plt.xlabel('Country')\n",
    "plt.ylabel('Count')\n",
    "plt.xticks(rotation=90) \n",
    "plt.show()"
   ]
  },
  {
   "cell_type": "code",
   "execution_count": 49,
   "metadata": {
    "colab": {
     "base_uri": "https://localhost:8080/"
    },
    "id": "jYGEaJBcDEw8",
    "outputId": "dd71bd2d-3075-4017-ab49-1ad4382bbb09"
   },
   "outputs": [
    {
     "data": {
      "image/png": "[encoded data removed]",
      "text/plain": [
       "<Figure size 1000x600 with 1 Axes>"
      ]
     },
     "metadata": {},
     "output_type": "display_data"
    }
   ],
   "source": [
    "non_fraudulent_ctry = dataset[dataset['fraudulent'] == 0]['location_country'].value_counts()\n",
    "\n",
    "non_fraudulent_ctry_10 = non_fraudulent_ctry.head(10)\n",
    "\n",
    "plt.figure(figsize=(10, 6))\n",
    "non_fraudulent_ctry_10.plot(kind='bar')\n",
    "plt.title('Counts of Non-Fraudulent Cases by Country')\n",
    "plt.xlabel('Country')\n",
    "plt.ylabel('Count')\n",
    "plt.xticks(rotation=90) \n",
    "plt.show()"
   ]
  },
  {
   "cell_type": "code",
   "execution_count": 50,
   "metadata": {
    "colab": {
     "base_uri": "https://localhost:8080/"
    },
    "id": "XMUnY-sRDMeQ",
    "outputId": "e22535d2-e543-4395-be07-ab0e0791bc36"
   },
   "outputs": [
    {
     "data": {
      "text/plain": [
       "location_county\n",
       " TX    152\n",
       " CA    143\n",
       " NY     68\n",
       "        57\n",
       " MD     35\n",
       "Name: count, dtype: int64"
      ]
     },
     "execution_count": 50,
     "metadata": {},
     "output_type": "execute_result"
    }
   ],
   "source": [
    "dataset[dataset['fraudulent']==1]['location_county'].value_counts().head(5)"
   ]
  },
  {
   "cell_type": "code",
   "execution_count": 51,
   "metadata": {
    "colab": {
     "base_uri": "https://localhost:8080/"
    },
    "id": "Ljk4WJ7-DMiB",
    "outputId": "3156ce5b-07fa-4284-ab1c-e33a0f5ba351"
   },
   "outputs": [
    {
     "data": {
      "text/plain": [
       "location_county\n",
       "        2083\n",
       " CA     1908\n",
       " NY     1191\n",
       " LND     986\n",
       " TX      823\n",
       "Name: count, dtype: int64"
      ]
     },
     "execution_count": 51,
     "metadata": {},
     "output_type": "execute_result"
    }
   ],
   "source": [
    "dataset[dataset['fraudulent']==0]['location_county'].value_counts().head(5)"
   ]
  },
  {
   "cell_type": "code",
   "execution_count": 52,
   "metadata": {
    "colab": {
     "base_uri": "https://localhost:8080/"
    },
    "id": "ugSJokVHDMmM",
    "outputId": "6892cc00-4580-4909-bb10-b7e8878c903c"
   },
   "outputs": [
    {
     "data": {
      "text/plain": [
       "location_city\n",
       "                129\n",
       " Houston         92\n",
       " Sydney          31\n",
       " Bakersfield     30\n",
       "unavailable      27\n",
       "Name: count, dtype: int64"
      ]
     },
     "execution_count": 52,
     "metadata": {},
     "output_type": "execute_result"
    }
   ],
   "source": [
    "dataset[dataset['fraudulent']==1]['location_city'].value_counts().head(5)"
   ]
  },
  {
   "cell_type": "code",
   "execution_count": 53,
   "metadata": {
    "colab": {
     "base_uri": "https://localhost:8080/"
    },
    "id": "oIj2V-AODMou",
    "outputId": "62a184ce-eb48-42fd-df30-487cf2f8f6d4"
   },
   "outputs": [
    {
     "data": {
      "text/plain": [
       "location_city\n",
       "                  1498\n",
       " London           1056\n",
       " New York          649\n",
       " Athens            543\n",
       " San Francisco     467\n",
       "Name: count, dtype: int64"
      ]
     },
     "execution_count": 53,
     "metadata": {},
     "output_type": "execute_result"
    }
   ],
   "source": [
    "dataset[dataset['fraudulent']==0]['location_city'].value_counts().head(5)"
   ]
  },
  {
   "cell_type": "code",
   "execution_count": 54,
   "metadata": {
    "colab": {
     "base_uri": "https://localhost:8080/",
     "height": 406
    },
    "id": "ZJRSCdspy6GE",
    "outputId": "af14db95-6ec8-4056-fcf8-6acb862e6db8"
   },
   "outputs": [
    {
     "data": {
      "text/plain": [
       "<Axes: xlabel='telecommuting'>"
      ]
     },
     "execution_count": 54,
     "metadata": {},
     "output_type": "execute_result"
    },
    {
     "data": {
      "image/png": "[encoded data removed]",
      "text/plain": [
       "<Figure size 600x400 with 1 Axes>"
      ]
     },
     "metadata": {},
     "output_type": "display_data"
    }
   ],
   "source": [
    "#telecommuting\n",
    "telecommuting_fraud = dataset.groupby('telecommuting')['fraudulent'].mean()\n",
    "fig, ax = plt.subplots(1, 1, figsize=(6,4))\n",
    "sns.barplot(x=telecommuting_fraud.index, y=telecommuting_fraud.values, ax=ax)"
   ]
  },
  {
   "cell_type": "code",
   "execution_count": 55,
   "metadata": {
    "colab": {
     "base_uri": "https://localhost:8080/",
     "height": 467
    },
    "id": "BuELFYwP50I-",
    "outputId": "6967e2a1-d873-4b8a-e68a-f4e084b4fcbb"
   },
   "outputs": [
    {
     "data": {
      "text/plain": [
       "<Axes: xlabel='telecommuting', ylabel='count'>"
      ]
     },
     "execution_count": 55,
     "metadata": {},
     "output_type": "execute_result"
    },
    {
     "data": {
      "image/png": "[encoded data removed]",
      "text/plain": [
       "<Figure size 640x480 with 1 Axes>"
      ]
     },
     "metadata": {},
     "output_type": "display_data"
    }
   ],
   "source": [
    "sns.countplot(x='telecommuting',data=dataset,hue='fraudulent')"
   ]
  },
  {
   "cell_type": "code",
   "execution_count": 56,
   "metadata": {
    "colab": {
     "base_uri": "https://localhost:8080/",
     "height": 406
    },
    "id": "9d9JJS4ey6IR",
    "outputId": "6efe7b8c-147e-48bc-dd17-1f04a24e395e"
   },
   "outputs": [
    {
     "data": {
      "text/plain": [
       "<Axes: xlabel='has_company_logo'>"
      ]
     },
     "execution_count": 56,
     "metadata": {},
     "output_type": "execute_result"
    },
    {
     "data": {
      "image/png": "[encoded data removed]",
      "text/plain": [
       "<Figure size 600x400 with 1 Axes>"
      ]
     },
     "metadata": {},
     "output_type": "display_data"
    }
   ],
   "source": [
    "#has_company_logo\n",
    "has_company_logo_fraud = dataset.groupby('has_company_logo')['fraudulent'].mean()\n",
    "fig, ax = plt.subplots(1, 1, figsize=(6,4))\n",
    "sns.barplot(x=has_company_logo_fraud.index, y=has_company_logo_fraud.values, ax=ax)"
   ]
  },
  {
   "cell_type": "code",
   "execution_count": 57,
   "metadata": {
    "colab": {
     "base_uri": "https://localhost:8080/",
     "height": 468
    },
    "id": "4ehBKj4bDph7",
    "outputId": "1f346916-3daa-4201-8f87-59c08fbbc2d7"
   },
   "outputs": [
    {
     "data": {
      "text/plain": [
       "<Axes: xlabel='has_company_logo', ylabel='count'>"
      ]
     },
     "execution_count": 57,
     "metadata": {},
     "output_type": "execute_result"
    },
    {
     "data": {
      "image/png": "[encoded data removed]",
      "text/plain": [
       "<Figure size 640x480 with 1 Axes>"
      ]
     },
     "metadata": {},
     "output_type": "display_data"
    }
   ],
   "source": [
    "sns.countplot(x='has_company_logo',data=dataset,hue='fraudulent')"
   ]
  },
  {
   "cell_type": "code",
   "execution_count": 58,
   "metadata": {
    "colab": {
     "base_uri": "https://localhost:8080/",
     "height": 406
    },
    "id": "l6fF_MYezG-b",
    "outputId": "f040a4ff-656a-4462-b30b-d3ff1a26f7da"
   },
   "outputs": [
    {
     "data": {
      "text/plain": [
       "<Axes: xlabel='has_questions'>"
      ]
     },
     "execution_count": 58,
     "metadata": {},
     "output_type": "execute_result"
    },
    {
     "data": {
      "image/png": "[encoded data removed]",
      "text/plain": [
       "<Figure size 600x400 with 1 Axes>"
      ]
     },
     "metadata": {},
     "output_type": "display_data"
    }
   ],
   "source": [
    "#has_questions\n",
    "has_questions_fraud = dataset.groupby('has_questions')['fraudulent'].mean()\n",
    "fig, ax = plt.subplots(1, 1, figsize=(6,4))\n",
    "sns.barplot(x=has_questions_fraud.index, y=has_questions_fraud.values, ax=ax)"
   ]
  },
  {
   "cell_type": "code",
   "execution_count": 59,
   "metadata": {
    "colab": {
     "base_uri": "https://localhost:8080/",
     "height": 468
    },
    "id": "FbMaQskaD2Tk",
    "outputId": "196ef847-9756-4698-be37-dad63cbe6f69"
   },
   "outputs": [
    {
     "data": {
      "text/plain": [
       "<Axes: xlabel='has_questions', ylabel='count'>"
      ]
     },
     "execution_count": 59,
     "metadata": {},
     "output_type": "execute_result"
    },
    {
     "data": {
      "image/png": "[encoded data removed]",
      "text/plain": [
       "<Figure size 640x480 with 1 Axes>"
      ]
     },
     "metadata": {},
     "output_type": "display_data"
    }
   ],
   "source": [
    "sns.countplot(x='has_questions',data=dataset,hue='fraudulent')"
   ]
  },
  {
   "cell_type": "code",
   "execution_count": 60,
   "metadata": {
    "colab": {
     "base_uri": "https://localhost:8080/",
     "height": 406
    },
    "id": "GMMxYh7gzHBD",
    "outputId": "fd9c3977-7278-4f8b-8afd-af38dd517d11"
   },
   "outputs": [
    {
     "data": {
      "text/plain": [
       "<Axes: xlabel='employment_type'>"
      ]
     },
     "execution_count": 60,
     "metadata": {},
     "output_type": "execute_result"
    },
    {
     "data": {
      "image/png": "[encoded data removed]",
      "text/plain": [
       "<Figure size 800x400 with 1 Axes>"
      ]
     },
     "metadata": {},
     "output_type": "display_data"
    }
   ],
   "source": [
    "#employment_type\n",
    "employment_type_fraud = dataset.groupby('employment_type')['fraudulent'].mean()\n",
    "fig, ax = plt.subplots(1, 1, figsize=(8,4))\n",
    "sns.barplot(x=employment_type_fraud.index, y=employment_type_fraud.values, ax=ax)"
   ]
  },
  {
   "cell_type": "code",
   "execution_count": 61,
   "metadata": {
    "colab": {
     "base_uri": "https://localhost:8080/",
     "height": 468
    },
    "id": "N1zmTPBvEIc1",
    "outputId": "b92bdcb4-a1d4-46ce-fe3a-38a04a0d5d65"
   },
   "outputs": [
    {
     "data": {
      "text/plain": [
       "<Axes: xlabel='employment_type', ylabel='count'>"
      ]
     },
     "execution_count": 61,
     "metadata": {},
     "output_type": "execute_result"
    },
    {
     "data": {
      "image/png": "[encoded data removed]",
      "text/plain": [
       "<Figure size 640x480 with 1 Axes>"
      ]
     },
     "metadata": {},
     "output_type": "display_data"
    }
   ],
   "source": [
    "sns.countplot(x='employment_type',data=dataset,hue='fraudulent')"
   ]
  },
  {
   "cell_type": "code",
   "execution_count": 62,
   "metadata": {
    "colab": {
     "base_uri": "https://localhost:8080/",
     "height": 406
    },
    "id": "NLtMBxY5zHDK",
    "outputId": "0dc9130b-7fbd-462f-f074-4f6d7d9fceaa"
   },
   "outputs": [
    {
     "data": {
      "text/plain": [
       "<Axes: xlabel='required_experience'>"
      ]
     },
     "execution_count": 62,
     "metadata": {},
     "output_type": "execute_result"
    },
    {
     "data": {
      "image/png": "[encoded data removed]",
      "text/plain": [
       "<Figure size 1000x400 with 1 Axes>"
      ]
     },
     "metadata": {},
     "output_type": "display_data"
    }
   ],
   "source": [
    "#required_experience\n",
    "required_experience_fraud = dataset.groupby('required_experience')['fraudulent'].mean()\n",
    "fig, ax = plt.subplots(1, 1, figsize=(10,4))\n",
    "sns.barplot(x=required_experience_fraud.index, y=required_experience_fraud.values, ax=ax)"
   ]
  },
  {
   "cell_type": "code",
   "execution_count": 63,
   "metadata": {
    "colab": {
     "base_uri": "https://localhost:8080/",
     "height": 406
    },
    "id": "txzpaAuKEpuH",
    "outputId": "a9a8382c-a8ea-4c96-fd58-5c08ebcad7c8"
   },
   "outputs": [
    {
     "data": {
      "text/plain": [
       "<Axes: xlabel='required_experience', ylabel='count'>"
      ]
     },
     "execution_count": 63,
     "metadata": {},
     "output_type": "execute_result"
    },
    {
     "data": {
      "image/png": "[encoded data removed]",
      "text/plain": [
       "<Figure size 1000x400 with 1 Axes>"
      ]
     },
     "metadata": {},
     "output_type": "display_data"
    }
   ],
   "source": [
    "fig, ax = plt.subplots(1, 1, figsize=(10,4))\n",
    "sns.countplot(x='required_experience',data=dataset,hue='fraudulent',ax=ax)"
   ]
  },
  {
   "cell_type": "code",
   "execution_count": 64,
   "metadata": {
    "colab": {
     "base_uri": "https://localhost:8080/"
    },
    "id": "U-n4o-o1zHFa",
    "outputId": "7d0693ca-7f15-4e0d-9b6d-9bda551d8038"
   },
   "outputs": [
    {
     "data": {
      "text/plain": [
       "required_education\n",
       "unavailable                  451\n",
       "High School or equivalent    170\n",
       "Bachelor's Degree            100\n",
       "Unspecified                   61\n",
       "Master's Degree               31\n",
       "Name: count, dtype: int64"
      ]
     },
     "execution_count": 64,
     "metadata": {},
     "output_type": "execute_result"
    }
   ],
   "source": [
    "#required_education\n",
    "dataset[dataset['fraudulent']==1]['required_education'].value_counts().head(5)"
   ]
  },
  {
   "cell_type": "code",
   "execution_count": 65,
   "metadata": {
    "colab": {
     "base_uri": "https://localhost:8080/"
    },
    "id": "E-NzwOLPFCuC",
    "outputId": "b577a94d-2b50-4b39-b4bf-d0c3d6bcab9d"
   },
   "outputs": [
    {
     "data": {
      "text/plain": [
       "required_education\n",
       "unavailable                  7654\n",
       "Bachelor's Degree            5045\n",
       "High School or equivalent    1910\n",
       "Unspecified                  1336\n",
       "Master's Degree               385\n",
       "Name: count, dtype: int64"
      ]
     },
     "execution_count": 65,
     "metadata": {},
     "output_type": "execute_result"
    }
   ],
   "source": [
    "dataset[dataset['fraudulent']==0]['required_education'].value_counts().head(5)"
   ]
  },
  {
   "cell_type": "code",
   "execution_count": 66,
   "metadata": {
    "colab": {
     "base_uri": "https://localhost:8080/"
    },
    "id": "iRz5EH1ZzHHa",
    "outputId": "55838ed2-64d2-4b4b-fbf8-79da0a41c0f6"
   },
   "outputs": [
    {
     "data": {
      "text/plain": [
       "industry\n",
       "unavailable                  275\n",
       "Oil & Energy                 109\n",
       "Accounting                    57\n",
       "Hospital & Health Care        51\n",
       "Marketing and Advertising     45\n",
       "Name: count, dtype: int64"
      ]
     },
     "execution_count": 66,
     "metadata": {},
     "output_type": "execute_result"
    }
   ],
   "source": [
    "#industry\n",
    "dataset[dataset['fraudulent']==1]['industry'].value_counts().head(5)"
   ]
  },
  {
   "cell_type": "code",
   "execution_count": 67,
   "metadata": {
    "colab": {
     "base_uri": "https://localhost:8080/"
    },
    "id": "5_Kt6ikXFMFZ",
    "outputId": "9656cfe2-e9bb-4059-b359-459d936888f9"
   },
   "outputs": [
    {
     "data": {
      "text/plain": [
       "industry\n",
       "unavailable                            4628\n",
       "Information Technology and Services    1702\n",
       "Computer Software                      1371\n",
       "Internet                               1062\n",
       "Education Management                    822\n",
       "Name: count, dtype: int64"
      ]
     },
     "execution_count": 67,
     "metadata": {},
     "output_type": "execute_result"
    }
   ],
   "source": [
    "dataset[dataset['fraudulent']==0]['industry'].value_counts().head(5)"
   ]
  },
  {
   "cell_type": "code",
   "execution_count": 68,
   "metadata": {
    "colab": {
     "base_uri": "https://localhost:8080/"
    },
    "id": "twVNgijkzMli",
    "outputId": "62312899-1c5d-4ccf-89b3-167287a5e889"
   },
   "outputs": [
    {
     "data": {
      "text/plain": [
       "function\n",
       "unavailable         337\n",
       "Administrative      119\n",
       "Engineering         113\n",
       "Customer Service     67\n",
       "Sales                41\n",
       "Name: count, dtype: int64"
      ]
     },
     "execution_count": 68,
     "metadata": {},
     "output_type": "execute_result"
    }
   ],
   "source": [
    "#function\n",
    "dataset[dataset['fraudulent']==1]['function'].value_counts().head(5)"
   ]
  },
  {
   "cell_type": "code",
   "execution_count": 69,
   "metadata": {
    "colab": {
     "base_uri": "https://localhost:8080/"
    },
    "id": "SVQaey0eF9_q",
    "outputId": "39671e6f-e5b6-46c7-c8d5-bfd05f0ed4ac"
   },
   "outputs": [
    {
     "data": {
      "text/plain": [
       "function\n",
       "unavailable               6118\n",
       "Information Technology    1717\n",
       "Sales                     1427\n",
       "Engineering               1235\n",
       "Customer Service          1162\n",
       "Name: count, dtype: int64"
      ]
     },
     "execution_count": 69,
     "metadata": {},
     "output_type": "execute_result"
    }
   ],
   "source": [
    "dataset[dataset['fraudulent']==0]['function'].value_counts().head(5)"
   ]
  },
  {
   "cell_type": "markdown",
   "metadata": {
    "id": "CEBUivRozOYC"
   },
   "source": [
    "## 3. Preprocessing"
   ]
  },
  {
   "cell_type": "markdown",
   "metadata": {
    "id": "GSSEqrPZ1GI3"
   },
   "source": [
    "- frequency encoding: title,department,salary_range,industry,function\n",
    "- embeddings: company_profile,description,requirements,benefits\n",
    "- one-hot encoding: others\n",
    "- location: split(',') then frequency encoding"
   ]
  },
  {
   "cell_type": "markdown",
   "metadata": {
    "id": "LsWOvOqo6wg4"
   },
   "source": [
    "- need to strip() text\n",
    "- for text dataset:  1) combine all text together and get embeddings; 2) deal with them separately and for department-like features, use frequency encoding"
   ]
  },
  {
   "cell_type": "code",
   "execution_count": 70,
   "metadata": {
    "id": "sT9_bz7cQpUW"
   },
   "outputs": [],
   "source": [
    "df = dataset\n",
    "\n",
    "#df = dataset.copy()"
   ]
  },
  {
   "cell_type": "code",
   "execution_count": 71,
   "metadata": {
    "colab": {
     "base_uri": "https://localhost:8080/"
    },
    "id": "GDnLChM4MMfM",
    "outputId": "5cdfdc8f-967a-4c2b-cd71-39d33872abbc"
   },
   "outputs": [
    {
     "data": {
      "text/plain": [
       "nan"
      ]
     },
     "execution_count": 71,
     "metadata": {},
     "output_type": "execute_result"
    }
   ],
   "source": [
    "# if company_profile is null, more likely to be fraudulent\n",
    "dataset[dataset['company_profile'].isna()]['fraudulent'].mean()"
   ]
  },
  {
   "cell_type": "code",
   "execution_count": 72,
   "metadata": {
    "colab": {
     "base_uri": "https://localhost:8080/"
    },
    "id": "AASHoGPcR1PD",
    "outputId": "39c4db4c-246d-4ef4-950b-e3cdd6932d19"
   },
   "outputs": [
    {
     "data": {
      "text/plain": [
       "0.04843400447427293"
      ]
     },
     "execution_count": 72,
     "metadata": {},
     "output_type": "execute_result"
    }
   ],
   "source": [
    "dataset[~dataset['company_profile'].isna()]['fraudulent'].mean()"
   ]
  },
  {
   "cell_type": "code",
   "execution_count": 73,
   "metadata": {
    "id": "Jh3PQ-VCSKkq"
   },
   "outputs": [],
   "source": [
    "df['company_profile_isna'] = df['company_profile'].isna().replace({True: 1, False: 0})"
   ]
  },
  {
   "cell_type": "markdown",
   "metadata": {
    "id": "CQY6AptjzVYg"
   },
   "source": [
    "### 3.1 Deal with missing values"
   ]
  },
  {
   "cell_type": "code",
   "execution_count": 74,
   "metadata": {
    "id": "2n-zVgKTRAYN"
   },
   "outputs": [],
   "source": [
    "# drop when description is null, only 1 record\n",
    "df = df.dropna(subset=['description'])"
   ]
  },
  {
   "cell_type": "code",
   "execution_count": 75,
   "metadata": {
    "id": "GbYkQyLxRB_g"
   },
   "outputs": [
    {
     "data": {
      "text/html": [
       "<div>\n",
       "<style scoped>\n",
       "    .dataframe tbody tr th:only-of-type {\n",
       "        vertical-align: middle;\n",
       "    }\n",
       "\n",
       "    .dataframe tbody tr th {\n",
       "        vertical-align: top;\n",
       "    }\n",
       "\n",
       "    .dataframe thead th {\n",
       "        text-align: right;\n",
       "    }\n",
       "</style>\n",
       "<table border=\"1\" class=\"dataframe\">\n",
       "  <thead>\n",
       "    <tr style=\"text-align: right;\">\n",
       "      <th></th>\n",
       "      <th>title</th>\n",
       "      <th>location</th>\n",
       "      <th>department</th>\n",
       "      <th>salary_range</th>\n",
       "      <th>telecommuting</th>\n",
       "      <th>has_company_logo</th>\n",
       "      <th>has_questions</th>\n",
       "      <th>employment_type</th>\n",
       "      <th>required_experience</th>\n",
       "      <th>required_education</th>\n",
       "      <th>industry</th>\n",
       "      <th>function</th>\n",
       "      <th>fraudulent</th>\n",
       "      <th>have_company_profile</th>\n",
       "      <th>have_requirements</th>\n",
       "      <th>have_benefits</th>\n",
       "      <th>have_department</th>\n",
       "      <th>full_text</th>\n",
       "      <th>location_country</th>\n",
       "      <th>location_county</th>\n",
       "      <th>location_city</th>\n",
       "      <th>salary_group</th>\n",
       "      <th>text_len</th>\n",
       "      <th>company_profile_isna</th>\n",
       "    </tr>\n",
       "  </thead>\n",
       "  <tbody>\n",
       "    <tr>\n",
       "      <th>0</th>\n",
       "      <td>Marketing Intern</td>\n",
       "      <td>US, NY, New York</td>\n",
       "      <td>Marketing</td>\n",
       "      <td>Unavailable</td>\n",
       "      <td>0</td>\n",
       "      <td>1</td>\n",
       "      <td>0</td>\n",
       "      <td>Other</td>\n",
       "      <td>Internship</td>\n",
       "      <td>unavailable</td>\n",
       "      <td>unavailable</td>\n",
       "      <td>Marketing</td>\n",
       "      <td>0</td>\n",
       "      <td>1</td>\n",
       "      <td>1</td>\n",
       "      <td>0</td>\n",
       "      <td>1</td>\n",
       "      <td>We're Food52, and we've created a groundbreaki...</td>\n",
       "      <td>US</td>\n",
       "      <td>NY</td>\n",
       "      <td>New York</td>\n",
       "      <td>Unavailable</td>\n",
       "      <td>258</td>\n",
       "      <td>0</td>\n",
       "    </tr>\n",
       "    <tr>\n",
       "      <th>1</th>\n",
       "      <td>Customer Service - Cloud Video Production</td>\n",
       "      <td>NZ, , Auckland</td>\n",
       "      <td>Success</td>\n",
       "      <td>Unavailable</td>\n",
       "      <td>0</td>\n",
       "      <td>1</td>\n",
       "      <td>0</td>\n",
       "      <td>Full-time</td>\n",
       "      <td>Not Applicable</td>\n",
       "      <td>unavailable</td>\n",
       "      <td>Marketing and Advertising</td>\n",
       "      <td>Customer Service</td>\n",
       "      <td>0</td>\n",
       "      <td>1</td>\n",
       "      <td>1</td>\n",
       "      <td>1</td>\n",
       "      <td>1</td>\n",
       "      <td>90 Seconds, the worlds Cloud Video Production ...</td>\n",
       "      <td>NZ</td>\n",
       "      <td></td>\n",
       "      <td>Auckland</td>\n",
       "      <td>Unavailable</td>\n",
       "      <td>590</td>\n",
       "      <td>0</td>\n",
       "    </tr>\n",
       "    <tr>\n",
       "      <th>2</th>\n",
       "      <td>Commissioning Machinery Assistant (CMA)</td>\n",
       "      <td>US, IA, Wever</td>\n",
       "      <td></td>\n",
       "      <td>Unavailable</td>\n",
       "      <td>0</td>\n",
       "      <td>1</td>\n",
       "      <td>0</td>\n",
       "      <td>unavailable</td>\n",
       "      <td>unavailable</td>\n",
       "      <td>unavailable</td>\n",
       "      <td>unavailable</td>\n",
       "      <td>unavailable</td>\n",
       "      <td>0</td>\n",
       "      <td>1</td>\n",
       "      <td>1</td>\n",
       "      <td>0</td>\n",
       "      <td>0</td>\n",
       "      <td>Valor Services provides Workforce Solutions th...</td>\n",
       "      <td>US</td>\n",
       "      <td>IA</td>\n",
       "      <td>Wever</td>\n",
       "      <td>Unavailable</td>\n",
       "      <td>232</td>\n",
       "      <td>0</td>\n",
       "    </tr>\n",
       "    <tr>\n",
       "      <th>3</th>\n",
       "      <td>Account Executive - Washington DC</td>\n",
       "      <td>US, DC, Washington</td>\n",
       "      <td>Sales</td>\n",
       "      <td>Unavailable</td>\n",
       "      <td>0</td>\n",
       "      <td>1</td>\n",
       "      <td>0</td>\n",
       "      <td>Full-time</td>\n",
       "      <td>Mid-Senior level</td>\n",
       "      <td>Bachelor's Degree</td>\n",
       "      <td>Computer Software</td>\n",
       "      <td>Sales</td>\n",
       "      <td>0</td>\n",
       "      <td>1</td>\n",
       "      <td>1</td>\n",
       "      <td>1</td>\n",
       "      <td>1</td>\n",
       "      <td>Our passion for improving quality of life thro...</td>\n",
       "      <td>US</td>\n",
       "      <td>DC</td>\n",
       "      <td>Washington</td>\n",
       "      <td>Unavailable</td>\n",
       "      <td>493</td>\n",
       "      <td>0</td>\n",
       "    </tr>\n",
       "    <tr>\n",
       "      <th>4</th>\n",
       "      <td>Bill Review Manager</td>\n",
       "      <td>US, FL, Fort Worth</td>\n",
       "      <td></td>\n",
       "      <td>Unavailable</td>\n",
       "      <td>0</td>\n",
       "      <td>1</td>\n",
       "      <td>1</td>\n",
       "      <td>Full-time</td>\n",
       "      <td>Mid-Senior level</td>\n",
       "      <td>Bachelor's Degree</td>\n",
       "      <td>Hospital &amp; Health Care</td>\n",
       "      <td>Health Care Provider</td>\n",
       "      <td>0</td>\n",
       "      <td>1</td>\n",
       "      <td>1</td>\n",
       "      <td>1</td>\n",
       "      <td>0</td>\n",
       "      <td>SpotSource Solutions LLC is a Global Human Cap...</td>\n",
       "      <td>US</td>\n",
       "      <td>FL</td>\n",
       "      <td>Fort Worth</td>\n",
       "      <td>Unavailable</td>\n",
       "      <td>400</td>\n",
       "      <td>0</td>\n",
       "    </tr>\n",
       "  </tbody>\n",
       "</table>\n",
       "</div>"
      ],
      "text/plain": [
       "                                       title            location department  \\\n",
       "0                           Marketing Intern    US, NY, New York  Marketing   \n",
       "1  Customer Service - Cloud Video Production      NZ, , Auckland    Success   \n",
       "2    Commissioning Machinery Assistant (CMA)       US, IA, Wever              \n",
       "3          Account Executive - Washington DC  US, DC, Washington      Sales   \n",
       "4                        Bill Review Manager  US, FL, Fort Worth              \n",
       "\n",
       "  salary_range  telecommuting  has_company_logo  has_questions  \\\n",
       "0  Unavailable              0                 1              0   \n",
       "1  Unavailable              0                 1              0   \n",
       "2  Unavailable              0                 1              0   \n",
       "3  Unavailable              0                 1              0   \n",
       "4  Unavailable              0                 1              1   \n",
       "\n",
       "  employment_type required_experience required_education  \\\n",
       "0           Other          Internship        unavailable   \n",
       "1       Full-time      Not Applicable        unavailable   \n",
       "2     unavailable         unavailable        unavailable   \n",
       "3       Full-time    Mid-Senior level  Bachelor's Degree   \n",
       "4       Full-time    Mid-Senior level  Bachelor's Degree   \n",
       "\n",
       "                    industry              function  fraudulent  \\\n",
       "0                unavailable             Marketing           0   \n",
       "1  Marketing and Advertising      Customer Service           0   \n",
       "2                unavailable           unavailable           0   \n",
       "3          Computer Software                 Sales           0   \n",
       "4     Hospital & Health Care  Health Care Provider           0   \n",
       "\n",
       "   have_company_profile  have_requirements  have_benefits  have_department  \\\n",
       "0                     1                  1              0                1   \n",
       "1                     1                  1              1                1   \n",
       "2                     1                  1              0                0   \n",
       "3                     1                  1              1                1   \n",
       "4                     1                  1              1                0   \n",
       "\n",
       "                                           full_text location_country  \\\n",
       "0  We're Food52, and we've created a groundbreaki...               US   \n",
       "1  90 Seconds, the worlds Cloud Video Production ...               NZ   \n",
       "2  Valor Services provides Workforce Solutions th...               US   \n",
       "3  Our passion for improving quality of life thro...               US   \n",
       "4  SpotSource Solutions LLC is a Global Human Cap...               US   \n",
       "\n",
       "  location_county location_city salary_group  text_len  company_profile_isna  \n",
       "0              NY      New York  Unavailable       258                     0  \n",
       "1                      Auckland  Unavailable       590                     0  \n",
       "2              IA         Wever  Unavailable       232                     0  \n",
       "3              DC    Washington  Unavailable       493                     0  \n",
       "4              FL    Fort Worth  Unavailable       400                     0  "
      ]
     },
     "execution_count": 75,
     "metadata": {},
     "output_type": "execute_result"
    }
   ],
   "source": [
    "# combine texts\n",
    "df[['company_profile']] = df[['company_profile']].fillna('')\n",
    "df[['description']] = df[['description']].fillna('')\n",
    "df[['requirements']] = df[['requirements']].fillna('')\n",
    "df[['benefits']] = df[['benefits']].fillna('')\n",
    "df['full_text'] = df['company_profile'] + ' ' + df['description'] + ' ' + df['requirements'] + ' ' + df['benefits']\n",
    "\n",
    "del df['company_profile']\n",
    "del df['description']\n",
    "del df['requirements']\n",
    "del df['benefits']\n",
    "\n",
    "df.head()"
   ]
  },
  {
   "cell_type": "code",
   "execution_count": 76,
   "metadata": {
    "id": "8AYcQpUgCnKf"
   },
   "outputs": [],
   "source": [
    "df[['location_country','location_county','location_city']] = df[['location_country','location_county','location_city']].replace(' ',np.NaN)"
   ]
  },
  {
   "cell_type": "code",
   "execution_count": 77,
   "metadata": {
    "id": "V9ArBzUPUuh5"
   },
   "outputs": [],
   "source": [
    "# fill in with 'unknown': location_country,county,city,employment_type,required_experience,required_education,industry,function\n",
    "df[['employment_type','required_experience','required_education','industry','function','location_country','location_county','location_city']] \\\n",
    "= df[['employment_type','required_experience','required_education','industry','function','location_country','location_county','location_city']].fillna('Unknown')"
   ]
  },
  {
   "cell_type": "code",
   "execution_count": 78,
   "metadata": {
    "id": "dEKH7sXwt2vQ"
   },
   "outputs": [],
   "source": [
    "# bin then fill in with most common: salary_group, but still keep salary_range, fill in with 'unknown' and use frequency encoding\n",
    "df['salary_group'] = df['salary_range']"
   ]
  },
  {
   "cell_type": "code",
   "execution_count": 79,
   "metadata": {
    "id": "uzZL9N6-rn7F"
   },
   "outputs": [],
   "source": [
    "for idx in (df['salary_group'].dropna()).index:\n",
    "    Range = df.at[idx , 'salary_group'].split('-')\n",
    "    try :\n",
    "        starts = int(Range[0])\n",
    "        if len(Range)==2:\n",
    "          ends = int(Range[1])\n",
    "        else:\n",
    "          ends = starts\n",
    "        salary = (starts + ends)/2\n",
    "        if salary <= 1000:\n",
    "          df.at[idx ,'salary_group'] = 'Extremely Low'\n",
    "        elif salary > 1000 and salary <= 30000:\n",
    "          df.at[idx ,'salary_group'] = 'Low'\n",
    "        elif salary > 30000 and salary <= 100000:\n",
    "          df.at[idx ,'salary_group'] = 'Slightly Low'\n",
    "        elif salary > 100000 and salary <= 500000:\n",
    "          df.at[idx ,'salary_group'] = 'Slightly High'\n",
    "        elif salary > 500000 and salary <= 1000000:\n",
    "          df.at[idx ,'salary_group'] = 'High'\n",
    "        elif salary > 1000000:\n",
    "          df.at[idx ,'salary_group'] = 'Extremely High'\n",
    "\n",
    "    except ValueError:\n",
    "        df.at[idx ,'salary_group'] = 'Unknown'\n",
    "\n",
    "df['salary_group'] = df['salary_group'].fillna('Unknown')\n",
    "df['salary_range'] = df['salary_range'].fillna('Unknown')"
   ]
  },
  {
   "cell_type": "code",
   "execution_count": 80,
   "metadata": {
    "colab": {
     "base_uri": "https://localhost:8080/"
    },
    "id": "-M-MpjzyxpMF",
    "outputId": "d080198f-a53f-45fb-fc57-7e3adb5f4cd9"
   },
   "outputs": [
    {
     "data": {
      "text/plain": [
       "salary_group\n",
       "Extremely High    0.052632\n",
       "Extremely Low     0.078035\n",
       "High              0.312500\n",
       "Low               0.090062\n",
       "Slightly High     0.053292\n",
       "Slightly Low      0.073549\n",
       "Unknown           0.042825\n",
       "Name: fraudulent, dtype: float64"
      ]
     },
     "execution_count": 80,
     "metadata": {},
     "output_type": "execute_result"
    }
   ],
   "source": [
    "df.groupby('salary_group')['fraudulent'].mean()"
   ]
  },
  {
   "cell_type": "code",
   "execution_count": 81,
   "metadata": {
    "colab": {
     "base_uri": "https://localhost:8080/"
    },
    "id": "bNBJIWC6vDIg",
    "outputId": "09fcdaaa-d699-4dc1-8b97-df0940f75d49"
   },
   "outputs": [
    {
     "data": {
      "text/plain": [
       "salary_group\n",
       "Unknown           644\n",
       "Slightly Low      109\n",
       "Low                58\n",
       "Extremely Low      27\n",
       "Slightly High      17\n",
       "High               10\n",
       "Extremely High      1\n",
       "Name: count, dtype: int64"
      ]
     },
     "execution_count": 81,
     "metadata": {},
     "output_type": "execute_result"
    }
   ],
   "source": [
    "df[df['fraudulent']==1]['salary_group'].value_counts()"
   ]
  },
  {
   "cell_type": "code",
   "execution_count": 82,
   "metadata": {
    "colab": {
     "base_uri": "https://localhost:8080/"
    },
    "id": "I-MepcmCvMq7",
    "outputId": "15f556b4-dd40-40d5-ecfa-843ad94e2aea"
   },
   "outputs": [
    {
     "data": {
      "text/plain": [
       "salary_group\n",
       "Unknown           14394\n",
       "Slightly Low       1373\n",
       "Low                 586\n",
       "Extremely Low       319\n",
       "Slightly High       302\n",
       "High                 22\n",
       "Extremely High       18\n",
       "Name: count, dtype: int64"
      ]
     },
     "execution_count": 82,
     "metadata": {},
     "output_type": "execute_result"
    }
   ],
   "source": [
    "df[df['fraudulent']==0]['salary_group'].value_counts()"
   ]
  },
  {
   "cell_type": "code",
   "execution_count": 83,
   "metadata": {
    "id": "qke_SxjwWCt_"
   },
   "outputs": [],
   "source": [
    "# department & location, drop\n",
    "df = df.drop(['location','department'],axis=1)"
   ]
  },
  {
   "cell_type": "code",
   "execution_count": 84,
   "metadata": {
    "colab": {
     "base_uri": "https://localhost:8080/"
    },
    "id": "w1U-uRSszYbI",
    "outputId": "51626305-f315-4e09-8d59-f3d894b454f1"
   },
   "outputs": [
    {
     "data": {
      "text/plain": [
       "title                   0\n",
       "salary_range            0\n",
       "telecommuting           0\n",
       "has_company_logo        0\n",
       "has_questions           0\n",
       "employment_type         0\n",
       "required_experience     0\n",
       "required_education      0\n",
       "industry                0\n",
       "function                0\n",
       "fraudulent              0\n",
       "have_company_profile    0\n",
       "have_requirements       0\n",
       "have_benefits           0\n",
       "have_department         0\n",
       "full_text               0\n",
       "location_country        0\n",
       "location_county         0\n",
       "location_city           0\n",
       "salary_group            0\n",
       "text_len                0\n",
       "company_profile_isna    0\n",
       "dtype: int64"
      ]
     },
     "execution_count": 84,
     "metadata": {},
     "output_type": "execute_result"
    }
   ],
   "source": [
    "df.isna().sum()"
   ]
  },
  {
   "cell_type": "code",
   "execution_count": 85,
   "metadata": {},
   "outputs": [],
   "source": [
    "fraud_text = df[df.fraudulent == 1].full_text\n",
    "nonfraud_text = df[df.fraudulent == 0].full_text\n"
   ]
  },
  {
   "cell_type": "code",
   "execution_count": 124,
   "metadata": {},
   "outputs": [
    {
     "ename": "AttributeError",
     "evalue": "'TransposedFont' object has no attribute 'getbbox'",
     "output_type": "error",
     "traceback": [
      "\u001b[0;31m---------------------------------------------------------------------------\u001b[0m",
      "\u001b[0;31mAttributeError\u001b[0m                            Traceback (most recent call last)",
      "\u001b[1;32m/Users/qzx/Desktop/Lecture Notes/BT4012_Fraud Analytics/Group Project/Exploratory Data Analysis.ipynb Cell 100\u001b[0m line \u001b[0;36m3\n\u001b[1;32m      <a href='vscode-notebook-cell:/Users/qzx/Desktop/Lecture%20Notes/BT4012_Fraud%20Analytics/Group%20Project/Exploratory%20Data%20Analysis.ipynb#Y201sZmlsZQ%3D%3D?line=0'>1</a>\u001b[0m STOPWORDS \u001b[39m=\u001b[39m spacy\u001b[39m.\u001b[39mlang\u001b[39m.\u001b[39men\u001b[39m.\u001b[39mstop_words\u001b[39m.\u001b[39mSTOP_WORDS\n\u001b[1;32m      <a href='vscode-notebook-cell:/Users/qzx/Desktop/Lecture%20Notes/BT4012_Fraud%20Analytics/Group%20Project/Exploratory%20Data%20Analysis.ipynb#Y201sZmlsZQ%3D%3D?line=1'>2</a>\u001b[0m plt\u001b[39m.\u001b[39mfigure(figsize \u001b[39m=\u001b[39m (\u001b[39m16\u001b[39m,\u001b[39m8\u001b[39m))\n\u001b[0;32m----> <a href='vscode-notebook-cell:/Users/qzx/Desktop/Lecture%20Notes/BT4012_Fraud%20Analytics/Group%20Project/Exploratory%20Data%20Analysis.ipynb#Y201sZmlsZQ%3D%3D?line=2'>3</a>\u001b[0m wc \u001b[39m=\u001b[39m WordCloud(min_font_size \u001b[39m=\u001b[39;49m \u001b[39m3\u001b[39;49m,  max_words \u001b[39m=\u001b[39;49m \u001b[39m2000\u001b[39;49m , width \u001b[39m=\u001b[39;49m \u001b[39m1500\u001b[39;49m , height \u001b[39m=\u001b[39;49m \u001b[39m700\u001b[39;49m , stopwords \u001b[39m=\u001b[39;49m STOPWORDS)\u001b[39m.\u001b[39;49mgenerate(\u001b[39mstr\u001b[39;49m(\u001b[39m\"\u001b[39;49m\u001b[39m \u001b[39;49m\u001b[39m\"\u001b[39;49m\u001b[39m.\u001b[39;49mjoin(fraud_text)))\n\u001b[1;32m      <a href='vscode-notebook-cell:/Users/qzx/Desktop/Lecture%20Notes/BT4012_Fraud%20Analytics/Group%20Project/Exploratory%20Data%20Analysis.ipynb#Y201sZmlsZQ%3D%3D?line=3'>4</a>\u001b[0m plt\u001b[39m.\u001b[39mimshow(wc,interpolation \u001b[39m=\u001b[39m \u001b[39m'\u001b[39m\u001b[39mbilinear\u001b[39m\u001b[39m'\u001b[39m)\n",
      "File \u001b[0;32m/opt/anaconda3/lib/python3.8/site-packages/wordcloud/wordcloud.py:639\u001b[0m, in \u001b[0;36mWordCloud.generate\u001b[0;34m(self, text)\u001b[0m\n\u001b[1;32m    624\u001b[0m \u001b[39mdef\u001b[39;00m \u001b[39mgenerate\u001b[39m(\u001b[39mself\u001b[39m, text):\n\u001b[1;32m    625\u001b[0m     \u001b[39m\"\"\"Generate wordcloud from text.\u001b[39;00m\n\u001b[1;32m    626\u001b[0m \n\u001b[1;32m    627\u001b[0m \u001b[39m    The input \"text\" is expected to be a natural text. If you pass a sorted\u001b[39;00m\n\u001b[0;32m   (...)\u001b[0m\n\u001b[1;32m    637\u001b[0m \u001b[39m    self\u001b[39;00m\n\u001b[1;32m    638\u001b[0m \u001b[39m    \"\"\"\u001b[39;00m\n\u001b[0;32m--> 639\u001b[0m     \u001b[39mreturn\u001b[39;00m \u001b[39mself\u001b[39;49m\u001b[39m.\u001b[39;49mgenerate_from_text(text)\n",
      "File \u001b[0;32m/opt/anaconda3/lib/python3.8/site-packages/wordcloud/wordcloud.py:621\u001b[0m, in \u001b[0;36mWordCloud.generate_from_text\u001b[0;34m(self, text)\u001b[0m\n\u001b[1;32m    604\u001b[0m \u001b[39m\"\"\"Generate wordcloud from text.\u001b[39;00m\n\u001b[1;32m    605\u001b[0m \n\u001b[1;32m    606\u001b[0m \u001b[39mThe input \"text\" is expected to be a natural text. If you pass a sorted\u001b[39;00m\n\u001b[0;32m   (...)\u001b[0m\n\u001b[1;32m    618\u001b[0m \u001b[39mself\u001b[39;00m\n\u001b[1;32m    619\u001b[0m \u001b[39m\"\"\"\u001b[39;00m\n\u001b[1;32m    620\u001b[0m words \u001b[39m=\u001b[39m \u001b[39mself\u001b[39m\u001b[39m.\u001b[39mprocess_text(text)\n\u001b[0;32m--> 621\u001b[0m \u001b[39mself\u001b[39;49m\u001b[39m.\u001b[39;49mgenerate_from_frequencies(words)\n\u001b[1;32m    622\u001b[0m \u001b[39mreturn\u001b[39;00m \u001b[39mself\u001b[39m\n",
      "File \u001b[0;32m/opt/anaconda3/lib/python3.8/site-packages/wordcloud/wordcloud.py:453\u001b[0m, in \u001b[0;36mWordCloud.generate_from_frequencies\u001b[0;34m(self, frequencies, max_font_size)\u001b[0m\n\u001b[1;32m    451\u001b[0m     font_size \u001b[39m=\u001b[39m \u001b[39mself\u001b[39m\u001b[39m.\u001b[39mheight\n\u001b[1;32m    452\u001b[0m \u001b[39melse\u001b[39;00m:\n\u001b[0;32m--> 453\u001b[0m     \u001b[39mself\u001b[39;49m\u001b[39m.\u001b[39;49mgenerate_from_frequencies(\u001b[39mdict\u001b[39;49m(frequencies[:\u001b[39m2\u001b[39;49m]),\n\u001b[1;32m    454\u001b[0m                                    max_font_size\u001b[39m=\u001b[39;49m\u001b[39mself\u001b[39;49m\u001b[39m.\u001b[39;49mheight)\n\u001b[1;32m    455\u001b[0m     \u001b[39m# find font sizes\u001b[39;00m\n\u001b[1;32m    456\u001b[0m     sizes \u001b[39m=\u001b[39m [x[\u001b[39m1\u001b[39m] \u001b[39mfor\u001b[39;00m x \u001b[39min\u001b[39;00m \u001b[39mself\u001b[39m\u001b[39m.\u001b[39mlayout_]\n",
      "File \u001b[0;32m/opt/anaconda3/lib/python3.8/site-packages/wordcloud/wordcloud.py:508\u001b[0m, in \u001b[0;36mWordCloud.generate_from_frequencies\u001b[0;34m(self, frequencies, max_font_size)\u001b[0m\n\u001b[1;32m    505\u001b[0m transposed_font \u001b[39m=\u001b[39m ImageFont\u001b[39m.\u001b[39mTransposedFont(\n\u001b[1;32m    506\u001b[0m     font, orientation\u001b[39m=\u001b[39morientation)\n\u001b[1;32m    507\u001b[0m \u001b[39m# get size of resulting text\u001b[39;00m\n\u001b[0;32m--> 508\u001b[0m box_size \u001b[39m=\u001b[39m draw\u001b[39m.\u001b[39;49mtextbbox((\u001b[39m0\u001b[39;49m, \u001b[39m0\u001b[39;49m), word, font\u001b[39m=\u001b[39;49mtransposed_font, anchor\u001b[39m=\u001b[39;49m\u001b[39m\"\u001b[39;49m\u001b[39mlt\u001b[39;49m\u001b[39m\"\u001b[39;49m)\n\u001b[1;32m    509\u001b[0m \u001b[39m# find possible places using integral image:\u001b[39;00m\n\u001b[1;32m    510\u001b[0m result \u001b[39m=\u001b[39m occupancy\u001b[39m.\u001b[39msample_position(box_size[\u001b[39m3\u001b[39m] \u001b[39m+\u001b[39m \u001b[39mself\u001b[39m\u001b[39m.\u001b[39mmargin,\n\u001b[1;32m    511\u001b[0m                                    box_size[\u001b[39m2\u001b[39m] \u001b[39m+\u001b[39m \u001b[39mself\u001b[39m\u001b[39m.\u001b[39mmargin,\n\u001b[1;32m    512\u001b[0m                                    random_state)\n",
      "File \u001b[0;32m/opt/anaconda3/lib/python3.8/site-packages/PIL/ImageDraw.py:567\u001b[0m, in \u001b[0;36mImageDraw.textbbox\u001b[0;34m(self, xy, text, font, anchor, spacing, align, direction, features, language, stroke_width, embedded_color)\u001b[0m\n\u001b[1;32m    565\u001b[0m     font \u001b[39m=\u001b[39m \u001b[39mself\u001b[39m\u001b[39m.\u001b[39mgetfont()\n\u001b[1;32m    566\u001b[0m mode \u001b[39m=\u001b[39m \u001b[39m\"\u001b[39m\u001b[39mRGBA\u001b[39m\u001b[39m\"\u001b[39m \u001b[39mif\u001b[39;00m embedded_color \u001b[39melse\u001b[39;00m \u001b[39mself\u001b[39m\u001b[39m.\u001b[39mfontmode\n\u001b[0;32m--> 567\u001b[0m bbox \u001b[39m=\u001b[39m font\u001b[39m.\u001b[39;49mgetbbox(\n\u001b[1;32m    568\u001b[0m     text, mode, direction, features, language, stroke_width, anchor\n\u001b[1;32m    569\u001b[0m )\n\u001b[1;32m    570\u001b[0m \u001b[39mreturn\u001b[39;00m bbox[\u001b[39m0\u001b[39m] \u001b[39m+\u001b[39m xy[\u001b[39m0\u001b[39m], bbox[\u001b[39m1\u001b[39m] \u001b[39m+\u001b[39m xy[\u001b[39m1\u001b[39m], bbox[\u001b[39m2\u001b[39m] \u001b[39m+\u001b[39m xy[\u001b[39m0\u001b[39m], bbox[\u001b[39m3\u001b[39m] \u001b[39m+\u001b[39m xy[\u001b[39m1\u001b[39m]\n",
      "\u001b[0;31mAttributeError\u001b[0m: 'TransposedFont' object has no attribute 'getbbox'"
     ]
    },
    {
     "data": {
      "text/plain": [
       "<Figure size 1600x800 with 0 Axes>"
      ]
     },
     "metadata": {},
     "output_type": "display_data"
    }
   ],
   "source": [
    "STOPWORDS = spacy.lang.en.stop_words.STOP_WORDS\n",
    "plt.figure(figsize = (16,8))\n",
    "wc = WordCloud(min_font_size = 3,  max_words = 2000 , width = 1500 , height = 700 , stopwords = STOPWORDS).generate(str(\" \".join(fraud_text)))\n",
    "plt.imshow(wc,interpolation = 'bilinear')\n"
   ]
  },
  {
   "cell_type": "code",
   "execution_count": 125,
   "metadata": {},
   "outputs": [
    {
     "ename": "AttributeError",
     "evalue": "'TransposedFont' object has no attribute 'getbbox'",
     "output_type": "error",
     "traceback": [
      "\u001b[0;31m---------------------------------------------------------------------------\u001b[0m",
      "\u001b[0;31mAttributeError\u001b[0m                            Traceback (most recent call last)",
      "\u001b[1;32m/Users/qzx/Desktop/Lecture Notes/BT4012_Fraud Analytics/Group Project/Exploratory Data Analysis.ipynb Cell 101\u001b[0m line \u001b[0;36m3\n\u001b[1;32m      <a href='vscode-notebook-cell:/Users/qzx/Desktop/Lecture%20Notes/BT4012_Fraud%20Analytics/Group%20Project/Exploratory%20Data%20Analysis.ipynb#Y202sZmlsZQ%3D%3D?line=0'>1</a>\u001b[0m STOPWORDS \u001b[39m=\u001b[39m spacy\u001b[39m.\u001b[39mlang\u001b[39m.\u001b[39men\u001b[39m.\u001b[39mstop_words\u001b[39m.\u001b[39mSTOP_WORDS\n\u001b[1;32m      <a href='vscode-notebook-cell:/Users/qzx/Desktop/Lecture%20Notes/BT4012_Fraud%20Analytics/Group%20Project/Exploratory%20Data%20Analysis.ipynb#Y202sZmlsZQ%3D%3D?line=1'>2</a>\u001b[0m plt\u001b[39m.\u001b[39mfigure(figsize \u001b[39m=\u001b[39m (\u001b[39m16\u001b[39m,\u001b[39m8\u001b[39m))\n\u001b[0;32m----> <a href='vscode-notebook-cell:/Users/qzx/Desktop/Lecture%20Notes/BT4012_Fraud%20Analytics/Group%20Project/Exploratory%20Data%20Analysis.ipynb#Y202sZmlsZQ%3D%3D?line=2'>3</a>\u001b[0m wc \u001b[39m=\u001b[39m WordCloud(min_font_size \u001b[39m=\u001b[39;49m \u001b[39m3\u001b[39;49m,  max_words \u001b[39m=\u001b[39;49m \u001b[39m2000\u001b[39;49m , width \u001b[39m=\u001b[39;49m \u001b[39m1500\u001b[39;49m , height \u001b[39m=\u001b[39;49m \u001b[39m700\u001b[39;49m , stopwords \u001b[39m=\u001b[39;49m STOPWORDS)\u001b[39m.\u001b[39;49mgenerate(\u001b[39mstr\u001b[39;49m(\u001b[39m\"\u001b[39;49m\u001b[39m \u001b[39;49m\u001b[39m\"\u001b[39;49m\u001b[39m.\u001b[39;49mjoin(nonfraud_text)))\n\u001b[1;32m      <a href='vscode-notebook-cell:/Users/qzx/Desktop/Lecture%20Notes/BT4012_Fraud%20Analytics/Group%20Project/Exploratory%20Data%20Analysis.ipynb#Y202sZmlsZQ%3D%3D?line=3'>4</a>\u001b[0m plt\u001b[39m.\u001b[39mimshow(wc,interpolation \u001b[39m=\u001b[39m \u001b[39m'\u001b[39m\u001b[39mbilinear\u001b[39m\u001b[39m'\u001b[39m)\n",
      "File \u001b[0;32m/opt/anaconda3/lib/python3.8/site-packages/wordcloud/wordcloud.py:639\u001b[0m, in \u001b[0;36mWordCloud.generate\u001b[0;34m(self, text)\u001b[0m\n\u001b[1;32m    624\u001b[0m \u001b[39mdef\u001b[39;00m \u001b[39mgenerate\u001b[39m(\u001b[39mself\u001b[39m, text):\n\u001b[1;32m    625\u001b[0m     \u001b[39m\"\"\"Generate wordcloud from text.\u001b[39;00m\n\u001b[1;32m    626\u001b[0m \n\u001b[1;32m    627\u001b[0m \u001b[39m    The input \"text\" is expected to be a natural text. If you pass a sorted\u001b[39;00m\n\u001b[0;32m   (...)\u001b[0m\n\u001b[1;32m    637\u001b[0m \u001b[39m    self\u001b[39;00m\n\u001b[1;32m    638\u001b[0m \u001b[39m    \"\"\"\u001b[39;00m\n\u001b[0;32m--> 639\u001b[0m     \u001b[39mreturn\u001b[39;00m \u001b[39mself\u001b[39;49m\u001b[39m.\u001b[39;49mgenerate_from_text(text)\n",
      "File \u001b[0;32m/opt/anaconda3/lib/python3.8/site-packages/wordcloud/wordcloud.py:621\u001b[0m, in \u001b[0;36mWordCloud.generate_from_text\u001b[0;34m(self, text)\u001b[0m\n\u001b[1;32m    604\u001b[0m \u001b[39m\"\"\"Generate wordcloud from text.\u001b[39;00m\n\u001b[1;32m    605\u001b[0m \n\u001b[1;32m    606\u001b[0m \u001b[39mThe input \"text\" is expected to be a natural text. If you pass a sorted\u001b[39;00m\n\u001b[0;32m   (...)\u001b[0m\n\u001b[1;32m    618\u001b[0m \u001b[39mself\u001b[39;00m\n\u001b[1;32m    619\u001b[0m \u001b[39m\"\"\"\u001b[39;00m\n\u001b[1;32m    620\u001b[0m words \u001b[39m=\u001b[39m \u001b[39mself\u001b[39m\u001b[39m.\u001b[39mprocess_text(text)\n\u001b[0;32m--> 621\u001b[0m \u001b[39mself\u001b[39;49m\u001b[39m.\u001b[39;49mgenerate_from_frequencies(words)\n\u001b[1;32m    622\u001b[0m \u001b[39mreturn\u001b[39;00m \u001b[39mself\u001b[39m\n",
      "File \u001b[0;32m/opt/anaconda3/lib/python3.8/site-packages/wordcloud/wordcloud.py:453\u001b[0m, in \u001b[0;36mWordCloud.generate_from_frequencies\u001b[0;34m(self, frequencies, max_font_size)\u001b[0m\n\u001b[1;32m    451\u001b[0m     font_size \u001b[39m=\u001b[39m \u001b[39mself\u001b[39m\u001b[39m.\u001b[39mheight\n\u001b[1;32m    452\u001b[0m \u001b[39melse\u001b[39;00m:\n\u001b[0;32m--> 453\u001b[0m     \u001b[39mself\u001b[39;49m\u001b[39m.\u001b[39;49mgenerate_from_frequencies(\u001b[39mdict\u001b[39;49m(frequencies[:\u001b[39m2\u001b[39;49m]),\n\u001b[1;32m    454\u001b[0m                                    max_font_size\u001b[39m=\u001b[39;49m\u001b[39mself\u001b[39;49m\u001b[39m.\u001b[39;49mheight)\n\u001b[1;32m    455\u001b[0m     \u001b[39m# find font sizes\u001b[39;00m\n\u001b[1;32m    456\u001b[0m     sizes \u001b[39m=\u001b[39m [x[\u001b[39m1\u001b[39m] \u001b[39mfor\u001b[39;00m x \u001b[39min\u001b[39;00m \u001b[39mself\u001b[39m\u001b[39m.\u001b[39mlayout_]\n",
      "File \u001b[0;32m/opt/anaconda3/lib/python3.8/site-packages/wordcloud/wordcloud.py:508\u001b[0m, in \u001b[0;36mWordCloud.generate_from_frequencies\u001b[0;34m(self, frequencies, max_font_size)\u001b[0m\n\u001b[1;32m    505\u001b[0m transposed_font \u001b[39m=\u001b[39m ImageFont\u001b[39m.\u001b[39mTransposedFont(\n\u001b[1;32m    506\u001b[0m     font, orientation\u001b[39m=\u001b[39morientation)\n\u001b[1;32m    507\u001b[0m \u001b[39m# get size of resulting text\u001b[39;00m\n\u001b[0;32m--> 508\u001b[0m box_size \u001b[39m=\u001b[39m draw\u001b[39m.\u001b[39;49mtextbbox((\u001b[39m0\u001b[39;49m, \u001b[39m0\u001b[39;49m), word, font\u001b[39m=\u001b[39;49mtransposed_font, anchor\u001b[39m=\u001b[39;49m\u001b[39m\"\u001b[39;49m\u001b[39mlt\u001b[39;49m\u001b[39m\"\u001b[39;49m)\n\u001b[1;32m    509\u001b[0m \u001b[39m# find possible places using integral image:\u001b[39;00m\n\u001b[1;32m    510\u001b[0m result \u001b[39m=\u001b[39m occupancy\u001b[39m.\u001b[39msample_position(box_size[\u001b[39m3\u001b[39m] \u001b[39m+\u001b[39m \u001b[39mself\u001b[39m\u001b[39m.\u001b[39mmargin,\n\u001b[1;32m    511\u001b[0m                                    box_size[\u001b[39m2\u001b[39m] \u001b[39m+\u001b[39m \u001b[39mself\u001b[39m\u001b[39m.\u001b[39mmargin,\n\u001b[1;32m    512\u001b[0m                                    random_state)\n",
      "File \u001b[0;32m/opt/anaconda3/lib/python3.8/site-packages/PIL/ImageDraw.py:567\u001b[0m, in \u001b[0;36mImageDraw.textbbox\u001b[0;34m(self, xy, text, font, anchor, spacing, align, direction, features, language, stroke_width, embedded_color)\u001b[0m\n\u001b[1;32m    565\u001b[0m     font \u001b[39m=\u001b[39m \u001b[39mself\u001b[39m\u001b[39m.\u001b[39mgetfont()\n\u001b[1;32m    566\u001b[0m mode \u001b[39m=\u001b[39m \u001b[39m\"\u001b[39m\u001b[39mRGBA\u001b[39m\u001b[39m\"\u001b[39m \u001b[39mif\u001b[39;00m embedded_color \u001b[39melse\u001b[39;00m \u001b[39mself\u001b[39m\u001b[39m.\u001b[39mfontmode\n\u001b[0;32m--> 567\u001b[0m bbox \u001b[39m=\u001b[39m font\u001b[39m.\u001b[39;49mgetbbox(\n\u001b[1;32m    568\u001b[0m     text, mode, direction, features, language, stroke_width, anchor\n\u001b[1;32m    569\u001b[0m )\n\u001b[1;32m    570\u001b[0m \u001b[39mreturn\u001b[39;00m bbox[\u001b[39m0\u001b[39m] \u001b[39m+\u001b[39m xy[\u001b[39m0\u001b[39m], bbox[\u001b[39m1\u001b[39m] \u001b[39m+\u001b[39m xy[\u001b[39m1\u001b[39m], bbox[\u001b[39m2\u001b[39m] \u001b[39m+\u001b[39m xy[\u001b[39m0\u001b[39m], bbox[\u001b[39m3\u001b[39m] \u001b[39m+\u001b[39m xy[\u001b[39m1\u001b[39m]\n",
      "\u001b[0;31mAttributeError\u001b[0m: 'TransposedFont' object has no attribute 'getbbox'"
     ]
    },
    {
     "data": {
      "text/plain": [
       "<Figure size 1600x800 with 0 Axes>"
      ]
     },
     "metadata": {},
     "output_type": "display_data"
    }
   ],
   "source": [
    "STOPWORDS = spacy.lang.en.stop_words.STOP_WORDS\n",
    "plt.figure(figsize = (16,8))\n",
    "wc = WordCloud(min_font_size = 3,  max_words = 2000 , width = 1500 , height = 700 , stopwords = STOPWORDS).generate(str(\" \".join(nonfraud_text)))\n",
    "plt.imshow(wc,interpolation = 'bilinear')\n"
   ]
  },
  {
   "cell_type": "markdown",
   "metadata": {
    "id": "AZV7T5wmzY3G"
   },
   "source": [
    "### 3.2 Clean text data"
   ]
  },
  {
   "cell_type": "code",
   "execution_count": 89,
   "metadata": {
    "colab": {
     "base_uri": "https://localhost:8080/",
     "height": 542
    },
    "id": "YLXuyotp_Ztm",
    "outputId": "fa69c713-1a0e-4721-8c30-cd33bd890489"
   },
   "outputs": [
    {
     "data": {
      "image/png": "[encoded data removed]",
      "text/plain": [
       "<Figure size 1000x600 with 1 Axes>"
      ]
     },
     "metadata": {},
     "output_type": "display_data"
    }
   ],
   "source": [
    "plt.figure(figsize=(10,6))\n",
    "sns.histplot(data=df, x=\"text_len\", hue=\"fraudulent\", kde=False, bins=50)\n",
    "plt.show()"
   ]
  },
  {
   "cell_type": "code",
   "execution_count": 90,
   "metadata": {
    "colab": {
     "base_uri": "https://localhost:8080/"
    },
    "id": "yCcRknWDBQHI",
    "outputId": "aed56b1b-fed0-4c60-e991-32837bb9946d"
   },
   "outputs": [
    {
     "data": {
      "text/plain": [
       "count    17880.000000\n",
       "mean       272.953300\n",
       "std        147.869521\n",
       "min          2.000000\n",
       "25%        162.000000\n",
       "50%        249.000000\n",
       "75%        353.000000\n",
       "max       1511.000000\n",
       "Name: text_len, dtype: float64"
      ]
     },
     "execution_count": 90,
     "metadata": {},
     "output_type": "execute_result"
    }
   ],
   "source": [
    "df['text_len'].describe()"
   ]
  },
  {
   "cell_type": "code",
   "execution_count": 91,
   "metadata": {
    "colab": {
     "base_uri": "https://localhost:8080/"
    },
    "id": "oyXwHtq3BToX",
    "outputId": "2aba183d-4cd8-4a16-a85c-3e821e358092"
   },
   "outputs": [
    {
     "data": {
      "text/plain": [
       "count    17014.000000\n",
       "mean       275.525038\n",
       "std        146.625583\n",
       "min          7.000000\n",
       "25%        165.000000\n",
       "50%        252.000000\n",
       "75%        355.000000\n",
       "max       1511.000000\n",
       "Name: text_len, dtype: float64"
      ]
     },
     "execution_count": 91,
     "metadata": {},
     "output_type": "execute_result"
    }
   ],
   "source": [
    "df[df['fraudulent']==0]['text_len'].describe()"
   ]
  },
  {
   "cell_type": "code",
   "execution_count": 92,
   "metadata": {
    "colab": {
     "base_uri": "https://localhost:8080/"
    },
    "id": "VAvN-p07Bbnj",
    "outputId": "fff07746-e5c3-4e88-e97c-275520aeb76a"
   },
   "outputs": [
    {
     "data": {
      "text/plain": [
       "count    866.000000\n",
       "mean     222.427252\n",
       "std      162.511161\n",
       "min        2.000000\n",
       "25%      105.000000\n",
       "50%      180.000000\n",
       "75%      293.000000\n",
       "max      987.000000\n",
       "Name: text_len, dtype: float64"
      ]
     },
     "execution_count": 92,
     "metadata": {},
     "output_type": "execute_result"
    }
   ],
   "source": [
    "df[df['fraudulent']==1]['text_len'].describe()"
   ]
  },
  {
   "cell_type": "markdown",
   "metadata": {
    "id": "nae24xv-LUeG"
   },
   "source": [
    "### 3.3 train-test-split"
   ]
  },
  {
   "cell_type": "code",
   "execution_count": 94,
   "metadata": {},
   "outputs": [],
   "source": [
    "#train test split\n",
    "from sklearn.model_selection import train_test_split\n",
    "X = df.drop('fraudulent',axis=1)\n",
    "y = df['fraudulent']\n",
    "X_train, X_test, y_train, y_test = train_test_split(X, y, test_size=0.3, random_state=2023,stratify=y)"
   ]
  },
  {
   "cell_type": "markdown",
   "metadata": {
    "id": "VJ8O1SlqKhyi"
   },
   "source": [
    "### 3.4 Encoding"
   ]
  },
  {
   "cell_type": "code",
   "execution_count": 100,
   "metadata": {
    "id": "K999gds-LFSM"
   },
   "outputs": [
    {
     "data": {
      "text/plain": [
       "array([[-1.],\n",
       "       [-1.],\n",
       "       [-1.],\n",
       "       ...,\n",
       "       [-1.],\n",
       "       [-1.],\n",
       "       [-1.]])"
      ]
     },
     "execution_count": 100,
     "metadata": {},
     "output_type": "execute_result"
    }
   ],
   "source": [
    "# ordinal encoding for salary_group\n",
    "\n",
    "from sklearn.preprocessing import OrdinalEncoder\n",
    "\n",
    "ordinal = OrdinalEncoder(\n",
    "    categories = [['Extremly Low','Low','Sligtly Low','Slightly High','High','Extremly High' ]],  # order of the categorical values\n",
    "    handle_unknown = 'use_encoded_value',  #  what to do for unknown values not in the categories list\n",
    "    unknown_value = -1 # what to replace these unknown values with\n",
    ")\n",
    "\n",
    "ordinal.fit_transform(X_train[['salary_group']])"
   ]
  },
  {
   "cell_type": "code",
   "execution_count": 116,
   "metadata": {
    "id": "tlweKAKLLFUr"
   },
   "outputs": [
    {
     "data": {
      "text/plain": [
       "<12516x119 sparse matrix of type '<class 'numpy.float64'>'\n",
       "\twith 66533 stored elements in Compressed Sparse Row format>"
      ]
     },
     "execution_count": 116,
     "metadata": {},
     "output_type": "execute_result"
    }
   ],
   "source": [
    "# one-hot encoding\n",
    "from sklearn.preprocessing import OneHotEncoder\n",
    "\n",
    "onehot = OneHotEncoder(\n",
    "    categories = [\n",
    "            ['Full-time', 'Contract', 'Part-time','Temporary','Other','unavailable'], # employment_type\n",
    "            ['unavailable', 'Mid-Senior level', 'Entry level', 'Associate', 'Not Applicable', 'Director', 'Internship', 'Executive'], # required_experience\n",
    "            ['unavailable',\"Bachelor's Degree\",'High School or equivalent','Unspecified',\"Master's Degree\",'Associate Degree','Certification','Some College Coursework Completed','Vocational','Professional','Doctorate','Some High School Coursework','Vocational - Degree','Vocational - HS Diploma','Vocational - Other','None','Vocational - HS Certificate','Vocational - Bachelor','Vocational - Master'], # required_education\n",
    "            ['Information Technology and Services', 'Computer Software','Internet','Marketing and Advertising','Education Management','Financial Services','Hospital & Health Care','Consumer Services','Telecommunications','Oil & Energy','Retail','Real Estate','Accounting','Construction'], # Industry\n",
    "            ['unavailable','Information Technology','Sales','Engineering','Customer Service','Marketing','Administrative','Design','Health Care Provider','Other','Education','Management','Business Development','Accounting/Auditing','Human Resources','Project Management','Finance','Consulting','Writing/Editing','Art/Creative','Production','Quality Assurance','Data Analyst','Research','Manufacturing','Advertising','Public Relations','Legal','Distribution','Product Management','Strategy/Planning','Purchasing','General Business','Science','Supply Chain','Training','Financial Analyst','Biotech','Inventory','Information Technology','Facilities','QA','Skilled Labor','Business Development','Research Development','Science','Professional Services','Design','Product Management','Strategy/Planning','Purchasing','General Business','Supply Chain','Training','Financial Analyst','Biotech','Inventory','Facilities','QA','Skilled Labor','Research Development','Professional Services','Logistics','Nonprofit','Operations Management','Nurse','Pharmaceutical'], # function\n",
    "            ['US','GB','GR','CA','DE'] # location_country\n",
    "     ],\n",
    "     handle_unknown = 'ignore',  # <- Ignore unknown values (i.e. don't create a column for them)\n",
    ")\n",
    "\n",
    "onehot.fit_transform(X_train[[ 'employment_type', 'required_experience','required_education','industry','function','location_country']])"
   ]
  },
  {
   "cell_type": "code",
   "execution_count": 117,
   "metadata": {},
   "outputs": [
    {
     "data": {
      "text/html": [
       "<div>\n",
       "<style scoped>\n",
       "    .dataframe tbody tr th:only-of-type {\n",
       "        vertical-align: middle;\n",
       "    }\n",
       "\n",
       "    .dataframe tbody tr th {\n",
       "        vertical-align: top;\n",
       "    }\n",
       "\n",
       "    .dataframe thead th {\n",
       "        text-align: right;\n",
       "    }\n",
       "</style>\n",
       "<table border=\"1\" class=\"dataframe\">\n",
       "  <thead>\n",
       "    <tr style=\"text-align: right;\">\n",
       "      <th></th>\n",
       "      <th>employment_type_Full-time</th>\n",
       "      <th>employment_type_Contract</th>\n",
       "      <th>employment_type_Part-time</th>\n",
       "      <th>employment_type_Temporary</th>\n",
       "      <th>employment_type_Other</th>\n",
       "      <th>employment_type_unavailable</th>\n",
       "      <th>required_experience_unavailable</th>\n",
       "      <th>required_experience_Mid-Senior level</th>\n",
       "      <th>required_experience_Entry level</th>\n",
       "      <th>required_experience_Associate</th>\n",
       "      <th>required_experience_Not Applicable</th>\n",
       "      <th>required_experience_Director</th>\n",
       "      <th>required_experience_Internship</th>\n",
       "      <th>required_experience_Executive</th>\n",
       "      <th>required_education_unavailable</th>\n",
       "      <th>required_education_Bachelor's Degree</th>\n",
       "      <th>required_education_High School or equivalent</th>\n",
       "      <th>required_education_Unspecified</th>\n",
       "      <th>required_education_Master's Degree</th>\n",
       "      <th>required_education_Associate Degree</th>\n",
       "      <th>required_education_Certification</th>\n",
       "      <th>required_education_Some College Coursework Completed</th>\n",
       "      <th>required_education_Vocational</th>\n",
       "      <th>required_education_Professional</th>\n",
       "      <th>required_education_Doctorate</th>\n",
       "      <th>required_education_Some High School Coursework</th>\n",
       "      <th>required_education_Vocational - Degree</th>\n",
       "      <th>required_education_Vocational - HS Diploma</th>\n",
       "      <th>required_education_Vocational - Other</th>\n",
       "      <th>required_education_None</th>\n",
       "      <th>required_education_Vocational - HS Certificate</th>\n",
       "      <th>required_education_Vocational - Bachelor</th>\n",
       "      <th>required_education_Vocational - Master</th>\n",
       "      <th>industry_Information Technology and Services</th>\n",
       "      <th>industry_Computer Software</th>\n",
       "      <th>industry_Internet</th>\n",
       "      <th>industry_Marketing and Advertising</th>\n",
       "      <th>industry_Education Management</th>\n",
       "      <th>industry_Financial Services</th>\n",
       "      <th>industry_Hospital &amp; Health Care</th>\n",
       "      <th>industry_Consumer Services</th>\n",
       "      <th>industry_Telecommunications</th>\n",
       "      <th>industry_Oil &amp; Energy</th>\n",
       "      <th>industry_Retail</th>\n",
       "      <th>industry_Real Estate</th>\n",
       "      <th>industry_Accounting</th>\n",
       "      <th>industry_Construction</th>\n",
       "      <th>function_unavailable</th>\n",
       "      <th>function_Information Technology</th>\n",
       "      <th>function_Sales</th>\n",
       "      <th>function_Engineering</th>\n",
       "      <th>function_Customer Service</th>\n",
       "      <th>function_Marketing</th>\n",
       "      <th>function_Administrative</th>\n",
       "      <th>function_Design</th>\n",
       "      <th>function_Health Care Provider</th>\n",
       "      <th>function_Other</th>\n",
       "      <th>function_Education</th>\n",
       "      <th>function_Management</th>\n",
       "      <th>function_Business Development</th>\n",
       "      <th>function_Accounting/Auditing</th>\n",
       "      <th>function_Human Resources</th>\n",
       "      <th>function_Project Management</th>\n",
       "      <th>function_Finance</th>\n",
       "      <th>function_Consulting</th>\n",
       "      <th>function_Writing/Editing</th>\n",
       "      <th>function_Art/Creative</th>\n",
       "      <th>function_Production</th>\n",
       "      <th>function_Quality Assurance</th>\n",
       "      <th>function_Data Analyst</th>\n",
       "      <th>function_Research</th>\n",
       "      <th>function_Manufacturing</th>\n",
       "      <th>function_Advertising</th>\n",
       "      <th>function_Public Relations</th>\n",
       "      <th>function_Legal</th>\n",
       "      <th>function_Distribution</th>\n",
       "      <th>function_Product Management</th>\n",
       "      <th>function_Strategy/Planning</th>\n",
       "      <th>function_Purchasing</th>\n",
       "      <th>function_General Business</th>\n",
       "      <th>function_Science</th>\n",
       "      <th>function_Supply Chain</th>\n",
       "      <th>function_Training</th>\n",
       "      <th>function_Financial Analyst</th>\n",
       "      <th>function_Biotech</th>\n",
       "      <th>function_Inventory</th>\n",
       "      <th>function_Information Technology</th>\n",
       "      <th>function_Facilities</th>\n",
       "      <th>function_QA</th>\n",
       "      <th>function_Skilled Labor</th>\n",
       "      <th>function_Business Development</th>\n",
       "      <th>function_Research Development</th>\n",
       "      <th>function_Science</th>\n",
       "      <th>function_Professional Services</th>\n",
       "      <th>function_Design</th>\n",
       "      <th>function_Product Management</th>\n",
       "      <th>function_Strategy/Planning</th>\n",
       "      <th>function_Purchasing</th>\n",
       "      <th>function_General Business</th>\n",
       "      <th>function_Supply Chain</th>\n",
       "      <th>function_Training</th>\n",
       "      <th>function_Financial Analyst</th>\n",
       "      <th>function_Biotech</th>\n",
       "      <th>function_Inventory</th>\n",
       "      <th>function_Facilities</th>\n",
       "      <th>function_QA</th>\n",
       "      <th>function_Skilled Labor</th>\n",
       "      <th>function_Research Development</th>\n",
       "      <th>function_Professional Services</th>\n",
       "      <th>function_Logistics</th>\n",
       "      <th>function_Nonprofit</th>\n",
       "      <th>function_Operations Management</th>\n",
       "      <th>function_Nurse</th>\n",
       "      <th>function_Pharmaceutical</th>\n",
       "      <th>location_country_US</th>\n",
       "      <th>location_country_GB</th>\n",
       "      <th>location_country_GR</th>\n",
       "      <th>location_country_CA</th>\n",
       "      <th>location_country_DE</th>\n",
       "    </tr>\n",
       "  </thead>\n",
       "  <tbody>\n",
       "    <tr>\n",
       "      <th>11917</th>\n",
       "      <td>1.0</td>\n",
       "      <td>0.0</td>\n",
       "      <td>0.0</td>\n",
       "      <td>0.0</td>\n",
       "      <td>0.0</td>\n",
       "      <td>0.0</td>\n",
       "      <td>0.0</td>\n",
       "      <td>1.0</td>\n",
       "      <td>0.0</td>\n",
       "      <td>0.0</td>\n",
       "      <td>0.0</td>\n",
       "      <td>0.0</td>\n",
       "      <td>0.0</td>\n",
       "      <td>0.0</td>\n",
       "      <td>0.0</td>\n",
       "      <td>1.0</td>\n",
       "      <td>0.0</td>\n",
       "      <td>0.0</td>\n",
       "      <td>0.0</td>\n",
       "      <td>0.0</td>\n",
       "      <td>0.0</td>\n",
       "      <td>0.0</td>\n",
       "      <td>0.0</td>\n",
       "      <td>0.0</td>\n",
       "      <td>0.0</td>\n",
       "      <td>0.0</td>\n",
       "      <td>0.0</td>\n",
       "      <td>0.0</td>\n",
       "      <td>0.0</td>\n",
       "      <td>0.0</td>\n",
       "      <td>0.0</td>\n",
       "      <td>0.0</td>\n",
       "      <td>0.0</td>\n",
       "      <td>0.0</td>\n",
       "      <td>0.0</td>\n",
       "      <td>1.0</td>\n",
       "      <td>0.0</td>\n",
       "      <td>0.0</td>\n",
       "      <td>0.0</td>\n",
       "      <td>0.0</td>\n",
       "      <td>0.0</td>\n",
       "      <td>0.0</td>\n",
       "      <td>0.0</td>\n",
       "      <td>0.0</td>\n",
       "      <td>0.0</td>\n",
       "      <td>0.0</td>\n",
       "      <td>0.0</td>\n",
       "      <td>0.0</td>\n",
       "      <td>0.0</td>\n",
       "      <td>0.0</td>\n",
       "      <td>1.0</td>\n",
       "      <td>0.0</td>\n",
       "      <td>0.0</td>\n",
       "      <td>0.0</td>\n",
       "      <td>0.0</td>\n",
       "      <td>0.0</td>\n",
       "      <td>0.0</td>\n",
       "      <td>0.0</td>\n",
       "      <td>0.0</td>\n",
       "      <td>0.0</td>\n",
       "      <td>0.0</td>\n",
       "      <td>0.0</td>\n",
       "      <td>0.0</td>\n",
       "      <td>0.0</td>\n",
       "      <td>0.0</td>\n",
       "      <td>0.0</td>\n",
       "      <td>0.0</td>\n",
       "      <td>0.0</td>\n",
       "      <td>0.0</td>\n",
       "      <td>0.0</td>\n",
       "      <td>0.0</td>\n",
       "      <td>0.0</td>\n",
       "      <td>0.0</td>\n",
       "      <td>0.0</td>\n",
       "      <td>0.0</td>\n",
       "      <td>0.0</td>\n",
       "      <td>0.0</td>\n",
       "      <td>0.0</td>\n",
       "      <td>0.0</td>\n",
       "      <td>0.0</td>\n",
       "      <td>0.0</td>\n",
       "      <td>0.0</td>\n",
       "      <td>0.0</td>\n",
       "      <td>0.0</td>\n",
       "      <td>0.0</td>\n",
       "      <td>0.0</td>\n",
       "      <td>0.0</td>\n",
       "      <td>0.0</td>\n",
       "      <td>0.0</td>\n",
       "      <td>0.0</td>\n",
       "      <td>0.0</td>\n",
       "      <td>0.0</td>\n",
       "      <td>0.0</td>\n",
       "      <td>0.0</td>\n",
       "      <td>0.0</td>\n",
       "      <td>0.0</td>\n",
       "      <td>0.0</td>\n",
       "      <td>0.0</td>\n",
       "      <td>0.0</td>\n",
       "      <td>0.0</td>\n",
       "      <td>0.0</td>\n",
       "      <td>0.0</td>\n",
       "      <td>0.0</td>\n",
       "      <td>0.0</td>\n",
       "      <td>0.0</td>\n",
       "      <td>0.0</td>\n",
       "      <td>0.0</td>\n",
       "      <td>0.0</td>\n",
       "      <td>0.0</td>\n",
       "      <td>0.0</td>\n",
       "      <td>0.0</td>\n",
       "      <td>0.0</td>\n",
       "      <td>0.0</td>\n",
       "      <td>0.0</td>\n",
       "      <td>0.0</td>\n",
       "      <td>0.0</td>\n",
       "      <td>1.0</td>\n",
       "      <td>0.0</td>\n",
       "      <td>0.0</td>\n",
       "    </tr>\n",
       "    <tr>\n",
       "      <th>4640</th>\n",
       "      <td>1.0</td>\n",
       "      <td>0.0</td>\n",
       "      <td>0.0</td>\n",
       "      <td>0.0</td>\n",
       "      <td>0.0</td>\n",
       "      <td>0.0</td>\n",
       "      <td>0.0</td>\n",
       "      <td>1.0</td>\n",
       "      <td>0.0</td>\n",
       "      <td>0.0</td>\n",
       "      <td>0.0</td>\n",
       "      <td>0.0</td>\n",
       "      <td>0.0</td>\n",
       "      <td>0.0</td>\n",
       "      <td>1.0</td>\n",
       "      <td>0.0</td>\n",
       "      <td>0.0</td>\n",
       "      <td>0.0</td>\n",
       "      <td>0.0</td>\n",
       "      <td>0.0</td>\n",
       "      <td>0.0</td>\n",
       "      <td>0.0</td>\n",
       "      <td>0.0</td>\n",
       "      <td>0.0</td>\n",
       "      <td>0.0</td>\n",
       "      <td>0.0</td>\n",
       "      <td>0.0</td>\n",
       "      <td>0.0</td>\n",
       "      <td>0.0</td>\n",
       "      <td>0.0</td>\n",
       "      <td>0.0</td>\n",
       "      <td>0.0</td>\n",
       "      <td>0.0</td>\n",
       "      <td>1.0</td>\n",
       "      <td>0.0</td>\n",
       "      <td>0.0</td>\n",
       "      <td>0.0</td>\n",
       "      <td>0.0</td>\n",
       "      <td>0.0</td>\n",
       "      <td>0.0</td>\n",
       "      <td>0.0</td>\n",
       "      <td>0.0</td>\n",
       "      <td>0.0</td>\n",
       "      <td>0.0</td>\n",
       "      <td>0.0</td>\n",
       "      <td>0.0</td>\n",
       "      <td>0.0</td>\n",
       "      <td>1.0</td>\n",
       "      <td>0.0</td>\n",
       "      <td>0.0</td>\n",
       "      <td>0.0</td>\n",
       "      <td>0.0</td>\n",
       "      <td>0.0</td>\n",
       "      <td>0.0</td>\n",
       "      <td>0.0</td>\n",
       "      <td>0.0</td>\n",
       "      <td>0.0</td>\n",
       "      <td>0.0</td>\n",
       "      <td>0.0</td>\n",
       "      <td>0.0</td>\n",
       "      <td>0.0</td>\n",
       "      <td>0.0</td>\n",
       "      <td>0.0</td>\n",
       "      <td>0.0</td>\n",
       "      <td>0.0</td>\n",
       "      <td>0.0</td>\n",
       "      <td>0.0</td>\n",
       "      <td>0.0</td>\n",
       "      <td>0.0</td>\n",
       "      <td>0.0</td>\n",
       "      <td>0.0</td>\n",
       "      <td>0.0</td>\n",
       "      <td>0.0</td>\n",
       "      <td>0.0</td>\n",
       "      <td>0.0</td>\n",
       "      <td>0.0</td>\n",
       "      <td>0.0</td>\n",
       "      <td>0.0</td>\n",
       "      <td>0.0</td>\n",
       "      <td>0.0</td>\n",
       "      <td>0.0</td>\n",
       "      <td>0.0</td>\n",
       "      <td>0.0</td>\n",
       "      <td>0.0</td>\n",
       "      <td>0.0</td>\n",
       "      <td>0.0</td>\n",
       "      <td>0.0</td>\n",
       "      <td>0.0</td>\n",
       "      <td>0.0</td>\n",
       "      <td>0.0</td>\n",
       "      <td>0.0</td>\n",
       "      <td>0.0</td>\n",
       "      <td>0.0</td>\n",
       "      <td>0.0</td>\n",
       "      <td>0.0</td>\n",
       "      <td>0.0</td>\n",
       "      <td>0.0</td>\n",
       "      <td>0.0</td>\n",
       "      <td>0.0</td>\n",
       "      <td>0.0</td>\n",
       "      <td>0.0</td>\n",
       "      <td>0.0</td>\n",
       "      <td>0.0</td>\n",
       "      <td>0.0</td>\n",
       "      <td>0.0</td>\n",
       "      <td>0.0</td>\n",
       "      <td>0.0</td>\n",
       "      <td>0.0</td>\n",
       "      <td>0.0</td>\n",
       "      <td>0.0</td>\n",
       "      <td>0.0</td>\n",
       "      <td>0.0</td>\n",
       "      <td>0.0</td>\n",
       "      <td>0.0</td>\n",
       "      <td>0.0</td>\n",
       "      <td>0.0</td>\n",
       "      <td>0.0</td>\n",
       "      <td>0.0</td>\n",
       "      <td>0.0</td>\n",
       "    </tr>\n",
       "    <tr>\n",
       "      <th>15995</th>\n",
       "      <td>1.0</td>\n",
       "      <td>0.0</td>\n",
       "      <td>0.0</td>\n",
       "      <td>0.0</td>\n",
       "      <td>0.0</td>\n",
       "      <td>0.0</td>\n",
       "      <td>0.0</td>\n",
       "      <td>0.0</td>\n",
       "      <td>1.0</td>\n",
       "      <td>0.0</td>\n",
       "      <td>0.0</td>\n",
       "      <td>0.0</td>\n",
       "      <td>0.0</td>\n",
       "      <td>0.0</td>\n",
       "      <td>0.0</td>\n",
       "      <td>1.0</td>\n",
       "      <td>0.0</td>\n",
       "      <td>0.0</td>\n",
       "      <td>0.0</td>\n",
       "      <td>0.0</td>\n",
       "      <td>0.0</td>\n",
       "      <td>0.0</td>\n",
       "      <td>0.0</td>\n",
       "      <td>0.0</td>\n",
       "      <td>0.0</td>\n",
       "      <td>0.0</td>\n",
       "      <td>0.0</td>\n",
       "      <td>0.0</td>\n",
       "      <td>0.0</td>\n",
       "      <td>0.0</td>\n",
       "      <td>0.0</td>\n",
       "      <td>0.0</td>\n",
       "      <td>0.0</td>\n",
       "      <td>0.0</td>\n",
       "      <td>0.0</td>\n",
       "      <td>0.0</td>\n",
       "      <td>0.0</td>\n",
       "      <td>0.0</td>\n",
       "      <td>1.0</td>\n",
       "      <td>0.0</td>\n",
       "      <td>0.0</td>\n",
       "      <td>0.0</td>\n",
       "      <td>0.0</td>\n",
       "      <td>0.0</td>\n",
       "      <td>0.0</td>\n",
       "      <td>0.0</td>\n",
       "      <td>0.0</td>\n",
       "      <td>0.0</td>\n",
       "      <td>0.0</td>\n",
       "      <td>0.0</td>\n",
       "      <td>0.0</td>\n",
       "      <td>0.0</td>\n",
       "      <td>0.0</td>\n",
       "      <td>0.0</td>\n",
       "      <td>0.0</td>\n",
       "      <td>0.0</td>\n",
       "      <td>0.0</td>\n",
       "      <td>0.0</td>\n",
       "      <td>0.0</td>\n",
       "      <td>0.0</td>\n",
       "      <td>0.0</td>\n",
       "      <td>0.0</td>\n",
       "      <td>0.0</td>\n",
       "      <td>0.0</td>\n",
       "      <td>0.0</td>\n",
       "      <td>0.0</td>\n",
       "      <td>0.0</td>\n",
       "      <td>0.0</td>\n",
       "      <td>0.0</td>\n",
       "      <td>0.0</td>\n",
       "      <td>1.0</td>\n",
       "      <td>0.0</td>\n",
       "      <td>0.0</td>\n",
       "      <td>0.0</td>\n",
       "      <td>0.0</td>\n",
       "      <td>0.0</td>\n",
       "      <td>0.0</td>\n",
       "      <td>0.0</td>\n",
       "      <td>0.0</td>\n",
       "      <td>0.0</td>\n",
       "      <td>0.0</td>\n",
       "      <td>0.0</td>\n",
       "      <td>0.0</td>\n",
       "      <td>0.0</td>\n",
       "      <td>0.0</td>\n",
       "      <td>0.0</td>\n",
       "      <td>0.0</td>\n",
       "      <td>0.0</td>\n",
       "      <td>0.0</td>\n",
       "      <td>0.0</td>\n",
       "      <td>0.0</td>\n",
       "      <td>0.0</td>\n",
       "      <td>0.0</td>\n",
       "      <td>0.0</td>\n",
       "      <td>0.0</td>\n",
       "      <td>0.0</td>\n",
       "      <td>0.0</td>\n",
       "      <td>0.0</td>\n",
       "      <td>0.0</td>\n",
       "      <td>0.0</td>\n",
       "      <td>0.0</td>\n",
       "      <td>0.0</td>\n",
       "      <td>0.0</td>\n",
       "      <td>0.0</td>\n",
       "      <td>0.0</td>\n",
       "      <td>0.0</td>\n",
       "      <td>0.0</td>\n",
       "      <td>0.0</td>\n",
       "      <td>0.0</td>\n",
       "      <td>0.0</td>\n",
       "      <td>0.0</td>\n",
       "      <td>0.0</td>\n",
       "      <td>0.0</td>\n",
       "      <td>0.0</td>\n",
       "      <td>1.0</td>\n",
       "      <td>0.0</td>\n",
       "      <td>0.0</td>\n",
       "      <td>0.0</td>\n",
       "      <td>0.0</td>\n",
       "    </tr>\n",
       "    <tr>\n",
       "      <th>1514</th>\n",
       "      <td>1.0</td>\n",
       "      <td>0.0</td>\n",
       "      <td>0.0</td>\n",
       "      <td>0.0</td>\n",
       "      <td>0.0</td>\n",
       "      <td>0.0</td>\n",
       "      <td>0.0</td>\n",
       "      <td>1.0</td>\n",
       "      <td>0.0</td>\n",
       "      <td>0.0</td>\n",
       "      <td>0.0</td>\n",
       "      <td>0.0</td>\n",
       "      <td>0.0</td>\n",
       "      <td>0.0</td>\n",
       "      <td>0.0</td>\n",
       "      <td>1.0</td>\n",
       "      <td>0.0</td>\n",
       "      <td>0.0</td>\n",
       "      <td>0.0</td>\n",
       "      <td>0.0</td>\n",
       "      <td>0.0</td>\n",
       "      <td>0.0</td>\n",
       "      <td>0.0</td>\n",
       "      <td>0.0</td>\n",
       "      <td>0.0</td>\n",
       "      <td>0.0</td>\n",
       "      <td>0.0</td>\n",
       "      <td>0.0</td>\n",
       "      <td>0.0</td>\n",
       "      <td>0.0</td>\n",
       "      <td>0.0</td>\n",
       "      <td>0.0</td>\n",
       "      <td>0.0</td>\n",
       "      <td>0.0</td>\n",
       "      <td>0.0</td>\n",
       "      <td>0.0</td>\n",
       "      <td>1.0</td>\n",
       "      <td>0.0</td>\n",
       "      <td>0.0</td>\n",
       "      <td>0.0</td>\n",
       "      <td>0.0</td>\n",
       "      <td>0.0</td>\n",
       "      <td>0.0</td>\n",
       "      <td>0.0</td>\n",
       "      <td>0.0</td>\n",
       "      <td>0.0</td>\n",
       "      <td>0.0</td>\n",
       "      <td>0.0</td>\n",
       "      <td>0.0</td>\n",
       "      <td>0.0</td>\n",
       "      <td>0.0</td>\n",
       "      <td>0.0</td>\n",
       "      <td>1.0</td>\n",
       "      <td>0.0</td>\n",
       "      <td>0.0</td>\n",
       "      <td>0.0</td>\n",
       "      <td>0.0</td>\n",
       "      <td>0.0</td>\n",
       "      <td>0.0</td>\n",
       "      <td>0.0</td>\n",
       "      <td>0.0</td>\n",
       "      <td>0.0</td>\n",
       "      <td>0.0</td>\n",
       "      <td>0.0</td>\n",
       "      <td>0.0</td>\n",
       "      <td>0.0</td>\n",
       "      <td>0.0</td>\n",
       "      <td>0.0</td>\n",
       "      <td>0.0</td>\n",
       "      <td>0.0</td>\n",
       "      <td>0.0</td>\n",
       "      <td>0.0</td>\n",
       "      <td>0.0</td>\n",
       "      <td>0.0</td>\n",
       "      <td>0.0</td>\n",
       "      <td>0.0</td>\n",
       "      <td>0.0</td>\n",
       "      <td>0.0</td>\n",
       "      <td>0.0</td>\n",
       "      <td>0.0</td>\n",
       "      <td>0.0</td>\n",
       "      <td>0.0</td>\n",
       "      <td>0.0</td>\n",
       "      <td>0.0</td>\n",
       "      <td>0.0</td>\n",
       "      <td>0.0</td>\n",
       "      <td>0.0</td>\n",
       "      <td>0.0</td>\n",
       "      <td>0.0</td>\n",
       "      <td>0.0</td>\n",
       "      <td>0.0</td>\n",
       "      <td>0.0</td>\n",
       "      <td>0.0</td>\n",
       "      <td>0.0</td>\n",
       "      <td>0.0</td>\n",
       "      <td>0.0</td>\n",
       "      <td>0.0</td>\n",
       "      <td>0.0</td>\n",
       "      <td>0.0</td>\n",
       "      <td>0.0</td>\n",
       "      <td>0.0</td>\n",
       "      <td>0.0</td>\n",
       "      <td>0.0</td>\n",
       "      <td>0.0</td>\n",
       "      <td>0.0</td>\n",
       "      <td>0.0</td>\n",
       "      <td>0.0</td>\n",
       "      <td>0.0</td>\n",
       "      <td>0.0</td>\n",
       "      <td>0.0</td>\n",
       "      <td>0.0</td>\n",
       "      <td>0.0</td>\n",
       "      <td>0.0</td>\n",
       "      <td>0.0</td>\n",
       "      <td>1.0</td>\n",
       "      <td>0.0</td>\n",
       "      <td>0.0</td>\n",
       "      <td>0.0</td>\n",
       "      <td>0.0</td>\n",
       "    </tr>\n",
       "    <tr>\n",
       "      <th>16411</th>\n",
       "      <td>1.0</td>\n",
       "      <td>0.0</td>\n",
       "      <td>0.0</td>\n",
       "      <td>0.0</td>\n",
       "      <td>0.0</td>\n",
       "      <td>0.0</td>\n",
       "      <td>1.0</td>\n",
       "      <td>0.0</td>\n",
       "      <td>0.0</td>\n",
       "      <td>0.0</td>\n",
       "      <td>0.0</td>\n",
       "      <td>0.0</td>\n",
       "      <td>0.0</td>\n",
       "      <td>0.0</td>\n",
       "      <td>1.0</td>\n",
       "      <td>0.0</td>\n",
       "      <td>0.0</td>\n",
       "      <td>0.0</td>\n",
       "      <td>0.0</td>\n",
       "      <td>0.0</td>\n",
       "      <td>0.0</td>\n",
       "      <td>0.0</td>\n",
       "      <td>0.0</td>\n",
       "      <td>0.0</td>\n",
       "      <td>0.0</td>\n",
       "      <td>0.0</td>\n",
       "      <td>0.0</td>\n",
       "      <td>0.0</td>\n",
       "      <td>0.0</td>\n",
       "      <td>0.0</td>\n",
       "      <td>0.0</td>\n",
       "      <td>0.0</td>\n",
       "      <td>0.0</td>\n",
       "      <td>0.0</td>\n",
       "      <td>0.0</td>\n",
       "      <td>0.0</td>\n",
       "      <td>0.0</td>\n",
       "      <td>0.0</td>\n",
       "      <td>0.0</td>\n",
       "      <td>0.0</td>\n",
       "      <td>0.0</td>\n",
       "      <td>0.0</td>\n",
       "      <td>0.0</td>\n",
       "      <td>0.0</td>\n",
       "      <td>0.0</td>\n",
       "      <td>0.0</td>\n",
       "      <td>0.0</td>\n",
       "      <td>1.0</td>\n",
       "      <td>0.0</td>\n",
       "      <td>0.0</td>\n",
       "      <td>0.0</td>\n",
       "      <td>0.0</td>\n",
       "      <td>0.0</td>\n",
       "      <td>0.0</td>\n",
       "      <td>0.0</td>\n",
       "      <td>0.0</td>\n",
       "      <td>0.0</td>\n",
       "      <td>0.0</td>\n",
       "      <td>0.0</td>\n",
       "      <td>0.0</td>\n",
       "      <td>0.0</td>\n",
       "      <td>0.0</td>\n",
       "      <td>0.0</td>\n",
       "      <td>0.0</td>\n",
       "      <td>0.0</td>\n",
       "      <td>0.0</td>\n",
       "      <td>0.0</td>\n",
       "      <td>0.0</td>\n",
       "      <td>0.0</td>\n",
       "      <td>0.0</td>\n",
       "      <td>0.0</td>\n",
       "      <td>0.0</td>\n",
       "      <td>0.0</td>\n",
       "      <td>0.0</td>\n",
       "      <td>0.0</td>\n",
       "      <td>0.0</td>\n",
       "      <td>0.0</td>\n",
       "      <td>0.0</td>\n",
       "      <td>0.0</td>\n",
       "      <td>0.0</td>\n",
       "      <td>0.0</td>\n",
       "      <td>0.0</td>\n",
       "      <td>0.0</td>\n",
       "      <td>0.0</td>\n",
       "      <td>0.0</td>\n",
       "      <td>0.0</td>\n",
       "      <td>0.0</td>\n",
       "      <td>0.0</td>\n",
       "      <td>0.0</td>\n",
       "      <td>0.0</td>\n",
       "      <td>0.0</td>\n",
       "      <td>0.0</td>\n",
       "      <td>0.0</td>\n",
       "      <td>0.0</td>\n",
       "      <td>0.0</td>\n",
       "      <td>0.0</td>\n",
       "      <td>0.0</td>\n",
       "      <td>0.0</td>\n",
       "      <td>0.0</td>\n",
       "      <td>0.0</td>\n",
       "      <td>0.0</td>\n",
       "      <td>0.0</td>\n",
       "      <td>0.0</td>\n",
       "      <td>0.0</td>\n",
       "      <td>0.0</td>\n",
       "      <td>0.0</td>\n",
       "      <td>0.0</td>\n",
       "      <td>0.0</td>\n",
       "      <td>0.0</td>\n",
       "      <td>0.0</td>\n",
       "      <td>0.0</td>\n",
       "      <td>0.0</td>\n",
       "      <td>0.0</td>\n",
       "      <td>0.0</td>\n",
       "      <td>1.0</td>\n",
       "      <td>0.0</td>\n",
       "      <td>0.0</td>\n",
       "      <td>0.0</td>\n",
       "      <td>0.0</td>\n",
       "    </tr>\n",
       "    <tr>\n",
       "      <th>...</th>\n",
       "      <td>...</td>\n",
       "      <td>...</td>\n",
       "      <td>...</td>\n",
       "      <td>...</td>\n",
       "      <td>...</td>\n",
       "      <td>...</td>\n",
       "      <td>...</td>\n",
       "      <td>...</td>\n",
       "      <td>...</td>\n",
       "      <td>...</td>\n",
       "      <td>...</td>\n",
       "      <td>...</td>\n",
       "      <td>...</td>\n",
       "      <td>...</td>\n",
       "      <td>...</td>\n",
       "      <td>...</td>\n",
       "      <td>...</td>\n",
       "      <td>...</td>\n",
       "      <td>...</td>\n",
       "      <td>...</td>\n",
       "      <td>...</td>\n",
       "      <td>...</td>\n",
       "      <td>...</td>\n",
       "      <td>...</td>\n",
       "      <td>...</td>\n",
       "      <td>...</td>\n",
       "      <td>...</td>\n",
       "      <td>...</td>\n",
       "      <td>...</td>\n",
       "      <td>...</td>\n",
       "      <td>...</td>\n",
       "      <td>...</td>\n",
       "      <td>...</td>\n",
       "      <td>...</td>\n",
       "      <td>...</td>\n",
       "      <td>...</td>\n",
       "      <td>...</td>\n",
       "      <td>...</td>\n",
       "      <td>...</td>\n",
       "      <td>...</td>\n",
       "      <td>...</td>\n",
       "      <td>...</td>\n",
       "      <td>...</td>\n",
       "      <td>...</td>\n",
       "      <td>...</td>\n",
       "      <td>...</td>\n",
       "      <td>...</td>\n",
       "      <td>...</td>\n",
       "      <td>...</td>\n",
       "      <td>...</td>\n",
       "      <td>...</td>\n",
       "      <td>...</td>\n",
       "      <td>...</td>\n",
       "      <td>...</td>\n",
       "      <td>...</td>\n",
       "      <td>...</td>\n",
       "      <td>...</td>\n",
       "      <td>...</td>\n",
       "      <td>...</td>\n",
       "      <td>...</td>\n",
       "      <td>...</td>\n",
       "      <td>...</td>\n",
       "      <td>...</td>\n",
       "      <td>...</td>\n",
       "      <td>...</td>\n",
       "      <td>...</td>\n",
       "      <td>...</td>\n",
       "      <td>...</td>\n",
       "      <td>...</td>\n",
       "      <td>...</td>\n",
       "      <td>...</td>\n",
       "      <td>...</td>\n",
       "      <td>...</td>\n",
       "      <td>...</td>\n",
       "      <td>...</td>\n",
       "      <td>...</td>\n",
       "      <td>...</td>\n",
       "      <td>...</td>\n",
       "      <td>...</td>\n",
       "      <td>...</td>\n",
       "      <td>...</td>\n",
       "      <td>...</td>\n",
       "      <td>...</td>\n",
       "      <td>...</td>\n",
       "      <td>...</td>\n",
       "      <td>...</td>\n",
       "      <td>...</td>\n",
       "      <td>...</td>\n",
       "      <td>...</td>\n",
       "      <td>...</td>\n",
       "      <td>...</td>\n",
       "      <td>...</td>\n",
       "      <td>...</td>\n",
       "      <td>...</td>\n",
       "      <td>...</td>\n",
       "      <td>...</td>\n",
       "      <td>...</td>\n",
       "      <td>...</td>\n",
       "      <td>...</td>\n",
       "      <td>...</td>\n",
       "      <td>...</td>\n",
       "      <td>...</td>\n",
       "      <td>...</td>\n",
       "      <td>...</td>\n",
       "      <td>...</td>\n",
       "      <td>...</td>\n",
       "      <td>...</td>\n",
       "      <td>...</td>\n",
       "      <td>...</td>\n",
       "      <td>...</td>\n",
       "      <td>...</td>\n",
       "      <td>...</td>\n",
       "      <td>...</td>\n",
       "      <td>...</td>\n",
       "      <td>...</td>\n",
       "      <td>...</td>\n",
       "      <td>...</td>\n",
       "      <td>...</td>\n",
       "      <td>...</td>\n",
       "    </tr>\n",
       "    <tr>\n",
       "      <th>5177</th>\n",
       "      <td>0.0</td>\n",
       "      <td>0.0</td>\n",
       "      <td>0.0</td>\n",
       "      <td>0.0</td>\n",
       "      <td>0.0</td>\n",
       "      <td>1.0</td>\n",
       "      <td>1.0</td>\n",
       "      <td>0.0</td>\n",
       "      <td>0.0</td>\n",
       "      <td>0.0</td>\n",
       "      <td>0.0</td>\n",
       "      <td>0.0</td>\n",
       "      <td>0.0</td>\n",
       "      <td>0.0</td>\n",
       "      <td>1.0</td>\n",
       "      <td>0.0</td>\n",
       "      <td>0.0</td>\n",
       "      <td>0.0</td>\n",
       "      <td>0.0</td>\n",
       "      <td>0.0</td>\n",
       "      <td>0.0</td>\n",
       "      <td>0.0</td>\n",
       "      <td>0.0</td>\n",
       "      <td>0.0</td>\n",
       "      <td>0.0</td>\n",
       "      <td>0.0</td>\n",
       "      <td>0.0</td>\n",
       "      <td>0.0</td>\n",
       "      <td>0.0</td>\n",
       "      <td>0.0</td>\n",
       "      <td>0.0</td>\n",
       "      <td>0.0</td>\n",
       "      <td>0.0</td>\n",
       "      <td>0.0</td>\n",
       "      <td>0.0</td>\n",
       "      <td>0.0</td>\n",
       "      <td>0.0</td>\n",
       "      <td>0.0</td>\n",
       "      <td>0.0</td>\n",
       "      <td>0.0</td>\n",
       "      <td>0.0</td>\n",
       "      <td>0.0</td>\n",
       "      <td>0.0</td>\n",
       "      <td>0.0</td>\n",
       "      <td>0.0</td>\n",
       "      <td>0.0</td>\n",
       "      <td>0.0</td>\n",
       "      <td>1.0</td>\n",
       "      <td>0.0</td>\n",
       "      <td>0.0</td>\n",
       "      <td>0.0</td>\n",
       "      <td>0.0</td>\n",
       "      <td>0.0</td>\n",
       "      <td>0.0</td>\n",
       "      <td>0.0</td>\n",
       "      <td>0.0</td>\n",
       "      <td>0.0</td>\n",
       "      <td>0.0</td>\n",
       "      <td>0.0</td>\n",
       "      <td>0.0</td>\n",
       "      <td>0.0</td>\n",
       "      <td>0.0</td>\n",
       "      <td>0.0</td>\n",
       "      <td>0.0</td>\n",
       "      <td>0.0</td>\n",
       "      <td>0.0</td>\n",
       "      <td>0.0</td>\n",
       "      <td>0.0</td>\n",
       "      <td>0.0</td>\n",
       "      <td>0.0</td>\n",
       "      <td>0.0</td>\n",
       "      <td>0.0</td>\n",
       "      <td>0.0</td>\n",
       "      <td>0.0</td>\n",
       "      <td>0.0</td>\n",
       "      <td>0.0</td>\n",
       "      <td>0.0</td>\n",
       "      <td>0.0</td>\n",
       "      <td>0.0</td>\n",
       "      <td>0.0</td>\n",
       "      <td>0.0</td>\n",
       "      <td>0.0</td>\n",
       "      <td>0.0</td>\n",
       "      <td>0.0</td>\n",
       "      <td>0.0</td>\n",
       "      <td>0.0</td>\n",
       "      <td>0.0</td>\n",
       "      <td>0.0</td>\n",
       "      <td>0.0</td>\n",
       "      <td>0.0</td>\n",
       "      <td>0.0</td>\n",
       "      <td>0.0</td>\n",
       "      <td>0.0</td>\n",
       "      <td>0.0</td>\n",
       "      <td>0.0</td>\n",
       "      <td>0.0</td>\n",
       "      <td>0.0</td>\n",
       "      <td>0.0</td>\n",
       "      <td>0.0</td>\n",
       "      <td>0.0</td>\n",
       "      <td>0.0</td>\n",
       "      <td>0.0</td>\n",
       "      <td>0.0</td>\n",
       "      <td>0.0</td>\n",
       "      <td>0.0</td>\n",
       "      <td>0.0</td>\n",
       "      <td>0.0</td>\n",
       "      <td>0.0</td>\n",
       "      <td>0.0</td>\n",
       "      <td>0.0</td>\n",
       "      <td>0.0</td>\n",
       "      <td>0.0</td>\n",
       "      <td>0.0</td>\n",
       "      <td>0.0</td>\n",
       "      <td>1.0</td>\n",
       "      <td>0.0</td>\n",
       "      <td>0.0</td>\n",
       "      <td>0.0</td>\n",
       "      <td>0.0</td>\n",
       "    </tr>\n",
       "    <tr>\n",
       "      <th>7644</th>\n",
       "      <td>1.0</td>\n",
       "      <td>0.0</td>\n",
       "      <td>0.0</td>\n",
       "      <td>0.0</td>\n",
       "      <td>0.0</td>\n",
       "      <td>0.0</td>\n",
       "      <td>1.0</td>\n",
       "      <td>0.0</td>\n",
       "      <td>0.0</td>\n",
       "      <td>0.0</td>\n",
       "      <td>0.0</td>\n",
       "      <td>0.0</td>\n",
       "      <td>0.0</td>\n",
       "      <td>0.0</td>\n",
       "      <td>1.0</td>\n",
       "      <td>0.0</td>\n",
       "      <td>0.0</td>\n",
       "      <td>0.0</td>\n",
       "      <td>0.0</td>\n",
       "      <td>0.0</td>\n",
       "      <td>0.0</td>\n",
       "      <td>0.0</td>\n",
       "      <td>0.0</td>\n",
       "      <td>0.0</td>\n",
       "      <td>0.0</td>\n",
       "      <td>0.0</td>\n",
       "      <td>0.0</td>\n",
       "      <td>0.0</td>\n",
       "      <td>0.0</td>\n",
       "      <td>0.0</td>\n",
       "      <td>0.0</td>\n",
       "      <td>0.0</td>\n",
       "      <td>0.0</td>\n",
       "      <td>0.0</td>\n",
       "      <td>1.0</td>\n",
       "      <td>0.0</td>\n",
       "      <td>0.0</td>\n",
       "      <td>0.0</td>\n",
       "      <td>0.0</td>\n",
       "      <td>0.0</td>\n",
       "      <td>0.0</td>\n",
       "      <td>0.0</td>\n",
       "      <td>0.0</td>\n",
       "      <td>0.0</td>\n",
       "      <td>0.0</td>\n",
       "      <td>0.0</td>\n",
       "      <td>0.0</td>\n",
       "      <td>1.0</td>\n",
       "      <td>0.0</td>\n",
       "      <td>0.0</td>\n",
       "      <td>0.0</td>\n",
       "      <td>0.0</td>\n",
       "      <td>0.0</td>\n",
       "      <td>0.0</td>\n",
       "      <td>0.0</td>\n",
       "      <td>0.0</td>\n",
       "      <td>0.0</td>\n",
       "      <td>0.0</td>\n",
       "      <td>0.0</td>\n",
       "      <td>0.0</td>\n",
       "      <td>0.0</td>\n",
       "      <td>0.0</td>\n",
       "      <td>0.0</td>\n",
       "      <td>0.0</td>\n",
       "      <td>0.0</td>\n",
       "      <td>0.0</td>\n",
       "      <td>0.0</td>\n",
       "      <td>0.0</td>\n",
       "      <td>0.0</td>\n",
       "      <td>0.0</td>\n",
       "      <td>0.0</td>\n",
       "      <td>0.0</td>\n",
       "      <td>0.0</td>\n",
       "      <td>0.0</td>\n",
       "      <td>0.0</td>\n",
       "      <td>0.0</td>\n",
       "      <td>0.0</td>\n",
       "      <td>0.0</td>\n",
       "      <td>0.0</td>\n",
       "      <td>0.0</td>\n",
       "      <td>0.0</td>\n",
       "      <td>0.0</td>\n",
       "      <td>0.0</td>\n",
       "      <td>0.0</td>\n",
       "      <td>0.0</td>\n",
       "      <td>0.0</td>\n",
       "      <td>0.0</td>\n",
       "      <td>0.0</td>\n",
       "      <td>0.0</td>\n",
       "      <td>0.0</td>\n",
       "      <td>0.0</td>\n",
       "      <td>0.0</td>\n",
       "      <td>0.0</td>\n",
       "      <td>0.0</td>\n",
       "      <td>0.0</td>\n",
       "      <td>0.0</td>\n",
       "      <td>0.0</td>\n",
       "      <td>0.0</td>\n",
       "      <td>0.0</td>\n",
       "      <td>0.0</td>\n",
       "      <td>0.0</td>\n",
       "      <td>0.0</td>\n",
       "      <td>0.0</td>\n",
       "      <td>0.0</td>\n",
       "      <td>0.0</td>\n",
       "      <td>0.0</td>\n",
       "      <td>0.0</td>\n",
       "      <td>0.0</td>\n",
       "      <td>0.0</td>\n",
       "      <td>0.0</td>\n",
       "      <td>0.0</td>\n",
       "      <td>0.0</td>\n",
       "      <td>0.0</td>\n",
       "      <td>0.0</td>\n",
       "      <td>1.0</td>\n",
       "      <td>0.0</td>\n",
       "      <td>0.0</td>\n",
       "      <td>0.0</td>\n",
       "      <td>0.0</td>\n",
       "    </tr>\n",
       "    <tr>\n",
       "      <th>5938</th>\n",
       "      <td>1.0</td>\n",
       "      <td>0.0</td>\n",
       "      <td>0.0</td>\n",
       "      <td>0.0</td>\n",
       "      <td>0.0</td>\n",
       "      <td>0.0</td>\n",
       "      <td>0.0</td>\n",
       "      <td>0.0</td>\n",
       "      <td>0.0</td>\n",
       "      <td>0.0</td>\n",
       "      <td>0.0</td>\n",
       "      <td>0.0</td>\n",
       "      <td>0.0</td>\n",
       "      <td>1.0</td>\n",
       "      <td>0.0</td>\n",
       "      <td>1.0</td>\n",
       "      <td>0.0</td>\n",
       "      <td>0.0</td>\n",
       "      <td>0.0</td>\n",
       "      <td>0.0</td>\n",
       "      <td>0.0</td>\n",
       "      <td>0.0</td>\n",
       "      <td>0.0</td>\n",
       "      <td>0.0</td>\n",
       "      <td>0.0</td>\n",
       "      <td>0.0</td>\n",
       "      <td>0.0</td>\n",
       "      <td>0.0</td>\n",
       "      <td>0.0</td>\n",
       "      <td>0.0</td>\n",
       "      <td>0.0</td>\n",
       "      <td>0.0</td>\n",
       "      <td>0.0</td>\n",
       "      <td>1.0</td>\n",
       "      <td>0.0</td>\n",
       "      <td>0.0</td>\n",
       "      <td>0.0</td>\n",
       "      <td>0.0</td>\n",
       "      <td>0.0</td>\n",
       "      <td>0.0</td>\n",
       "      <td>0.0</td>\n",
       "      <td>0.0</td>\n",
       "      <td>0.0</td>\n",
       "      <td>0.0</td>\n",
       "      <td>0.0</td>\n",
       "      <td>0.0</td>\n",
       "      <td>0.0</td>\n",
       "      <td>0.0</td>\n",
       "      <td>0.0</td>\n",
       "      <td>0.0</td>\n",
       "      <td>0.0</td>\n",
       "      <td>0.0</td>\n",
       "      <td>0.0</td>\n",
       "      <td>0.0</td>\n",
       "      <td>0.0</td>\n",
       "      <td>0.0</td>\n",
       "      <td>0.0</td>\n",
       "      <td>0.0</td>\n",
       "      <td>0.0</td>\n",
       "      <td>0.0</td>\n",
       "      <td>0.0</td>\n",
       "      <td>0.0</td>\n",
       "      <td>0.0</td>\n",
       "      <td>0.0</td>\n",
       "      <td>0.0</td>\n",
       "      <td>0.0</td>\n",
       "      <td>0.0</td>\n",
       "      <td>0.0</td>\n",
       "      <td>0.0</td>\n",
       "      <td>0.0</td>\n",
       "      <td>0.0</td>\n",
       "      <td>0.0</td>\n",
       "      <td>0.0</td>\n",
       "      <td>0.0</td>\n",
       "      <td>0.0</td>\n",
       "      <td>0.0</td>\n",
       "      <td>0.0</td>\n",
       "      <td>0.0</td>\n",
       "      <td>0.0</td>\n",
       "      <td>0.0</td>\n",
       "      <td>0.0</td>\n",
       "      <td>0.0</td>\n",
       "      <td>0.0</td>\n",
       "      <td>0.0</td>\n",
       "      <td>0.0</td>\n",
       "      <td>0.0</td>\n",
       "      <td>1.0</td>\n",
       "      <td>0.0</td>\n",
       "      <td>0.0</td>\n",
       "      <td>0.0</td>\n",
       "      <td>0.0</td>\n",
       "      <td>0.0</td>\n",
       "      <td>0.0</td>\n",
       "      <td>0.0</td>\n",
       "      <td>0.0</td>\n",
       "      <td>0.0</td>\n",
       "      <td>0.0</td>\n",
       "      <td>0.0</td>\n",
       "      <td>0.0</td>\n",
       "      <td>0.0</td>\n",
       "      <td>0.0</td>\n",
       "      <td>0.0</td>\n",
       "      <td>0.0</td>\n",
       "      <td>0.0</td>\n",
       "      <td>0.0</td>\n",
       "      <td>0.0</td>\n",
       "      <td>0.0</td>\n",
       "      <td>0.0</td>\n",
       "      <td>0.0</td>\n",
       "      <td>0.0</td>\n",
       "      <td>0.0</td>\n",
       "      <td>0.0</td>\n",
       "      <td>0.0</td>\n",
       "      <td>0.0</td>\n",
       "      <td>1.0</td>\n",
       "      <td>0.0</td>\n",
       "      <td>0.0</td>\n",
       "      <td>0.0</td>\n",
       "      <td>0.0</td>\n",
       "    </tr>\n",
       "    <tr>\n",
       "      <th>7008</th>\n",
       "      <td>1.0</td>\n",
       "      <td>0.0</td>\n",
       "      <td>0.0</td>\n",
       "      <td>0.0</td>\n",
       "      <td>0.0</td>\n",
       "      <td>0.0</td>\n",
       "      <td>1.0</td>\n",
       "      <td>0.0</td>\n",
       "      <td>0.0</td>\n",
       "      <td>0.0</td>\n",
       "      <td>0.0</td>\n",
       "      <td>0.0</td>\n",
       "      <td>0.0</td>\n",
       "      <td>0.0</td>\n",
       "      <td>0.0</td>\n",
       "      <td>1.0</td>\n",
       "      <td>0.0</td>\n",
       "      <td>0.0</td>\n",
       "      <td>0.0</td>\n",
       "      <td>0.0</td>\n",
       "      <td>0.0</td>\n",
       "      <td>0.0</td>\n",
       "      <td>0.0</td>\n",
       "      <td>0.0</td>\n",
       "      <td>0.0</td>\n",
       "      <td>0.0</td>\n",
       "      <td>0.0</td>\n",
       "      <td>0.0</td>\n",
       "      <td>0.0</td>\n",
       "      <td>0.0</td>\n",
       "      <td>0.0</td>\n",
       "      <td>0.0</td>\n",
       "      <td>0.0</td>\n",
       "      <td>0.0</td>\n",
       "      <td>0.0</td>\n",
       "      <td>0.0</td>\n",
       "      <td>0.0</td>\n",
       "      <td>0.0</td>\n",
       "      <td>0.0</td>\n",
       "      <td>0.0</td>\n",
       "      <td>0.0</td>\n",
       "      <td>0.0</td>\n",
       "      <td>0.0</td>\n",
       "      <td>0.0</td>\n",
       "      <td>0.0</td>\n",
       "      <td>0.0</td>\n",
       "      <td>0.0</td>\n",
       "      <td>0.0</td>\n",
       "      <td>0.0</td>\n",
       "      <td>0.0</td>\n",
       "      <td>0.0</td>\n",
       "      <td>0.0</td>\n",
       "      <td>0.0</td>\n",
       "      <td>0.0</td>\n",
       "      <td>0.0</td>\n",
       "      <td>0.0</td>\n",
       "      <td>0.0</td>\n",
       "      <td>0.0</td>\n",
       "      <td>0.0</td>\n",
       "      <td>0.0</td>\n",
       "      <td>0.0</td>\n",
       "      <td>0.0</td>\n",
       "      <td>0.0</td>\n",
       "      <td>1.0</td>\n",
       "      <td>0.0</td>\n",
       "      <td>0.0</td>\n",
       "      <td>0.0</td>\n",
       "      <td>0.0</td>\n",
       "      <td>0.0</td>\n",
       "      <td>0.0</td>\n",
       "      <td>0.0</td>\n",
       "      <td>0.0</td>\n",
       "      <td>0.0</td>\n",
       "      <td>0.0</td>\n",
       "      <td>0.0</td>\n",
       "      <td>0.0</td>\n",
       "      <td>0.0</td>\n",
       "      <td>0.0</td>\n",
       "      <td>0.0</td>\n",
       "      <td>0.0</td>\n",
       "      <td>0.0</td>\n",
       "      <td>0.0</td>\n",
       "      <td>0.0</td>\n",
       "      <td>0.0</td>\n",
       "      <td>0.0</td>\n",
       "      <td>0.0</td>\n",
       "      <td>0.0</td>\n",
       "      <td>0.0</td>\n",
       "      <td>0.0</td>\n",
       "      <td>0.0</td>\n",
       "      <td>0.0</td>\n",
       "      <td>0.0</td>\n",
       "      <td>0.0</td>\n",
       "      <td>0.0</td>\n",
       "      <td>0.0</td>\n",
       "      <td>0.0</td>\n",
       "      <td>0.0</td>\n",
       "      <td>0.0</td>\n",
       "      <td>0.0</td>\n",
       "      <td>0.0</td>\n",
       "      <td>0.0</td>\n",
       "      <td>0.0</td>\n",
       "      <td>0.0</td>\n",
       "      <td>0.0</td>\n",
       "      <td>0.0</td>\n",
       "      <td>0.0</td>\n",
       "      <td>0.0</td>\n",
       "      <td>0.0</td>\n",
       "      <td>0.0</td>\n",
       "      <td>0.0</td>\n",
       "      <td>0.0</td>\n",
       "      <td>0.0</td>\n",
       "      <td>0.0</td>\n",
       "      <td>0.0</td>\n",
       "      <td>1.0</td>\n",
       "      <td>0.0</td>\n",
       "      <td>0.0</td>\n",
       "      <td>0.0</td>\n",
       "      <td>0.0</td>\n",
       "    </tr>\n",
       "    <tr>\n",
       "      <th>3119</th>\n",
       "      <td>1.0</td>\n",
       "      <td>0.0</td>\n",
       "      <td>0.0</td>\n",
       "      <td>0.0</td>\n",
       "      <td>0.0</td>\n",
       "      <td>0.0</td>\n",
       "      <td>0.0</td>\n",
       "      <td>1.0</td>\n",
       "      <td>0.0</td>\n",
       "      <td>0.0</td>\n",
       "      <td>0.0</td>\n",
       "      <td>0.0</td>\n",
       "      <td>0.0</td>\n",
       "      <td>0.0</td>\n",
       "      <td>0.0</td>\n",
       "      <td>0.0</td>\n",
       "      <td>0.0</td>\n",
       "      <td>1.0</td>\n",
       "      <td>0.0</td>\n",
       "      <td>0.0</td>\n",
       "      <td>0.0</td>\n",
       "      <td>0.0</td>\n",
       "      <td>0.0</td>\n",
       "      <td>0.0</td>\n",
       "      <td>0.0</td>\n",
       "      <td>0.0</td>\n",
       "      <td>0.0</td>\n",
       "      <td>0.0</td>\n",
       "      <td>0.0</td>\n",
       "      <td>0.0</td>\n",
       "      <td>0.0</td>\n",
       "      <td>0.0</td>\n",
       "      <td>0.0</td>\n",
       "      <td>0.0</td>\n",
       "      <td>0.0</td>\n",
       "      <td>1.0</td>\n",
       "      <td>0.0</td>\n",
       "      <td>0.0</td>\n",
       "      <td>0.0</td>\n",
       "      <td>0.0</td>\n",
       "      <td>0.0</td>\n",
       "      <td>0.0</td>\n",
       "      <td>0.0</td>\n",
       "      <td>0.0</td>\n",
       "      <td>0.0</td>\n",
       "      <td>0.0</td>\n",
       "      <td>0.0</td>\n",
       "      <td>0.0</td>\n",
       "      <td>0.0</td>\n",
       "      <td>1.0</td>\n",
       "      <td>0.0</td>\n",
       "      <td>0.0</td>\n",
       "      <td>0.0</td>\n",
       "      <td>0.0</td>\n",
       "      <td>0.0</td>\n",
       "      <td>0.0</td>\n",
       "      <td>0.0</td>\n",
       "      <td>0.0</td>\n",
       "      <td>0.0</td>\n",
       "      <td>0.0</td>\n",
       "      <td>0.0</td>\n",
       "      <td>0.0</td>\n",
       "      <td>0.0</td>\n",
       "      <td>0.0</td>\n",
       "      <td>0.0</td>\n",
       "      <td>0.0</td>\n",
       "      <td>0.0</td>\n",
       "      <td>0.0</td>\n",
       "      <td>0.0</td>\n",
       "      <td>0.0</td>\n",
       "      <td>0.0</td>\n",
       "      <td>0.0</td>\n",
       "      <td>0.0</td>\n",
       "      <td>0.0</td>\n",
       "      <td>0.0</td>\n",
       "      <td>0.0</td>\n",
       "      <td>0.0</td>\n",
       "      <td>0.0</td>\n",
       "      <td>0.0</td>\n",
       "      <td>0.0</td>\n",
       "      <td>0.0</td>\n",
       "      <td>0.0</td>\n",
       "      <td>0.0</td>\n",
       "      <td>0.0</td>\n",
       "      <td>0.0</td>\n",
       "      <td>0.0</td>\n",
       "      <td>0.0</td>\n",
       "      <td>0.0</td>\n",
       "      <td>0.0</td>\n",
       "      <td>0.0</td>\n",
       "      <td>0.0</td>\n",
       "      <td>0.0</td>\n",
       "      <td>0.0</td>\n",
       "      <td>0.0</td>\n",
       "      <td>0.0</td>\n",
       "      <td>0.0</td>\n",
       "      <td>0.0</td>\n",
       "      <td>0.0</td>\n",
       "      <td>0.0</td>\n",
       "      <td>0.0</td>\n",
       "      <td>0.0</td>\n",
       "      <td>0.0</td>\n",
       "      <td>0.0</td>\n",
       "      <td>0.0</td>\n",
       "      <td>0.0</td>\n",
       "      <td>0.0</td>\n",
       "      <td>0.0</td>\n",
       "      <td>0.0</td>\n",
       "      <td>0.0</td>\n",
       "      <td>0.0</td>\n",
       "      <td>0.0</td>\n",
       "      <td>0.0</td>\n",
       "      <td>0.0</td>\n",
       "      <td>0.0</td>\n",
       "      <td>1.0</td>\n",
       "      <td>0.0</td>\n",
       "      <td>0.0</td>\n",
       "      <td>0.0</td>\n",
       "      <td>0.0</td>\n",
       "    </tr>\n",
       "  </tbody>\n",
       "</table>\n",
       "<p>12516 rows × 119 columns</p>\n",
       "</div>"
      ],
      "text/plain": [
       "       employment_type_Full-time  employment_type_Contract  \\\n",
       "11917                        1.0                       0.0   \n",
       "4640                         1.0                       0.0   \n",
       "15995                        1.0                       0.0   \n",
       "1514                         1.0                       0.0   \n",
       "16411                        1.0                       0.0   \n",
       "...                          ...                       ...   \n",
       "5177                         0.0                       0.0   \n",
       "7644                         1.0                       0.0   \n",
       "5938                         1.0                       0.0   \n",
       "7008                         1.0                       0.0   \n",
       "3119                         1.0                       0.0   \n",
       "\n",
       "       employment_type_Part-time  employment_type_Temporary  \\\n",
       "11917                        0.0                        0.0   \n",
       "4640                         0.0                        0.0   \n",
       "15995                        0.0                        0.0   \n",
       "1514                         0.0                        0.0   \n",
       "16411                        0.0                        0.0   \n",
       "...                          ...                        ...   \n",
       "5177                         0.0                        0.0   \n",
       "7644                         0.0                        0.0   \n",
       "5938                         0.0                        0.0   \n",
       "7008                         0.0                        0.0   \n",
       "3119                         0.0                        0.0   \n",
       "\n",
       "       employment_type_Other  employment_type_unavailable  \\\n",
       "11917                    0.0                          0.0   \n",
       "4640                     0.0                          0.0   \n",
       "15995                    0.0                          0.0   \n",
       "1514                     0.0                          0.0   \n",
       "16411                    0.0                          0.0   \n",
       "...                      ...                          ...   \n",
       "5177                     0.0                          1.0   \n",
       "7644                     0.0                          0.0   \n",
       "5938                     0.0                          0.0   \n",
       "7008                     0.0                          0.0   \n",
       "3119                     0.0                          0.0   \n",
       "\n",
       "       required_experience_unavailable  required_experience_Mid-Senior level  \\\n",
       "11917                              0.0                                   1.0   \n",
       "4640                               0.0                                   1.0   \n",
       "15995                              0.0                                   0.0   \n",
       "1514                               0.0                                   1.0   \n",
       "16411                              1.0                                   0.0   \n",
       "...                                ...                                   ...   \n",
       "5177                               1.0                                   0.0   \n",
       "7644                               1.0                                   0.0   \n",
       "5938                               0.0                                   0.0   \n",
       "7008                               1.0                                   0.0   \n",
       "3119                               0.0                                   1.0   \n",
       "\n",
       "       required_experience_Entry level  required_experience_Associate  \\\n",
       "11917                              0.0                            0.0   \n",
       "4640                               0.0                            0.0   \n",
       "15995                              1.0                            0.0   \n",
       "1514                               0.0                            0.0   \n",
       "16411                              0.0                            0.0   \n",
       "...                                ...                            ...   \n",
       "5177                               0.0                            0.0   \n",
       "7644                               0.0                            0.0   \n",
       "5938                               0.0                            0.0   \n",
       "7008                               0.0                            0.0   \n",
       "3119                               0.0                            0.0   \n",
       "\n",
       "       required_experience_Not Applicable  required_experience_Director  \\\n",
       "11917                                 0.0                           0.0   \n",
       "4640                                  0.0                           0.0   \n",
       "15995                                 0.0                           0.0   \n",
       "1514                                  0.0                           0.0   \n",
       "16411                                 0.0                           0.0   \n",
       "...                                   ...                           ...   \n",
       "5177                                  0.0                           0.0   \n",
       "7644                                  0.0                           0.0   \n",
       "5938                                  0.0                           0.0   \n",
       "7008                                  0.0                           0.0   \n",
       "3119                                  0.0                           0.0   \n",
       "\n",
       "       required_experience_Internship  required_experience_Executive  \\\n",
       "11917                             0.0                            0.0   \n",
       "4640                              0.0                            0.0   \n",
       "15995                             0.0                            0.0   \n",
       "1514                              0.0                            0.0   \n",
       "16411                             0.0                            0.0   \n",
       "...                               ...                            ...   \n",
       "5177                              0.0                            0.0   \n",
       "7644                              0.0                            0.0   \n",
       "5938                              0.0                            1.0   \n",
       "7008                              0.0                            0.0   \n",
       "3119                              0.0                            0.0   \n",
       "\n",
       "       required_education_unavailable  required_education_Bachelor's Degree  \\\n",
       "11917                             0.0                                   1.0   \n",
       "4640                              1.0                                   0.0   \n",
       "15995                             0.0                                   1.0   \n",
       "1514                              0.0                                   1.0   \n",
       "16411                             1.0                                   0.0   \n",
       "...                               ...                                   ...   \n",
       "5177                              1.0                                   0.0   \n",
       "7644                              1.0                                   0.0   \n",
       "5938                              0.0                                   1.0   \n",
       "7008                              0.0                                   1.0   \n",
       "3119                              0.0                                   0.0   \n",
       "\n",
       "       required_education_High School or equivalent  \\\n",
       "11917                                           0.0   \n",
       "4640                                            0.0   \n",
       "15995                                           0.0   \n",
       "1514                                            0.0   \n",
       "16411                                           0.0   \n",
       "...                                             ...   \n",
       "5177                                            0.0   \n",
       "7644                                            0.0   \n",
       "5938                                            0.0   \n",
       "7008                                            0.0   \n",
       "3119                                            0.0   \n",
       "\n",
       "       required_education_Unspecified  required_education_Master's Degree  \\\n",
       "11917                             0.0                                 0.0   \n",
       "4640                              0.0                                 0.0   \n",
       "15995                             0.0                                 0.0   \n",
       "1514                              0.0                                 0.0   \n",
       "16411                             0.0                                 0.0   \n",
       "...                               ...                                 ...   \n",
       "5177                              0.0                                 0.0   \n",
       "7644                              0.0                                 0.0   \n",
       "5938                              0.0                                 0.0   \n",
       "7008                              0.0                                 0.0   \n",
       "3119                              1.0                                 0.0   \n",
       "\n",
       "       required_education_Associate Degree  required_education_Certification  \\\n",
       "11917                                  0.0                               0.0   \n",
       "4640                                   0.0                               0.0   \n",
       "15995                                  0.0                               0.0   \n",
       "1514                                   0.0                               0.0   \n",
       "16411                                  0.0                               0.0   \n",
       "...                                    ...                               ...   \n",
       "5177                                   0.0                               0.0   \n",
       "7644                                   0.0                               0.0   \n",
       "5938                                   0.0                               0.0   \n",
       "7008                                   0.0                               0.0   \n",
       "3119                                   0.0                               0.0   \n",
       "\n",
       "       required_education_Some College Coursework Completed  \\\n",
       "11917                                                0.0      \n",
       "4640                                                 0.0      \n",
       "15995                                                0.0      \n",
       "1514                                                 0.0      \n",
       "16411                                                0.0      \n",
       "...                                                  ...      \n",
       "5177                                                 0.0      \n",
       "7644                                                 0.0      \n",
       "5938                                                 0.0      \n",
       "7008                                                 0.0      \n",
       "3119                                                 0.0      \n",
       "\n",
       "       required_education_Vocational  required_education_Professional  \\\n",
       "11917                            0.0                              0.0   \n",
       "4640                             0.0                              0.0   \n",
       "15995                            0.0                              0.0   \n",
       "1514                             0.0                              0.0   \n",
       "16411                            0.0                              0.0   \n",
       "...                              ...                              ...   \n",
       "5177                             0.0                              0.0   \n",
       "7644                             0.0                              0.0   \n",
       "5938                             0.0                              0.0   \n",
       "7008                             0.0                              0.0   \n",
       "3119                             0.0                              0.0   \n",
       "\n",
       "       required_education_Doctorate  \\\n",
       "11917                           0.0   \n",
       "4640                            0.0   \n",
       "15995                           0.0   \n",
       "1514                            0.0   \n",
       "16411                           0.0   \n",
       "...                             ...   \n",
       "5177                            0.0   \n",
       "7644                            0.0   \n",
       "5938                            0.0   \n",
       "7008                            0.0   \n",
       "3119                            0.0   \n",
       "\n",
       "       required_education_Some High School Coursework  \\\n",
       "11917                                             0.0   \n",
       "4640                                              0.0   \n",
       "15995                                             0.0   \n",
       "1514                                              0.0   \n",
       "16411                                             0.0   \n",
       "...                                               ...   \n",
       "5177                                              0.0   \n",
       "7644                                              0.0   \n",
       "5938                                              0.0   \n",
       "7008                                              0.0   \n",
       "3119                                              0.0   \n",
       "\n",
       "       required_education_Vocational - Degree  \\\n",
       "11917                                     0.0   \n",
       "4640                                      0.0   \n",
       "15995                                     0.0   \n",
       "1514                                      0.0   \n",
       "16411                                     0.0   \n",
       "...                                       ...   \n",
       "5177                                      0.0   \n",
       "7644                                      0.0   \n",
       "5938                                      0.0   \n",
       "7008                                      0.0   \n",
       "3119                                      0.0   \n",
       "\n",
       "       required_education_Vocational - HS Diploma  \\\n",
       "11917                                         0.0   \n",
       "4640                                          0.0   \n",
       "15995                                         0.0   \n",
       "1514                                          0.0   \n",
       "16411                                         0.0   \n",
       "...                                           ...   \n",
       "5177                                          0.0   \n",
       "7644                                          0.0   \n",
       "5938                                          0.0   \n",
       "7008                                          0.0   \n",
       "3119                                          0.0   \n",
       "\n",
       "       required_education_Vocational - Other  required_education_None  \\\n",
       "11917                                    0.0                      0.0   \n",
       "4640                                     0.0                      0.0   \n",
       "15995                                    0.0                      0.0   \n",
       "1514                                     0.0                      0.0   \n",
       "16411                                    0.0                      0.0   \n",
       "...                                      ...                      ...   \n",
       "5177                                     0.0                      0.0   \n",
       "7644                                     0.0                      0.0   \n",
       "5938                                     0.0                      0.0   \n",
       "7008                                     0.0                      0.0   \n",
       "3119                                     0.0                      0.0   \n",
       "\n",
       "       required_education_Vocational - HS Certificate  \\\n",
       "11917                                             0.0   \n",
       "4640                                              0.0   \n",
       "15995                                             0.0   \n",
       "1514                                              0.0   \n",
       "16411                                             0.0   \n",
       "...                                               ...   \n",
       "5177                                              0.0   \n",
       "7644                                              0.0   \n",
       "5938                                              0.0   \n",
       "7008                                              0.0   \n",
       "3119                                              0.0   \n",
       "\n",
       "       required_education_Vocational - Bachelor  \\\n",
       "11917                                       0.0   \n",
       "4640                                        0.0   \n",
       "15995                                       0.0   \n",
       "1514                                        0.0   \n",
       "16411                                       0.0   \n",
       "...                                         ...   \n",
       "5177                                        0.0   \n",
       "7644                                        0.0   \n",
       "5938                                        0.0   \n",
       "7008                                        0.0   \n",
       "3119                                        0.0   \n",
       "\n",
       "       required_education_Vocational - Master  \\\n",
       "11917                                     0.0   \n",
       "4640                                      0.0   \n",
       "15995                                     0.0   \n",
       "1514                                      0.0   \n",
       "16411                                     0.0   \n",
       "...                                       ...   \n",
       "5177                                      0.0   \n",
       "7644                                      0.0   \n",
       "5938                                      0.0   \n",
       "7008                                      0.0   \n",
       "3119                                      0.0   \n",
       "\n",
       "       industry_Information Technology and Services  \\\n",
       "11917                                           0.0   \n",
       "4640                                            1.0   \n",
       "15995                                           0.0   \n",
       "1514                                            0.0   \n",
       "16411                                           0.0   \n",
       "...                                             ...   \n",
       "5177                                            0.0   \n",
       "7644                                            0.0   \n",
       "5938                                            1.0   \n",
       "7008                                            0.0   \n",
       "3119                                            0.0   \n",
       "\n",
       "       industry_Computer Software  industry_Internet  \\\n",
       "11917                         0.0                1.0   \n",
       "4640                          0.0                0.0   \n",
       "15995                         0.0                0.0   \n",
       "1514                          0.0                0.0   \n",
       "16411                         0.0                0.0   \n",
       "...                           ...                ...   \n",
       "5177                          0.0                0.0   \n",
       "7644                          1.0                0.0   \n",
       "5938                          0.0                0.0   \n",
       "7008                          0.0                0.0   \n",
       "3119                          0.0                1.0   \n",
       "\n",
       "       industry_Marketing and Advertising  industry_Education Management  \\\n",
       "11917                                 0.0                            0.0   \n",
       "4640                                  0.0                            0.0   \n",
       "15995                                 0.0                            0.0   \n",
       "1514                                  1.0                            0.0   \n",
       "16411                                 0.0                            0.0   \n",
       "...                                   ...                            ...   \n",
       "5177                                  0.0                            0.0   \n",
       "7644                                  0.0                            0.0   \n",
       "5938                                  0.0                            0.0   \n",
       "7008                                  0.0                            0.0   \n",
       "3119                                  0.0                            0.0   \n",
       "\n",
       "       industry_Financial Services  industry_Hospital & Health Care  \\\n",
       "11917                          0.0                              0.0   \n",
       "4640                           0.0                              0.0   \n",
       "15995                          1.0                              0.0   \n",
       "1514                           0.0                              0.0   \n",
       "16411                          0.0                              0.0   \n",
       "...                            ...                              ...   \n",
       "5177                           0.0                              0.0   \n",
       "7644                           0.0                              0.0   \n",
       "5938                           0.0                              0.0   \n",
       "7008                           0.0                              0.0   \n",
       "3119                           0.0                              0.0   \n",
       "\n",
       "       industry_Consumer Services  industry_Telecommunications  \\\n",
       "11917                         0.0                          0.0   \n",
       "4640                          0.0                          0.0   \n",
       "15995                         0.0                          0.0   \n",
       "1514                          0.0                          0.0   \n",
       "16411                         0.0                          0.0   \n",
       "...                           ...                          ...   \n",
       "5177                          0.0                          0.0   \n",
       "7644                          0.0                          0.0   \n",
       "5938                          0.0                          0.0   \n",
       "7008                          0.0                          0.0   \n",
       "3119                          0.0                          0.0   \n",
       "\n",
       "       industry_Oil & Energy  industry_Retail  industry_Real Estate  \\\n",
       "11917                    0.0              0.0                   0.0   \n",
       "4640                     0.0              0.0                   0.0   \n",
       "15995                    0.0              0.0                   0.0   \n",
       "1514                     0.0              0.0                   0.0   \n",
       "16411                    0.0              0.0                   0.0   \n",
       "...                      ...              ...                   ...   \n",
       "5177                     0.0              0.0                   0.0   \n",
       "7644                     0.0              0.0                   0.0   \n",
       "5938                     0.0              0.0                   0.0   \n",
       "7008                     0.0              0.0                   0.0   \n",
       "3119                     0.0              0.0                   0.0   \n",
       "\n",
       "       industry_Accounting  industry_Construction  function_unavailable  \\\n",
       "11917                  0.0                    0.0                   0.0   \n",
       "4640                   0.0                    0.0                   1.0   \n",
       "15995                  0.0                    0.0                   0.0   \n",
       "1514                   0.0                    0.0                   0.0   \n",
       "16411                  0.0                    0.0                   1.0   \n",
       "...                    ...                    ...                   ...   \n",
       "5177                   0.0                    0.0                   1.0   \n",
       "7644                   0.0                    0.0                   1.0   \n",
       "5938                   0.0                    0.0                   0.0   \n",
       "7008                   0.0                    0.0                   0.0   \n",
       "3119                   0.0                    0.0                   0.0   \n",
       "\n",
       "       function_Information Technology  function_Sales  function_Engineering  \\\n",
       "11917                              0.0             0.0                   1.0   \n",
       "4640                               0.0             0.0                   0.0   \n",
       "15995                              0.0             0.0                   0.0   \n",
       "1514                               0.0             0.0                   0.0   \n",
       "16411                              0.0             0.0                   0.0   \n",
       "...                                ...             ...                   ...   \n",
       "5177                               0.0             0.0                   0.0   \n",
       "7644                               0.0             0.0                   0.0   \n",
       "5938                               0.0             0.0                   0.0   \n",
       "7008                               0.0             0.0                   0.0   \n",
       "3119                               0.0             1.0                   0.0   \n",
       "\n",
       "       function_Customer Service  function_Marketing  function_Administrative  \\\n",
       "11917                        0.0                 0.0                      0.0   \n",
       "4640                         0.0                 0.0                      0.0   \n",
       "15995                        0.0                 0.0                      0.0   \n",
       "1514                         0.0                 1.0                      0.0   \n",
       "16411                        0.0                 0.0                      0.0   \n",
       "...                          ...                 ...                      ...   \n",
       "5177                         0.0                 0.0                      0.0   \n",
       "7644                         0.0                 0.0                      0.0   \n",
       "5938                         0.0                 0.0                      0.0   \n",
       "7008                         0.0                 0.0                      0.0   \n",
       "3119                         0.0                 0.0                      0.0   \n",
       "\n",
       "       function_Design  function_Health Care Provider  function_Other  \\\n",
       "11917              0.0                            0.0             0.0   \n",
       "4640               0.0                            0.0             0.0   \n",
       "15995              0.0                            0.0             0.0   \n",
       "1514               0.0                            0.0             0.0   \n",
       "16411              0.0                            0.0             0.0   \n",
       "...                ...                            ...             ...   \n",
       "5177               0.0                            0.0             0.0   \n",
       "7644               0.0                            0.0             0.0   \n",
       "5938               0.0                            0.0             0.0   \n",
       "7008               0.0                            0.0             0.0   \n",
       "3119               0.0                            0.0             0.0   \n",
       "\n",
       "       function_Education  function_Management  function_Business Development  \\\n",
       "11917                 0.0                  0.0                            0.0   \n",
       "4640                  0.0                  0.0                            0.0   \n",
       "15995                 0.0                  0.0                            0.0   \n",
       "1514                  0.0                  0.0                            0.0   \n",
       "16411                 0.0                  0.0                            0.0   \n",
       "...                   ...                  ...                            ...   \n",
       "5177                  0.0                  0.0                            0.0   \n",
       "7644                  0.0                  0.0                            0.0   \n",
       "5938                  0.0                  0.0                            0.0   \n",
       "7008                  0.0                  0.0                            0.0   \n",
       "3119                  0.0                  0.0                            0.0   \n",
       "\n",
       "       function_Accounting/Auditing  function_Human Resources  \\\n",
       "11917                           0.0                       0.0   \n",
       "4640                            0.0                       0.0   \n",
       "15995                           0.0                       0.0   \n",
       "1514                            0.0                       0.0   \n",
       "16411                           0.0                       0.0   \n",
       "...                             ...                       ...   \n",
       "5177                            0.0                       0.0   \n",
       "7644                            0.0                       0.0   \n",
       "5938                            0.0                       0.0   \n",
       "7008                            0.0                       0.0   \n",
       "3119                            0.0                       0.0   \n",
       "\n",
       "       function_Project Management  function_Finance  function_Consulting  \\\n",
       "11917                          0.0               0.0                  0.0   \n",
       "4640                           0.0               0.0                  0.0   \n",
       "15995                          0.0               0.0                  0.0   \n",
       "1514                           0.0               0.0                  0.0   \n",
       "16411                          0.0               0.0                  0.0   \n",
       "...                            ...               ...                  ...   \n",
       "5177                           0.0               0.0                  0.0   \n",
       "7644                           0.0               0.0                  0.0   \n",
       "5938                           0.0               0.0                  0.0   \n",
       "7008                           0.0               1.0                  0.0   \n",
       "3119                           0.0               0.0                  0.0   \n",
       "\n",
       "       function_Writing/Editing  function_Art/Creative  function_Production  \\\n",
       "11917                       0.0                    0.0                  0.0   \n",
       "4640                        0.0                    0.0                  0.0   \n",
       "15995                       0.0                    0.0                  0.0   \n",
       "1514                        0.0                    0.0                  0.0   \n",
       "16411                       0.0                    0.0                  0.0   \n",
       "...                         ...                    ...                  ...   \n",
       "5177                        0.0                    0.0                  0.0   \n",
       "7644                        0.0                    0.0                  0.0   \n",
       "5938                        0.0                    0.0                  0.0   \n",
       "7008                        0.0                    0.0                  0.0   \n",
       "3119                        0.0                    0.0                  0.0   \n",
       "\n",
       "       function_Quality Assurance  function_Data Analyst  function_Research  \\\n",
       "11917                         0.0                    0.0                0.0   \n",
       "4640                          0.0                    0.0                0.0   \n",
       "15995                         0.0                    0.0                1.0   \n",
       "1514                          0.0                    0.0                0.0   \n",
       "16411                         0.0                    0.0                0.0   \n",
       "...                           ...                    ...                ...   \n",
       "5177                          0.0                    0.0                0.0   \n",
       "7644                          0.0                    0.0                0.0   \n",
       "5938                          0.0                    0.0                0.0   \n",
       "7008                          0.0                    0.0                0.0   \n",
       "3119                          0.0                    0.0                0.0   \n",
       "\n",
       "       function_Manufacturing  function_Advertising  \\\n",
       "11917                     0.0                   0.0   \n",
       "4640                      0.0                   0.0   \n",
       "15995                     0.0                   0.0   \n",
       "1514                      0.0                   0.0   \n",
       "16411                     0.0                   0.0   \n",
       "...                       ...                   ...   \n",
       "5177                      0.0                   0.0   \n",
       "7644                      0.0                   0.0   \n",
       "5938                      0.0                   0.0   \n",
       "7008                      0.0                   0.0   \n",
       "3119                      0.0                   0.0   \n",
       "\n",
       "       function_Public Relations  function_Legal  function_Distribution  \\\n",
       "11917                        0.0             0.0                    0.0   \n",
       "4640                         0.0             0.0                    0.0   \n",
       "15995                        0.0             0.0                    0.0   \n",
       "1514                         0.0             0.0                    0.0   \n",
       "16411                        0.0             0.0                    0.0   \n",
       "...                          ...             ...                    ...   \n",
       "5177                         0.0             0.0                    0.0   \n",
       "7644                         0.0             0.0                    0.0   \n",
       "5938                         0.0             0.0                    0.0   \n",
       "7008                         0.0             0.0                    0.0   \n",
       "3119                         0.0             0.0                    0.0   \n",
       "\n",
       "       function_Product Management  function_Strategy/Planning  \\\n",
       "11917                          0.0                         0.0   \n",
       "4640                           0.0                         0.0   \n",
       "15995                          0.0                         0.0   \n",
       "1514                           0.0                         0.0   \n",
       "16411                          0.0                         0.0   \n",
       "...                            ...                         ...   \n",
       "5177                           0.0                         0.0   \n",
       "7644                           0.0                         0.0   \n",
       "5938                           0.0                         0.0   \n",
       "7008                           0.0                         0.0   \n",
       "3119                           0.0                         0.0   \n",
       "\n",
       "       function_Purchasing  function_General Business  function_Science  \\\n",
       "11917                  0.0                        0.0               0.0   \n",
       "4640                   0.0                        0.0               0.0   \n",
       "15995                  0.0                        0.0               0.0   \n",
       "1514                   0.0                        0.0               0.0   \n",
       "16411                  0.0                        0.0               0.0   \n",
       "...                    ...                        ...               ...   \n",
       "5177                   0.0                        0.0               0.0   \n",
       "7644                   0.0                        0.0               0.0   \n",
       "5938                   0.0                        0.0               0.0   \n",
       "7008                   0.0                        0.0               0.0   \n",
       "3119                   0.0                        0.0               0.0   \n",
       "\n",
       "       function_Supply Chain  function_Training  function_Financial Analyst  \\\n",
       "11917                    0.0                0.0                         0.0   \n",
       "4640                     0.0                0.0                         0.0   \n",
       "15995                    0.0                0.0                         0.0   \n",
       "1514                     0.0                0.0                         0.0   \n",
       "16411                    0.0                0.0                         0.0   \n",
       "...                      ...                ...                         ...   \n",
       "5177                     0.0                0.0                         0.0   \n",
       "7644                     0.0                0.0                         0.0   \n",
       "5938                     0.0                0.0                         0.0   \n",
       "7008                     0.0                0.0                         0.0   \n",
       "3119                     0.0                0.0                         0.0   \n",
       "\n",
       "       function_Biotech  function_Inventory  function_Information Technology  \\\n",
       "11917               0.0                 0.0                              0.0   \n",
       "4640                0.0                 0.0                              0.0   \n",
       "15995               0.0                 0.0                              0.0   \n",
       "1514                0.0                 0.0                              0.0   \n",
       "16411               0.0                 0.0                              0.0   \n",
       "...                 ...                 ...                              ...   \n",
       "5177                0.0                 0.0                              0.0   \n",
       "7644                0.0                 0.0                              0.0   \n",
       "5938                0.0                 0.0                              1.0   \n",
       "7008                0.0                 0.0                              0.0   \n",
       "3119                0.0                 0.0                              0.0   \n",
       "\n",
       "       function_Facilities  function_QA  function_Skilled Labor  \\\n",
       "11917                  0.0          0.0                     0.0   \n",
       "4640                   0.0          0.0                     0.0   \n",
       "15995                  0.0          0.0                     0.0   \n",
       "1514                   0.0          0.0                     0.0   \n",
       "16411                  0.0          0.0                     0.0   \n",
       "...                    ...          ...                     ...   \n",
       "5177                   0.0          0.0                     0.0   \n",
       "7644                   0.0          0.0                     0.0   \n",
       "5938                   0.0          0.0                     0.0   \n",
       "7008                   0.0          0.0                     0.0   \n",
       "3119                   0.0          0.0                     0.0   \n",
       "\n",
       "       function_Business Development  function_Research Development  \\\n",
       "11917                            0.0                            0.0   \n",
       "4640                             0.0                            0.0   \n",
       "15995                            0.0                            0.0   \n",
       "1514                             0.0                            0.0   \n",
       "16411                            0.0                            0.0   \n",
       "...                              ...                            ...   \n",
       "5177                             0.0                            0.0   \n",
       "7644                             0.0                            0.0   \n",
       "5938                             0.0                            0.0   \n",
       "7008                             0.0                            0.0   \n",
       "3119                             0.0                            0.0   \n",
       "\n",
       "       function_Science  function_Professional Services  function_Design  \\\n",
       "11917               0.0                             0.0              0.0   \n",
       "4640                0.0                             0.0              0.0   \n",
       "15995               0.0                             0.0              0.0   \n",
       "1514                0.0                             0.0              0.0   \n",
       "16411               0.0                             0.0              0.0   \n",
       "...                 ...                             ...              ...   \n",
       "5177                0.0                             0.0              0.0   \n",
       "7644                0.0                             0.0              0.0   \n",
       "5938                0.0                             0.0              0.0   \n",
       "7008                0.0                             0.0              0.0   \n",
       "3119                0.0                             0.0              0.0   \n",
       "\n",
       "       function_Product Management  function_Strategy/Planning  \\\n",
       "11917                          0.0                         0.0   \n",
       "4640                           0.0                         0.0   \n",
       "15995                          0.0                         0.0   \n",
       "1514                           0.0                         0.0   \n",
       "16411                          0.0                         0.0   \n",
       "...                            ...                         ...   \n",
       "5177                           0.0                         0.0   \n",
       "7644                           0.0                         0.0   \n",
       "5938                           0.0                         0.0   \n",
       "7008                           0.0                         0.0   \n",
       "3119                           0.0                         0.0   \n",
       "\n",
       "       function_Purchasing  function_General Business  function_Supply Chain  \\\n",
       "11917                  0.0                        0.0                    0.0   \n",
       "4640                   0.0                        0.0                    0.0   \n",
       "15995                  0.0                        0.0                    0.0   \n",
       "1514                   0.0                        0.0                    0.0   \n",
       "16411                  0.0                        0.0                    0.0   \n",
       "...                    ...                        ...                    ...   \n",
       "5177                   0.0                        0.0                    0.0   \n",
       "7644                   0.0                        0.0                    0.0   \n",
       "5938                   0.0                        0.0                    0.0   \n",
       "7008                   0.0                        0.0                    0.0   \n",
       "3119                   0.0                        0.0                    0.0   \n",
       "\n",
       "       function_Training  function_Financial Analyst  function_Biotech  \\\n",
       "11917                0.0                         0.0               0.0   \n",
       "4640                 0.0                         0.0               0.0   \n",
       "15995                0.0                         0.0               0.0   \n",
       "1514                 0.0                         0.0               0.0   \n",
       "16411                0.0                         0.0               0.0   \n",
       "...                  ...                         ...               ...   \n",
       "5177                 0.0                         0.0               0.0   \n",
       "7644                 0.0                         0.0               0.0   \n",
       "5938                 0.0                         0.0               0.0   \n",
       "7008                 0.0                         0.0               0.0   \n",
       "3119                 0.0                         0.0               0.0   \n",
       "\n",
       "       function_Inventory  function_Facilities  function_QA  \\\n",
       "11917                 0.0                  0.0          0.0   \n",
       "4640                  0.0                  0.0          0.0   \n",
       "15995                 0.0                  0.0          0.0   \n",
       "1514                  0.0                  0.0          0.0   \n",
       "16411                 0.0                  0.0          0.0   \n",
       "...                   ...                  ...          ...   \n",
       "5177                  0.0                  0.0          0.0   \n",
       "7644                  0.0                  0.0          0.0   \n",
       "5938                  0.0                  0.0          0.0   \n",
       "7008                  0.0                  0.0          0.0   \n",
       "3119                  0.0                  0.0          0.0   \n",
       "\n",
       "       function_Skilled Labor  function_Research Development  \\\n",
       "11917                     0.0                            0.0   \n",
       "4640                      0.0                            0.0   \n",
       "15995                     0.0                            0.0   \n",
       "1514                      0.0                            0.0   \n",
       "16411                     0.0                            0.0   \n",
       "...                       ...                            ...   \n",
       "5177                      0.0                            0.0   \n",
       "7644                      0.0                            0.0   \n",
       "5938                      0.0                            0.0   \n",
       "7008                      0.0                            0.0   \n",
       "3119                      0.0                            0.0   \n",
       "\n",
       "       function_Professional Services  function_Logistics  function_Nonprofit  \\\n",
       "11917                             0.0                 0.0                 0.0   \n",
       "4640                              0.0                 0.0                 0.0   \n",
       "15995                             0.0                 0.0                 0.0   \n",
       "1514                              0.0                 0.0                 0.0   \n",
       "16411                             0.0                 0.0                 0.0   \n",
       "...                               ...                 ...                 ...   \n",
       "5177                              0.0                 0.0                 0.0   \n",
       "7644                              0.0                 0.0                 0.0   \n",
       "5938                              0.0                 0.0                 0.0   \n",
       "7008                              0.0                 0.0                 0.0   \n",
       "3119                              0.0                 0.0                 0.0   \n",
       "\n",
       "       function_Operations Management  function_Nurse  \\\n",
       "11917                             0.0             0.0   \n",
       "4640                              0.0             0.0   \n",
       "15995                             0.0             0.0   \n",
       "1514                              0.0             0.0   \n",
       "16411                             0.0             0.0   \n",
       "...                               ...             ...   \n",
       "5177                              0.0             0.0   \n",
       "7644                              0.0             0.0   \n",
       "5938                              0.0             0.0   \n",
       "7008                              0.0             0.0   \n",
       "3119                              0.0             0.0   \n",
       "\n",
       "       function_Pharmaceutical  location_country_US  location_country_GB  \\\n",
       "11917                      0.0                  0.0                  0.0   \n",
       "4640                       0.0                  0.0                  0.0   \n",
       "15995                      0.0                  1.0                  0.0   \n",
       "1514                       0.0                  1.0                  0.0   \n",
       "16411                      0.0                  1.0                  0.0   \n",
       "...                        ...                  ...                  ...   \n",
       "5177                       0.0                  1.0                  0.0   \n",
       "7644                       0.0                  1.0                  0.0   \n",
       "5938                       0.0                  1.0                  0.0   \n",
       "7008                       0.0                  1.0                  0.0   \n",
       "3119                       0.0                  1.0                  0.0   \n",
       "\n",
       "       location_country_GR  location_country_CA  location_country_DE  \n",
       "11917                  1.0                  0.0                  0.0  \n",
       "4640                   0.0                  0.0                  0.0  \n",
       "15995                  0.0                  0.0                  0.0  \n",
       "1514                   0.0                  0.0                  0.0  \n",
       "16411                  0.0                  0.0                  0.0  \n",
       "...                    ...                  ...                  ...  \n",
       "5177                   0.0                  0.0                  0.0  \n",
       "7644                   0.0                  0.0                  0.0  \n",
       "5938                   0.0                  0.0                  0.0  \n",
       "7008                   0.0                  0.0                  0.0  \n",
       "3119                   0.0                  0.0                  0.0  \n",
       "\n",
       "[12516 rows x 119 columns]"
      ]
     },
     "execution_count": 117,
     "metadata": {},
     "output_type": "execute_result"
    }
   ],
   "source": [
    "pd.DataFrame.sparse.from_spmatrix(\n",
    "    data = onehot.fit_transform(X_train[['employment_type', 'required_experience','required_education','industry','function','location_country']]),  # <- sparse matrix\n",
    "    columns = onehot.get_feature_names_out(),                        # <- encoded features\n",
    "    index = X_train.index\n",
    ")"
   ]
  },
  {
   "cell_type": "code",
   "execution_count": 118,
   "metadata": {},
   "outputs": [
    {
     "data": {
      "text/plain": [
       "Index(['title', 'salary_range', 'telecommuting', 'has_company_logo',\n",
       "       'has_questions', 'employment_type', 'required_experience',\n",
       "       'required_education', 'industry', 'function', 'fraudulent',\n",
       "       'have_company_profile', 'have_requirements', 'have_benefits',\n",
       "       'have_department', 'full_text', 'location_country', 'location_county',\n",
       "       'location_city', 'salary_group', 'text_len', 'company_profile_isna'],\n",
       "      dtype='object')"
      ]
     },
     "execution_count": 118,
     "metadata": {},
     "output_type": "execute_result"
    }
   ],
   "source": [
    "df.columns"
   ]
  },
  {
   "cell_type": "code",
   "execution_count": 120,
   "metadata": {},
   "outputs": [
    {
     "data": {
      "text/html": [
       "<style>#sk-container-id-1 {color: black;}#sk-container-id-1 pre{padding: 0;}#sk-container-id-1 div.sk-toggleable {background-color: white;}#sk-container-id-1 label.sk-toggleable__label {cursor: pointer;display: block;width: 100%;margin-bottom: 0;padding: 0.3em;box-sizing: border-box;text-align: center;}#sk-container-id-1 label.sk-toggleable__label-arrow:before {content: \"▸\";float: left;margin-right: 0.25em;color: #696969;}#sk-container-id-1 label.sk-toggleable__label-arrow:hover:before {color: black;}#sk-container-id-1 div.sk-estimator:hover label.sk-toggleable__label-arrow:before {color: black;}#sk-container-id-1 div.sk-toggleable__content {max-height: 0;max-width: 0;overflow: hidden;text-align: left;background-color: #f0f8ff;}#sk-container-id-1 div.sk-toggleable__content pre {margin: 0.2em;color: black;border-radius: 0.25em;background-color: #f0f8ff;}#sk-container-id-1 input.sk-toggleable__control:checked~div.sk-toggleable__content {max-height: 200px;max-width: 100%;overflow: auto;}#sk-container-id-1 input.sk-toggleable__control:checked~label.sk-toggleable__label-arrow:before {content: \"▾\";}#sk-container-id-1 div.sk-estimator input.sk-toggleable__control:checked~label.sk-toggleable__label {background-color: #d4ebff;}#sk-container-id-1 div.sk-label input.sk-toggleable__control:checked~label.sk-toggleable__label {background-color: #d4ebff;}#sk-container-id-1 input.sk-hidden--visually {border: 0;clip: rect(1px 1px 1px 1px);clip: rect(1px, 1px, 1px, 1px);height: 1px;margin: -1px;overflow: hidden;padding: 0;position: absolute;width: 1px;}#sk-container-id-1 div.sk-estimator {font-family: monospace;background-color: #f0f8ff;border: 1px dotted black;border-radius: 0.25em;box-sizing: border-box;margin-bottom: 0.5em;}#sk-container-id-1 div.sk-estimator:hover {background-color: #d4ebff;}#sk-container-id-1 div.sk-parallel-item::after {content: \"\";width: 100%;border-bottom: 1px solid gray;flex-grow: 1;}#sk-container-id-1 div.sk-label:hover label.sk-toggleable__label {background-color: #d4ebff;}#sk-container-id-1 div.sk-serial::before {content: \"\";position: absolute;border-left: 1px solid gray;box-sizing: border-box;top: 0;bottom: 0;left: 50%;z-index: 0;}#sk-container-id-1 div.sk-serial {display: flex;flex-direction: column;align-items: center;background-color: white;padding-right: 0.2em;padding-left: 0.2em;position: relative;}#sk-container-id-1 div.sk-item {position: relative;z-index: 1;}#sk-container-id-1 div.sk-parallel {display: flex;align-items: stretch;justify-content: center;background-color: white;position: relative;}#sk-container-id-1 div.sk-item::before, #sk-container-id-1 div.sk-parallel-item::before {content: \"\";position: absolute;border-left: 1px solid gray;box-sizing: border-box;top: 0;bottom: 0;left: 50%;z-index: -1;}#sk-container-id-1 div.sk-parallel-item {display: flex;flex-direction: column;z-index: 1;position: relative;background-color: white;}#sk-container-id-1 div.sk-parallel-item:first-child::after {align-self: flex-end;width: 50%;}#sk-container-id-1 div.sk-parallel-item:last-child::after {align-self: flex-start;width: 50%;}#sk-container-id-1 div.sk-parallel-item:only-child::after {width: 0;}#sk-container-id-1 div.sk-dashed-wrapped {border: 1px dashed gray;margin: 0 0.4em 0.5em 0.4em;box-sizing: border-box;padding-bottom: 0.4em;background-color: white;}#sk-container-id-1 div.sk-label label {font-family: monospace;font-weight: bold;display: inline-block;line-height: 1.2em;}#sk-container-id-1 div.sk-label-container {text-align: center;}#sk-container-id-1 div.sk-container {/* jupyter's `normalize.less` sets `[hidden] { display: none; }` but bootstrap.min.css set `[hidden] { display: none !important; }` so we also need the `!important` here to be able to override the default hidden behavior on the sphinx rendered scikit-learn.org. See: https://github.com/scikit-learn/scikit-learn/issues/21755 */display: inline-block !important;position: relative;}#sk-container-id-1 div.sk-text-repr-fallback {display: none;}</style><div id=\"sk-container-id-1\" class=\"sk-top-container\"><div class=\"sk-text-repr-fallback\"><pre>ColumnTransformer(transformers=[(&#x27;numerical&#x27;, &#x27;passthrough&#x27;,\n",
       "                                 [&#x27;telecommuting&#x27;, &#x27;has_company_logo&#x27;,\n",
       "                                  &#x27;has_questions&#x27;, &#x27;have_company_profile&#x27;,\n",
       "                                  &#x27;have_requirements&#x27;, &#x27;have_benefits&#x27;,\n",
       "                                  &#x27;have_department&#x27;, &#x27;text_len&#x27;,\n",
       "                                  &#x27;company_profile_isna&#x27;]),\n",
       "                                (&#x27;ordinal&#x27;,\n",
       "                                 OrdinalEncoder(categories=[[&#x27;Extremly Low&#x27;,\n",
       "                                                             &#x27;Low&#x27;,\n",
       "                                                             &#x27;Sligtly Low&#x27;,\n",
       "                                                             &#x27;Slightly High&#x27;,\n",
       "                                                             &#x27;High&#x27;,\n",
       "                                                             &#x27;Extremly High&#x27;]],\n",
       "                                                handle_unknown=...\n",
       "                                                            &#x27;Consulting&#x27;,\n",
       "                                                            &#x27;Writing/Editing&#x27;,\n",
       "                                                            &#x27;Art/Creative&#x27;,\n",
       "                                                            &#x27;Production&#x27;,\n",
       "                                                            &#x27;Quality Assurance&#x27;,\n",
       "                                                            &#x27;Data Analyst&#x27;,\n",
       "                                                            &#x27;Research&#x27;,\n",
       "                                                            &#x27;Manufacturing&#x27;,\n",
       "                                                            &#x27;Advertising&#x27;,\n",
       "                                                            &#x27;Public Relations&#x27;,\n",
       "                                                            &#x27;Legal&#x27;,\n",
       "                                                            &#x27;Distribution&#x27;,\n",
       "                                                            &#x27;Product &#x27;\n",
       "                                                            &#x27;Management&#x27;, ...],\n",
       "                                                           [&#x27;US&#x27;, &#x27;GB&#x27;, &#x27;GR&#x27;,\n",
       "                                                            &#x27;CA&#x27;, &#x27;DE&#x27;]],\n",
       "                                               handle_unknown=&#x27;ignore&#x27;),\n",
       "                                 [&#x27;employment_type&#x27;, &#x27;required_experience&#x27;,\n",
       "                                  &#x27;required_education&#x27;, &#x27;industry&#x27;, &#x27;function&#x27;,\n",
       "                                  &#x27;location_country&#x27;])])</pre><b>In a Jupyter environment, please rerun this cell to show the HTML representation or trust the notebook. <br />On GitHub, the HTML representation is unable to render, please try loading this page with nbviewer.org.</b></div><div class=\"sk-container\" hidden><div class=\"sk-item sk-dashed-wrapped\"><div class=\"sk-label-container\"><div class=\"sk-label sk-toggleable\"><input class=\"sk-toggleable__control sk-hidden--visually\" id=\"sk-estimator-id-1\" type=\"checkbox\" ><label for=\"sk-estimator-id-1\" class=\"sk-toggleable__label sk-toggleable__label-arrow\">ColumnTransformer</label><div class=\"sk-toggleable__content\"><pre>ColumnTransformer(transformers=[(&#x27;numerical&#x27;, &#x27;passthrough&#x27;,\n",
       "                                 [&#x27;telecommuting&#x27;, &#x27;has_company_logo&#x27;,\n",
       "                                  &#x27;has_questions&#x27;, &#x27;have_company_profile&#x27;,\n",
       "                                  &#x27;have_requirements&#x27;, &#x27;have_benefits&#x27;,\n",
       "                                  &#x27;have_department&#x27;, &#x27;text_len&#x27;,\n",
       "                                  &#x27;company_profile_isna&#x27;]),\n",
       "                                (&#x27;ordinal&#x27;,\n",
       "                                 OrdinalEncoder(categories=[[&#x27;Extremly Low&#x27;,\n",
       "                                                             &#x27;Low&#x27;,\n",
       "                                                             &#x27;Sligtly Low&#x27;,\n",
       "                                                             &#x27;Slightly High&#x27;,\n",
       "                                                             &#x27;High&#x27;,\n",
       "                                                             &#x27;Extremly High&#x27;]],\n",
       "                                                handle_unknown=...\n",
       "                                                            &#x27;Consulting&#x27;,\n",
       "                                                            &#x27;Writing/Editing&#x27;,\n",
       "                                                            &#x27;Art/Creative&#x27;,\n",
       "                                                            &#x27;Production&#x27;,\n",
       "                                                            &#x27;Quality Assurance&#x27;,\n",
       "                                                            &#x27;Data Analyst&#x27;,\n",
       "                                                            &#x27;Research&#x27;,\n",
       "                                                            &#x27;Manufacturing&#x27;,\n",
       "                                                            &#x27;Advertising&#x27;,\n",
       "                                                            &#x27;Public Relations&#x27;,\n",
       "                                                            &#x27;Legal&#x27;,\n",
       "                                                            &#x27;Distribution&#x27;,\n",
       "                                                            &#x27;Product &#x27;\n",
       "                                                            &#x27;Management&#x27;, ...],\n",
       "                                                           [&#x27;US&#x27;, &#x27;GB&#x27;, &#x27;GR&#x27;,\n",
       "                                                            &#x27;CA&#x27;, &#x27;DE&#x27;]],\n",
       "                                               handle_unknown=&#x27;ignore&#x27;),\n",
       "                                 [&#x27;employment_type&#x27;, &#x27;required_experience&#x27;,\n",
       "                                  &#x27;required_education&#x27;, &#x27;industry&#x27;, &#x27;function&#x27;,\n",
       "                                  &#x27;location_country&#x27;])])</pre></div></div></div><div class=\"sk-parallel\"><div class=\"sk-parallel-item\"><div class=\"sk-item\"><div class=\"sk-label-container\"><div class=\"sk-label sk-toggleable\"><input class=\"sk-toggleable__control sk-hidden--visually\" id=\"sk-estimator-id-2\" type=\"checkbox\" ><label for=\"sk-estimator-id-2\" class=\"sk-toggleable__label sk-toggleable__label-arrow\">numerical</label><div class=\"sk-toggleable__content\"><pre>[&#x27;telecommuting&#x27;, &#x27;has_company_logo&#x27;, &#x27;has_questions&#x27;, &#x27;have_company_profile&#x27;, &#x27;have_requirements&#x27;, &#x27;have_benefits&#x27;, &#x27;have_department&#x27;, &#x27;text_len&#x27;, &#x27;company_profile_isna&#x27;]</pre></div></div></div><div class=\"sk-serial\"><div class=\"sk-item\"><div class=\"sk-estimator sk-toggleable\"><input class=\"sk-toggleable__control sk-hidden--visually\" id=\"sk-estimator-id-3\" type=\"checkbox\" ><label for=\"sk-estimator-id-3\" class=\"sk-toggleable__label sk-toggleable__label-arrow\">passthrough</label><div class=\"sk-toggleable__content\"><pre>passthrough</pre></div></div></div></div></div></div><div class=\"sk-parallel-item\"><div class=\"sk-item\"><div class=\"sk-label-container\"><div class=\"sk-label sk-toggleable\"><input class=\"sk-toggleable__control sk-hidden--visually\" id=\"sk-estimator-id-4\" type=\"checkbox\" ><label for=\"sk-estimator-id-4\" class=\"sk-toggleable__label sk-toggleable__label-arrow\">ordinal</label><div class=\"sk-toggleable__content\"><pre>[&#x27;salary_group&#x27;]</pre></div></div></div><div class=\"sk-serial\"><div class=\"sk-item\"><div class=\"sk-estimator sk-toggleable\"><input class=\"sk-toggleable__control sk-hidden--visually\" id=\"sk-estimator-id-5\" type=\"checkbox\" ><label for=\"sk-estimator-id-5\" class=\"sk-toggleable__label sk-toggleable__label-arrow\">OrdinalEncoder</label><div class=\"sk-toggleable__content\"><pre>OrdinalEncoder(categories=[[&#x27;Extremly Low&#x27;, &#x27;Low&#x27;, &#x27;Sligtly Low&#x27;,\n",
       "                            &#x27;Slightly High&#x27;, &#x27;High&#x27;, &#x27;Extremly High&#x27;]],\n",
       "               handle_unknown=&#x27;use_encoded_value&#x27;, unknown_value=-1)</pre></div></div></div></div></div></div><div class=\"sk-parallel-item\"><div class=\"sk-item\"><div class=\"sk-label-container\"><div class=\"sk-label sk-toggleable\"><input class=\"sk-toggleable__control sk-hidden--visually\" id=\"sk-estimator-id-6\" type=\"checkbox\" ><label for=\"sk-estimator-id-6\" class=\"sk-toggleable__label sk-toggleable__label-arrow\">onehot</label><div class=\"sk-toggleable__content\"><pre>[&#x27;employment_type&#x27;, &#x27;required_experience&#x27;, &#x27;required_education&#x27;, &#x27;industry&#x27;, &#x27;function&#x27;, &#x27;location_country&#x27;]</pre></div></div></div><div class=\"sk-serial\"><div class=\"sk-item\"><div class=\"sk-estimator sk-toggleable\"><input class=\"sk-toggleable__control sk-hidden--visually\" id=\"sk-estimator-id-7\" type=\"checkbox\" ><label for=\"sk-estimator-id-7\" class=\"sk-toggleable__label sk-toggleable__label-arrow\">OneHotEncoder</label><div class=\"sk-toggleable__content\"><pre>OneHotEncoder(categories=[[&#x27;Full-time&#x27;, &#x27;Contract&#x27;, &#x27;Part-time&#x27;, &#x27;Temporary&#x27;,\n",
       "                           &#x27;Other&#x27;, &#x27;unavailable&#x27;],\n",
       "                          [&#x27;unavailable&#x27;, &#x27;Mid-Senior level&#x27;, &#x27;Entry level&#x27;,\n",
       "                           &#x27;Associate&#x27;, &#x27;Not Applicable&#x27;, &#x27;Director&#x27;,\n",
       "                           &#x27;Internship&#x27;, &#x27;Executive&#x27;],\n",
       "                          [&#x27;unavailable&#x27;, &quot;Bachelor&#x27;s Degree&quot;,\n",
       "                           &#x27;High School or equivalent&#x27;, &#x27;Unspecified&#x27;,\n",
       "                           &quot;Master&#x27;s Degree&quot;, &#x27;Associate Degree&#x27;,\n",
       "                           &#x27;Certification&#x27;, &#x27;Some College Course...\n",
       "                           &#x27;Other&#x27;, &#x27;Education&#x27;, &#x27;Management&#x27;,\n",
       "                           &#x27;Business Development&#x27;, &#x27;Accounting/Auditing&#x27;,\n",
       "                           &#x27;Human Resources&#x27;, &#x27;Project Management&#x27;, &#x27;Finance&#x27;,\n",
       "                           &#x27;Consulting&#x27;, &#x27;Writing/Editing&#x27;, &#x27;Art/Creative&#x27;,\n",
       "                           &#x27;Production&#x27;, &#x27;Quality Assurance&#x27;, &#x27;Data Analyst&#x27;,\n",
       "                           &#x27;Research&#x27;, &#x27;Manufacturing&#x27;, &#x27;Advertising&#x27;,\n",
       "                           &#x27;Public Relations&#x27;, &#x27;Legal&#x27;, &#x27;Distribution&#x27;,\n",
       "                           &#x27;Product Management&#x27;, ...],\n",
       "                          [&#x27;US&#x27;, &#x27;GB&#x27;, &#x27;GR&#x27;, &#x27;CA&#x27;, &#x27;DE&#x27;]],\n",
       "              handle_unknown=&#x27;ignore&#x27;)</pre></div></div></div></div></div></div></div></div></div></div>"
      ],
      "text/plain": [
       "ColumnTransformer(transformers=[('numerical', 'passthrough',\n",
       "                                 ['telecommuting', 'has_company_logo',\n",
       "                                  'has_questions', 'have_company_profile',\n",
       "                                  'have_requirements', 'have_benefits',\n",
       "                                  'have_department', 'text_len',\n",
       "                                  'company_profile_isna']),\n",
       "                                ('ordinal',\n",
       "                                 OrdinalEncoder(categories=[['Extremly Low',\n",
       "                                                             'Low',\n",
       "                                                             'Sligtly Low',\n",
       "                                                             'Slightly High',\n",
       "                                                             'High',\n",
       "                                                             'Extremly High']],\n",
       "                                                handle_unknown=...\n",
       "                                                            'Consulting',\n",
       "                                                            'Writing/Editing',\n",
       "                                                            'Art/Creative',\n",
       "                                                            'Production',\n",
       "                                                            'Quality Assurance',\n",
       "                                                            'Data Analyst',\n",
       "                                                            'Research',\n",
       "                                                            'Manufacturing',\n",
       "                                                            'Advertising',\n",
       "                                                            'Public Relations',\n",
       "                                                            'Legal',\n",
       "                                                            'Distribution',\n",
       "                                                            'Product '\n",
       "                                                            'Management', ...],\n",
       "                                                           ['US', 'GB', 'GR',\n",
       "                                                            'CA', 'DE']],\n",
       "                                               handle_unknown='ignore'),\n",
       "                                 ['employment_type', 'required_experience',\n",
       "                                  'required_education', 'industry', 'function',\n",
       "                                  'location_country'])])"
      ]
     },
     "execution_count": 120,
     "metadata": {},
     "output_type": "execute_result"
    }
   ],
   "source": [
    "# Combine them!\n",
    "\n",
    "numerical_columns = ['telecommuting', 'has_company_logo','has_questions','have_company_profile', 'have_requirements', 'have_benefits','have_department','text_len','company_profile_isna' ]  # numerical columns\n",
    "ordinal_columns = ['salary_group']        # categorical columns for ordinal encoding\n",
    "onehot_columns = ['employment_type', 'required_experience','required_education','industry','function','location_country']                   # categorical columns for onehot encoding\n",
    "\n",
    "from sklearn.compose import ColumnTransformer\n",
    "encoder = ColumnTransformer([\n",
    "   #(nickname, transformer to apply, columns to apply to)   \n",
    "    ('numerical', 'passthrough', numerical_columns),   # <- 'passthrough' says to keep them but don't apply anything\n",
    "    ('ordinal', ordinal, ordinal_columns),             # <- apply ordinal encoder to the ordinal_columns\n",
    "    ('onehot', onehot, onehot_columns)                 # <- apply onehot encoder to the onehot_columns\n",
    "])\n",
    "\n",
    "encoder"
   ]
  },
  {
   "cell_type": "markdown",
   "metadata": {
    "id": "3b_nk0wbzbo0"
   },
   "source": [
    "### 3.5 Get embeddings"
   ]
  },
  {
   "cell_type": "code",
   "execution_count": null,
   "metadata": {
    "id": "m25zal4DzmDR"
   },
   "outputs": [],
   "source": [
    "## pre trained\n",
    "## tokenized, embedding layer"
   ]
  }
 ],
 "metadata": {
  "colab": {
   "provenance": [],
   "toc_visible": true
  },
  "kernelspec": {
   "display_name": "Python 3 (ipykernel)",
   "language": "python",
   "name": "python3"
  },
  "language_info": {
   "codemirror_mode": {
    "name": "ipython",
    "version": 3
   },
   "file_extension": ".py",
   "mimetype": "text/x-python",
   "name": "python",
   "nbconvert_exporter": "python",
   "pygments_lexer": "ipython3",
   "version": "3.8.5"
  }
 },
 "nbformat": 4,
 "nbformat_minor": 1
}
